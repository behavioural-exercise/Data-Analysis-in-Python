{
 "cells": [
  {
   "cell_type": "markdown",
   "metadata": {},
   "source": [
    "# Домашнее задание № 4\n",
    "\n",
    "Максимум 11 баллов. Бонусный балл идет в ведомость."
   ]
  },
  {
   "cell_type": "code",
   "execution_count": 93,
   "metadata": {},
   "outputs": [],
   "source": [
    "import pandas as pd\n",
    "from sklearn.model_selection import train_test_split\n",
    "from sklearn.feature_extraction.text import CountVectorizer\n",
    "from sklearn.ensemble import RandomForestClassifier\n",
    "from sklearn.metrics import accuracy_score\n",
    "import pymorphy2\n",
    "import requests\n",
    "import matplotlib.pyplot as plt\n",
    "import seaborn as sns"
   ]
  },
  {
   "cell_type": "markdown",
   "metadata": {},
   "source": [
    "## 1. Знакомство с данными (1 балл)\n",
    "\n",
    "### 1) Загрузка данных (0.5 балла)\n",
    "\n",
    "Загрузите данные по [ссылке](https://raw.githubusercontent.com/rogovich/Data/master/data/lenta_news.txt) в датафрейм `data` и выведите первые пять строк данных и размерность датафрейма."
   ]
  },
  {
   "cell_type": "code",
   "execution_count": 3,
   "metadata": {},
   "outputs": [
    {
     "name": "stdout",
     "output_type": "stream",
     "text": [
      "<bound method NDFrame.head of                                                   text    label\n",
      "0    Нагревшийся телефон нельзя пытаться охладить с...  science\n",
      "1    Майское обновление Windows вызвало проблемы со...  science\n",
      "2    Ученые Калифорнийского университета в Дэвисе о...  science\n",
      "3    Британский ученый Тим Спектор раскрыл связь ме...  science\n",
      "4    Международная группа ученых раскрыла загадку, ...  science\n",
      "..                                                 ...      ...\n",
      "354  Республика Сан-Марино открыла вакцинный туризм...   travel\n",
      "355  Российский турист, часто путешествующий на сам...   travel\n",
      "356  Источник в сфере авиации опроверг сообщения из...   travel\n",
      "357  В Китае появится точная копия британского паро...   travel\n",
      "358  Бывший главный санитарный врач России, депутат...   travel\n",
      "\n",
      "[359 rows x 2 columns]> (359, 2)\n"
     ]
    }
   ],
   "source": [
    "# ваш код здесь\n",
    "\n",
    "data = pd.read_csv('https://raw.githubusercontent.com/rogovich/Data/master/data/lenta_news.txt')\n",
    "print(data.head, data.shape)"
   ]
  },
  {
   "cell_type": "markdown",
   "metadata": {},
   "source": [
    "### 2) Целевая переменная (0.5 балла)\n",
    "Исследуйте колонку `label`. Сколько и каких уникальных значений она содержит?"
   ]
  },
  {
   "cell_type": "code",
   "execution_count": 6,
   "metadata": {},
   "outputs": [
    {
     "name": "stdout",
     "output_type": "stream",
     "text": [
      "['science' 'culture' 'sport' 'economics' 'travel']\n",
      "5\n"
     ]
    }
   ],
   "source": [
    "# ваш код здесь\n",
    "\n",
    "print(data.label.unique())\n",
    "print(len(data.label.unique()))"
   ]
  },
  {
   "cell_type": "markdown",
   "metadata": {},
   "source": [
    "## 3. Очистка текста (4.5 балла + 1 бонусный балл)\n",
    "\n",
    "### 1) Приводим к нижнему регистру (0.5 балла)\n",
    "В задании 3 работаем с переменной `example` и ее производными. В первую очередь нам нужно привести весь текст к нижнему регистру. Сохраните результат в `example_lower`.\n"
   ]
  },
  {
   "cell_type": "code",
   "execution_count": 16,
   "metadata": {},
   "outputs": [
    {
     "data": {
      "text/plain": [
       "'нагревшийся телефон нельзя пытаться охладить с помощью холодильника или иных экстремальных методов. об этом в разговоре с риа новости заявил директор регионального инжинирингового центра safenet национальной технологической инициативы (нти) денис кувиков. автор отметил, что в последнее время аномально высокая температура наблюдается во многих российских регионах. в этом случае есть риск перегрева смартфона и его дальнейшего возгорания. кувиков перечислил способы, которые позволят защитить гаджет от жары. в первую очередь нужно знать, что нагревшийся аппарат нельзя пытаться быстро охладить: «\"шоковая терапия\" может окончательно \"убить\" его». необходимо снять чехол, отключить мобильный интернет и оставить девайс в прохладном месте. еще одним способом защиты эксперт назвал грамотную профилактику. летом смартфон нельзя оставлять под воздействием прямых солнечных лучей, также не рекомендуется использовать плотные чехлы, которые могут нарушить циркуляцию воздуха. «заранее отрегулируйте внутренние настройки: сократите уровень яркости экрана, выключите bluetooth и gps, отмените автоматическое обновление приложений», — отметил специалист. кроме того, лучше не запускать одновременно большое количество приложений, так как это приводит к повышенному нагреву девайса. также кувиков посоветовал не использовать смартфон при температуре выше 25 градусов. «конечно, современные смартфоны и планшеты перед выпуском в продажу тщательно тестируют на эффективность работы в условиях экстремального холода и жары, а некоторые устройства даже имеют функцию автоматического выключения при высоком уровне температуры аккумулятора», — отметил автор. однако риск возгорания батареи все равно присутствует. летом 2020 года специалисты бенчмарка master lu назвали самые склонные к перегреву смартфоны среди азиатских брендов. самыми «холодными» аппаратами оказались девайсы vivo, samsung и oppo, самыми «горячими» — телефоны realme. в сводном антирейтинге смартфонов лидировал nokia 9 pureview, корпус которого нагрелся до 43,05 градуса.'"
      ]
     },
     "execution_count": 16,
     "metadata": {},
     "output_type": "execute_result"
    }
   ],
   "source": [
    "# не будет работать, если вы не загрузили данные выше\n",
    "example = data['text'][0]\n",
    "\n",
    "# ваш код здесь\n",
    "example_lower = example.lower()\n",
    "example_lower"
   ]
  },
  {
   "cell_type": "markdown",
   "metadata": {},
   "source": [
    "### 2) Удаляем пунктуацию и оставляем кириллицу (0.5 балла)\n",
    "Теперь нам нужно оставить только слова, написанные полностью кириллицей и избавиться от знаков препинания. Импортируйте модуль `re`, и с помощью функции `.findall()` извлеките из `example_lower` только те токены, которые соответсвуют шаблону `'[а-яё]+'`. Сохраните результат (список токенов) в `example_cyr`."
   ]
  },
  {
   "cell_type": "code",
   "execution_count": 18,
   "metadata": {},
   "outputs": [],
   "source": [
    "# ваш код здесь\n",
    "import re\n",
    "example_cyr = [word for word in re.findall(r'[а-яё]+', example_lower)]"
   ]
  },
  {
   "cell_type": "markdown",
   "metadata": {},
   "source": [
    "### 3) Нормализуем текст (1 балл)\n",
    "Теперь нам нужно нормализовать текст. Инициализируйте класс `MorphAnalyzer()` из библиотеки `pymorphy2`. Дальше с помощью метода класса `.parse` для каждого слова найдите его нормальную форму. Из списка вероятных словарных форм выбирайте самую вероятную — ту, которая хранится под индексом 0. Сохраните список нормальных форм слов в `example_morph`"
   ]
  },
  {
   "cell_type": "code",
   "execution_count": 31,
   "metadata": {},
   "outputs": [
    {
     "data": {
      "text/plain": [
       "['нагреться',\n",
       " 'телефон',\n",
       " 'нельзя',\n",
       " 'пытаться',\n",
       " 'охладить',\n",
       " 'с',\n",
       " 'помощь',\n",
       " 'холодильник']"
      ]
     },
     "execution_count": 31,
     "metadata": {},
     "output_type": "execute_result"
    }
   ],
   "source": [
    "# ваш код здесь\n",
    "morph = pymorphy2.MorphAnalyzer()\n",
    "example_morph = [morph.parse(word)[0][2] for word in example_cyr]\n",
    "example_morph[0:8]"
   ]
  },
  {
   "cell_type": "markdown",
   "metadata": {},
   "source": [
    "### 4) Частотность-1 (1 балл)\n",
    "Давайте пока посмотрим, какие слова у нас самые частотные. Создайте словарь `count_dirty`, где ключами будут слова из `example_morph`, а значениями — их частотность. Затем с помощью сортировки объекта `DictItems` найдите 10 самых частотных слов."
   ]
  },
  {
   "cell_type": "code",
   "execution_count": 89,
   "metadata": {},
   "outputs": [
    {
     "name": "stdout",
     "output_type": "stream",
     "text": [
      "{'в': 9, 'смартфон': 6, 'и': 6, 'нагреться': 3, 'нельзя': 3, 'это': 3, 'кувиковый': 3, 'отметить': 3, 'температура': 3, 'который': 3}\n"
     ]
    }
   ],
   "source": [
    "count_dirty = dict()\n",
    "for word in example_morph:\n",
    "    if word not in count_dirty:\n",
    "        count_dirty[word] = 1\n",
    "    else:\n",
    "        count_dirty[word] += 1\n",
    "count_dirty\n",
    "freq = {k: v for k, v in sorted(count_dirty.items(), key=lambda x: x[1], reverse=1)[:10]}  \n",
    "print(freq)"
   ]
  },
  {
   "cell_type": "markdown",
   "metadata": {},
   "source": [
    "### 5) График-1 (бонус, 0.5)\n",
    "Визуализируйте с помощью столбчатой диаграммы 10 самых частотных слов из словаря `counts_dirty`. Разверните подписи на шкале x на 90 градусов."
   ]
  },
  {
   "cell_type": "code",
   "execution_count": 90,
   "metadata": {},
   "outputs": [
    {
     "data": {
      "text/plain": [
       "<AxesSubplot:>"
      ]
     },
     "execution_count": 90,
     "metadata": {},
     "output_type": "execute_result"
    },
    {
     "data": {
      "image/png": "[encoded data removed]",
      "text/plain": [
       "<Figure size 864x720 with 1 Axes>"
      ]
     },
     "metadata": {
      "needs_background": "light"
     },
     "output_type": "display_data"
    }
   ],
   "source": [
    "plt.figure(figsize=(12,10))\n",
    "keys = list(freq.keys())\n",
    "vals = [float(freq[key]) for key in keys]\n",
    "\n",
    "locs, labels = plt.xticks()\n",
    "plt.setp(labels, rotation=90)\n",
    "\n",
    "sns.barplot(x=keys, y=vals).set(title='10 самых частотных слов из словаря counts_dirty')"
   ]
  },
  {
   "cell_type": "markdown",
   "metadata": {},
   "source": [
    "### 6) Удаление стоп-слов (1 балл)\n",
    "А теперь давайте удалим стоп-слова. Загрузите списко стоп-слов `ru_stopwords` по ссылке ниже. Пройдитесь циклом по `example_morph` и добавьте в новый список `example_clean` только те слова, которые не являются стоп-словами."
   ]
  },
  {
   "cell_type": "code",
   "execution_count": 80,
   "metadata": {},
   "outputs": [],
   "source": [
    "import requests\n",
    "ru_stopwords = requests.get('https://raw.githubusercontent.com/stopwords-iso/stopwords-ru/master/stopwords-ru.txt').text\n",
    "# ваш код здесь\n",
    "\n",
    "example_clean = []\n",
    "for word in example_morph:\n",
    "    if word not in ru_stopwords:\n",
    "        example_clean.append(word)\n",
    "    else:\n",
    "        None\n"
   ]
  },
  {
   "cell_type": "markdown",
   "metadata": {},
   "source": [
    "### 7) Частотность-2 (0.5 балл)\n",
    "Теперь найдите создайте словарь `counts_clean` и найдите 10 самых частотных слов после очистки текста. Ответьте на вопрос, какие слова пропали?"
   ]
  },
  {
   "cell_type": "code",
   "execution_count": 91,
   "metadata": {},
   "outputs": [
    {
     "name": "stdout",
     "output_type": "stream",
     "text": [
      "{'смартфон': 6, 'нагреться': 3, 'кувиковый': 3, 'отметить': 3, 'температура': 3, 'девайс': 3, 'телефон': 2, 'пытаться': 2, 'охладить': 2, 'экстремальный': 2}\n"
     ]
    }
   ],
   "source": [
    "# ваш код здесь\n",
    "\n",
    "count_clean = dict()\n",
    "for word in example_clean:\n",
    "    if word not in count_clean:\n",
    "        count_clean[word] = 1\n",
    "    else:\n",
    "        count_clean[word] += 1\n",
    "        \n",
    "freq = {k: v for k, v in sorted(count_clean.items(), key=lambda x: x[1], reverse=1)[:10]}  \n",
    "print(freq)"
   ]
  },
  {
   "cell_type": "markdown",
   "metadata": {},
   "source": [
    "### 5) График-2 (бонус, 0.5)\n",
    "Визуализируйте с помощью столбчатой диаграммы 10 самых частотных слов из словаря `counts_сlean`. Разверните подписи на шкале x на 90 градусов."
   ]
  },
  {
   "cell_type": "code",
   "execution_count": 142,
   "metadata": {},
   "outputs": [
    {
     "data": {
      "text/plain": [
       "[Text(0.5, 1.0, '10 самых частотных слов из словаря counts_сlean')]"
      ]
     },
     "execution_count": 142,
     "metadata": {},
     "output_type": "execute_result"
    },
    {
     "data": {
      "image/png": "[encoded data removed]",
      "text/plain": [
       "<Figure size 864x720 with 1 Axes>"
      ]
     },
     "metadata": {
      "needs_background": "light"
     },
     "output_type": "display_data"
    }
   ],
   "source": [
    "# ваш код здесь\n",
    "plt.figure(figsize=(12,10))\n",
    "keys = list(freq.keys())\n",
    "vals = [float(freq[key]) for key in keys]\n",
    "\n",
    "locs, labels = plt.xticks()\n",
    "plt.setp(labels, rotation=90)\n",
    "\n",
    "\n",
    "sns.barplot(x=keys, y=vals).set(title='10 самых частотных слов из словаря counts_сlean')\n"
   ]
  },
  {
   "cell_type": "markdown",
   "metadata": {},
   "source": [
    "## 3. Функция очистки текста (1 балл)\n",
    "Определите функцию `clean_text`, которая будет возвращать строку с очищенным текстом:\n",
    "\n",
    "* текст приводится к нижнему регистру\n",
    "* удаляется пунктуация и извлекаются только слова с кириллицей\n",
    "* все слова нормализуются\n",
    "* удаляются стоп-слова\n",
    "\n",
    "Примените вашу функцию к переменно `example`"
   ]
  },
  {
   "cell_type": "code",
   "execution_count": 106,
   "metadata": {},
   "outputs": [],
   "source": [
    "# ваш код здесь\n",
    "\n",
    "def clean_text(text):\n",
    "    try: ru_stopwords\n",
    "    except NameError: ru_stopwords = requests.get('https://raw.githubusercontent.com/stopwords-iso/stopwords-ru/master/stopwords-ru.txt').text\n",
    "    \n",
    "    \n",
    "    text = text.lower()\n",
    "    text = [word for word in re.findall(r'[а-яё]+', text)]\n",
    "    morph = pymorphy2.MorphAnalyzer()\n",
    "    \n",
    "    text_morph = [morph.parse(word)[0][2] for word in text]\n",
    "    \n",
    "\n",
    "    text_clean = []\n",
    "    for word in text_morph:\n",
    "        if word not in ru_stopwords:\n",
    "            text_clean.append(word)\n",
    "        else:\n",
    "            None\n",
    "    return ' '.join([str(word) for word in text_clean])\n",
    "\n",
    "\n",
    "clean_text(example)"
   ]
  },
  {
   "cell_type": "markdown",
   "metadata": {},
   "source": [
    "## 4. Очистка текста (0.5 балла)\n",
    "Создайте в датафрейме колонку `clean_text` и сохраните туда очищенный текст. После окончания работы функции (это может зянять время), выведите первые пять значений новой колонки."
   ]
  },
  {
   "cell_type": "code",
   "execution_count": 108,
   "metadata": {
    "tags": []
   },
   "outputs": [],
   "source": [
    "# ваш код здесь\n",
    "\n",
    "data['clean_text'] = data.text.agg(clean_text)\n",
    "data.head()"
   ]
  },
  {
   "cell_type": "code",
   "execution_count": 113,
   "metadata": {},
   "outputs": [
    {
     "data": {
      "text/plain": [
       "0    нагреться телефон пытаться охладить помощь хол...\n",
       "1    майский обновление вызвать проблема звук компь...\n",
       "2    учёный калифорнийский университет дэвис обнару...\n",
       "3    британский учёный спектор раскрыть связь корон...\n",
       "4    международный группа учёный раскрыть загадка с...\n",
       "Name: clean_text, dtype: object"
      ]
     },
     "execution_count": 113,
     "metadata": {},
     "output_type": "execute_result"
    }
   ],
   "source": [
    "data.clean_text[:5]"
   ]
  },
  {
   "cell_type": "markdown",
   "metadata": {},
   "source": [
    "## 5. Построение модели (3 балла)"
   ]
  },
  {
   "cell_type": "markdown",
   "metadata": {},
   "source": [
    "### 1) Разбивка выборки (0.5 балла)\n",
    "Разделите выборку на тренирочную и тестовую (25% выборки)"
   ]
  },
  {
   "cell_type": "code",
   "execution_count": 114,
   "metadata": {},
   "outputs": [],
   "source": [
    "# ваш код здесь\n",
    "\n",
    "X_train, X_test, y_train, y_test = train_test_split(data['text'], data['label'], test_size=0.25)"
   ]
  },
  {
   "cell_type": "markdown",
   "metadata": {},
   "source": [
    "### 2) Векторизация (1 балл) \n",
    "\n",
    "Определите экземпляр класса `CountVectorizer` с ограничением по стоп-словам корпуса (max_df должно быть не более 80%).\n",
    "\n",
    "Обучите и преобразуйте тренировочную выборку в пространство признаков. Преобразуйте тестовую выборку в пространство признаков."
   ]
  },
  {
   "cell_type": "code",
   "execution_count": 115,
   "metadata": {},
   "outputs": [],
   "source": [
    "# ваш код здесь\n",
    "\n",
    "vect = CountVectorizer(max_df=0.8)\n",
    "vect.fit(X_train)\n",
    "train_data = vect.transform(X_train)\n",
    "test_data = vect.transform(X_test)"
   ]
  },
  {
   "cell_type": "markdown",
   "metadata": {},
   "source": [
    "### 3) Классификация (1 балл)\n",
    "С помощью классификатора `RandomForest` и обучите модель \"из коробки\". \n",
    "Предскажите значения для тестовой выборки и запишите их в переменную."
   ]
  },
  {
   "cell_type": "code",
   "execution_count": 138,
   "metadata": {},
   "outputs": [],
   "source": [
    "# ваш код здесь\n",
    "\n",
    "model = RandomForestClassifier()\n",
    "model.fit(train_data, y_train)\n",
    "\n",
    "prediction = model.predict(test_data)\n",
    "\n"
   ]
  },
  {
   "cell_type": "markdown",
   "metadata": {},
   "source": [
    "### 4) Качество модели (0.5 балла)\n",
    "\n",
    "Найдите долю верных ответов вашего пердсказания. Напишите своими словами, что значит полученный результат."
   ]
  },
  {
   "cell_type": "code",
   "execution_count": 139,
   "metadata": {},
   "outputs": [
    {
     "data": {
      "text/plain": [
       "0.9"
      ]
     },
     "execution_count": 139,
     "metadata": {},
     "output_type": "execute_result"
    }
   ],
   "source": [
    "# ваш код здесь\n",
    "\n",
    "accuracy_score(prediction, y_test)"
   ]
  }
 ],
 "metadata": {
  "kernelspec": {
   "display_name": "Python 3",
   "language": "python",
   "name": "python3"
  },
  "language_info": {
   "codemirror_mode": {
    "name": "ipython",
    "version": 3
   },
   "file_extension": ".py",
   "mimetype": "text/x-python",
   "name": "python",
   "nbconvert_exporter": "python",
   "pygments_lexer": "ipython3",
   "version": "3.8.8"
  }
 },
 "nbformat": 4,
 "nbformat_minor": 4
}
