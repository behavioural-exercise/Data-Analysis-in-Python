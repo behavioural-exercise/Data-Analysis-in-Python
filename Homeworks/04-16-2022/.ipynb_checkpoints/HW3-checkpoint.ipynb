{
 "cells": [
  {
   "cell_type": "code",
   "execution_count": 108,
   "id": "d231e500-83b3-4799-af9c-cd1d32f9ba81",
   "metadata": {
    "tags": []
   },
   "outputs": [],
   "source": [
    "import requests\n",
    "import pandas as pd\n",
    "import plotly.graph_objects as go"
   ]
  },
  {
   "cell_type": "markdown",
   "id": "7a9ecae2-a004-4bf3-a410-d1188276fbd1",
   "metadata": {},
   "source": [
    "# Сбор данных"
   ]
  },
  {
   "cell_type": "code",
   "execution_count": 109,
   "id": "16b3d47d-a0e2-4faf-9a13-d6915a7df08e",
   "metadata": {},
   "outputs": [
    {
     "data": {
      "text/plain": [
       "<Response [200]>"
      ]
     },
     "execution_count": 109,
     "metadata": {},
     "output_type": "execute_result"
    }
   ],
   "source": [
    "r = requests.get('https://nbviewer.org/github/rogovich/Data/blob/master/docs/Plotly_HW/FairVote%20-%20Press%20Room.html')\n",
    "r"
   ]
  },
  {
   "cell_type": "code",
   "execution_count": 110,
   "id": "d858c54b-3ce1-44ef-a16a-254eaefe495e",
   "metadata": {},
   "outputs": [
    {
     "data": {
      "text/plain": [
       "range(15527, 22237)"
      ]
     },
     "execution_count": 110,
     "metadata": {},
     "output_type": "execute_result"
    }
   ],
   "source": [
    "range(r.text.find('<br><br>Rank&nbsp'), r.text.find('* Source: Washington Post'))"
   ]
  },
  {
   "cell_type": "code",
   "execution_count": 111,
   "id": "68b84732-4c00-4a65-958a-e2a1d9551fe5",
   "metadata": {},
   "outputs": [
    {
     "data": {
      "text/plain": [
       "range(24787, 28731)"
      ]
     },
     "execution_count": 111,
     "metadata": {},
     "output_type": "execute_result"
    }
   ],
   "source": [
    "range(r.text.find('<br><br>Rank&nbsp;&nbsp;&nbsp; State&nbsp;&nbsp;&nbsp; Ad'), r.text.find('* Source: <a href='))"
   ]
  },
  {
   "cell_type": "code",
   "execution_count": 112,
   "id": "a97ea3ef-aeaa-48b7-b141-952245444fbb",
   "metadata": {},
   "outputs": [
    {
     "data": {
      "text/plain": [
       "range(30236, 34473)"
      ]
     },
     "execution_count": 112,
     "metadata": {},
     "output_type": "execute_result"
    }
   ],
   "source": [
    "range(r.text.find('<br>Year&nbsp'), r.text.find(' 16<br><br>As the'))"
   ]
  },
  {
   "cell_type": "code",
   "execution_count": 201,
   "id": "0de0dc9b-bdba-42ed-8b97-5fd57a02fadf",
   "metadata": {},
   "outputs": [],
   "source": [
    "table_1 = r.text[15527:22237]\n",
    "table_2 = r.text[24787:28731]\n",
    "table_3 = r.text[30236:34473]\n",
    "tables = []\n",
    "tables.append(table_1)\n",
    "tables.append(table_2)\n",
    "tables.append(table_3)"
   ]
  },
  {
   "cell_type": "code",
   "execution_count": 220,
   "id": "02d1aa0e-2470-49c4-9900-c7f7afa1e2ef",
   "metadata": {},
   "outputs": [],
   "source": [
    "n = 0\n",
    "\n",
    "for table in tables:\n",
    "    table = table.replace('&nbsp', ';')\n",
    "    table = ';'.join([letter for letter in table.split(';') if len(letter)>0])\n",
    "    if n == 0:\n",
    "        a = []\n",
    "        for i in table.split('<br>')[2:-2]:\n",
    "            a.append([x.strip(' ') for x in i.split(';')])\n",
    "        n += n+1\n",
    "    elif n == 1:\n",
    "        b = []\n",
    "        for i in table.split('<br>')[2:-1]:\n",
    "            b.append([x.strip(' ') for x in i.split(';')])\n",
    "        n += n+2\n",
    "    elif n == 4:\n",
    "        c = []\n",
    "        for i in table.split('<br>')[1:]:\n",
    "            c.append([x.strip(' ') for x in i.split(';')])"
   ]
  },
  {
   "cell_type": "code",
   "execution_count": 221,
   "id": "bf4a926a-1682-4961-8d35-4b527324fa2e",
   "metadata": {},
   "outputs": [],
   "source": [
    "table_1 = pd.DataFrame(a[1:-1], columns=a[0])\n",
    "table_2 = pd.DataFrame(b[1:-1], columns=b[0])\n",
    "table_3 = pd.DataFrame(c[1:-1], columns=c[0])\n",
    "object_tables = [table_1, table_2, table_3]"
   ]
  },
  {
   "cell_type": "code",
   "execution_count": 225,
   "id": "b64af4ed-4b1f-4a69-8b5b-2ae7d052e90b",
   "metadata": {},
   "outputs": [],
   "source": [
    "table_2['Ad $ spent'] = [x[1:].replace(',', '') for x in table_2['Ad $ spent']] # перевод столбцов в цифровой формат для дальнейшего удобства визуализации\n",
    "for table in object_tables:\n",
    "    for column in table.columns:\n",
    "        if column != 'State':\n",
    "            table[column] = pd.to_numeric(table[column])"
   ]
  },
  {
   "cell_type": "code",
   "execution_count": 205,
   "id": "541abc47-53e4-4fc5-9217-42cafe42cc4d",
   "metadata": {},
   "outputs": [],
   "source": [
    "table_1.to_csv('table_1.csv', index=False)\n",
    "table_2.to_csv('table_2.csv', index=False)\n",
    "table_3.to_csv('table_3.csv', index=False)"
   ]
  },
  {
   "cell_type": "markdown",
   "id": "223c6c07-4a79-432b-86d4-f1723320f372",
   "metadata": {},
   "source": [
    "# Визуализация данных"
   ]
  },
  {
   "cell_type": "code",
   "execution_count": 160,
   "id": "b7648a94-cdd9-4872-a3e3-b2cc1d254fa4",
   "metadata": {},
   "outputs": [
    {
     "data": {
      "application/vnd.plotly.v1+json": {
       "config": {
        "plotlyServerURL": "https://plot.ly"
       },
       "data": [
        {
         "marker": {
          "color": "#656466"
         },
         "name": "Landslide",
         "type": "bar",
         "x": [
          1960,
          1964,
          1968,
          1972,
          1976,
          1980,
          1984,
          1988,
          1992,
          1996,
          2000,
          2004
         ],
         "y": [
          6,
          12,
          6,
          7,
          8,
          10,
          5,
          2,
          3,
          10,
          15,
          15
         ]
        },
        {
         "marker": {
          "color": "#b83b3b"
         },
         "name": "Comfortable",
         "type": "bar",
         "x": [
          1960,
          1964,
          1968,
          1972,
          1976,
          1980,
          1984,
          1988,
          1992,
          1996,
          2000,
          2004
         ],
         "y": [
          11,
          15,
          14,
          16,
          10,
          11,
          16,
          23,
          16,
          14,
          14,
          18
         ]
        },
        {
         "marker": {
          "color": "#3bb879"
         },
         "name": "Competitive",
         "type": "bar",
         "x": [
          1960,
          1964,
          1968,
          1972,
          1976,
          1980,
          1984,
          1988,
          1992,
          1996,
          2000,
          2004
         ],
         "y": [
          33,
          24,
          31,
          28,
          33,
          30,
          30,
          26,
          32,
          27,
          22,
          18
         ]
        }
       ],
       "layout": {
        "autosize": true,
        "template": {
         "data": {
          "bar": [
           {
            "error_x": {
             "color": "#2a3f5f"
            },
            "error_y": {
             "color": "#2a3f5f"
            },
            "marker": {
             "line": {
              "color": "#E5ECF6",
              "width": 0.5
             },
             "pattern": {
              "fillmode": "overlay",
              "size": 10,
              "solidity": 0.2
             }
            },
            "type": "bar"
           }
          ],
          "barpolar": [
           {
            "marker": {
             "line": {
              "color": "#E5ECF6",
              "width": 0.5
             },
             "pattern": {
              "fillmode": "overlay",
              "size": 10,
              "solidity": 0.2
             }
            },
            "type": "barpolar"
           }
          ],
          "carpet": [
           {
            "aaxis": {
             "endlinecolor": "#2a3f5f",
             "gridcolor": "white",
             "linecolor": "white",
             "minorgridcolor": "white",
             "startlinecolor": "#2a3f5f"
            },
            "baxis": {
             "endlinecolor": "#2a3f5f",
             "gridcolor": "white",
             "linecolor": "white",
             "minorgridcolor": "white",
             "startlinecolor": "#2a3f5f"
            },
            "type": "carpet"
           }
          ],
          "choropleth": [
           {
            "colorbar": {
             "outlinewidth": 0,
             "ticks": ""
            },
            "type": "choropleth"
           }
          ],
          "contour": [
           {
            "colorbar": {
             "outlinewidth": 0,
             "ticks": ""
            },
            "colorscale": [
             [
              0,
              "#0d0887"
             ],
             [
              0.1111111111111111,
              "#46039f"
             ],
             [
              0.2222222222222222,
              "#7201a8"
             ],
             [
              0.3333333333333333,
              "#9c179e"
             ],
             [
              0.4444444444444444,
              "#bd3786"
             ],
             [
              0.5555555555555556,
              "#d8576b"
             ],
             [
              0.6666666666666666,
              "#ed7953"
             ],
             [
              0.7777777777777778,
              "#fb9f3a"
             ],
             [
              0.8888888888888888,
              "#fdca26"
             ],
             [
              1,
              "#f0f921"
             ]
            ],
            "type": "contour"
           }
          ],
          "contourcarpet": [
           {
            "colorbar": {
             "outlinewidth": 0,
             "ticks": ""
            },
            "type": "contourcarpet"
           }
          ],
          "heatmap": [
           {
            "colorbar": {
             "outlinewidth": 0,
             "ticks": ""
            },
            "colorscale": [
             [
              0,
              "#0d0887"
             ],
             [
              0.1111111111111111,
              "#46039f"
             ],
             [
              0.2222222222222222,
              "#7201a8"
             ],
             [
              0.3333333333333333,
              "#9c179e"
             ],
             [
              0.4444444444444444,
              "#bd3786"
             ],
             [
              0.5555555555555556,
              "#d8576b"
             ],
             [
              0.6666666666666666,
              "#ed7953"
             ],
             [
              0.7777777777777778,
              "#fb9f3a"
             ],
             [
              0.8888888888888888,
              "#fdca26"
             ],
             [
              1,
              "#f0f921"
             ]
            ],
            "type": "heatmap"
           }
          ],
          "heatmapgl": [
           {
            "colorbar": {
             "outlinewidth": 0,
             "ticks": ""
            },
            "colorscale": [
             [
              0,
              "#0d0887"
             ],
             [
              0.1111111111111111,
              "#46039f"
             ],
             [
              0.2222222222222222,
              "#7201a8"
             ],
             [
              0.3333333333333333,
              "#9c179e"
             ],
             [
              0.4444444444444444,
              "#bd3786"
             ],
             [
              0.5555555555555556,
              "#d8576b"
             ],
             [
              0.6666666666666666,
              "#ed7953"
             ],
             [
              0.7777777777777778,
              "#fb9f3a"
             ],
             [
              0.8888888888888888,
              "#fdca26"
             ],
             [
              1,
              "#f0f921"
             ]
            ],
            "type": "heatmapgl"
           }
          ],
          "histogram": [
           {
            "marker": {
             "pattern": {
              "fillmode": "overlay",
              "size": 10,
              "solidity": 0.2
             }
            },
            "type": "histogram"
           }
          ],
          "histogram2d": [
           {
            "colorbar": {
             "outlinewidth": 0,
             "ticks": ""
            },
            "colorscale": [
             [
              0,
              "#0d0887"
             ],
             [
              0.1111111111111111,
              "#46039f"
             ],
             [
              0.2222222222222222,
              "#7201a8"
             ],
             [
              0.3333333333333333,
              "#9c179e"
             ],
             [
              0.4444444444444444,
              "#bd3786"
             ],
             [
              0.5555555555555556,
              "#d8576b"
             ],
             [
              0.6666666666666666,
              "#ed7953"
             ],
             [
              0.7777777777777778,
              "#fb9f3a"
             ],
             [
              0.8888888888888888,
              "#fdca26"
             ],
             [
              1,
              "#f0f921"
             ]
            ],
            "type": "histogram2d"
           }
          ],
          "histogram2dcontour": [
           {
            "colorbar": {
             "outlinewidth": 0,
             "ticks": ""
            },
            "colorscale": [
             [
              0,
              "#0d0887"
             ],
             [
              0.1111111111111111,
              "#46039f"
             ],
             [
              0.2222222222222222,
              "#7201a8"
             ],
             [
              0.3333333333333333,
              "#9c179e"
             ],
             [
              0.4444444444444444,
              "#bd3786"
             ],
             [
              0.5555555555555556,
              "#d8576b"
             ],
             [
              0.6666666666666666,
              "#ed7953"
             ],
             [
              0.7777777777777778,
              "#fb9f3a"
             ],
             [
              0.8888888888888888,
              "#fdca26"
             ],
             [
              1,
              "#f0f921"
             ]
            ],
            "type": "histogram2dcontour"
           }
          ],
          "mesh3d": [
           {
            "colorbar": {
             "outlinewidth": 0,
             "ticks": ""
            },
            "type": "mesh3d"
           }
          ],
          "parcoords": [
           {
            "line": {
             "colorbar": {
              "outlinewidth": 0,
              "ticks": ""
             }
            },
            "type": "parcoords"
           }
          ],
          "pie": [
           {
            "automargin": true,
            "type": "pie"
           }
          ],
          "scatter": [
           {
            "marker": {
             "colorbar": {
              "outlinewidth": 0,
              "ticks": ""
             }
            },
            "type": "scatter"
           }
          ],
          "scatter3d": [
           {
            "line": {
             "colorbar": {
              "outlinewidth": 0,
              "ticks": ""
             }
            },
            "marker": {
             "colorbar": {
              "outlinewidth": 0,
              "ticks": ""
             }
            },
            "type": "scatter3d"
           }
          ],
          "scattercarpet": [
           {
            "marker": {
             "colorbar": {
              "outlinewidth": 0,
              "ticks": ""
             }
            },
            "type": "scattercarpet"
           }
          ],
          "scattergeo": [
           {
            "marker": {
             "colorbar": {
              "outlinewidth": 0,
              "ticks": ""
             }
            },
            "type": "scattergeo"
           }
          ],
          "scattergl": [
           {
            "marker": {
             "colorbar": {
              "outlinewidth": 0,
              "ticks": ""
             }
            },
            "type": "scattergl"
           }
          ],
          "scattermapbox": [
           {
            "marker": {
             "colorbar": {
              "outlinewidth": 0,
              "ticks": ""
             }
            },
            "type": "scattermapbox"
           }
          ],
          "scatterpolar": [
           {
            "marker": {
             "colorbar": {
              "outlinewidth": 0,
              "ticks": ""
             }
            },
            "type": "scatterpolar"
           }
          ],
          "scatterpolargl": [
           {
            "marker": {
             "colorbar": {
              "outlinewidth": 0,
              "ticks": ""
             }
            },
            "type": "scatterpolargl"
           }
          ],
          "scatterternary": [
           {
            "marker": {
             "colorbar": {
              "outlinewidth": 0,
              "ticks": ""
             }
            },
            "type": "scatterternary"
           }
          ],
          "surface": [
           {
            "colorbar": {
             "outlinewidth": 0,
             "ticks": ""
            },
            "colorscale": [
             [
              0,
              "#0d0887"
             ],
             [
              0.1111111111111111,
              "#46039f"
             ],
             [
              0.2222222222222222,
              "#7201a8"
             ],
             [
              0.3333333333333333,
              "#9c179e"
             ],
             [
              0.4444444444444444,
              "#bd3786"
             ],
             [
              0.5555555555555556,
              "#d8576b"
             ],
             [
              0.6666666666666666,
              "#ed7953"
             ],
             [
              0.7777777777777778,
              "#fb9f3a"
             ],
             [
              0.8888888888888888,
              "#fdca26"
             ],
             [
              1,
              "#f0f921"
             ]
            ],
            "type": "surface"
           }
          ],
          "table": [
           {
            "cells": {
             "fill": {
              "color": "#EBF0F8"
             },
             "line": {
              "color": "white"
             }
            },
            "header": {
             "fill": {
              "color": "#C8D4E3"
             },
             "line": {
              "color": "white"
             }
            },
            "type": "table"
           }
          ]
         },
         "layout": {
          "annotationdefaults": {
           "arrowcolor": "#2a3f5f",
           "arrowhead": 0,
           "arrowwidth": 1
          },
          "autotypenumbers": "strict",
          "coloraxis": {
           "colorbar": {
            "outlinewidth": 0,
            "ticks": ""
           }
          },
          "colorscale": {
           "diverging": [
            [
             0,
             "#8e0152"
            ],
            [
             0.1,
             "#c51b7d"
            ],
            [
             0.2,
             "#de77ae"
            ],
            [
             0.3,
             "#f1b6da"
            ],
            [
             0.4,
             "#fde0ef"
            ],
            [
             0.5,
             "#f7f7f7"
            ],
            [
             0.6,
             "#e6f5d0"
            ],
            [
             0.7,
             "#b8e186"
            ],
            [
             0.8,
             "#7fbc41"
            ],
            [
             0.9,
             "#4d9221"
            ],
            [
             1,
             "#276419"
            ]
           ],
           "sequential": [
            [
             0,
             "#0d0887"
            ],
            [
             0.1111111111111111,
             "#46039f"
            ],
            [
             0.2222222222222222,
             "#7201a8"
            ],
            [
             0.3333333333333333,
             "#9c179e"
            ],
            [
             0.4444444444444444,
             "#bd3786"
            ],
            [
             0.5555555555555556,
             "#d8576b"
            ],
            [
             0.6666666666666666,
             "#ed7953"
            ],
            [
             0.7777777777777778,
             "#fb9f3a"
            ],
            [
             0.8888888888888888,
             "#fdca26"
            ],
            [
             1,
             "#f0f921"
            ]
           ],
           "sequentialminus": [
            [
             0,
             "#0d0887"
            ],
            [
             0.1111111111111111,
             "#46039f"
            ],
            [
             0.2222222222222222,
             "#7201a8"
            ],
            [
             0.3333333333333333,
             "#9c179e"
            ],
            [
             0.4444444444444444,
             "#bd3786"
            ],
            [
             0.5555555555555556,
             "#d8576b"
            ],
            [
             0.6666666666666666,
             "#ed7953"
            ],
            [
             0.7777777777777778,
             "#fb9f3a"
            ],
            [
             0.8888888888888888,
             "#fdca26"
            ],
            [
             1,
             "#f0f921"
            ]
           ]
          },
          "colorway": [
           "#636efa",
           "#EF553B",
           "#00cc96",
           "#ab63fa",
           "#FFA15A",
           "#19d3f3",
           "#FF6692",
           "#B6E880",
           "#FF97FF",
           "#FECB52"
          ],
          "font": {
           "color": "#2a3f5f"
          },
          "geo": {
           "bgcolor": "white",
           "lakecolor": "white",
           "landcolor": "#E5ECF6",
           "showlakes": true,
           "showland": true,
           "subunitcolor": "white"
          },
          "hoverlabel": {
           "align": "left"
          },
          "hovermode": "closest",
          "mapbox": {
           "style": "light"
          },
          "paper_bgcolor": "white",
          "plot_bgcolor": "#E5ECF6",
          "polar": {
           "angularaxis": {
            "gridcolor": "white",
            "linecolor": "white",
            "ticks": ""
           },
           "bgcolor": "#E5ECF6",
           "radialaxis": {
            "gridcolor": "white",
            "linecolor": "white",
            "ticks": ""
           }
          },
          "scene": {
           "xaxis": {
            "backgroundcolor": "#E5ECF6",
            "gridcolor": "white",
            "gridwidth": 2,
            "linecolor": "white",
            "showbackground": true,
            "ticks": "",
            "zerolinecolor": "white"
           },
           "yaxis": {
            "backgroundcolor": "#E5ECF6",
            "gridcolor": "white",
            "gridwidth": 2,
            "linecolor": "white",
            "showbackground": true,
            "ticks": "",
            "zerolinecolor": "white"
           },
           "zaxis": {
            "backgroundcolor": "#E5ECF6",
            "gridcolor": "white",
            "gridwidth": 2,
            "linecolor": "white",
            "showbackground": true,
            "ticks": "",
            "zerolinecolor": "white"
           }
          },
          "shapedefaults": {
           "line": {
            "color": "#2a3f5f"
           }
          },
          "ternary": {
           "aaxis": {
            "gridcolor": "white",
            "linecolor": "white",
            "ticks": ""
           },
           "baxis": {
            "gridcolor": "white",
            "linecolor": "white",
            "ticks": ""
           },
           "bgcolor": "#E5ECF6",
           "caxis": {
            "gridcolor": "white",
            "linecolor": "white",
            "ticks": ""
           }
          },
          "title": {
           "x": 0.05
          },
          "xaxis": {
           "automargin": true,
           "gridcolor": "white",
           "linecolor": "white",
           "ticks": "",
           "title": {
            "standoff": 15
           },
           "zerolinecolor": "white",
           "zerolinewidth": 2
          },
          "yaxis": {
           "automargin": true,
           "gridcolor": "white",
           "linecolor": "white",
           "ticks": "",
           "title": {
            "standoff": 15
           },
           "zerolinecolor": "white",
           "zerolinewidth": 2
          }
         }
        },
        "title": {
         "text": "US states competitiveness"
        },
        "xaxis": {
         "autorange": true,
         "range": [
          1958,
          2006
         ],
         "title": {
          "text": "Year"
         },
         "type": "linear"
        },
        "yaxis": {
         "autorange": true,
         "range": [
          0,
          34.73684210526316
         ],
         "title": {
          "text": "Percentage of states"
         },
         "type": "linear"
        }
       }
      },
      "image/png": "[encoded data removed]",
      "text/html": [
       "<div>                            <div id=\"236a59a4-6160-43f6-97f8-195accd12c79\" class=\"plotly-graph-div\" style=\"height:525px; width:100%;\"></div>            <script type=\"text/javascript\">                require([\"plotly\"], function(Plotly) {                    window.PLOTLYENV=window.PLOTLYENV || {};                                    if (document.getElementById(\"236a59a4-6160-43f6-97f8-195accd12c79\")) {                    Plotly.newPlot(                        \"236a59a4-6160-43f6-97f8-195accd12c79\",                        [{\"marker\":{\"color\":\"#656466\"},\"name\":\"Landslide\",\"x\":[1960,1964,1968,1972,1976,1980,1984,1988,1992,1996,2000,2004],\"y\":[6,12,6,7,8,10,5,2,3,10,15,15],\"type\":\"bar\"},{\"marker\":{\"color\":\"#b83b3b\"},\"name\":\"Comfortable\",\"x\":[1960,1964,1968,1972,1976,1980,1984,1988,1992,1996,2000,2004],\"y\":[11,15,14,16,10,11,16,23,16,14,14,18],\"type\":\"bar\"},{\"marker\":{\"color\":\"#3bb879\"},\"name\":\"Competitive\",\"x\":[1960,1964,1968,1972,1976,1980,1984,1988,1992,1996,2000,2004],\"y\":[33,24,31,28,33,30,30,26,32,27,22,18],\"type\":\"bar\"}],                        {\"title\":{\"text\":\"US states competitiveness\"},\"xaxis\":{\"title\":{\"text\":\"Year\"}},\"yaxis\":{\"title\":{\"text\":\"Percentage of states\"}},\"template\":{\"data\":{\"bar\":[{\"error_x\":{\"color\":\"#2a3f5f\"},\"error_y\":{\"color\":\"#2a3f5f\"},\"marker\":{\"line\":{\"color\":\"#E5ECF6\",\"width\":0.5},\"pattern\":{\"fillmode\":\"overlay\",\"size\":10,\"solidity\":0.2}},\"type\":\"bar\"}],\"barpolar\":[{\"marker\":{\"line\":{\"color\":\"#E5ECF6\",\"width\":0.5},\"pattern\":{\"fillmode\":\"overlay\",\"size\":10,\"solidity\":0.2}},\"type\":\"barpolar\"}],\"carpet\":[{\"aaxis\":{\"endlinecolor\":\"#2a3f5f\",\"gridcolor\":\"white\",\"linecolor\":\"white\",\"minorgridcolor\":\"white\",\"startlinecolor\":\"#2a3f5f\"},\"baxis\":{\"endlinecolor\":\"#2a3f5f\",\"gridcolor\":\"white\",\"linecolor\":\"white\",\"minorgridcolor\":\"white\",\"startlinecolor\":\"#2a3f5f\"},\"type\":\"carpet\"}],\"choropleth\":[{\"colorbar\":{\"outlinewidth\":0,\"ticks\":\"\"},\"type\":\"choropleth\"}],\"contour\":[{\"colorbar\":{\"outlinewidth\":0,\"ticks\":\"\"},\"colorscale\":[[0.0,\"#0d0887\"],[0.1111111111111111,\"#46039f\"],[0.2222222222222222,\"#7201a8\"],[0.3333333333333333,\"#9c179e\"],[0.4444444444444444,\"#bd3786\"],[0.5555555555555556,\"#d8576b\"],[0.6666666666666666,\"#ed7953\"],[0.7777777777777778,\"#fb9f3a\"],[0.8888888888888888,\"#fdca26\"],[1.0,\"#f0f921\"]],\"type\":\"contour\"}],\"contourcarpet\":[{\"colorbar\":{\"outlinewidth\":0,\"ticks\":\"\"},\"type\":\"contourcarpet\"}],\"heatmap\":[{\"colorbar\":{\"outlinewidth\":0,\"ticks\":\"\"},\"colorscale\":[[0.0,\"#0d0887\"],[0.1111111111111111,\"#46039f\"],[0.2222222222222222,\"#7201a8\"],[0.3333333333333333,\"#9c179e\"],[0.4444444444444444,\"#bd3786\"],[0.5555555555555556,\"#d8576b\"],[0.6666666666666666,\"#ed7953\"],[0.7777777777777778,\"#fb9f3a\"],[0.8888888888888888,\"#fdca26\"],[1.0,\"#f0f921\"]],\"type\":\"heatmap\"}],\"heatmapgl\":[{\"colorbar\":{\"outlinewidth\":0,\"ticks\":\"\"},\"colorscale\":[[0.0,\"#0d0887\"],[0.1111111111111111,\"#46039f\"],[0.2222222222222222,\"#7201a8\"],[0.3333333333333333,\"#9c179e\"],[0.4444444444444444,\"#bd3786\"],[0.5555555555555556,\"#d8576b\"],[0.6666666666666666,\"#ed7953\"],[0.7777777777777778,\"#fb9f3a\"],[0.8888888888888888,\"#fdca26\"],[1.0,\"#f0f921\"]],\"type\":\"heatmapgl\"}],\"histogram\":[{\"marker\":{\"pattern\":{\"fillmode\":\"overlay\",\"size\":10,\"solidity\":0.2}},\"type\":\"histogram\"}],\"histogram2d\":[{\"colorbar\":{\"outlinewidth\":0,\"ticks\":\"\"},\"colorscale\":[[0.0,\"#0d0887\"],[0.1111111111111111,\"#46039f\"],[0.2222222222222222,\"#7201a8\"],[0.3333333333333333,\"#9c179e\"],[0.4444444444444444,\"#bd3786\"],[0.5555555555555556,\"#d8576b\"],[0.6666666666666666,\"#ed7953\"],[0.7777777777777778,\"#fb9f3a\"],[0.8888888888888888,\"#fdca26\"],[1.0,\"#f0f921\"]],\"type\":\"histogram2d\"}],\"histogram2dcontour\":[{\"colorbar\":{\"outlinewidth\":0,\"ticks\":\"\"},\"colorscale\":[[0.0,\"#0d0887\"],[0.1111111111111111,\"#46039f\"],[0.2222222222222222,\"#7201a8\"],[0.3333333333333333,\"#9c179e\"],[0.4444444444444444,\"#bd3786\"],[0.5555555555555556,\"#d8576b\"],[0.6666666666666666,\"#ed7953\"],[0.7777777777777778,\"#fb9f3a\"],[0.8888888888888888,\"#fdca26\"],[1.0,\"#f0f921\"]],\"type\":\"histogram2dcontour\"}],\"mesh3d\":[{\"colorbar\":{\"outlinewidth\":0,\"ticks\":\"\"},\"type\":\"mesh3d\"}],\"parcoords\":[{\"line\":{\"colorbar\":{\"outlinewidth\":0,\"ticks\":\"\"}},\"type\":\"parcoords\"}],\"pie\":[{\"automargin\":true,\"type\":\"pie\"}],\"scatter\":[{\"marker\":{\"colorbar\":{\"outlinewidth\":0,\"ticks\":\"\"}},\"type\":\"scatter\"}],\"scatter3d\":[{\"line\":{\"colorbar\":{\"outlinewidth\":0,\"ticks\":\"\"}},\"marker\":{\"colorbar\":{\"outlinewidth\":0,\"ticks\":\"\"}},\"type\":\"scatter3d\"}],\"scattercarpet\":[{\"marker\":{\"colorbar\":{\"outlinewidth\":0,\"ticks\":\"\"}},\"type\":\"scattercarpet\"}],\"scattergeo\":[{\"marker\":{\"colorbar\":{\"outlinewidth\":0,\"ticks\":\"\"}},\"type\":\"scattergeo\"}],\"scattergl\":[{\"marker\":{\"colorbar\":{\"outlinewidth\":0,\"ticks\":\"\"}},\"type\":\"scattergl\"}],\"scattermapbox\":[{\"marker\":{\"colorbar\":{\"outlinewidth\":0,\"ticks\":\"\"}},\"type\":\"scattermapbox\"}],\"scatterpolar\":[{\"marker\":{\"colorbar\":{\"outlinewidth\":0,\"ticks\":\"\"}},\"type\":\"scatterpolar\"}],\"scatterpolargl\":[{\"marker\":{\"colorbar\":{\"outlinewidth\":0,\"ticks\":\"\"}},\"type\":\"scatterpolargl\"}],\"scatterternary\":[{\"marker\":{\"colorbar\":{\"outlinewidth\":0,\"ticks\":\"\"}},\"type\":\"scatterternary\"}],\"surface\":[{\"colorbar\":{\"outlinewidth\":0,\"ticks\":\"\"},\"colorscale\":[[0.0,\"#0d0887\"],[0.1111111111111111,\"#46039f\"],[0.2222222222222222,\"#7201a8\"],[0.3333333333333333,\"#9c179e\"],[0.4444444444444444,\"#bd3786\"],[0.5555555555555556,\"#d8576b\"],[0.6666666666666666,\"#ed7953\"],[0.7777777777777778,\"#fb9f3a\"],[0.8888888888888888,\"#fdca26\"],[1.0,\"#f0f921\"]],\"type\":\"surface\"}],\"table\":[{\"cells\":{\"fill\":{\"color\":\"#EBF0F8\"},\"line\":{\"color\":\"white\"}},\"header\":{\"fill\":{\"color\":\"#C8D4E3\"},\"line\":{\"color\":\"white\"}},\"type\":\"table\"}]},\"layout\":{\"annotationdefaults\":{\"arrowcolor\":\"#2a3f5f\",\"arrowhead\":0,\"arrowwidth\":1},\"autotypenumbers\":\"strict\",\"coloraxis\":{\"colorbar\":{\"outlinewidth\":0,\"ticks\":\"\"}},\"colorscale\":{\"diverging\":[[0,\"#8e0152\"],[0.1,\"#c51b7d\"],[0.2,\"#de77ae\"],[0.3,\"#f1b6da\"],[0.4,\"#fde0ef\"],[0.5,\"#f7f7f7\"],[0.6,\"#e6f5d0\"],[0.7,\"#b8e186\"],[0.8,\"#7fbc41\"],[0.9,\"#4d9221\"],[1,\"#276419\"]],\"sequential\":[[0.0,\"#0d0887\"],[0.1111111111111111,\"#46039f\"],[0.2222222222222222,\"#7201a8\"],[0.3333333333333333,\"#9c179e\"],[0.4444444444444444,\"#bd3786\"],[0.5555555555555556,\"#d8576b\"],[0.6666666666666666,\"#ed7953\"],[0.7777777777777778,\"#fb9f3a\"],[0.8888888888888888,\"#fdca26\"],[1.0,\"#f0f921\"]],\"sequentialminus\":[[0.0,\"#0d0887\"],[0.1111111111111111,\"#46039f\"],[0.2222222222222222,\"#7201a8\"],[0.3333333333333333,\"#9c179e\"],[0.4444444444444444,\"#bd3786\"],[0.5555555555555556,\"#d8576b\"],[0.6666666666666666,\"#ed7953\"],[0.7777777777777778,\"#fb9f3a\"],[0.8888888888888888,\"#fdca26\"],[1.0,\"#f0f921\"]]},\"colorway\":[\"#636efa\",\"#EF553B\",\"#00cc96\",\"#ab63fa\",\"#FFA15A\",\"#19d3f3\",\"#FF6692\",\"#B6E880\",\"#FF97FF\",\"#FECB52\"],\"font\":{\"color\":\"#2a3f5f\"},\"geo\":{\"bgcolor\":\"white\",\"lakecolor\":\"white\",\"landcolor\":\"#E5ECF6\",\"showlakes\":true,\"showland\":true,\"subunitcolor\":\"white\"},\"hoverlabel\":{\"align\":\"left\"},\"hovermode\":\"closest\",\"mapbox\":{\"style\":\"light\"},\"paper_bgcolor\":\"white\",\"plot_bgcolor\":\"#E5ECF6\",\"polar\":{\"angularaxis\":{\"gridcolor\":\"white\",\"linecolor\":\"white\",\"ticks\":\"\"},\"bgcolor\":\"#E5ECF6\",\"radialaxis\":{\"gridcolor\":\"white\",\"linecolor\":\"white\",\"ticks\":\"\"}},\"scene\":{\"xaxis\":{\"backgroundcolor\":\"#E5ECF6\",\"gridcolor\":\"white\",\"gridwidth\":2,\"linecolor\":\"white\",\"showbackground\":true,\"ticks\":\"\",\"zerolinecolor\":\"white\"},\"yaxis\":{\"backgroundcolor\":\"#E5ECF6\",\"gridcolor\":\"white\",\"gridwidth\":2,\"linecolor\":\"white\",\"showbackground\":true,\"ticks\":\"\",\"zerolinecolor\":\"white\"},\"zaxis\":{\"backgroundcolor\":\"#E5ECF6\",\"gridcolor\":\"white\",\"gridwidth\":2,\"linecolor\":\"white\",\"showbackground\":true,\"ticks\":\"\",\"zerolinecolor\":\"white\"}},\"shapedefaults\":{\"line\":{\"color\":\"#2a3f5f\"}},\"ternary\":{\"aaxis\":{\"gridcolor\":\"white\",\"linecolor\":\"white\",\"ticks\":\"\"},\"baxis\":{\"gridcolor\":\"white\",\"linecolor\":\"white\",\"ticks\":\"\"},\"bgcolor\":\"#E5ECF6\",\"caxis\":{\"gridcolor\":\"white\",\"linecolor\":\"white\",\"ticks\":\"\"}},\"title\":{\"x\":0.05},\"xaxis\":{\"automargin\":true,\"gridcolor\":\"white\",\"linecolor\":\"white\",\"ticks\":\"\",\"title\":{\"standoff\":15},\"zerolinecolor\":\"white\",\"zerolinewidth\":2},\"yaxis\":{\"automargin\":true,\"gridcolor\":\"white\",\"linecolor\":\"white\",\"ticks\":\"\",\"title\":{\"standoff\":15},\"zerolinecolor\":\"white\",\"zerolinewidth\":2}}}},                        {\"responsive\": true}                    ).then(function(){\n",
       "                            \n",
       "var gd = document.getElementById('236a59a4-6160-43f6-97f8-195accd12c79');\n",
       "var x = new MutationObserver(function (mutations, observer) {{\n",
       "        var display = window.getComputedStyle(gd).display;\n",
       "        if (!display || display === 'none') {{\n",
       "            console.log([gd, 'removed!']);\n",
       "            Plotly.purge(gd);\n",
       "            observer.disconnect();\n",
       "        }}\n",
       "}});\n",
       "\n",
       "// Listen for the removal of the full notebook cells\n",
       "var notebookContainer = gd.closest('#notebook-container');\n",
       "if (notebookContainer) {{\n",
       "    x.observe(notebookContainer, {childList: true});\n",
       "}}\n",
       "\n",
       "// Listen for the clearing of the current output cell\n",
       "var outputEl = gd.closest('.output');\n",
       "if (outputEl) {{\n",
       "    x.observe(outputEl, {childList: true});\n",
       "}}\n",
       "\n",
       "                        })                };                });            </script>        </div>"
      ]
     },
     "metadata": {},
     "output_type": "display_data"
    }
   ],
   "source": [
    "trace0 = go.Bar(x=table_3.Year,\n",
    "                y=table_3.Landslide,\n",
    "                name='Landslide',\n",
    "                marker=dict(color='#656466'))\n",
    "\n",
    "trace1 = go.Bar(x=table_3.Year,\n",
    "                y=table_3.Comfortable,\n",
    "                name='Comfortable',\n",
    "                marker=dict(color='#b83b3b'))\n",
    "\n",
    "trace2 = go.Bar(x=table_3.Year,\n",
    "                y=table_3.Competitive,\n",
    "                name='Competitive',\n",
    "                marker=dict(color='#3bb879'))\n",
    "\n",
    "layout = go.Layout(title='US states competitiveness', xaxis=dict(title='Year'), yaxis=dict(title='Percentage of states'))\n",
    "\n",
    "fig = go.Figure([trace0, trace1, trace2], layout)\n",
    "fig.show()\n"
   ]
  },
  {
   "cell_type": "markdown",
   "id": "c3c4d6ce-cccd-4146-b3b4-b789538a2d94",
   "metadata": {},
   "source": [
    "Исходя из вышепредставленного, визуально мы наблюдаем тренд снижения количества реально политически-конкурентных штатов. Их количество снизилось за 40 лет более, чем на треть, в то время как landslide штаты более, чем двукратно увеличились, а comfortable штаты также отметились ростом на около 50% к общему количеству."
   ]
  },
  {
   "cell_type": "code",
   "execution_count": 197,
   "id": "4e124bb8-4e86-4599-b24a-cd74ad54b50e",
   "metadata": {
    "tags": []
   },
   "outputs": [
    {
     "data": {
      "application/vnd.plotly.v1+json": {
       "config": {
        "plotlyServerURL": "https://plot.ly"
       },
       "data": [
        {
         "type": "bar",
         "x": [
          "OH",
          "FL",
          "PA",
          "VA",
          "MO",
          "CO",
          "NC",
          "NV",
          "NH",
          "MI",
          "IN",
          "NM",
          "WI",
          "IA",
          "MN",
          "ME",
          "DC",
          "TN",
          "WV"
         ],
         "y": [
          20.7,
          15.3,
          13.3,
          7.7,
          7,
          6.7,
          5,
          4,
          4,
          3.3,
          3,
          2.7,
          2.7,
          2.3,
          0.7,
          0.7,
          0.3,
          0.3,
          0.3
         ]
        }
       ],
       "layout": {
        "autosize": true,
        "template": {
         "data": {
          "bar": [
           {
            "error_x": {
             "color": "#2a3f5f"
            },
            "error_y": {
             "color": "#2a3f5f"
            },
            "marker": {
             "line": {
              "color": "#E5ECF6",
              "width": 0.5
             },
             "pattern": {
              "fillmode": "overlay",
              "size": 10,
              "solidity": 0.2
             }
            },
            "type": "bar"
           }
          ],
          "barpolar": [
           {
            "marker": {
             "line": {
              "color": "#E5ECF6",
              "width": 0.5
             },
             "pattern": {
              "fillmode": "overlay",
              "size": 10,
              "solidity": 0.2
             }
            },
            "type": "barpolar"
           }
          ],
          "carpet": [
           {
            "aaxis": {
             "endlinecolor": "#2a3f5f",
             "gridcolor": "white",
             "linecolor": "white",
             "minorgridcolor": "white",
             "startlinecolor": "#2a3f5f"
            },
            "baxis": {
             "endlinecolor": "#2a3f5f",
             "gridcolor": "white",
             "linecolor": "white",
             "minorgridcolor": "white",
             "startlinecolor": "#2a3f5f"
            },
            "type": "carpet"
           }
          ],
          "choropleth": [
           {
            "colorbar": {
             "outlinewidth": 0,
             "ticks": ""
            },
            "type": "choropleth"
           }
          ],
          "contour": [
           {
            "colorbar": {
             "outlinewidth": 0,
             "ticks": ""
            },
            "colorscale": [
             [
              0,
              "#0d0887"
             ],
             [
              0.1111111111111111,
              "#46039f"
             ],
             [
              0.2222222222222222,
              "#7201a8"
             ],
             [
              0.3333333333333333,
              "#9c179e"
             ],
             [
              0.4444444444444444,
              "#bd3786"
             ],
             [
              0.5555555555555556,
              "#d8576b"
             ],
             [
              0.6666666666666666,
              "#ed7953"
             ],
             [
              0.7777777777777778,
              "#fb9f3a"
             ],
             [
              0.8888888888888888,
              "#fdca26"
             ],
             [
              1,
              "#f0f921"
             ]
            ],
            "type": "contour"
           }
          ],
          "contourcarpet": [
           {
            "colorbar": {
             "outlinewidth": 0,
             "ticks": ""
            },
            "type": "contourcarpet"
           }
          ],
          "heatmap": [
           {
            "colorbar": {
             "outlinewidth": 0,
             "ticks": ""
            },
            "colorscale": [
             [
              0,
              "#0d0887"
             ],
             [
              0.1111111111111111,
              "#46039f"
             ],
             [
              0.2222222222222222,
              "#7201a8"
             ],
             [
              0.3333333333333333,
              "#9c179e"
             ],
             [
              0.4444444444444444,
              "#bd3786"
             ],
             [
              0.5555555555555556,
              "#d8576b"
             ],
             [
              0.6666666666666666,
              "#ed7953"
             ],
             [
              0.7777777777777778,
              "#fb9f3a"
             ],
             [
              0.8888888888888888,
              "#fdca26"
             ],
             [
              1,
              "#f0f921"
             ]
            ],
            "type": "heatmap"
           }
          ],
          "heatmapgl": [
           {
            "colorbar": {
             "outlinewidth": 0,
             "ticks": ""
            },
            "colorscale": [
             [
              0,
              "#0d0887"
             ],
             [
              0.1111111111111111,
              "#46039f"
             ],
             [
              0.2222222222222222,
              "#7201a8"
             ],
             [
              0.3333333333333333,
              "#9c179e"
             ],
             [
              0.4444444444444444,
              "#bd3786"
             ],
             [
              0.5555555555555556,
              "#d8576b"
             ],
             [
              0.6666666666666666,
              "#ed7953"
             ],
             [
              0.7777777777777778,
              "#fb9f3a"
             ],
             [
              0.8888888888888888,
              "#fdca26"
             ],
             [
              1,
              "#f0f921"
             ]
            ],
            "type": "heatmapgl"
           }
          ],
          "histogram": [
           {
            "marker": {
             "pattern": {
              "fillmode": "overlay",
              "size": 10,
              "solidity": 0.2
             }
            },
            "type": "histogram"
           }
          ],
          "histogram2d": [
           {
            "colorbar": {
             "outlinewidth": 0,
             "ticks": ""
            },
            "colorscale": [
             [
              0,
              "#0d0887"
             ],
             [
              0.1111111111111111,
              "#46039f"
             ],
             [
              0.2222222222222222,
              "#7201a8"
             ],
             [
              0.3333333333333333,
              "#9c179e"
             ],
             [
              0.4444444444444444,
              "#bd3786"
             ],
             [
              0.5555555555555556,
              "#d8576b"
             ],
             [
              0.6666666666666666,
              "#ed7953"
             ],
             [
              0.7777777777777778,
              "#fb9f3a"
             ],
             [
              0.8888888888888888,
              "#fdca26"
             ],
             [
              1,
              "#f0f921"
             ]
            ],
            "type": "histogram2d"
           }
          ],
          "histogram2dcontour": [
           {
            "colorbar": {
             "outlinewidth": 0,
             "ticks": ""
            },
            "colorscale": [
             [
              0,
              "#0d0887"
             ],
             [
              0.1111111111111111,
              "#46039f"
             ],
             [
              0.2222222222222222,
              "#7201a8"
             ],
             [
              0.3333333333333333,
              "#9c179e"
             ],
             [
              0.4444444444444444,
              "#bd3786"
             ],
             [
              0.5555555555555556,
              "#d8576b"
             ],
             [
              0.6666666666666666,
              "#ed7953"
             ],
             [
              0.7777777777777778,
              "#fb9f3a"
             ],
             [
              0.8888888888888888,
              "#fdca26"
             ],
             [
              1,
              "#f0f921"
             ]
            ],
            "type": "histogram2dcontour"
           }
          ],
          "mesh3d": [
           {
            "colorbar": {
             "outlinewidth": 0,
             "ticks": ""
            },
            "type": "mesh3d"
           }
          ],
          "parcoords": [
           {
            "line": {
             "colorbar": {
              "outlinewidth": 0,
              "ticks": ""
             }
            },
            "type": "parcoords"
           }
          ],
          "pie": [
           {
            "automargin": true,
            "type": "pie"
           }
          ],
          "scatter": [
           {
            "marker": {
             "colorbar": {
              "outlinewidth": 0,
              "ticks": ""
             }
            },
            "type": "scatter"
           }
          ],
          "scatter3d": [
           {
            "line": {
             "colorbar": {
              "outlinewidth": 0,
              "ticks": ""
             }
            },
            "marker": {
             "colorbar": {
              "outlinewidth": 0,
              "ticks": ""
             }
            },
            "type": "scatter3d"
           }
          ],
          "scattercarpet": [
           {
            "marker": {
             "colorbar": {
              "outlinewidth": 0,
              "ticks": ""
             }
            },
            "type": "scattercarpet"
           }
          ],
          "scattergeo": [
           {
            "marker": {
             "colorbar": {
              "outlinewidth": 0,
              "ticks": ""
             }
            },
            "type": "scattergeo"
           }
          ],
          "scattergl": [
           {
            "marker": {
             "colorbar": {
              "outlinewidth": 0,
              "ticks": ""
             }
            },
            "type": "scattergl"
           }
          ],
          "scattermapbox": [
           {
            "marker": {
             "colorbar": {
              "outlinewidth": 0,
              "ticks": ""
             }
            },
            "type": "scattermapbox"
           }
          ],
          "scatterpolar": [
           {
            "marker": {
             "colorbar": {
              "outlinewidth": 0,
              "ticks": ""
             }
            },
            "type": "scatterpolar"
           }
          ],
          "scatterpolargl": [
           {
            "marker": {
             "colorbar": {
              "outlinewidth": 0,
              "ticks": ""
             }
            },
            "type": "scatterpolargl"
           }
          ],
          "scatterternary": [
           {
            "marker": {
             "colorbar": {
              "outlinewidth": 0,
              "ticks": ""
             }
            },
            "type": "scatterternary"
           }
          ],
          "surface": [
           {
            "colorbar": {
             "outlinewidth": 0,
             "ticks": ""
            },
            "colorscale": [
             [
              0,
              "#0d0887"
             ],
             [
              0.1111111111111111,
              "#46039f"
             ],
             [
              0.2222222222222222,
              "#7201a8"
             ],
             [
              0.3333333333333333,
              "#9c179e"
             ],
             [
              0.4444444444444444,
              "#bd3786"
             ],
             [
              0.5555555555555556,
              "#d8576b"
             ],
             [
              0.6666666666666666,
              "#ed7953"
             ],
             [
              0.7777777777777778,
              "#fb9f3a"
             ],
             [
              0.8888888888888888,
              "#fdca26"
             ],
             [
              1,
              "#f0f921"
             ]
            ],
            "type": "surface"
           }
          ],
          "table": [
           {
            "cells": {
             "fill": {
              "color": "#EBF0F8"
             },
             "line": {
              "color": "white"
             }
            },
            "header": {
             "fill": {
              "color": "#C8D4E3"
             },
             "line": {
              "color": "white"
             }
            },
            "type": "table"
           }
          ]
         },
         "layout": {
          "annotationdefaults": {
           "arrowcolor": "#2a3f5f",
           "arrowhead": 0,
           "arrowwidth": 1
          },
          "autotypenumbers": "strict",
          "coloraxis": {
           "colorbar": {
            "outlinewidth": 0,
            "ticks": ""
           }
          },
          "colorscale": {
           "diverging": [
            [
             0,
             "#8e0152"
            ],
            [
             0.1,
             "#c51b7d"
            ],
            [
             0.2,
             "#de77ae"
            ],
            [
             0.3,
             "#f1b6da"
            ],
            [
             0.4,
             "#fde0ef"
            ],
            [
             0.5,
             "#f7f7f7"
            ],
            [
             0.6,
             "#e6f5d0"
            ],
            [
             0.7,
             "#b8e186"
            ],
            [
             0.8,
             "#7fbc41"
            ],
            [
             0.9,
             "#4d9221"
            ],
            [
             1,
             "#276419"
            ]
           ],
           "sequential": [
            [
             0,
             "#0d0887"
            ],
            [
             0.1111111111111111,
             "#46039f"
            ],
            [
             0.2222222222222222,
             "#7201a8"
            ],
            [
             0.3333333333333333,
             "#9c179e"
            ],
            [
             0.4444444444444444,
             "#bd3786"
            ],
            [
             0.5555555555555556,
             "#d8576b"
            ],
            [
             0.6666666666666666,
             "#ed7953"
            ],
            [
             0.7777777777777778,
             "#fb9f3a"
            ],
            [
             0.8888888888888888,
             "#fdca26"
            ],
            [
             1,
             "#f0f921"
            ]
           ],
           "sequentialminus": [
            [
             0,
             "#0d0887"
            ],
            [
             0.1111111111111111,
             "#46039f"
            ],
            [
             0.2222222222222222,
             "#7201a8"
            ],
            [
             0.3333333333333333,
             "#9c179e"
            ],
            [
             0.4444444444444444,
             "#bd3786"
            ],
            [
             0.5555555555555556,
             "#d8576b"
            ],
            [
             0.6666666666666666,
             "#ed7953"
            ],
            [
             0.7777777777777778,
             "#fb9f3a"
            ],
            [
             0.8888888888888888,
             "#fdca26"
            ],
            [
             1,
             "#f0f921"
            ]
           ]
          },
          "colorway": [
           "#636efa",
           "#EF553B",
           "#00cc96",
           "#ab63fa",
           "#FFA15A",
           "#19d3f3",
           "#FF6692",
           "#B6E880",
           "#FF97FF",
           "#FECB52"
          ],
          "font": {
           "color": "#2a3f5f"
          },
          "geo": {
           "bgcolor": "white",
           "lakecolor": "white",
           "landcolor": "#E5ECF6",
           "showlakes": true,
           "showland": true,
           "subunitcolor": "white"
          },
          "hoverlabel": {
           "align": "left"
          },
          "hovermode": "closest",
          "mapbox": {
           "style": "light"
          },
          "paper_bgcolor": "white",
          "plot_bgcolor": "#E5ECF6",
          "polar": {
           "angularaxis": {
            "gridcolor": "white",
            "linecolor": "white",
            "ticks": ""
           },
           "bgcolor": "#E5ECF6",
           "radialaxis": {
            "gridcolor": "white",
            "linecolor": "white",
            "ticks": ""
           }
          },
          "scene": {
           "xaxis": {
            "backgroundcolor": "#E5ECF6",
            "gridcolor": "white",
            "gridwidth": 2,
            "linecolor": "white",
            "showbackground": true,
            "ticks": "",
            "zerolinecolor": "white"
           },
           "yaxis": {
            "backgroundcolor": "#E5ECF6",
            "gridcolor": "white",
            "gridwidth": 2,
            "linecolor": "white",
            "showbackground": true,
            "ticks": "",
            "zerolinecolor": "white"
           },
           "zaxis": {
            "backgroundcolor": "#E5ECF6",
            "gridcolor": "white",
            "gridwidth": 2,
            "linecolor": "white",
            "showbackground": true,
            "ticks": "",
            "zerolinecolor": "white"
           }
          },
          "shapedefaults": {
           "line": {
            "color": "#2a3f5f"
           }
          },
          "ternary": {
           "aaxis": {
            "gridcolor": "white",
            "linecolor": "white",
            "ticks": ""
           },
           "baxis": {
            "gridcolor": "white",
            "linecolor": "white",
            "ticks": ""
           },
           "bgcolor": "#E5ECF6",
           "caxis": {
            "gridcolor": "white",
            "linecolor": "white",
            "ticks": ""
           }
          },
          "title": {
           "x": 0.05
          },
          "xaxis": {
           "automargin": true,
           "gridcolor": "white",
           "linecolor": "white",
           "ticks": "",
           "title": {
            "standoff": 15
           },
           "zerolinecolor": "white",
           "zerolinewidth": 2
          },
          "yaxis": {
           "automargin": true,
           "gridcolor": "white",
           "linecolor": "white",
           "ticks": "",
           "title": {
            "standoff": 15
           },
           "zerolinecolor": "white",
           "zerolinewidth": 2
          }
         }
        },
        "title": {
         "text": "States by share of political events"
        },
        "xaxis": {
         "autorange": true,
         "range": [
          -0.5,
          18.5
         ],
         "title": {
          "text": "State"
         },
         "type": "category"
        },
        "yaxis": {
         "autorange": true,
         "range": [
          0,
          21.789473684210527
         ],
         "title": {
          "text": "Share of political events, %"
         },
         "type": "linear"
        }
       }
      },
      "image/png": "[encoded data removed]",
      "text/html": [
       "<div>                            <div id=\"19e86525-4610-4740-8209-38fe5aaedd64\" class=\"plotly-graph-div\" style=\"height:525px; width:100%;\"></div>            <script type=\"text/javascript\">                require([\"plotly\"], function(Plotly) {                    window.PLOTLYENV=window.PLOTLYENV || {};                                    if (document.getElementById(\"19e86525-4610-4740-8209-38fe5aaedd64\")) {                    Plotly.newPlot(                        \"19e86525-4610-4740-8209-38fe5aaedd64\",                        [{\"x\":[\"OH\",\"FL\",\"PA\",\"VA\",\"MO\",\"CO\",\"NC\",\"NV\",\"NH\",\"MI\",\"IN\",\"NM\",\"WI\",\"IA\",\"MN\",\"ME\",\"DC\",\"TN\",\"WV\"],\"y\":[20.7,15.3,13.3,7.7,7.0,6.7,5.0,4.0,4.0,3.3,3.0,2.7,2.7,2.3,0.7,0.7,0.3,0.3,0.3],\"type\":\"bar\"}],                        {\"title\":{\"text\":\"States by share of political events\"},\"xaxis\":{\"title\":{\"text\":\"State\"}},\"yaxis\":{\"title\":{\"text\":\"Share of political events, %\"}},\"template\":{\"data\":{\"bar\":[{\"error_x\":{\"color\":\"#2a3f5f\"},\"error_y\":{\"color\":\"#2a3f5f\"},\"marker\":{\"line\":{\"color\":\"#E5ECF6\",\"width\":0.5},\"pattern\":{\"fillmode\":\"overlay\",\"size\":10,\"solidity\":0.2}},\"type\":\"bar\"}],\"barpolar\":[{\"marker\":{\"line\":{\"color\":\"#E5ECF6\",\"width\":0.5},\"pattern\":{\"fillmode\":\"overlay\",\"size\":10,\"solidity\":0.2}},\"type\":\"barpolar\"}],\"carpet\":[{\"aaxis\":{\"endlinecolor\":\"#2a3f5f\",\"gridcolor\":\"white\",\"linecolor\":\"white\",\"minorgridcolor\":\"white\",\"startlinecolor\":\"#2a3f5f\"},\"baxis\":{\"endlinecolor\":\"#2a3f5f\",\"gridcolor\":\"white\",\"linecolor\":\"white\",\"minorgridcolor\":\"white\",\"startlinecolor\":\"#2a3f5f\"},\"type\":\"carpet\"}],\"choropleth\":[{\"colorbar\":{\"outlinewidth\":0,\"ticks\":\"\"},\"type\":\"choropleth\"}],\"contour\":[{\"colorbar\":{\"outlinewidth\":0,\"ticks\":\"\"},\"colorscale\":[[0.0,\"#0d0887\"],[0.1111111111111111,\"#46039f\"],[0.2222222222222222,\"#7201a8\"],[0.3333333333333333,\"#9c179e\"],[0.4444444444444444,\"#bd3786\"],[0.5555555555555556,\"#d8576b\"],[0.6666666666666666,\"#ed7953\"],[0.7777777777777778,\"#fb9f3a\"],[0.8888888888888888,\"#fdca26\"],[1.0,\"#f0f921\"]],\"type\":\"contour\"}],\"contourcarpet\":[{\"colorbar\":{\"outlinewidth\":0,\"ticks\":\"\"},\"type\":\"contourcarpet\"}],\"heatmap\":[{\"colorbar\":{\"outlinewidth\":0,\"ticks\":\"\"},\"colorscale\":[[0.0,\"#0d0887\"],[0.1111111111111111,\"#46039f\"],[0.2222222222222222,\"#7201a8\"],[0.3333333333333333,\"#9c179e\"],[0.4444444444444444,\"#bd3786\"],[0.5555555555555556,\"#d8576b\"],[0.6666666666666666,\"#ed7953\"],[0.7777777777777778,\"#fb9f3a\"],[0.8888888888888888,\"#fdca26\"],[1.0,\"#f0f921\"]],\"type\":\"heatmap\"}],\"heatmapgl\":[{\"colorbar\":{\"outlinewidth\":0,\"ticks\":\"\"},\"colorscale\":[[0.0,\"#0d0887\"],[0.1111111111111111,\"#46039f\"],[0.2222222222222222,\"#7201a8\"],[0.3333333333333333,\"#9c179e\"],[0.4444444444444444,\"#bd3786\"],[0.5555555555555556,\"#d8576b\"],[0.6666666666666666,\"#ed7953\"],[0.7777777777777778,\"#fb9f3a\"],[0.8888888888888888,\"#fdca26\"],[1.0,\"#f0f921\"]],\"type\":\"heatmapgl\"}],\"histogram\":[{\"marker\":{\"pattern\":{\"fillmode\":\"overlay\",\"size\":10,\"solidity\":0.2}},\"type\":\"histogram\"}],\"histogram2d\":[{\"colorbar\":{\"outlinewidth\":0,\"ticks\":\"\"},\"colorscale\":[[0.0,\"#0d0887\"],[0.1111111111111111,\"#46039f\"],[0.2222222222222222,\"#7201a8\"],[0.3333333333333333,\"#9c179e\"],[0.4444444444444444,\"#bd3786\"],[0.5555555555555556,\"#d8576b\"],[0.6666666666666666,\"#ed7953\"],[0.7777777777777778,\"#fb9f3a\"],[0.8888888888888888,\"#fdca26\"],[1.0,\"#f0f921\"]],\"type\":\"histogram2d\"}],\"histogram2dcontour\":[{\"colorbar\":{\"outlinewidth\":0,\"ticks\":\"\"},\"colorscale\":[[0.0,\"#0d0887\"],[0.1111111111111111,\"#46039f\"],[0.2222222222222222,\"#7201a8\"],[0.3333333333333333,\"#9c179e\"],[0.4444444444444444,\"#bd3786\"],[0.5555555555555556,\"#d8576b\"],[0.6666666666666666,\"#ed7953\"],[0.7777777777777778,\"#fb9f3a\"],[0.8888888888888888,\"#fdca26\"],[1.0,\"#f0f921\"]],\"type\":\"histogram2dcontour\"}],\"mesh3d\":[{\"colorbar\":{\"outlinewidth\":0,\"ticks\":\"\"},\"type\":\"mesh3d\"}],\"parcoords\":[{\"line\":{\"colorbar\":{\"outlinewidth\":0,\"ticks\":\"\"}},\"type\":\"parcoords\"}],\"pie\":[{\"automargin\":true,\"type\":\"pie\"}],\"scatter\":[{\"marker\":{\"colorbar\":{\"outlinewidth\":0,\"ticks\":\"\"}},\"type\":\"scatter\"}],\"scatter3d\":[{\"line\":{\"colorbar\":{\"outlinewidth\":0,\"ticks\":\"\"}},\"marker\":{\"colorbar\":{\"outlinewidth\":0,\"ticks\":\"\"}},\"type\":\"scatter3d\"}],\"scattercarpet\":[{\"marker\":{\"colorbar\":{\"outlinewidth\":0,\"ticks\":\"\"}},\"type\":\"scattercarpet\"}],\"scattergeo\":[{\"marker\":{\"colorbar\":{\"outlinewidth\":0,\"ticks\":\"\"}},\"type\":\"scattergeo\"}],\"scattergl\":[{\"marker\":{\"colorbar\":{\"outlinewidth\":0,\"ticks\":\"\"}},\"type\":\"scattergl\"}],\"scattermapbox\":[{\"marker\":{\"colorbar\":{\"outlinewidth\":0,\"ticks\":\"\"}},\"type\":\"scattermapbox\"}],\"scatterpolar\":[{\"marker\":{\"colorbar\":{\"outlinewidth\":0,\"ticks\":\"\"}},\"type\":\"scatterpolar\"}],\"scatterpolargl\":[{\"marker\":{\"colorbar\":{\"outlinewidth\":0,\"ticks\":\"\"}},\"type\":\"scatterpolargl\"}],\"scatterternary\":[{\"marker\":{\"colorbar\":{\"outlinewidth\":0,\"ticks\":\"\"}},\"type\":\"scatterternary\"}],\"surface\":[{\"colorbar\":{\"outlinewidth\":0,\"ticks\":\"\"},\"colorscale\":[[0.0,\"#0d0887\"],[0.1111111111111111,\"#46039f\"],[0.2222222222222222,\"#7201a8\"],[0.3333333333333333,\"#9c179e\"],[0.4444444444444444,\"#bd3786\"],[0.5555555555555556,\"#d8576b\"],[0.6666666666666666,\"#ed7953\"],[0.7777777777777778,\"#fb9f3a\"],[0.8888888888888888,\"#fdca26\"],[1.0,\"#f0f921\"]],\"type\":\"surface\"}],\"table\":[{\"cells\":{\"fill\":{\"color\":\"#EBF0F8\"},\"line\":{\"color\":\"white\"}},\"header\":{\"fill\":{\"color\":\"#C8D4E3\"},\"line\":{\"color\":\"white\"}},\"type\":\"table\"}]},\"layout\":{\"annotationdefaults\":{\"arrowcolor\":\"#2a3f5f\",\"arrowhead\":0,\"arrowwidth\":1},\"autotypenumbers\":\"strict\",\"coloraxis\":{\"colorbar\":{\"outlinewidth\":0,\"ticks\":\"\"}},\"colorscale\":{\"diverging\":[[0,\"#8e0152\"],[0.1,\"#c51b7d\"],[0.2,\"#de77ae\"],[0.3,\"#f1b6da\"],[0.4,\"#fde0ef\"],[0.5,\"#f7f7f7\"],[0.6,\"#e6f5d0\"],[0.7,\"#b8e186\"],[0.8,\"#7fbc41\"],[0.9,\"#4d9221\"],[1,\"#276419\"]],\"sequential\":[[0.0,\"#0d0887\"],[0.1111111111111111,\"#46039f\"],[0.2222222222222222,\"#7201a8\"],[0.3333333333333333,\"#9c179e\"],[0.4444444444444444,\"#bd3786\"],[0.5555555555555556,\"#d8576b\"],[0.6666666666666666,\"#ed7953\"],[0.7777777777777778,\"#fb9f3a\"],[0.8888888888888888,\"#fdca26\"],[1.0,\"#f0f921\"]],\"sequentialminus\":[[0.0,\"#0d0887\"],[0.1111111111111111,\"#46039f\"],[0.2222222222222222,\"#7201a8\"],[0.3333333333333333,\"#9c179e\"],[0.4444444444444444,\"#bd3786\"],[0.5555555555555556,\"#d8576b\"],[0.6666666666666666,\"#ed7953\"],[0.7777777777777778,\"#fb9f3a\"],[0.8888888888888888,\"#fdca26\"],[1.0,\"#f0f921\"]]},\"colorway\":[\"#636efa\",\"#EF553B\",\"#00cc96\",\"#ab63fa\",\"#FFA15A\",\"#19d3f3\",\"#FF6692\",\"#B6E880\",\"#FF97FF\",\"#FECB52\"],\"font\":{\"color\":\"#2a3f5f\"},\"geo\":{\"bgcolor\":\"white\",\"lakecolor\":\"white\",\"landcolor\":\"#E5ECF6\",\"showlakes\":true,\"showland\":true,\"subunitcolor\":\"white\"},\"hoverlabel\":{\"align\":\"left\"},\"hovermode\":\"closest\",\"mapbox\":{\"style\":\"light\"},\"paper_bgcolor\":\"white\",\"plot_bgcolor\":\"#E5ECF6\",\"polar\":{\"angularaxis\":{\"gridcolor\":\"white\",\"linecolor\":\"white\",\"ticks\":\"\"},\"bgcolor\":\"#E5ECF6\",\"radialaxis\":{\"gridcolor\":\"white\",\"linecolor\":\"white\",\"ticks\":\"\"}},\"scene\":{\"xaxis\":{\"backgroundcolor\":\"#E5ECF6\",\"gridcolor\":\"white\",\"gridwidth\":2,\"linecolor\":\"white\",\"showbackground\":true,\"ticks\":\"\",\"zerolinecolor\":\"white\"},\"yaxis\":{\"backgroundcolor\":\"#E5ECF6\",\"gridcolor\":\"white\",\"gridwidth\":2,\"linecolor\":\"white\",\"showbackground\":true,\"ticks\":\"\",\"zerolinecolor\":\"white\"},\"zaxis\":{\"backgroundcolor\":\"#E5ECF6\",\"gridcolor\":\"white\",\"gridwidth\":2,\"linecolor\":\"white\",\"showbackground\":true,\"ticks\":\"\",\"zerolinecolor\":\"white\"}},\"shapedefaults\":{\"line\":{\"color\":\"#2a3f5f\"}},\"ternary\":{\"aaxis\":{\"gridcolor\":\"white\",\"linecolor\":\"white\",\"ticks\":\"\"},\"baxis\":{\"gridcolor\":\"white\",\"linecolor\":\"white\",\"ticks\":\"\"},\"bgcolor\":\"#E5ECF6\",\"caxis\":{\"gridcolor\":\"white\",\"linecolor\":\"white\",\"ticks\":\"\"}},\"title\":{\"x\":0.05},\"xaxis\":{\"automargin\":true,\"gridcolor\":\"white\",\"linecolor\":\"white\",\"ticks\":\"\",\"title\":{\"standoff\":15},\"zerolinecolor\":\"white\",\"zerolinewidth\":2},\"yaxis\":{\"automargin\":true,\"gridcolor\":\"white\",\"linecolor\":\"white\",\"ticks\":\"\",\"title\":{\"standoff\":15},\"zerolinecolor\":\"white\",\"zerolinewidth\":2}}}},                        {\"responsive\": true}                    ).then(function(){\n",
       "                            \n",
       "var gd = document.getElementById('19e86525-4610-4740-8209-38fe5aaedd64');\n",
       "var x = new MutationObserver(function (mutations, observer) {{\n",
       "        var display = window.getComputedStyle(gd).display;\n",
       "        if (!display || display === 'none') {{\n",
       "            console.log([gd, 'removed!']);\n",
       "            Plotly.purge(gd);\n",
       "            observer.disconnect();\n",
       "        }}\n",
       "}});\n",
       "\n",
       "// Listen for the removal of the full notebook cells\n",
       "var notebookContainer = gd.closest('#notebook-container');\n",
       "if (notebookContainer) {{\n",
       "    x.observe(notebookContainer, {childList: true});\n",
       "}}\n",
       "\n",
       "// Listen for the clearing of the current output cell\n",
       "var outputEl = gd.closest('.output');\n",
       "if (outputEl) {{\n",
       "    x.observe(outputEl, {childList: true});\n",
       "}}\n",
       "\n",
       "                        })                };                });            </script>        </div>"
      ]
     },
     "metadata": {},
     "output_type": "display_data"
    }
   ],
   "source": [
    "trace = go.Bar(x=table_1.State,\n",
    "               y=table_1['% of total'])\n",
    "\n",
    "layout = go.Layout(title=\"States by share of political events\",\n",
    "                   xaxis=dict(title='State'),\n",
    "                   yaxis=dict(title='Share of political events, %'))\n",
    "\n",
    "fig = go.Figure(trace, layout)\n",
    "\n",
    "# fig.update_layout(xaxis={'categoryorder':'total ascending'})\n",
    "\n",
    "fig.show()"
   ]
  },
  {
   "cell_type": "code",
   "execution_count": 170,
   "id": "6eb01842-e4ed-4f4e-96dc-8b35c64a0670",
   "metadata": {},
   "outputs": [],
   "source": [
    "percent = table_1['% of total'][0:10].sum()"
   ]
  },
  {
   "cell_type": "code",
   "execution_count": 171,
   "id": "9f159b58-9d5e-4c22-995c-bcc5d5b83728",
   "metadata": {},
   "outputs": [
    {
     "name": "stdout",
     "output_type": "stream",
     "text": [
      "87.0 - кумулятивный процент политических мероприятий в 10 наиболее активных штатах\n"
     ]
    }
   ],
   "source": [
    "print(f'{percent} - кумулятивный процент политических мероприятий в 10 наиболее активных штатах')"
   ]
  },
  {
   "cell_type": "markdown",
   "id": "485ba087-2960-4468-9996-d6520ac1e6d0",
   "metadata": {},
   "source": [
    "Исходя из визуализации мы обнаруживаем, что всего лишь в 10 штатов из 50 проходит практически вся (87%) предвыборная политическая активность - штат Огайо, Флорида, Пенсильвания и так далее."
   ]
  },
  {
   "cell_type": "code",
   "execution_count": 267,
   "id": "5177516d-38b3-4e60-b0fc-53c711b9b9f4",
   "metadata": {},
   "outputs": [],
   "source": [
    "table_2.loc[17] = [18, 'Other', -1, (100 - table_2['% of total'].sum()), 100] # чтобы сумма трат была равна 100%"
   ]
  },
  {
   "cell_type": "code",
   "execution_count": 270,
   "id": "cfa33a18-4a5a-4ead-b210-e269bb328afb",
   "metadata": {},
   "outputs": [
    {
     "data": {
      "application/vnd.plotly.v1+json": {
       "config": {
        "plotlyServerURL": "https://plot.ly"
       },
       "data": [
        {
         "hole": 0.2,
         "labels": [
          "FL",
          "PA",
          "OH",
          "VA",
          "NC",
          "IN",
          "WI",
          "MO",
          "CO",
          "NV",
          "MI",
          "MN",
          "IA",
          "NM",
          "NH",
          "MT",
          "ME",
          "Other"
         ],
         "sort": true,
         "textinfo": "label+percent",
         "type": "pie",
         "values": [
          18.2,
          15.5,
          10.5,
          10.3,
          5.9,
          5.6,
          5.6,
          5,
          4.9,
          4.4,
          3.6,
          2.6,
          2.3,
          1.9,
          1.8,
          0.6,
          0.5,
          0.7999999999999972
         ]
        }
       ],
       "layout": {
        "autosize": false,
        "height": 550,
        "template": {
         "data": {
          "bar": [
           {
            "error_x": {
             "color": "#2a3f5f"
            },
            "error_y": {
             "color": "#2a3f5f"
            },
            "marker": {
             "line": {
              "color": "#E5ECF6",
              "width": 0.5
             },
             "pattern": {
              "fillmode": "overlay",
              "size": 10,
              "solidity": 0.2
             }
            },
            "type": "bar"
           }
          ],
          "barpolar": [
           {
            "marker": {
             "line": {
              "color": "#E5ECF6",
              "width": 0.5
             },
             "pattern": {
              "fillmode": "overlay",
              "size": 10,
              "solidity": 0.2
             }
            },
            "type": "barpolar"
           }
          ],
          "carpet": [
           {
            "aaxis": {
             "endlinecolor": "#2a3f5f",
             "gridcolor": "white",
             "linecolor": "white",
             "minorgridcolor": "white",
             "startlinecolor": "#2a3f5f"
            },
            "baxis": {
             "endlinecolor": "#2a3f5f",
             "gridcolor": "white",
             "linecolor": "white",
             "minorgridcolor": "white",
             "startlinecolor": "#2a3f5f"
            },
            "type": "carpet"
           }
          ],
          "choropleth": [
           {
            "colorbar": {
             "outlinewidth": 0,
             "ticks": ""
            },
            "type": "choropleth"
           }
          ],
          "contour": [
           {
            "colorbar": {
             "outlinewidth": 0,
             "ticks": ""
            },
            "colorscale": [
             [
              0,
              "#0d0887"
             ],
             [
              0.1111111111111111,
              "#46039f"
             ],
             [
              0.2222222222222222,
              "#7201a8"
             ],
             [
              0.3333333333333333,
              "#9c179e"
             ],
             [
              0.4444444444444444,
              "#bd3786"
             ],
             [
              0.5555555555555556,
              "#d8576b"
             ],
             [
              0.6666666666666666,
              "#ed7953"
             ],
             [
              0.7777777777777778,
              "#fb9f3a"
             ],
             [
              0.8888888888888888,
              "#fdca26"
             ],
             [
              1,
              "#f0f921"
             ]
            ],
            "type": "contour"
           }
          ],
          "contourcarpet": [
           {
            "colorbar": {
             "outlinewidth": 0,
             "ticks": ""
            },
            "type": "contourcarpet"
           }
          ],
          "heatmap": [
           {
            "colorbar": {
             "outlinewidth": 0,
             "ticks": ""
            },
            "colorscale": [
             [
              0,
              "#0d0887"
             ],
             [
              0.1111111111111111,
              "#46039f"
             ],
             [
              0.2222222222222222,
              "#7201a8"
             ],
             [
              0.3333333333333333,
              "#9c179e"
             ],
             [
              0.4444444444444444,
              "#bd3786"
             ],
             [
              0.5555555555555556,
              "#d8576b"
             ],
             [
              0.6666666666666666,
              "#ed7953"
             ],
             [
              0.7777777777777778,
              "#fb9f3a"
             ],
             [
              0.8888888888888888,
              "#fdca26"
             ],
             [
              1,
              "#f0f921"
             ]
            ],
            "type": "heatmap"
           }
          ],
          "heatmapgl": [
           {
            "colorbar": {
             "outlinewidth": 0,
             "ticks": ""
            },
            "colorscale": [
             [
              0,
              "#0d0887"
             ],
             [
              0.1111111111111111,
              "#46039f"
             ],
             [
              0.2222222222222222,
              "#7201a8"
             ],
             [
              0.3333333333333333,
              "#9c179e"
             ],
             [
              0.4444444444444444,
              "#bd3786"
             ],
             [
              0.5555555555555556,
              "#d8576b"
             ],
             [
              0.6666666666666666,
              "#ed7953"
             ],
             [
              0.7777777777777778,
              "#fb9f3a"
             ],
             [
              0.8888888888888888,
              "#fdca26"
             ],
             [
              1,
              "#f0f921"
             ]
            ],
            "type": "heatmapgl"
           }
          ],
          "histogram": [
           {
            "marker": {
             "pattern": {
              "fillmode": "overlay",
              "size": 10,
              "solidity": 0.2
             }
            },
            "type": "histogram"
           }
          ],
          "histogram2d": [
           {
            "colorbar": {
             "outlinewidth": 0,
             "ticks": ""
            },
            "colorscale": [
             [
              0,
              "#0d0887"
             ],
             [
              0.1111111111111111,
              "#46039f"
             ],
             [
              0.2222222222222222,
              "#7201a8"
             ],
             [
              0.3333333333333333,
              "#9c179e"
             ],
             [
              0.4444444444444444,
              "#bd3786"
             ],
             [
              0.5555555555555556,
              "#d8576b"
             ],
             [
              0.6666666666666666,
              "#ed7953"
             ],
             [
              0.7777777777777778,
              "#fb9f3a"
             ],
             [
              0.8888888888888888,
              "#fdca26"
             ],
             [
              1,
              "#f0f921"
             ]
            ],
            "type": "histogram2d"
           }
          ],
          "histogram2dcontour": [
           {
            "colorbar": {
             "outlinewidth": 0,
             "ticks": ""
            },
            "colorscale": [
             [
              0,
              "#0d0887"
             ],
             [
              0.1111111111111111,
              "#46039f"
             ],
             [
              0.2222222222222222,
              "#7201a8"
             ],
             [
              0.3333333333333333,
              "#9c179e"
             ],
             [
              0.4444444444444444,
              "#bd3786"
             ],
             [
              0.5555555555555556,
              "#d8576b"
             ],
             [
              0.6666666666666666,
              "#ed7953"
             ],
             [
              0.7777777777777778,
              "#fb9f3a"
             ],
             [
              0.8888888888888888,
              "#fdca26"
             ],
             [
              1,
              "#f0f921"
             ]
            ],
            "type": "histogram2dcontour"
           }
          ],
          "mesh3d": [
           {
            "colorbar": {
             "outlinewidth": 0,
             "ticks": ""
            },
            "type": "mesh3d"
           }
          ],
          "parcoords": [
           {
            "line": {
             "colorbar": {
              "outlinewidth": 0,
              "ticks": ""
             }
            },
            "type": "parcoords"
           }
          ],
          "pie": [
           {
            "automargin": true,
            "type": "pie"
           }
          ],
          "scatter": [
           {
            "marker": {
             "colorbar": {
              "outlinewidth": 0,
              "ticks": ""
             }
            },
            "type": "scatter"
           }
          ],
          "scatter3d": [
           {
            "line": {
             "colorbar": {
              "outlinewidth": 0,
              "ticks": ""
             }
            },
            "marker": {
             "colorbar": {
              "outlinewidth": 0,
              "ticks": ""
             }
            },
            "type": "scatter3d"
           }
          ],
          "scattercarpet": [
           {
            "marker": {
             "colorbar": {
              "outlinewidth": 0,
              "ticks": ""
             }
            },
            "type": "scattercarpet"
           }
          ],
          "scattergeo": [
           {
            "marker": {
             "colorbar": {
              "outlinewidth": 0,
              "ticks": ""
             }
            },
            "type": "scattergeo"
           }
          ],
          "scattergl": [
           {
            "marker": {
             "colorbar": {
              "outlinewidth": 0,
              "ticks": ""
             }
            },
            "type": "scattergl"
           }
          ],
          "scattermapbox": [
           {
            "marker": {
             "colorbar": {
              "outlinewidth": 0,
              "ticks": ""
             }
            },
            "type": "scattermapbox"
           }
          ],
          "scatterpolar": [
           {
            "marker": {
             "colorbar": {
              "outlinewidth": 0,
              "ticks": ""
             }
            },
            "type": "scatterpolar"
           }
          ],
          "scatterpolargl": [
           {
            "marker": {
             "colorbar": {
              "outlinewidth": 0,
              "ticks": ""
             }
            },
            "type": "scatterpolargl"
           }
          ],
          "scatterternary": [
           {
            "marker": {
             "colorbar": {
              "outlinewidth": 0,
              "ticks": ""
             }
            },
            "type": "scatterternary"
           }
          ],
          "surface": [
           {
            "colorbar": {
             "outlinewidth": 0,
             "ticks": ""
            },
            "colorscale": [
             [
              0,
              "#0d0887"
             ],
             [
              0.1111111111111111,
              "#46039f"
             ],
             [
              0.2222222222222222,
              "#7201a8"
             ],
             [
              0.3333333333333333,
              "#9c179e"
             ],
             [
              0.4444444444444444,
              "#bd3786"
             ],
             [
              0.5555555555555556,
              "#d8576b"
             ],
             [
              0.6666666666666666,
              "#ed7953"
             ],
             [
              0.7777777777777778,
              "#fb9f3a"
             ],
             [
              0.8888888888888888,
              "#fdca26"
             ],
             [
              1,
              "#f0f921"
             ]
            ],
            "type": "surface"
           }
          ],
          "table": [
           {
            "cells": {
             "fill": {
              "color": "#EBF0F8"
             },
             "line": {
              "color": "white"
             }
            },
            "header": {
             "fill": {
              "color": "#C8D4E3"
             },
             "line": {
              "color": "white"
             }
            },
            "type": "table"
           }
          ]
         },
         "layout": {
          "annotationdefaults": {
           "arrowcolor": "#2a3f5f",
           "arrowhead": 0,
           "arrowwidth": 1
          },
          "autotypenumbers": "strict",
          "coloraxis": {
           "colorbar": {
            "outlinewidth": 0,
            "ticks": ""
           }
          },
          "colorscale": {
           "diverging": [
            [
             0,
             "#8e0152"
            ],
            [
             0.1,
             "#c51b7d"
            ],
            [
             0.2,
             "#de77ae"
            ],
            [
             0.3,
             "#f1b6da"
            ],
            [
             0.4,
             "#fde0ef"
            ],
            [
             0.5,
             "#f7f7f7"
            ],
            [
             0.6,
             "#e6f5d0"
            ],
            [
             0.7,
             "#b8e186"
            ],
            [
             0.8,
             "#7fbc41"
            ],
            [
             0.9,
             "#4d9221"
            ],
            [
             1,
             "#276419"
            ]
           ],
           "sequential": [
            [
             0,
             "#0d0887"
            ],
            [
             0.1111111111111111,
             "#46039f"
            ],
            [
             0.2222222222222222,
             "#7201a8"
            ],
            [
             0.3333333333333333,
             "#9c179e"
            ],
            [
             0.4444444444444444,
             "#bd3786"
            ],
            [
             0.5555555555555556,
             "#d8576b"
            ],
            [
             0.6666666666666666,
             "#ed7953"
            ],
            [
             0.7777777777777778,
             "#fb9f3a"
            ],
            [
             0.8888888888888888,
             "#fdca26"
            ],
            [
             1,
             "#f0f921"
            ]
           ],
           "sequentialminus": [
            [
             0,
             "#0d0887"
            ],
            [
             0.1111111111111111,
             "#46039f"
            ],
            [
             0.2222222222222222,
             "#7201a8"
            ],
            [
             0.3333333333333333,
             "#9c179e"
            ],
            [
             0.4444444444444444,
             "#bd3786"
            ],
            [
             0.5555555555555556,
             "#d8576b"
            ],
            [
             0.6666666666666666,
             "#ed7953"
            ],
            [
             0.7777777777777778,
             "#fb9f3a"
            ],
            [
             0.8888888888888888,
             "#fdca26"
            ],
            [
             1,
             "#f0f921"
            ]
           ]
          },
          "colorway": [
           "#636efa",
           "#EF553B",
           "#00cc96",
           "#ab63fa",
           "#FFA15A",
           "#19d3f3",
           "#FF6692",
           "#B6E880",
           "#FF97FF",
           "#FECB52"
          ],
          "font": {
           "color": "#2a3f5f"
          },
          "geo": {
           "bgcolor": "white",
           "lakecolor": "white",
           "landcolor": "#E5ECF6",
           "showlakes": true,
           "showland": true,
           "subunitcolor": "white"
          },
          "hoverlabel": {
           "align": "left"
          },
          "hovermode": "closest",
          "mapbox": {
           "style": "light"
          },
          "paper_bgcolor": "white",
          "plot_bgcolor": "#E5ECF6",
          "polar": {
           "angularaxis": {
            "gridcolor": "white",
            "linecolor": "white",
            "ticks": ""
           },
           "bgcolor": "#E5ECF6",
           "radialaxis": {
            "gridcolor": "white",
            "linecolor": "white",
            "ticks": ""
           }
          },
          "scene": {
           "xaxis": {
            "backgroundcolor": "#E5ECF6",
            "gridcolor": "white",
            "gridwidth": 2,
            "linecolor": "white",
            "showbackground": true,
            "ticks": "",
            "zerolinecolor": "white"
           },
           "yaxis": {
            "backgroundcolor": "#E5ECF6",
            "gridcolor": "white",
            "gridwidth": 2,
            "linecolor": "white",
            "showbackground": true,
            "ticks": "",
            "zerolinecolor": "white"
           },
           "zaxis": {
            "backgroundcolor": "#E5ECF6",
            "gridcolor": "white",
            "gridwidth": 2,
            "linecolor": "white",
            "showbackground": true,
            "ticks": "",
            "zerolinecolor": "white"
           }
          },
          "shapedefaults": {
           "line": {
            "color": "#2a3f5f"
           }
          },
          "ternary": {
           "aaxis": {
            "gridcolor": "white",
            "linecolor": "white",
            "ticks": ""
           },
           "baxis": {
            "gridcolor": "white",
            "linecolor": "white",
            "ticks": ""
           },
           "bgcolor": "#E5ECF6",
           "caxis": {
            "gridcolor": "white",
            "linecolor": "white",
            "ticks": ""
           }
          },
          "title": {
           "x": 0.05
          },
          "xaxis": {
           "automargin": true,
           "gridcolor": "white",
           "linecolor": "white",
           "ticks": "",
           "title": {
            "standoff": 15
           },
           "zerolinecolor": "white",
           "zerolinewidth": 2
          },
          "yaxis": {
           "automargin": true,
           "gridcolor": "white",
           "linecolor": "white",
           "ticks": "",
           "title": {
            "standoff": 15
           },
           "zerolinecolor": "white",
           "zerolinewidth": 2
          }
         }
        },
        "title": {
         "text": "Share of political campaign advertising budgets by state"
        },
        "width": 800
       }
      },
      "image/png": "[encoded data removed]",
      "text/html": [
       "<div>                            <div id=\"83cf54d4-17e2-4eb1-840d-1c5f1c3c7179\" class=\"plotly-graph-div\" style=\"height:550px; width:800px;\"></div>            <script type=\"text/javascript\">                require([\"plotly\"], function(Plotly) {                    window.PLOTLYENV=window.PLOTLYENV || {};                                    if (document.getElementById(\"83cf54d4-17e2-4eb1-840d-1c5f1c3c7179\")) {                    Plotly.newPlot(                        \"83cf54d4-17e2-4eb1-840d-1c5f1c3c7179\",                        [{\"hole\":0.2,\"labels\":[\"FL\",\"PA\",\"OH\",\"VA\",\"NC\",\"IN\",\"WI\",\"MO\",\"CO\",\"NV\",\"MI\",\"MN\",\"IA\",\"NM\",\"NH\",\"MT\",\"ME\",\"Other\"],\"sort\":true,\"textinfo\":\"label+percent\",\"values\":[18.2,15.5,10.5,10.3,5.9,5.6,5.6,5.0,4.9,4.4,3.6,2.6,2.3,1.9,1.8,0.6,0.5,0.7999999999999972],\"type\":\"pie\"}],                        {\"title\":{\"text\":\"Share of political campaign advertising budgets by state\"},\"template\":{\"data\":{\"bar\":[{\"error_x\":{\"color\":\"#2a3f5f\"},\"error_y\":{\"color\":\"#2a3f5f\"},\"marker\":{\"line\":{\"color\":\"#E5ECF6\",\"width\":0.5},\"pattern\":{\"fillmode\":\"overlay\",\"size\":10,\"solidity\":0.2}},\"type\":\"bar\"}],\"barpolar\":[{\"marker\":{\"line\":{\"color\":\"#E5ECF6\",\"width\":0.5},\"pattern\":{\"fillmode\":\"overlay\",\"size\":10,\"solidity\":0.2}},\"type\":\"barpolar\"}],\"carpet\":[{\"aaxis\":{\"endlinecolor\":\"#2a3f5f\",\"gridcolor\":\"white\",\"linecolor\":\"white\",\"minorgridcolor\":\"white\",\"startlinecolor\":\"#2a3f5f\"},\"baxis\":{\"endlinecolor\":\"#2a3f5f\",\"gridcolor\":\"white\",\"linecolor\":\"white\",\"minorgridcolor\":\"white\",\"startlinecolor\":\"#2a3f5f\"},\"type\":\"carpet\"}],\"choropleth\":[{\"colorbar\":{\"outlinewidth\":0,\"ticks\":\"\"},\"type\":\"choropleth\"}],\"contour\":[{\"colorbar\":{\"outlinewidth\":0,\"ticks\":\"\"},\"colorscale\":[[0.0,\"#0d0887\"],[0.1111111111111111,\"#46039f\"],[0.2222222222222222,\"#7201a8\"],[0.3333333333333333,\"#9c179e\"],[0.4444444444444444,\"#bd3786\"],[0.5555555555555556,\"#d8576b\"],[0.6666666666666666,\"#ed7953\"],[0.7777777777777778,\"#fb9f3a\"],[0.8888888888888888,\"#fdca26\"],[1.0,\"#f0f921\"]],\"type\":\"contour\"}],\"contourcarpet\":[{\"colorbar\":{\"outlinewidth\":0,\"ticks\":\"\"},\"type\":\"contourcarpet\"}],\"heatmap\":[{\"colorbar\":{\"outlinewidth\":0,\"ticks\":\"\"},\"colorscale\":[[0.0,\"#0d0887\"],[0.1111111111111111,\"#46039f\"],[0.2222222222222222,\"#7201a8\"],[0.3333333333333333,\"#9c179e\"],[0.4444444444444444,\"#bd3786\"],[0.5555555555555556,\"#d8576b\"],[0.6666666666666666,\"#ed7953\"],[0.7777777777777778,\"#fb9f3a\"],[0.8888888888888888,\"#fdca26\"],[1.0,\"#f0f921\"]],\"type\":\"heatmap\"}],\"heatmapgl\":[{\"colorbar\":{\"outlinewidth\":0,\"ticks\":\"\"},\"colorscale\":[[0.0,\"#0d0887\"],[0.1111111111111111,\"#46039f\"],[0.2222222222222222,\"#7201a8\"],[0.3333333333333333,\"#9c179e\"],[0.4444444444444444,\"#bd3786\"],[0.5555555555555556,\"#d8576b\"],[0.6666666666666666,\"#ed7953\"],[0.7777777777777778,\"#fb9f3a\"],[0.8888888888888888,\"#fdca26\"],[1.0,\"#f0f921\"]],\"type\":\"heatmapgl\"}],\"histogram\":[{\"marker\":{\"pattern\":{\"fillmode\":\"overlay\",\"size\":10,\"solidity\":0.2}},\"type\":\"histogram\"}],\"histogram2d\":[{\"colorbar\":{\"outlinewidth\":0,\"ticks\":\"\"},\"colorscale\":[[0.0,\"#0d0887\"],[0.1111111111111111,\"#46039f\"],[0.2222222222222222,\"#7201a8\"],[0.3333333333333333,\"#9c179e\"],[0.4444444444444444,\"#bd3786\"],[0.5555555555555556,\"#d8576b\"],[0.6666666666666666,\"#ed7953\"],[0.7777777777777778,\"#fb9f3a\"],[0.8888888888888888,\"#fdca26\"],[1.0,\"#f0f921\"]],\"type\":\"histogram2d\"}],\"histogram2dcontour\":[{\"colorbar\":{\"outlinewidth\":0,\"ticks\":\"\"},\"colorscale\":[[0.0,\"#0d0887\"],[0.1111111111111111,\"#46039f\"],[0.2222222222222222,\"#7201a8\"],[0.3333333333333333,\"#9c179e\"],[0.4444444444444444,\"#bd3786\"],[0.5555555555555556,\"#d8576b\"],[0.6666666666666666,\"#ed7953\"],[0.7777777777777778,\"#fb9f3a\"],[0.8888888888888888,\"#fdca26\"],[1.0,\"#f0f921\"]],\"type\":\"histogram2dcontour\"}],\"mesh3d\":[{\"colorbar\":{\"outlinewidth\":0,\"ticks\":\"\"},\"type\":\"mesh3d\"}],\"parcoords\":[{\"line\":{\"colorbar\":{\"outlinewidth\":0,\"ticks\":\"\"}},\"type\":\"parcoords\"}],\"pie\":[{\"automargin\":true,\"type\":\"pie\"}],\"scatter\":[{\"marker\":{\"colorbar\":{\"outlinewidth\":0,\"ticks\":\"\"}},\"type\":\"scatter\"}],\"scatter3d\":[{\"line\":{\"colorbar\":{\"outlinewidth\":0,\"ticks\":\"\"}},\"marker\":{\"colorbar\":{\"outlinewidth\":0,\"ticks\":\"\"}},\"type\":\"scatter3d\"}],\"scattercarpet\":[{\"marker\":{\"colorbar\":{\"outlinewidth\":0,\"ticks\":\"\"}},\"type\":\"scattercarpet\"}],\"scattergeo\":[{\"marker\":{\"colorbar\":{\"outlinewidth\":0,\"ticks\":\"\"}},\"type\":\"scattergeo\"}],\"scattergl\":[{\"marker\":{\"colorbar\":{\"outlinewidth\":0,\"ticks\":\"\"}},\"type\":\"scattergl\"}],\"scattermapbox\":[{\"marker\":{\"colorbar\":{\"outlinewidth\":0,\"ticks\":\"\"}},\"type\":\"scattermapbox\"}],\"scatterpolar\":[{\"marker\":{\"colorbar\":{\"outlinewidth\":0,\"ticks\":\"\"}},\"type\":\"scatterpolar\"}],\"scatterpolargl\":[{\"marker\":{\"colorbar\":{\"outlinewidth\":0,\"ticks\":\"\"}},\"type\":\"scatterpolargl\"}],\"scatterternary\":[{\"marker\":{\"colorbar\":{\"outlinewidth\":0,\"ticks\":\"\"}},\"type\":\"scatterternary\"}],\"surface\":[{\"colorbar\":{\"outlinewidth\":0,\"ticks\":\"\"},\"colorscale\":[[0.0,\"#0d0887\"],[0.1111111111111111,\"#46039f\"],[0.2222222222222222,\"#7201a8\"],[0.3333333333333333,\"#9c179e\"],[0.4444444444444444,\"#bd3786\"],[0.5555555555555556,\"#d8576b\"],[0.6666666666666666,\"#ed7953\"],[0.7777777777777778,\"#fb9f3a\"],[0.8888888888888888,\"#fdca26\"],[1.0,\"#f0f921\"]],\"type\":\"surface\"}],\"table\":[{\"cells\":{\"fill\":{\"color\":\"#EBF0F8\"},\"line\":{\"color\":\"white\"}},\"header\":{\"fill\":{\"color\":\"#C8D4E3\"},\"line\":{\"color\":\"white\"}},\"type\":\"table\"}]},\"layout\":{\"annotationdefaults\":{\"arrowcolor\":\"#2a3f5f\",\"arrowhead\":0,\"arrowwidth\":1},\"autotypenumbers\":\"strict\",\"coloraxis\":{\"colorbar\":{\"outlinewidth\":0,\"ticks\":\"\"}},\"colorscale\":{\"diverging\":[[0,\"#8e0152\"],[0.1,\"#c51b7d\"],[0.2,\"#de77ae\"],[0.3,\"#f1b6da\"],[0.4,\"#fde0ef\"],[0.5,\"#f7f7f7\"],[0.6,\"#e6f5d0\"],[0.7,\"#b8e186\"],[0.8,\"#7fbc41\"],[0.9,\"#4d9221\"],[1,\"#276419\"]],\"sequential\":[[0.0,\"#0d0887\"],[0.1111111111111111,\"#46039f\"],[0.2222222222222222,\"#7201a8\"],[0.3333333333333333,\"#9c179e\"],[0.4444444444444444,\"#bd3786\"],[0.5555555555555556,\"#d8576b\"],[0.6666666666666666,\"#ed7953\"],[0.7777777777777778,\"#fb9f3a\"],[0.8888888888888888,\"#fdca26\"],[1.0,\"#f0f921\"]],\"sequentialminus\":[[0.0,\"#0d0887\"],[0.1111111111111111,\"#46039f\"],[0.2222222222222222,\"#7201a8\"],[0.3333333333333333,\"#9c179e\"],[0.4444444444444444,\"#bd3786\"],[0.5555555555555556,\"#d8576b\"],[0.6666666666666666,\"#ed7953\"],[0.7777777777777778,\"#fb9f3a\"],[0.8888888888888888,\"#fdca26\"],[1.0,\"#f0f921\"]]},\"colorway\":[\"#636efa\",\"#EF553B\",\"#00cc96\",\"#ab63fa\",\"#FFA15A\",\"#19d3f3\",\"#FF6692\",\"#B6E880\",\"#FF97FF\",\"#FECB52\"],\"font\":{\"color\":\"#2a3f5f\"},\"geo\":{\"bgcolor\":\"white\",\"lakecolor\":\"white\",\"landcolor\":\"#E5ECF6\",\"showlakes\":true,\"showland\":true,\"subunitcolor\":\"white\"},\"hoverlabel\":{\"align\":\"left\"},\"hovermode\":\"closest\",\"mapbox\":{\"style\":\"light\"},\"paper_bgcolor\":\"white\",\"plot_bgcolor\":\"#E5ECF6\",\"polar\":{\"angularaxis\":{\"gridcolor\":\"white\",\"linecolor\":\"white\",\"ticks\":\"\"},\"bgcolor\":\"#E5ECF6\",\"radialaxis\":{\"gridcolor\":\"white\",\"linecolor\":\"white\",\"ticks\":\"\"}},\"scene\":{\"xaxis\":{\"backgroundcolor\":\"#E5ECF6\",\"gridcolor\":\"white\",\"gridwidth\":2,\"linecolor\":\"white\",\"showbackground\":true,\"ticks\":\"\",\"zerolinecolor\":\"white\"},\"yaxis\":{\"backgroundcolor\":\"#E5ECF6\",\"gridcolor\":\"white\",\"gridwidth\":2,\"linecolor\":\"white\",\"showbackground\":true,\"ticks\":\"\",\"zerolinecolor\":\"white\"},\"zaxis\":{\"backgroundcolor\":\"#E5ECF6\",\"gridcolor\":\"white\",\"gridwidth\":2,\"linecolor\":\"white\",\"showbackground\":true,\"ticks\":\"\",\"zerolinecolor\":\"white\"}},\"shapedefaults\":{\"line\":{\"color\":\"#2a3f5f\"}},\"ternary\":{\"aaxis\":{\"gridcolor\":\"white\",\"linecolor\":\"white\",\"ticks\":\"\"},\"baxis\":{\"gridcolor\":\"white\",\"linecolor\":\"white\",\"ticks\":\"\"},\"bgcolor\":\"#E5ECF6\",\"caxis\":{\"gridcolor\":\"white\",\"linecolor\":\"white\",\"ticks\":\"\"}},\"title\":{\"x\":0.05},\"xaxis\":{\"automargin\":true,\"gridcolor\":\"white\",\"linecolor\":\"white\",\"ticks\":\"\",\"title\":{\"standoff\":15},\"zerolinecolor\":\"white\",\"zerolinewidth\":2},\"yaxis\":{\"automargin\":true,\"gridcolor\":\"white\",\"linecolor\":\"white\",\"ticks\":\"\",\"title\":{\"standoff\":15},\"zerolinecolor\":\"white\",\"zerolinewidth\":2}}},\"autosize\":false,\"width\":800,\"height\":550},                        {\"responsive\": true}                    ).then(function(){\n",
       "                            \n",
       "var gd = document.getElementById('83cf54d4-17e2-4eb1-840d-1c5f1c3c7179');\n",
       "var x = new MutationObserver(function (mutations, observer) {{\n",
       "        var display = window.getComputedStyle(gd).display;\n",
       "        if (!display || display === 'none') {{\n",
       "            console.log([gd, 'removed!']);\n",
       "            Plotly.purge(gd);\n",
       "            observer.disconnect();\n",
       "        }}\n",
       "}});\n",
       "\n",
       "// Listen for the removal of the full notebook cells\n",
       "var notebookContainer = gd.closest('#notebook-container');\n",
       "if (notebookContainer) {{\n",
       "    x.observe(notebookContainer, {childList: true});\n",
       "}}\n",
       "\n",
       "// Listen for the clearing of the current output cell\n",
       "var outputEl = gd.closest('.output');\n",
       "if (outputEl) {{\n",
       "    x.observe(outputEl, {childList: true});\n",
       "}}\n",
       "\n",
       "                        })                };                });            </script>        </div>"
      ]
     },
     "metadata": {},
     "output_type": "display_data"
    }
   ],
   "source": [
    "trace = go.Pie(labels=table_2.State, values=table_2['% of total'], hole=0.2, textinfo='label+percent', sort=True)\n",
    "\n",
    "layout = go.Layout(title='Share of political campaign advertising budgets by state')\n",
    "\n",
    "fig = go.Figure(trace, layout)\n",
    "\n",
    "fig.update_layout(\n",
    "    autosize=False,\n",
    "    width=800,\n",
    "    height=550)\n",
    "\n",
    "fig.show()"
   ]
  },
  {
   "cell_type": "markdown",
   "id": "ca7495d3-4440-4d3c-b9ed-43fdb181021d",
   "metadata": {},
   "source": [
    "Опять же, наблюдая визуальное представление траты рекламных бюджетов на отдельные штаты, становится заметно, что распределение этих трат явно не эгалитарное или пропорциональное населению, но оно скорее \"коррелирует\" со штатами, в которых наблюдается наиболее активные предвыборные кампании."
   ]
  },
  {
   "cell_type": "markdown",
   "id": "b24004cf-d732-4324-8bdb-9a196760e55c",
   "metadata": {},
   "source": [
    "# Работа с таблицами"
   ]
  },
  {
   "cell_type": "code",
   "execution_count": 412,
   "id": "85446b77-97ea-4d2c-91df-3ee1c1c2b208",
   "metadata": {},
   "outputs": [],
   "source": [
    "campaign = pd.read_excel('https://github.com/rogovich/Data/blob/master/docs/Plotly_HW/2008_campaign_data.xlsx?raw=true')"
   ]
  },
  {
   "cell_type": "code",
   "execution_count": 413,
   "id": "6484ad7a-f622-4958-8e48-f0c4256e6f8a",
   "metadata": {},
   "outputs": [],
   "source": [
    "campaign['All_Visits'] = campaign.Dem_Visits + campaign.Rep_Visits\n",
    "campaign['All_Air'] = campaign.Obama_Air + campaign.McCain_Air + campaign.Other_Air\n",
    "campaign['PerCapita_Spend'] = (campaign.Obama_Spend + campaign.McCain_Spend + campaign.Other_Spend) / campaign.StatePop"
   ]
  },
  {
   "cell_type": "code",
   "execution_count": 414,
   "id": "7c329949-e598-4c4c-895b-96205081871f",
   "metadata": {},
   "outputs": [],
   "source": [
    "survey = pd.read_excel('https://github.com/rogovich/Data/blob/master/docs/Plotly_HW/naes_phone.xlsx?raw=true')"
   ]
  },
  {
   "cell_type": "code",
   "execution_count": 415,
   "id": "44093da3-19b3-45e9-ad75-b0cfe6585451",
   "metadata": {},
   "outputs": [
    {
     "data": {
      "text/html": [
       "<div>\n",
       "<style scoped>\n",
       "    .dataframe tbody tr th:only-of-type {\n",
       "        vertical-align: middle;\n",
       "    }\n",
       "\n",
       "    .dataframe tbody tr th {\n",
       "        vertical-align: top;\n",
       "    }\n",
       "\n",
       "    .dataframe thead th {\n",
       "        text-align: right;\n",
       "    }\n",
       "</style>\n",
       "<table border=\"1\" class=\"dataframe\">\n",
       "  <thead>\n",
       "    <tr style=\"text-align: right;\">\n",
       "      <th></th>\n",
       "      <th>WFc01_c</th>\n",
       "      <th>MC01_c</th>\n",
       "      <th>MC02_c</th>\n",
       "      <th>MC03_c</th>\n",
       "      <th>MC04_c</th>\n",
       "    </tr>\n",
       "  </thead>\n",
       "  <tbody>\n",
       "    <tr>\n",
       "      <th>0</th>\n",
       "      <td>39</td>\n",
       "      <td>2</td>\n",
       "      <td>998</td>\n",
       "      <td>1</td>\n",
       "      <td>3</td>\n",
       "    </tr>\n",
       "    <tr>\n",
       "      <th>1</th>\n",
       "      <td>48</td>\n",
       "      <td>3</td>\n",
       "      <td>1</td>\n",
       "      <td>1</td>\n",
       "      <td>3</td>\n",
       "    </tr>\n",
       "    <tr>\n",
       "      <th>2</th>\n",
       "      <td>51</td>\n",
       "      <td>3</td>\n",
       "      <td>1</td>\n",
       "      <td>2</td>\n",
       "      <td>3</td>\n",
       "    </tr>\n",
       "    <tr>\n",
       "      <th>3</th>\n",
       "      <td>53</td>\n",
       "      <td>3</td>\n",
       "      <td>1</td>\n",
       "      <td>1</td>\n",
       "      <td>3</td>\n",
       "    </tr>\n",
       "    <tr>\n",
       "      <th>4</th>\n",
       "      <td>42</td>\n",
       "      <td>3</td>\n",
       "      <td>1</td>\n",
       "      <td>1</td>\n",
       "      <td>3</td>\n",
       "    </tr>\n",
       "    <tr>\n",
       "      <th>...</th>\n",
       "      <td>...</td>\n",
       "      <td>...</td>\n",
       "      <td>...</td>\n",
       "      <td>...</td>\n",
       "      <td>...</td>\n",
       "    </tr>\n",
       "    <tr>\n",
       "      <th>3732</th>\n",
       "      <td>4</td>\n",
       "      <td>3</td>\n",
       "      <td>1</td>\n",
       "      <td>2</td>\n",
       "      <td>3</td>\n",
       "    </tr>\n",
       "    <tr>\n",
       "      <th>3733</th>\n",
       "      <td>35</td>\n",
       "      <td>3</td>\n",
       "      <td>1</td>\n",
       "      <td>1</td>\n",
       "      <td>3</td>\n",
       "    </tr>\n",
       "    <tr>\n",
       "      <th>3734</th>\n",
       "      <td>39</td>\n",
       "      <td>2</td>\n",
       "      <td>2</td>\n",
       "      <td>1</td>\n",
       "      <td>3</td>\n",
       "    </tr>\n",
       "    <tr>\n",
       "      <th>3735</th>\n",
       "      <td>26</td>\n",
       "      <td>3</td>\n",
       "      <td>2</td>\n",
       "      <td>1</td>\n",
       "      <td>3</td>\n",
       "    </tr>\n",
       "    <tr>\n",
       "      <th>3736</th>\n",
       "      <td>12</td>\n",
       "      <td>3</td>\n",
       "      <td>2</td>\n",
       "      <td>1</td>\n",
       "      <td>3</td>\n",
       "    </tr>\n",
       "  </tbody>\n",
       "</table>\n",
       "<p>3737 rows × 5 columns</p>\n",
       "</div>"
      ],
      "text/plain": [
       "      WFc01_c  MC01_c  MC02_c  MC03_c  MC04_c\n",
       "0          39       2     998       1       3\n",
       "1          48       3       1       1       3\n",
       "2          51       3       1       2       3\n",
       "3          53       3       1       1       3\n",
       "4          42       3       1       1       3\n",
       "...       ...     ...     ...     ...     ...\n",
       "3732        4       3       1       2       3\n",
       "3733       35       3       1       1       3\n",
       "3734       39       2       2       1       3\n",
       "3735       26       3       2       1       3\n",
       "3736       12       3       2       1       3\n",
       "\n",
       "[3737 rows x 5 columns]"
      ]
     },
     "execution_count": 415,
     "metadata": {},
     "output_type": "execute_result"
    }
   ],
   "source": [
    "survey = survey[['WFc01_c', 'MC01_c', 'MC02_c', 'MC03_c', 'MC04_c']]\n",
    "survey"
   ]
  },
  {
   "cell_type": "code",
   "execution_count": 416,
   "id": "de0ad2c9-de34-4f23-9a43-a5be9db3782c",
   "metadata": {},
   "outputs": [],
   "source": [
    "# если случайно запустить более одного раза, то придется перезагружать изначальные данные\n",
    "\n",
    "survey['state'] = survey['WFc01_c']\n",
    "survey['law'] = [x*0 if x in [1, 2, 998, 999] else 1 for x in survey['MC01_c']]\n",
    "survey['veto'] = [x*0 if x in [2, 998, 999] else 1 for x in survey['MC02_c']]\n",
    "survey['congress'] = [x*0 if x in [2, 998, 999] else 1 for x in survey['MC03_c']]\n",
    "survey['justices'] = [x*0 if x in [1, 2, 4, 998, 999] else 1 for x in survey['MC04_c']]\n",
    "\n",
    "survey = survey[['state', 'law', 'veto', 'congress', 'justices']]"
   ]
  },
  {
   "cell_type": "code",
   "execution_count": null,
   "id": "1dd9da1d-7a20-4d55-a2ee-12c55948d248",
   "metadata": {},
   "outputs": [],
   "source": [
    "survey = survey.assign(PK = (survey.law + survey.veto + survey.congress + survey.justices) / 4)"
   ]
  },
  {
   "cell_type": "code",
   "execution_count": 438,
   "id": "d189fac5-135c-4981-9bbd-6ef1bdbc52b6",
   "metadata": {},
   "outputs": [
    {
     "name": "stdout",
     "output_type": "stream",
     "text": [
      "39\n",
      "48\n",
      "51\n",
      "53\n",
      "42\n",
      "13\n",
      "1\n",
      "6\n",
      "33\n",
      "34\n",
      "39\n",
      "1\n",
      "38\n",
      "30\n",
      "42\n",
      "36\n",
      "17\n",
      "13\n",
      "34\n",
      "20\n",
      "9\n",
      "19\n",
      "12\n",
      "36\n",
      "41\n",
      "48\n",
      "48\n",
      "41\n",
      "17\n",
      "18\n",
      "13\n",
      "26\n",
      "37\n",
      "12\n",
      "36\n",
      "1\n",
      "6\n",
      "51\n",
      "5\n",
      "36\n",
      "37\n",
      "27\n",
      "25\n",
      "6\n",
      "12\n",
      "10\n",
      "12\n",
      "26\n",
      "40\n",
      "46\n",
      "6\n",
      "13\n",
      "48\n",
      "29\n",
      "6\n",
      "27\n",
      "42\n",
      "48\n",
      "41\n",
      "48\n",
      "49\n",
      "24\n",
      "39\n",
      "48\n",
      "4\n",
      "6\n",
      "36\n",
      "19\n",
      "36\n",
      "20\n",
      "29\n",
      "55\n",
      "26\n",
      "51\n",
      "27\n",
      "22\n",
      "6\n",
      "24\n",
      "22\n",
      "6\n",
      "36\n",
      "9\n",
      "29\n",
      "6\n",
      "45\n",
      "17\n",
      "6\n",
      "6\n",
      "28\n",
      "6\n",
      "39\n",
      "12\n",
      "12\n",
      "39\n",
      "51\n",
      "25\n",
      "4\n",
      "42\n",
      "6\n",
      "36\n",
      "47\n",
      "6\n",
      "42\n",
      "1\n",
      "39\n",
      "48\n",
      "53\n",
      "17\n",
      "55\n",
      "24\n",
      "32\n",
      "12\n",
      "4\n",
      "36\n",
      "37\n",
      "45\n",
      "47\n",
      "41\n",
      "18\n",
      "6\n",
      "47\n",
      "34\n",
      "17\n",
      "42\n",
      "39\n",
      "6\n",
      "36\n",
      "12\n",
      "18\n",
      "21\n",
      "55\n",
      "39\n",
      "53\n",
      "30\n",
      "39\n",
      "21\n",
      "20\n",
      "26\n",
      "6\n",
      "42\n",
      "54\n",
      "19\n",
      "18\n",
      "39\n",
      "51\n",
      "17\n",
      "6\n",
      "13\n",
      "24\n",
      "51\n",
      "24\n",
      "48\n",
      "39\n",
      "47\n",
      "27\n",
      "30\n",
      "27\n",
      "53\n",
      "6\n",
      "18\n",
      "48\n",
      "39\n",
      "48\n",
      "12\n",
      "36\n",
      "42\n",
      "27\n",
      "54\n",
      "39\n",
      "31\n",
      "29\n",
      "6\n",
      "29\n",
      "28\n",
      "37\n",
      "29\n",
      "18\n",
      "19\n",
      "36\n",
      "17\n",
      "42\n",
      "47\n",
      "51\n",
      "1\n",
      "17\n",
      "37\n",
      "26\n",
      "31\n",
      "41\n",
      "8\n",
      "36\n",
      "21\n",
      "42\n",
      "55\n",
      "42\n",
      "8\n",
      "6\n",
      "54\n",
      "24\n",
      "6\n",
      "6\n",
      "48\n",
      "17\n",
      "26\n",
      "17\n",
      "6\n",
      "27\n",
      "23\n",
      "26\n",
      "29\n",
      "40\n",
      "9\n",
      "28\n",
      "29\n",
      "53\n",
      "12\n",
      "48\n",
      "42\n",
      "39\n",
      "24\n",
      "42\n",
      "16\n",
      "5\n",
      "40\n",
      "24\n",
      "36\n",
      "48\n",
      "36\n",
      "21\n",
      "28\n",
      "55\n",
      "48\n",
      "51\n",
      "37\n",
      "40\n",
      "11\n",
      "29\n",
      "39\n",
      "1\n",
      "13\n",
      "37\n",
      "8\n",
      "34\n",
      "12\n",
      "48\n",
      "36\n",
      "24\n",
      "42\n",
      "33\n",
      "48\n",
      "12\n",
      "37\n",
      "55\n",
      "39\n",
      "51\n",
      "27\n",
      "36\n",
      "41\n",
      "51\n",
      "17\n",
      "39\n",
      "48\n",
      "18\n",
      "36\n",
      "1\n",
      "31\n",
      "42\n",
      "17\n",
      "6\n",
      "11\n",
      "42\n",
      "48\n",
      "36\n",
      "51\n",
      "26\n",
      "25\n",
      "18\n",
      "39\n",
      "55\n",
      "29\n",
      "36\n",
      "13\n",
      "48\n",
      "42\n",
      "6\n",
      "6\n",
      "25\n",
      "11\n",
      "6\n",
      "39\n",
      "27\n",
      "19\n",
      "42\n",
      "51\n",
      "39\n",
      "34\n",
      "51\n",
      "36\n",
      "39\n",
      "24\n",
      "8\n",
      "37\n",
      "6\n",
      "39\n",
      "39\n",
      "1\n",
      "55\n",
      "48\n",
      "48\n",
      "19\n",
      "48\n",
      "6\n",
      "42\n",
      "26\n",
      "48\n",
      "48\n",
      "55\n",
      "39\n",
      "37\n",
      "56\n",
      "9\n",
      "25\n",
      "56\n",
      "4\n",
      "39\n",
      "18\n",
      "48\n",
      "36\n",
      "47\n",
      "26\n",
      "54\n",
      "42\n",
      "26\n",
      "1\n",
      "48\n",
      "42\n",
      "1\n",
      "21\n",
      "12\n",
      "34\n",
      "31\n",
      "21\n",
      "12\n",
      "55\n",
      "48\n",
      "1\n",
      "18\n",
      "6\n",
      "25\n",
      "6\n",
      "1\n",
      "42\n",
      "51\n",
      "48\n",
      "6\n",
      "34\n",
      "36\n",
      "44\n",
      "19\n",
      "17\n",
      "5\n",
      "44\n",
      "36\n",
      "31\n",
      "51\n",
      "12\n",
      "39\n",
      "29\n",
      "42\n",
      "6\n",
      "36\n",
      "34\n",
      "45\n",
      "21\n",
      "6\n",
      "8\n",
      "6\n",
      "36\n",
      "45\n",
      "48\n",
      "5\n",
      "27\n",
      "29\n",
      "9\n",
      "32\n",
      "26\n",
      "1\n",
      "25\n",
      "51\n",
      "20\n",
      "42\n",
      "22\n",
      "32\n",
      "39\n",
      "45\n",
      "6\n",
      "48\n",
      "18\n",
      "41\n",
      "38\n",
      "36\n",
      "1\n",
      "31\n",
      "47\n",
      "6\n",
      "17\n",
      "37\n",
      "51\n",
      "37\n",
      "39\n",
      "48\n",
      "36\n",
      "17\n",
      "55\n",
      "47\n",
      "16\n",
      "42\n",
      "29\n",
      "53\n",
      "24\n",
      "39\n",
      "48\n",
      "20\n",
      "29\n",
      "24\n",
      "6\n",
      "4\n",
      "48\n",
      "41\n",
      "19\n",
      "42\n",
      "36\n",
      "36\n",
      "6\n",
      "51\n",
      "36\n",
      "48\n",
      "37\n",
      "12\n",
      "36\n",
      "26\n",
      "53\n",
      "41\n",
      "42\n",
      "37\n",
      "6\n",
      "48\n",
      "18\n",
      "36\n",
      "36\n",
      "12\n",
      "6\n",
      "41\n",
      "25\n",
      "42\n",
      "36\n",
      "30\n",
      "39\n",
      "35\n",
      "24\n",
      "25\n",
      "36\n",
      "18\n",
      "17\n",
      "24\n",
      "13\n",
      "55\n",
      "6\n",
      "39\n",
      "17\n",
      "35\n",
      "39\n",
      "4\n",
      "37\n",
      "38\n",
      "55\n",
      "20\n",
      "6\n",
      "39\n",
      "48\n",
      "47\n",
      "13\n",
      "36\n",
      "37\n",
      "25\n",
      "27\n",
      "27\n",
      "48\n",
      "41\n",
      "12\n",
      "5\n",
      "55\n",
      "36\n",
      "29\n",
      "19\n",
      "6\n",
      "24\n",
      "27\n",
      "40\n",
      "55\n",
      "49\n",
      "23\n",
      "39\n",
      "21\n",
      "42\n",
      "42\n",
      "18\n",
      "48\n",
      "26\n",
      "54\n",
      "39\n",
      "42\n",
      "27\n",
      "35\n",
      "32\n",
      "48\n",
      "39\n",
      "13\n",
      "48\n",
      "20\n",
      "47\n",
      "6\n",
      "26\n",
      "32\n",
      "53\n",
      "37\n",
      "25\n",
      "17\n",
      "4\n",
      "26\n",
      "30\n",
      "42\n",
      "51\n",
      "17\n",
      "29\n",
      "6\n",
      "39\n",
      "51\n",
      "29\n",
      "20\n",
      "34\n",
      "37\n",
      "51\n",
      "34\n",
      "9\n",
      "31\n",
      "39\n",
      "23\n",
      "55\n",
      "42\n",
      "42\n",
      "27\n",
      "1\n",
      "27\n",
      "18\n",
      "24\n",
      "21\n",
      "42\n",
      "41\n",
      "29\n",
      "53\n",
      "39\n",
      "39\n",
      "37\n",
      "19\n",
      "29\n",
      "18\n",
      "55\n",
      "40\n",
      "53\n",
      "53\n",
      "6\n",
      "54\n",
      "21\n",
      "42\n",
      "12\n",
      "42\n",
      "51\n",
      "27\n",
      "6\n",
      "18\n",
      "12\n",
      "6\n",
      "26\n",
      "6\n",
      "54\n",
      "24\n",
      "47\n",
      "34\n",
      "25\n",
      "23\n",
      "51\n",
      "39\n",
      "26\n",
      "36\n",
      "21\n",
      "42\n",
      "41\n",
      "42\n",
      "36\n",
      "18\n",
      "25\n",
      "17\n",
      "46\n",
      "4\n",
      "6\n",
      "26\n",
      "8\n",
      "21\n",
      "27\n",
      "55\n",
      "27\n",
      "12\n",
      "36\n",
      "55\n",
      "48\n",
      "20\n",
      "24\n",
      "34\n",
      "49\n",
      "17\n",
      "22\n",
      "48\n",
      "6\n",
      "6\n",
      "48\n",
      "54\n",
      "1\n",
      "5\n",
      "6\n",
      "27\n",
      "13\n",
      "42\n",
      "18\n",
      "17\n",
      "17\n",
      "6\n",
      "36\n",
      "51\n",
      "37\n",
      "21\n",
      "25\n",
      "17\n",
      "40\n",
      "6\n",
      "11\n",
      "37\n",
      "12\n",
      "26\n",
      "46\n",
      "55\n",
      "53\n",
      "53\n",
      "41\n",
      "17\n",
      "39\n",
      "42\n",
      "48\n",
      "48\n",
      "6\n",
      "6\n",
      "18\n",
      "48\n",
      "26\n",
      "37\n",
      "51\n",
      "39\n",
      "50\n",
      "55\n",
      "12\n",
      "24\n",
      "39\n",
      "34\n",
      "25\n",
      "42\n",
      "42\n",
      "1\n",
      "48\n",
      "54\n",
      "44\n",
      "9\n",
      "12\n",
      "1\n",
      "55\n",
      "44\n",
      "55\n",
      "44\n",
      "21\n",
      "55\n",
      "18\n",
      "1\n",
      "55\n",
      "53\n",
      "36\n",
      "28\n",
      "18\n",
      "47\n",
      "18\n",
      "39\n",
      "31\n",
      "6\n",
      "21\n",
      "22\n",
      "19\n",
      "21\n",
      "36\n",
      "42\n",
      "45\n",
      "12\n",
      "26\n",
      "17\n",
      "6\n",
      "13\n",
      "48\n",
      "42\n",
      "12\n",
      "36\n",
      "6\n",
      "6\n",
      "44\n",
      "26\n",
      "12\n",
      "27\n",
      "38\n",
      "17\n",
      "47\n",
      "45\n",
      "17\n",
      "22\n",
      "13\n",
      "48\n",
      "29\n",
      "27\n",
      "48\n",
      "39\n",
      "17\n",
      "48\n",
      "5\n",
      "6\n",
      "39\n",
      "9\n",
      "39\n",
      "13\n",
      "51\n",
      "37\n",
      "25\n",
      "40\n",
      "48\n",
      "55\n",
      "27\n",
      "53\n",
      "18\n",
      "21\n",
      "26\n",
      "27\n",
      "17\n",
      "20\n",
      "18\n",
      "47\n",
      "12\n",
      "27\n",
      "42\n",
      "42\n",
      "37\n",
      "20\n",
      "48\n",
      "4\n",
      "6\n",
      "32\n",
      "18\n",
      "47\n",
      "21\n",
      "51\n",
      "4\n",
      "34\n",
      "29\n",
      "37\n",
      "34\n",
      "17\n",
      "36\n",
      "36\n",
      "47\n",
      "26\n",
      "18\n",
      "53\n",
      "39\n",
      "34\n",
      "12\n",
      "46\n",
      "53\n",
      "37\n",
      "47\n",
      "6\n",
      "39\n",
      "13\n",
      "9\n",
      "6\n",
      "12\n",
      "19\n",
      "4\n",
      "13\n",
      "39\n",
      "42\n",
      "45\n",
      "48\n",
      "5\n",
      "53\n",
      "36\n",
      "12\n",
      "18\n",
      "18\n",
      "12\n",
      "53\n",
      "42\n",
      "42\n",
      "51\n",
      "12\n",
      "39\n",
      "36\n",
      "25\n",
      "42\n",
      "55\n",
      "53\n",
      "36\n",
      "27\n",
      "40\n",
      "8\n",
      "17\n",
      "6\n",
      "48\n",
      "49\n",
      "6\n",
      "12\n",
      "45\n",
      "5\n",
      "27\n",
      "17\n",
      "36\n",
      "55\n",
      "6\n",
      "27\n",
      "21\n",
      "20\n",
      "35\n",
      "36\n",
      "36\n",
      "48\n",
      "49\n",
      "6\n",
      "1\n",
      "17\n",
      "24\n",
      "42\n",
      "9\n",
      "17\n",
      "47\n",
      "32\n",
      "6\n",
      "6\n",
      "42\n",
      "34\n",
      "27\n",
      "6\n",
      "18\n",
      "54\n",
      "18\n",
      "8\n",
      "8\n",
      "41\n",
      "34\n",
      "54\n",
      "37\n",
      "47\n",
      "39\n",
      "36\n",
      "51\n",
      "12\n",
      "12\n",
      "22\n",
      "27\n",
      "6\n",
      "17\n",
      "20\n",
      "26\n",
      "47\n",
      "17\n",
      "47\n",
      "23\n",
      "12\n",
      "36\n",
      "36\n",
      "13\n",
      "42\n",
      "17\n",
      "13\n",
      "26\n",
      "18\n",
      "36\n",
      "39\n",
      "42\n",
      "45\n",
      "5\n",
      "26\n",
      "48\n",
      "6\n",
      "13\n",
      "48\n",
      "48\n",
      "37\n",
      "9\n",
      "46\n",
      "20\n",
      "6\n",
      "28\n",
      "16\n",
      "12\n",
      "8\n",
      "36\n",
      "51\n",
      "55\n",
      "23\n",
      "12\n",
      "20\n",
      "18\n",
      "13\n",
      "42\n",
      "34\n",
      "26\n",
      "27\n",
      "27\n",
      "40\n",
      "6\n",
      "41\n",
      "26\n",
      "44\n",
      "36\n",
      "49\n",
      "6\n",
      "12\n",
      "34\n",
      "25\n",
      "54\n",
      "12\n",
      "25\n",
      "13\n",
      "18\n",
      "41\n",
      "12\n",
      "37\n",
      "42\n",
      "27\n",
      "6\n",
      "6\n",
      "24\n",
      "51\n",
      "1\n",
      "19\n",
      "55\n",
      "12\n",
      "26\n",
      "37\n",
      "12\n",
      "47\n",
      "17\n",
      "34\n",
      "22\n",
      "28\n",
      "46\n",
      "35\n",
      "36\n",
      "17\n",
      "4\n",
      "24\n",
      "39\n",
      "12\n",
      "12\n",
      "36\n",
      "45\n",
      "6\n",
      "24\n",
      "18\n",
      "17\n",
      "48\n",
      "6\n",
      "51\n",
      "35\n",
      "53\n",
      "42\n",
      "37\n",
      "13\n",
      "48\n",
      "6\n",
      "39\n",
      "25\n",
      "36\n",
      "13\n",
      "6\n",
      "42\n",
      "34\n",
      "40\n",
      "12\n",
      "12\n",
      "13\n",
      "42\n",
      "21\n",
      "6\n",
      "12\n",
      "6\n",
      "18\n",
      "45\n",
      "4\n",
      "6\n",
      "12\n",
      "28\n",
      "28\n",
      "6\n",
      "12\n",
      "48\n",
      "55\n",
      "35\n",
      "37\n",
      "24\n",
      "12\n",
      "48\n",
      "55\n",
      "6\n",
      "36\n",
      "18\n",
      "20\n",
      "36\n",
      "39\n",
      "24\n",
      "29\n",
      "6\n",
      "36\n",
      "51\n",
      "23\n",
      "39\n",
      "42\n",
      "19\n",
      "27\n",
      "6\n",
      "24\n",
      "42\n",
      "37\n",
      "6\n",
      "6\n",
      "26\n",
      "48\n",
      "51\n",
      "37\n",
      "36\n",
      "12\n",
      "42\n",
      "5\n",
      "6\n",
      "55\n",
      "42\n",
      "37\n",
      "48\n",
      "22\n",
      "29\n",
      "36\n",
      "34\n",
      "27\n",
      "30\n",
      "6\n",
      "46\n",
      "9\n",
      "34\n",
      "6\n",
      "6\n",
      "26\n",
      "21\n",
      "37\n",
      "12\n",
      "42\n",
      "6\n",
      "29\n",
      "27\n",
      "54\n",
      "17\n",
      "26\n",
      "12\n",
      "40\n",
      "27\n",
      "48\n",
      "42\n",
      "8\n",
      "37\n",
      "12\n",
      "48\n",
      "20\n",
      "29\n",
      "6\n",
      "36\n",
      "21\n",
      "55\n",
      "6\n",
      "12\n",
      "29\n",
      "17\n",
      "49\n",
      "18\n",
      "27\n",
      "42\n",
      "44\n",
      "21\n",
      "29\n",
      "48\n",
      "27\n",
      "48\n",
      "42\n",
      "24\n",
      "34\n",
      "26\n",
      "17\n",
      "18\n",
      "27\n",
      "5\n",
      "35\n",
      "26\n",
      "36\n",
      "45\n",
      "6\n",
      "12\n",
      "42\n",
      "37\n",
      "29\n",
      "55\n",
      "6\n",
      "6\n",
      "29\n",
      "17\n",
      "44\n",
      "39\n",
      "21\n",
      "13\n",
      "12\n",
      "47\n",
      "4\n",
      "39\n",
      "37\n",
      "42\n",
      "51\n",
      "26\n",
      "51\n",
      "21\n",
      "24\n",
      "36\n",
      "42\n",
      "55\n",
      "5\n",
      "29\n",
      "13\n",
      "17\n",
      "41\n",
      "24\n",
      "36\n",
      "29\n",
      "6\n",
      "9\n",
      "36\n",
      "4\n",
      "21\n",
      "29\n",
      "4\n",
      "1\n",
      "24\n",
      "27\n",
      "48\n",
      "6\n",
      "6\n",
      "36\n",
      "37\n",
      "45\n",
      "42\n",
      "42\n",
      "34\n",
      "27\n",
      "40\n",
      "6\n",
      "9\n",
      "39\n",
      "8\n",
      "32\n",
      "23\n",
      "13\n",
      "37\n",
      "48\n",
      "36\n",
      "37\n",
      "37\n",
      "39\n",
      "51\n",
      "13\n",
      "49\n",
      "6\n",
      "6\n",
      "53\n",
      "6\n",
      "44\n",
      "34\n",
      "55\n",
      "27\n",
      "54\n",
      "55\n",
      "48\n",
      "34\n",
      "51\n",
      "12\n",
      "34\n",
      "48\n",
      "48\n",
      "25\n",
      "19\n",
      "28\n",
      "47\n",
      "19\n",
      "49\n",
      "18\n",
      "36\n",
      "36\n",
      "42\n",
      "26\n",
      "47\n",
      "49\n",
      "12\n",
      "17\n",
      "40\n",
      "33\n",
      "18\n",
      "53\n",
      "42\n",
      "8\n",
      "6\n",
      "12\n",
      "51\n",
      "29\n",
      "53\n",
      "12\n",
      "34\n",
      "34\n",
      "37\n",
      "41\n",
      "6\n",
      "42\n",
      "34\n",
      "42\n",
      "39\n",
      "6\n",
      "39\n",
      "47\n",
      "9\n",
      "12\n",
      "36\n",
      "41\n",
      "55\n",
      "17\n",
      "55\n",
      "44\n",
      "36\n",
      "16\n",
      "21\n",
      "36\n",
      "6\n",
      "6\n",
      "6\n",
      "40\n",
      "51\n",
      "19\n",
      "5\n",
      "47\n",
      "42\n",
      "47\n",
      "54\n",
      "37\n",
      "47\n",
      "6\n",
      "34\n",
      "17\n",
      "25\n",
      "37\n",
      "37\n",
      "18\n",
      "29\n",
      "8\n",
      "53\n",
      "53\n",
      "6\n",
      "12\n",
      "51\n",
      "55\n",
      "53\n",
      "36\n",
      "25\n",
      "51\n",
      "13\n",
      "6\n",
      "18\n",
      "13\n",
      "1\n",
      "20\n",
      "26\n",
      "39\n",
      "26\n",
      "13\n",
      "48\n",
      "19\n",
      "48\n",
      "23\n",
      "44\n",
      "39\n",
      "27\n",
      "6\n",
      "53\n",
      "10\n",
      "42\n",
      "21\n",
      "24\n",
      "36\n",
      "55\n",
      "6\n",
      "12\n",
      "29\n",
      "6\n",
      "23\n",
      "42\n",
      "36\n",
      "26\n",
      "34\n",
      "12\n",
      "42\n",
      "45\n",
      "17\n",
      "17\n",
      "49\n",
      "39\n",
      "12\n",
      "25\n",
      "11\n",
      "20\n",
      "36\n",
      "36\n",
      "5\n",
      "27\n",
      "16\n",
      "10\n",
      "25\n",
      "36\n",
      "36\n",
      "25\n",
      "6\n",
      "4\n",
      "48\n",
      "17\n",
      "36\n",
      "48\n",
      "48\n",
      "6\n",
      "44\n",
      "51\n",
      "18\n",
      "34\n",
      "48\n",
      "6\n",
      "24\n",
      "42\n",
      "42\n",
      "51\n",
      "26\n",
      "42\n",
      "42\n",
      "1\n",
      "47\n",
      "47\n",
      "42\n",
      "34\n",
      "25\n",
      "29\n",
      "21\n",
      "37\n",
      "36\n",
      "5\n",
      "35\n",
      "6\n",
      "6\n",
      "24\n",
      "24\n",
      "42\n",
      "36\n",
      "40\n",
      "55\n",
      "36\n",
      "50\n",
      "42\n",
      "22\n",
      "20\n",
      "6\n",
      "39\n",
      "42\n",
      "22\n",
      "6\n",
      "36\n",
      "12\n",
      "17\n",
      "26\n",
      "12\n",
      "48\n",
      "24\n",
      "39\n",
      "54\n",
      "50\n",
      "17\n",
      "48\n",
      "24\n",
      "26\n",
      "41\n",
      "6\n",
      "42\n",
      "26\n",
      "39\n",
      "36\n",
      "55\n",
      "56\n",
      "6\n",
      "12\n",
      "13\n",
      "29\n",
      "41\n",
      "6\n",
      "12\n",
      "24\n",
      "36\n",
      "25\n",
      "53\n",
      "13\n",
      "27\n",
      "36\n",
      "55\n",
      "1\n",
      "28\n",
      "55\n",
      "41\n",
      "42\n",
      "47\n",
      "12\n",
      "51\n",
      "47\n",
      "6\n",
      "48\n",
      "1\n",
      "39\n",
      "34\n",
      "42\n",
      "42\n",
      "12\n",
      "47\n",
      "17\n",
      "53\n",
      "26\n",
      "19\n",
      "8\n",
      "29\n",
      "53\n",
      "41\n",
      "24\n",
      "33\n",
      "42\n",
      "48\n",
      "24\n",
      "6\n",
      "42\n",
      "26\n",
      "55\n",
      "34\n",
      "12\n",
      "13\n",
      "56\n",
      "36\n",
      "34\n",
      "19\n",
      "39\n",
      "36\n",
      "47\n",
      "47\n",
      "6\n",
      "12\n",
      "13\n",
      "53\n",
      "25\n",
      "12\n",
      "42\n",
      "36\n",
      "42\n",
      "12\n",
      "37\n",
      "19\n",
      "1\n",
      "42\n",
      "28\n",
      "49\n",
      "19\n",
      "30\n",
      "6\n",
      "39\n",
      "39\n",
      "47\n",
      "23\n",
      "26\n",
      "39\n",
      "44\n",
      "39\n",
      "55\n",
      "12\n",
      "48\n",
      "24\n",
      "26\n",
      "50\n",
      "6\n",
      "6\n",
      "24\n",
      "26\n",
      "47\n",
      "39\n",
      "37\n",
      "17\n",
      "53\n",
      "42\n",
      "13\n",
      "51\n",
      "55\n",
      "39\n",
      "42\n",
      "13\n",
      "21\n",
      "4\n",
      "26\n",
      "39\n",
      "6\n",
      "51\n",
      "48\n",
      "17\n",
      "41\n",
      "32\n",
      "36\n",
      "6\n",
      "36\n",
      "36\n",
      "19\n",
      "40\n",
      "35\n",
      "53\n",
      "36\n",
      "48\n",
      "5\n",
      "28\n",
      "6\n",
      "13\n",
      "4\n",
      "39\n",
      "48\n",
      "55\n",
      "23\n",
      "24\n",
      "39\n",
      "12\n",
      "6\n",
      "26\n",
      "51\n",
      "39\n",
      "49\n",
      "53\n",
      "6\n",
      "9\n",
      "47\n",
      "19\n",
      "6\n",
      "23\n",
      "45\n",
      "19\n",
      "6\n",
      "42\n",
      "36\n",
      "34\n",
      "39\n",
      "24\n",
      "50\n",
      "37\n",
      "6\n",
      "24\n",
      "42\n",
      "37\n",
      "6\n",
      "36\n",
      "6\n",
      "24\n",
      "39\n",
      "42\n",
      "19\n",
      "4\n",
      "48\n",
      "33\n",
      "13\n",
      "51\n",
      "42\n",
      "29\n",
      "28\n",
      "41\n",
      "24\n",
      "25\n",
      "26\n",
      "53\n",
      "13\n",
      "12\n",
      "39\n",
      "50\n",
      "1\n",
      "32\n",
      "13\n",
      "36\n",
      "17\n",
      "19\n",
      "40\n",
      "6\n",
      "40\n",
      "50\n",
      "26\n",
      "25\n",
      "37\n",
      "4\n",
      "6\n",
      "24\n",
      "37\n",
      "12\n",
      "47\n",
      "29\n",
      "37\n",
      "42\n",
      "26\n",
      "29\n",
      "37\n",
      "39\n",
      "48\n",
      "31\n",
      "55\n",
      "48\n",
      "6\n",
      "13\n",
      "36\n",
      "13\n",
      "53\n",
      "42\n",
      "53\n",
      "41\n",
      "6\n",
      "36\n",
      "26\n",
      "17\n",
      "27\n",
      "5\n",
      "20\n",
      "42\n",
      "29\n",
      "20\n",
      "23\n",
      "39\n",
      "36\n",
      "36\n",
      "48\n",
      "34\n",
      "6\n",
      "13\n",
      "12\n",
      "12\n",
      "39\n",
      "51\n",
      "37\n",
      "39\n",
      "17\n",
      "30\n",
      "25\n",
      "42\n",
      "19\n",
      "24\n",
      "39\n",
      "22\n",
      "6\n",
      "36\n",
      "8\n",
      "37\n",
      "13\n",
      "45\n",
      "26\n",
      "36\n",
      "37\n",
      "42\n",
      "28\n",
      "16\n",
      "26\n",
      "42\n",
      "4\n",
      "18\n",
      "27\n",
      "6\n",
      "6\n",
      "6\n",
      "6\n",
      "36\n",
      "6\n",
      "18\n",
      "13\n",
      "19\n",
      "4\n",
      "4\n",
      "25\n",
      "47\n",
      "39\n",
      "26\n",
      "45\n",
      "26\n",
      "12\n",
      "37\n",
      "42\n",
      "45\n",
      "34\n",
      "40\n",
      "48\n",
      "4\n",
      "36\n",
      "18\n",
      "17\n",
      "30\n",
      "49\n",
      "36\n",
      "42\n",
      "36\n",
      "48\n",
      "47\n",
      "4\n",
      "13\n",
      "36\n",
      "34\n",
      "1\n",
      "1\n",
      "48\n",
      "53\n",
      "18\n",
      "48\n",
      "37\n",
      "48\n",
      "24\n",
      "42\n",
      "37\n",
      "37\n",
      "1\n",
      "31\n",
      "6\n",
      "13\n",
      "12\n",
      "56\n",
      "39\n",
      "42\n",
      "12\n",
      "12\n",
      "8\n",
      "24\n",
      "4\n",
      "18\n",
      "36\n",
      "30\n",
      "26\n",
      "36\n",
      "42\n",
      "31\n",
      "29\n",
      "36\n",
      "51\n",
      "6\n",
      "12\n",
      "26\n",
      "48\n",
      "42\n",
      "48\n",
      "19\n",
      "6\n",
      "55\n",
      "17\n",
      "48\n",
      "6\n",
      "48\n",
      "13\n",
      "12\n",
      "12\n",
      "53\n",
      "36\n",
      "25\n",
      "12\n",
      "29\n",
      "39\n",
      "13\n",
      "37\n",
      "27\n",
      "51\n",
      "23\n",
      "34\n",
      "48\n",
      "6\n",
      "42\n",
      "37\n",
      "27\n",
      "48\n",
      "6\n",
      "42\n",
      "37\n",
      "39\n",
      "8\n",
      "41\n",
      "25\n",
      "51\n",
      "17\n",
      "40\n",
      "24\n",
      "9\n",
      "5\n",
      "36\n",
      "34\n",
      "19\n",
      "29\n",
      "26\n",
      "18\n",
      "6\n",
      "12\n",
      "42\n",
      "48\n",
      "17\n",
      "8\n",
      "13\n",
      "27\n",
      "39\n",
      "12\n",
      "26\n",
      "48\n",
      "17\n",
      "41\n",
      "50\n",
      "36\n",
      "17\n",
      "47\n",
      "45\n",
      "5\n",
      "48\n",
      "39\n",
      "55\n",
      "26\n",
      "40\n",
      "55\n",
      "27\n",
      "35\n",
      "6\n",
      "6\n",
      "22\n",
      "26\n",
      "20\n",
      "26\n",
      "24\n",
      "6\n",
      "24\n",
      "51\n",
      "39\n",
      "53\n",
      "42\n",
      "21\n",
      "48\n",
      "21\n",
      "39\n",
      "12\n",
      "17\n",
      "48\n",
      "53\n",
      "51\n",
      "12\n",
      "8\n",
      "41\n",
      "13\n",
      "12\n",
      "12\n",
      "25\n",
      "25\n",
      "45\n",
      "47\n",
      "6\n",
      "6\n",
      "42\n",
      "30\n",
      "48\n",
      "16\n",
      "6\n",
      "20\n",
      "12\n",
      "27\n",
      "24\n",
      "25\n",
      "22\n",
      "35\n",
      "12\n",
      "12\n",
      "35\n",
      "12\n",
      "12\n",
      "34\n",
      "29\n",
      "41\n",
      "6\n",
      "38\n",
      "13\n",
      "36\n",
      "40\n",
      "6\n",
      "36\n",
      "10\n",
      "12\n",
      "21\n",
      "26\n",
      "36\n",
      "28\n",
      "17\n",
      "41\n",
      "12\n",
      "18\n",
      "24\n",
      "6\n",
      "42\n",
      "5\n",
      "35\n",
      "53\n",
      "1\n",
      "35\n",
      "4\n",
      "41\n",
      "21\n",
      "35\n",
      "9\n",
      "13\n",
      "23\n",
      "37\n",
      "29\n",
      "8\n",
      "6\n",
      "36\n",
      "13\n",
      "21\n",
      "55\n",
      "13\n",
      "25\n",
      "36\n",
      "17\n",
      "20\n",
      "39\n",
      "1\n",
      "40\n",
      "4\n",
      "10\n",
      "37\n",
      "34\n",
      "22\n",
      "20\n",
      "26\n",
      "21\n",
      "34\n",
      "1\n",
      "55\n",
      "25\n",
      "51\n",
      "18\n",
      "27\n",
      "53\n",
      "19\n",
      "48\n",
      "32\n",
      "21\n",
      "34\n",
      "13\n",
      "39\n",
      "36\n",
      "36\n",
      "49\n",
      "18\n",
      "12\n",
      "12\n",
      "17\n",
      "47\n",
      "39\n",
      "47\n",
      "26\n",
      "40\n",
      "8\n",
      "6\n",
      "24\n",
      "51\n",
      "25\n",
      "6\n",
      "37\n",
      "12\n",
      "47\n",
      "6\n",
      "6\n",
      "19\n",
      "29\n",
      "8\n",
      "26\n",
      "13\n",
      "18\n",
      "55\n",
      "9\n",
      "29\n",
      "5\n",
      "40\n",
      "42\n",
      "20\n",
      "17\n",
      "26\n",
      "48\n",
      "13\n",
      "41\n",
      "10\n",
      "34\n",
      "12\n",
      "36\n",
      "39\n",
      "39\n",
      "13\n",
      "34\n",
      "4\n",
      "16\n",
      "34\n",
      "17\n",
      "20\n",
      "8\n",
      "6\n",
      "21\n",
      "35\n",
      "24\n",
      "37\n",
      "1\n",
      "24\n",
      "12\n",
      "37\n",
      "18\n",
      "6\n",
      "36\n",
      "51\n",
      "21\n",
      "37\n",
      "27\n",
      "19\n",
      "55\n",
      "49\n",
      "42\n",
      "17\n",
      "31\n",
      "27\n",
      "41\n",
      "1\n",
      "27\n",
      "42\n",
      "26\n",
      "18\n",
      "36\n",
      "29\n",
      "29\n",
      "6\n",
      "25\n",
      "41\n",
      "6\n",
      "6\n",
      "6\n",
      "51\n",
      "18\n",
      "34\n",
      "48\n",
      "41\n",
      "37\n",
      "19\n",
      "55\n",
      "36\n",
      "11\n",
      "36\n",
      "1\n",
      "36\n",
      "51\n",
      "46\n",
      "6\n",
      "23\n",
      "26\n",
      "21\n",
      "45\n",
      "26\n",
      "32\n",
      "53\n",
      "6\n",
      "24\n",
      "47\n",
      "29\n",
      "12\n",
      "21\n",
      "49\n",
      "6\n",
      "51\n",
      "27\n",
      "23\n",
      "27\n",
      "6\n",
      "18\n",
      "25\n",
      "12\n",
      "27\n",
      "47\n",
      "22\n",
      "28\n",
      "18\n",
      "12\n",
      "36\n",
      "45\n",
      "34\n",
      "26\n",
      "6\n",
      "23\n",
      "37\n",
      "55\n",
      "28\n",
      "18\n",
      "26\n",
      "27\n",
      "16\n",
      "6\n",
      "44\n",
      "9\n",
      "48\n",
      "21\n",
      "47\n",
      "4\n",
      "34\n",
      "20\n",
      "27\n",
      "6\n",
      "12\n",
      "13\n",
      "18\n",
      "39\n",
      "17\n",
      "53\n",
      "42\n",
      "20\n",
      "53\n",
      "21\n",
      "36\n",
      "47\n",
      "45\n",
      "27\n",
      "8\n",
      "39\n",
      "47\n",
      "48\n",
      "25\n",
      "18\n",
      "13\n",
      "45\n",
      "24\n",
      "36\n",
      "47\n",
      "40\n",
      "19\n",
      "6\n",
      "47\n",
      "8\n",
      "42\n",
      "17\n",
      "29\n",
      "39\n",
      "18\n",
      "17\n",
      "8\n",
      "49\n",
      "6\n",
      "36\n",
      "47\n",
      "28\n",
      "42\n",
      "29\n",
      "48\n",
      "21\n",
      "48\n",
      "53\n",
      "21\n",
      "5\n",
      "39\n",
      "34\n",
      "37\n",
      "53\n",
      "36\n",
      "44\n",
      "29\n",
      "6\n",
      "39\n",
      "37\n",
      "36\n",
      "51\n",
      "27\n",
      "17\n",
      "49\n",
      "6\n",
      "6\n",
      "9\n",
      "36\n",
      "18\n",
      "36\n",
      "36\n",
      "36\n",
      "12\n",
      "26\n",
      "18\n",
      "36\n",
      "13\n",
      "5\n",
      "28\n",
      "49\n",
      "6\n",
      "9\n",
      "36\n",
      "34\n",
      "5\n",
      "27\n",
      "6\n",
      "37\n",
      "49\n",
      "8\n",
      "25\n",
      "5\n",
      "40\n",
      "55\n",
      "36\n",
      "17\n",
      "48\n",
      "48\n",
      "51\n",
      "13\n",
      "37\n",
      "55\n",
      "26\n",
      "42\n",
      "25\n",
      "8\n",
      "6\n",
      "20\n",
      "42\n",
      "34\n",
      "55\n",
      "55\n",
      "49\n",
      "26\n",
      "18\n",
      "23\n",
      "21\n",
      "6\n",
      "23\n",
      "36\n",
      "37\n",
      "21\n",
      "39\n",
      "34\n",
      "42\n",
      "47\n",
      "24\n",
      "47\n",
      "39\n",
      "34\n",
      "41\n",
      "27\n",
      "29\n",
      "17\n",
      "6\n",
      "17\n",
      "22\n",
      "4\n",
      "42\n",
      "17\n",
      "26\n",
      "21\n",
      "25\n",
      "22\n",
      "49\n",
      "17\n",
      "24\n",
      "13\n",
      "48\n",
      "6\n",
      "13\n",
      "42\n",
      "37\n",
      "36\n",
      "54\n",
      "26\n",
      "10\n",
      "24\n",
      "12\n",
      "47\n",
      "48\n",
      "6\n",
      "24\n",
      "12\n",
      "45\n",
      "55\n",
      "8\n",
      "6\n",
      "11\n",
      "42\n",
      "17\n",
      "55\n",
      "6\n",
      "42\n",
      "42\n",
      "9\n",
      "48\n",
      "54\n",
      "27\n",
      "53\n",
      "34\n",
      "19\n",
      "40\n",
      "39\n",
      "13\n",
      "45\n",
      "37\n",
      "4\n",
      "41\n",
      "36\n",
      "45\n",
      "45\n",
      "51\n",
      "26\n",
      "37\n",
      "27\n",
      "17\n",
      "44\n",
      "36\n",
      "51\n",
      "17\n",
      "12\n",
      "34\n",
      "13\n",
      "25\n",
      "13\n",
      "47\n",
      "27\n",
      "34\n",
      "27\n",
      "51\n",
      "54\n",
      "34\n",
      "50\n",
      "6\n",
      "34\n",
      "48\n",
      "29\n",
      "47\n",
      "4\n",
      "1\n",
      "17\n",
      "21\n",
      "42\n",
      "55\n",
      "23\n",
      "12\n",
      "26\n",
      "6\n",
      "18\n",
      "48\n",
      "4\n",
      "36\n",
      "23\n",
      "26\n",
      "12\n",
      "19\n",
      "6\n",
      "34\n",
      "36\n",
      "23\n",
      "39\n",
      "45\n",
      "19\n",
      "23\n",
      "47\n",
      "37\n",
      "36\n",
      "36\n",
      "31\n",
      "56\n",
      "30\n",
      "37\n",
      "42\n",
      "55\n",
      "8\n",
      "56\n",
      "31\n",
      "41\n",
      "55\n",
      "55\n",
      "26\n",
      "53\n",
      "39\n",
      "18\n",
      "42\n",
      "12\n",
      "39\n",
      "48\n",
      "19\n",
      "55\n",
      "53\n",
      "39\n",
      "33\n",
      "42\n",
      "39\n",
      "8\n",
      "53\n",
      "54\n",
      "44\n",
      "12\n",
      "27\n",
      "39\n",
      "17\n",
      "53\n",
      "18\n",
      "17\n",
      "20\n",
      "6\n",
      "40\n",
      "40\n",
      "48\n",
      "8\n",
      "6\n",
      "51\n",
      "17\n",
      "16\n",
      "6\n",
      "18\n",
      "26\n",
      "49\n",
      "1\n",
      "17\n",
      "6\n",
      "37\n",
      "36\n",
      "12\n",
      "39\n",
      "47\n",
      "28\n",
      "5\n",
      "6\n",
      "34\n",
      "24\n",
      "33\n",
      "42\n",
      "37\n",
      "48\n",
      "55\n",
      "42\n",
      "37\n",
      "6\n",
      "36\n",
      "34\n",
      "26\n",
      "39\n",
      "37\n",
      "42\n",
      "6\n",
      "48\n",
      "48\n",
      "18\n",
      "12\n",
      "24\n",
      "34\n",
      "1\n",
      "20\n",
      "6\n",
      "13\n",
      "29\n",
      "21\n",
      "4\n",
      "6\n",
      "12\n",
      "28\n",
      "26\n",
      "42\n",
      "6\n",
      "22\n",
      "47\n",
      "27\n",
      "35\n",
      "45\n",
      "19\n",
      "42\n",
      "45\n",
      "56\n",
      "42\n",
      "12\n",
      "28\n",
      "21\n",
      "29\n",
      "53\n",
      "24\n",
      "45\n",
      "56\n",
      "51\n",
      "25\n",
      "48\n",
      "18\n",
      "51\n",
      "28\n",
      "6\n",
      "42\n",
      "47\n",
      "51\n",
      "17\n",
      "48\n",
      "39\n",
      "36\n",
      "48\n",
      "27\n",
      "33\n",
      "4\n",
      "26\n",
      "36\n",
      "30\n",
      "35\n",
      "53\n",
      "6\n",
      "18\n",
      "25\n",
      "29\n",
      "25\n",
      "42\n",
      "33\n",
      "55\n",
      "41\n",
      "8\n",
      "8\n",
      "36\n",
      "26\n",
      "51\n",
      "42\n",
      "34\n",
      "37\n",
      "12\n",
      "6\n",
      "6\n",
      "53\n",
      "6\n",
      "39\n",
      "22\n",
      "49\n",
      "39\n",
      "47\n",
      "24\n",
      "48\n",
      "31\n",
      "56\n",
      "4\n",
      "32\n",
      "42\n",
      "12\n",
      "48\n",
      "6\n",
      "24\n",
      "26\n",
      "17\n",
      "41\n",
      "50\n",
      "36\n",
      "34\n",
      "51\n",
      "6\n",
      "12\n",
      "37\n",
      "18\n",
      "37\n",
      "39\n",
      "39\n",
      "26\n",
      "39\n",
      "24\n",
      "36\n",
      "39\n",
      "24\n",
      "25\n",
      "13\n",
      "50\n",
      "47\n",
      "6\n",
      "12\n",
      "18\n",
      "51\n",
      "55\n",
      "29\n",
      "32\n",
      "21\n",
      "53\n",
      "6\n",
      "37\n",
      "12\n",
      "48\n",
      "31\n",
      "8\n",
      "24\n",
      "27\n",
      "53\n",
      "22\n",
      "26\n",
      "34\n",
      "29\n",
      "55\n",
      "22\n",
      "8\n",
      "1\n",
      "13\n",
      "12\n",
      "25\n",
      "36\n",
      "12\n",
      "12\n",
      "47\n",
      "35\n",
      "6\n",
      "13\n",
      "24\n",
      "47\n",
      "39\n",
      "29\n",
      "6\n",
      "8\n",
      "26\n",
      "6\n",
      "42\n",
      "42\n",
      "42\n",
      "53\n",
      "53\n",
      "6\n",
      "39\n",
      "47\n",
      "25\n",
      "50\n",
      "16\n",
      "41\n",
      "36\n",
      "37\n",
      "48\n",
      "39\n",
      "27\n",
      "34\n",
      "42\n",
      "53\n",
      "24\n",
      "23\n",
      "12\n",
      "6\n",
      "6\n",
      "36\n",
      "34\n",
      "9\n",
      "48\n",
      "55\n",
      "6\n",
      "27\n",
      "17\n",
      "27\n",
      "1\n",
      "29\n",
      "35\n",
      "6\n",
      "24\n",
      "12\n",
      "12\n",
      "24\n",
      "42\n",
      "17\n",
      "54\n",
      "22\n",
      "51\n",
      "41\n",
      "12\n",
      "48\n",
      "36\n",
      "34\n",
      "42\n",
      "17\n",
      "29\n",
      "12\n",
      "24\n",
      "40\n",
      "8\n",
      "30\n",
      "6\n",
      "24\n",
      "12\n",
      "36\n",
      "42\n",
      "29\n",
      "48\n",
      "42\n",
      "53\n",
      "24\n",
      "48\n",
      "20\n",
      "48\n",
      "41\n",
      "6\n",
      "13\n",
      "42\n",
      "48\n",
      "34\n",
      "42\n",
      "17\n",
      "37\n",
      "31\n",
      "47\n",
      "12\n",
      "9\n",
      "17\n",
      "6\n",
      "42\n",
      "48\n",
      "17\n",
      "6\n",
      "37\n",
      "55\n",
      "6\n",
      "6\n",
      "42\n",
      "37\n",
      "48\n",
      "53\n",
      "1\n",
      "17\n",
      "6\n",
      "20\n",
      "28\n",
      "48\n",
      "12\n",
      "39\n",
      "48\n",
      "48\n",
      "36\n",
      "17\n",
      "12\n",
      "6\n",
      "26\n",
      "46\n",
      "34\n",
      "51\n",
      "42\n",
      "1\n",
      "40\n",
      "48\n",
      "51\n",
      "4\n",
      "6\n",
      "53\n",
      "6\n",
      "44\n",
      "39\n",
      "48\n",
      "49\n",
      "51\n",
      "34\n",
      "8\n",
      "49\n",
      "41\n",
      "12\n",
      "13\n",
      "25\n",
      "37\n",
      "48\n",
      "36\n",
      "22\n",
      "19\n",
      "20\n",
      "53\n",
      "12\n",
      "48\n",
      "6\n",
      "29\n",
      "17\n",
      "36\n",
      "37\n",
      "6\n",
      "6\n",
      "44\n",
      "18\n",
      "42\n",
      "37\n",
      "6\n",
      "12\n",
      "25\n",
      "55\n",
      "40\n",
      "48\n",
      "36\n",
      "39\n",
      "13\n",
      "51\n",
      "34\n",
      "21\n",
      "37\n",
      "12\n",
      "12\n",
      "27\n",
      "48\n",
      "17\n",
      "53\n",
      "20\n",
      "47\n",
      "17\n",
      "5\n",
      "12\n",
      "26\n",
      "9\n",
      "49\n",
      "21\n",
      "27\n",
      "4\n",
      "6\n",
      "13\n",
      "51\n",
      "47\n",
      "38\n",
      "8\n",
      "21\n",
      "13\n",
      "6\n",
      "37\n",
      "25\n",
      "1\n",
      "39\n",
      "5\n",
      "48\n",
      "36\n",
      "48\n",
      "36\n",
      "40\n",
      "6\n",
      "6\n",
      "47\n",
      "42\n",
      "12\n",
      "42\n",
      "42\n",
      "17\n",
      "19\n",
      "13\n",
      "36\n",
      "9\n",
      "27\n",
      "35\n",
      "22\n",
      "26\n",
      "48\n",
      "8\n",
      "12\n",
      "36\n",
      "39\n",
      "42\n",
      "46\n",
      "38\n",
      "4\n",
      "42\n",
      "21\n",
      "42\n",
      "34\n",
      "54\n",
      "36\n",
      "47\n",
      "17\n",
      "13\n",
      "12\n",
      "42\n",
      "21\n",
      "47\n",
      "25\n",
      "6\n",
      "42\n",
      "36\n",
      "27\n",
      "48\n",
      "34\n",
      "25\n",
      "53\n",
      "51\n",
      "42\n",
      "6\n",
      "26\n",
      "18\n",
      "6\n",
      "25\n",
      "51\n",
      "35\n",
      "41\n",
      "51\n",
      "24\n",
      "41\n",
      "12\n",
      "42\n",
      "28\n",
      "36\n",
      "34\n",
      "24\n",
      "36\n",
      "48\n",
      "11\n",
      "24\n",
      "29\n",
      "12\n",
      "23\n",
      "6\n",
      "6\n",
      "8\n",
      "38\n",
      "4\n",
      "12\n",
      "12\n",
      "6\n",
      "28\n",
      "48\n",
      "16\n",
      "13\n",
      "6\n",
      "26\n",
      "34\n",
      "48\n",
      "47\n",
      "22\n",
      "55\n",
      "24\n",
      "13\n",
      "48\n",
      "36\n",
      "26\n",
      "46\n",
      "29\n",
      "36\n",
      "39\n",
      "31\n",
      "41\n",
      "16\n",
      "23\n",
      "55\n",
      "17\n",
      "29\n",
      "48\n",
      "41\n",
      "51\n",
      "23\n",
      "12\n",
      "46\n",
      "51\n",
      "25\n",
      "25\n",
      "49\n",
      "41\n",
      "32\n",
      "51\n",
      "37\n",
      "39\n",
      "42\n",
      "48\n",
      "48\n",
      "37\n",
      "42\n",
      "26\n",
      "29\n",
      "39\n",
      "18\n",
      "26\n",
      "22\n",
      "5\n",
      "34\n",
      "36\n",
      "22\n",
      "40\n",
      "36\n",
      "40\n",
      "47\n",
      "45\n",
      "47\n",
      "27\n",
      "6\n",
      "42\n",
      "55\n",
      "4\n",
      "41\n",
      "18\n",
      "13\n",
      "1\n",
      "6\n",
      "23\n",
      "39\n",
      "42\n",
      "6\n",
      "20\n",
      "46\n",
      "48\n",
      "6\n",
      "37\n",
      "6\n",
      "17\n",
      "42\n",
      "37\n",
      "29\n",
      "6\n",
      "26\n",
      "36\n",
      "27\n",
      "21\n",
      "13\n",
      "34\n",
      "42\n",
      "55\n",
      "4\n",
      "6\n",
      "54\n",
      "37\n",
      "17\n",
      "11\n",
      "53\n",
      "37\n",
      "5\n",
      "47\n",
      "9\n",
      "31\n",
      "6\n",
      "40\n",
      "39\n",
      "36\n",
      "45\n",
      "8\n",
      "48\n",
      "31\n",
      "6\n",
      "51\n",
      "34\n",
      "16\n",
      "42\n",
      "40\n",
      "35\n",
      "25\n",
      "36\n",
      "17\n",
      "35\n",
      "12\n",
      "36\n",
      "18\n",
      "51\n",
      "39\n",
      "48\n",
      "26\n",
      "37\n",
      "36\n",
      "51\n",
      "47\n",
      "27\n",
      "48\n",
      "6\n",
      "37\n",
      "36\n",
      "49\n",
      "29\n",
      "17\n",
      "55\n",
      "6\n",
      "22\n",
      "19\n",
      "23\n",
      "42\n",
      "37\n",
      "12\n",
      "6\n",
      "55\n",
      "26\n",
      "1\n",
      "27\n",
      "39\n",
      "37\n",
      "40\n",
      "8\n",
      "29\n",
      "51\n",
      "42\n",
      "42\n",
      "21\n",
      "17\n",
      "36\n",
      "34\n",
      "37\n",
      "36\n",
      "27\n",
      "42\n",
      "44\n",
      "45\n",
      "29\n",
      "25\n",
      "17\n",
      "24\n",
      "12\n",
      "6\n",
      "12\n",
      "36\n",
      "17\n",
      "6\n",
      "54\n",
      "20\n",
      "55\n",
      "55\n",
      "39\n",
      "26\n",
      "17\n",
      "49\n",
      "53\n",
      "11\n",
      "36\n",
      "42\n",
      "25\n",
      "55\n",
      "12\n",
      "42\n",
      "47\n",
      "34\n",
      "42\n",
      "49\n",
      "36\n",
      "53\n",
      "18\n",
      "17\n",
      "6\n",
      "51\n",
      "49\n",
      "53\n",
      "18\n",
      "12\n",
      "29\n",
      "12\n",
      "22\n",
      "39\n",
      "25\n",
      "51\n",
      "13\n",
      "35\n",
      "26\n",
      "12\n",
      "17\n",
      "6\n",
      "45\n",
      "13\n",
      "41\n",
      "6\n",
      "13\n",
      "53\n",
      "18\n",
      "12\n",
      "39\n",
      "13\n",
      "22\n",
      "18\n",
      "37\n",
      "6\n",
      "21\n",
      "36\n",
      "36\n",
      "12\n",
      "6\n",
      "8\n",
      "1\n",
      "8\n",
      "42\n",
      "20\n",
      "4\n",
      "41\n",
      "55\n",
      "26\n",
      "18\n",
      "27\n",
      "6\n",
      "36\n",
      "21\n",
      "40\n",
      "37\n",
      "18\n",
      "36\n",
      "48\n",
      "23\n",
      "18\n",
      "55\n",
      "36\n",
      "42\n",
      "16\n",
      "47\n",
      "36\n",
      "12\n",
      "37\n",
      "13\n",
      "6\n",
      "36\n",
      "39\n",
      "48\n",
      "24\n",
      "12\n",
      "54\n",
      "47\n",
      "55\n",
      "47\n",
      "54\n",
      "51\n",
      "17\n",
      "6\n",
      "39\n",
      "18\n",
      "40\n",
      "18\n",
      "44\n",
      "13\n",
      "22\n",
      "29\n",
      "25\n",
      "9\n",
      "8\n",
      "6\n",
      "12\n",
      "48\n",
      "19\n",
      "17\n",
      "55\n",
      "12\n",
      "49\n",
      "37\n",
      "37\n",
      "29\n",
      "42\n",
      "51\n",
      "26\n",
      "1\n",
      "19\n",
      "49\n",
      "42\n",
      "37\n",
      "55\n",
      "49\n",
      "26\n",
      "21\n",
      "36\n",
      "51\n",
      "17\n",
      "26\n",
      "29\n",
      "6\n",
      "17\n",
      "53\n",
      "6\n",
      "39\n",
      "17\n",
      "5\n",
      "34\n",
      "45\n",
      "48\n",
      "12\n",
      "39\n",
      "29\n",
      "24\n",
      "42\n",
      "19\n",
      "51\n",
      "47\n",
      "6\n",
      "23\n",
      "50\n",
      "27\n",
      "45\n",
      "6\n",
      "26\n",
      "27\n",
      "8\n",
      "6\n",
      "42\n",
      "13\n",
      "42\n",
      "39\n",
      "53\n",
      "36\n",
      "37\n",
      "17\n",
      "55\n",
      "26\n",
      "25\n",
      "36\n",
      "51\n",
      "26\n",
      "51\n",
      "37\n",
      "31\n",
      "24\n",
      "29\n",
      "36\n",
      "17\n",
      "21\n",
      "21\n",
      "41\n",
      "6\n",
      "42\n",
      "26\n",
      "21\n",
      "25\n",
      "51\n",
      "45\n",
      "13\n",
      "55\n",
      "48\n",
      "13\n",
      "36\n",
      "9\n",
      "25\n",
      "36\n",
      "12\n",
      "36\n",
      "13\n",
      "42\n",
      "45\n",
      "47\n",
      "27\n",
      "21\n",
      "34\n",
      "13\n",
      "45\n",
      "29\n",
      "8\n",
      "21\n",
      "42\n",
      "17\n",
      "13\n",
      "36\n",
      "26\n",
      "48\n",
      "53\n",
      "24\n",
      "8\n",
      "12\n",
      "41\n",
      "13\n",
      "29\n",
      "22\n",
      "27\n",
      "8\n",
      "39\n",
      "25\n",
      "29\n",
      "29\n",
      "26\n",
      "17\n",
      "27\n",
      "8\n",
      "6\n",
      "9\n",
      "21\n",
      "6\n",
      "37\n",
      "8\n",
      "6\n",
      "42\n",
      "42\n",
      "42\n",
      "8\n",
      "53\n",
      "34\n",
      "20\n",
      "34\n",
      "6\n",
      "37\n",
      "1\n",
      "28\n",
      "29\n",
      "47\n",
      "47\n",
      "37\n",
      "26\n",
      "17\n",
      "51\n",
      "27\n",
      "25\n",
      "34\n",
      "48\n",
      "36\n",
      "55\n",
      "30\n",
      "42\n",
      "26\n",
      "51\n",
      "37\n",
      "39\n",
      "51\n",
      "39\n",
      "39\n",
      "28\n",
      "17\n",
      "8\n",
      "26\n",
      "37\n",
      "48\n",
      "18\n",
      "39\n",
      "1\n",
      "51\n",
      "34\n",
      "36\n",
      "31\n",
      "37\n",
      "13\n",
      "50\n",
      "17\n",
      "36\n",
      "53\n",
      "42\n",
      "36\n",
      "12\n",
      "51\n",
      "55\n",
      "9\n",
      "42\n",
      "48\n",
      "51\n",
      "26\n",
      "18\n",
      "34\n",
      "27\n",
      "48\n",
      "47\n",
      "51\n",
      "39\n",
      "26\n",
      "42\n",
      "37\n",
      "36\n",
      "39\n",
      "42\n",
      "42\n",
      "29\n",
      "54\n",
      "19\n",
      "4\n",
      "21\n",
      "9\n",
      "10\n",
      "36\n",
      "29\n",
      "48\n",
      "17\n",
      "56\n",
      "8\n",
      "36\n",
      "33\n",
      "56\n",
      "21\n",
      "51\n",
      "17\n",
      "36\n",
      "42\n",
      "36\n",
      "20\n",
      "16\n",
      "49\n",
      "48\n",
      "51\n",
      "39\n",
      "42\n",
      "26\n",
      "42\n",
      "8\n",
      "6\n",
      "51\n",
      "42\n",
      "17\n",
      "5\n",
      "19\n",
      "8\n",
      "45\n",
      "51\n",
      "27\n",
      "34\n",
      "55\n",
      "12\n",
      "36\n",
      "34\n",
      "1\n",
      "5\n",
      "4\n",
      "12\n",
      "30\n",
      "6\n",
      "29\n",
      "12\n",
      "39\n",
      "29\n",
      "45\n",
      "39\n",
      "1\n",
      "36\n",
      "39\n",
      "34\n",
      "42\n",
      "26\n",
      "45\n",
      "29\n",
      "42\n",
      "16\n",
      "53\n",
      "27\n",
      "53\n",
      "6\n",
      "4\n",
      "29\n",
      "6\n",
      "6\n",
      "45\n",
      "42\n",
      "48\n",
      "55\n",
      "53\n",
      "18\n",
      "26\n",
      "6\n",
      "6\n",
      "42\n",
      "22\n",
      "42\n",
      "27\n",
      "29\n",
      "53\n",
      "25\n",
      "24\n",
      "6\n",
      "34\n",
      "1\n",
      "22\n",
      "12\n",
      "29\n",
      "4\n",
      "17\n",
      "26\n",
      "22\n",
      "6\n",
      "24\n",
      "33\n",
      "27\n",
      "6\n",
      "39\n",
      "27\n",
      "48\n",
      "6\n",
      "34\n",
      "48\n",
      "42\n",
      "12\n",
      "48\n",
      "47\n",
      "17\n",
      "34\n",
      "13\n",
      "34\n",
      "48\n",
      "42\n",
      "48\n",
      "25\n",
      "46\n",
      "4\n",
      "42\n",
      "48\n",
      "51\n",
      "26\n",
      "51\n",
      "55\n",
      "48\n",
      "27\n",
      "30\n",
      "6\n",
      "42\n",
      "18\n",
      "6\n",
      "12\n",
      "36\n",
      "6\n",
      "45\n",
      "27\n",
      "21\n",
      "17\n",
      "10\n",
      "21\n",
      "40\n",
      "51\n",
      "25\n",
      "42\n",
      "36\n",
      "12\n",
      "26\n",
      "31\n",
      "38\n",
      "17\n",
      "21\n",
      "18\n",
      "6\n",
      "25\n",
      "48\n",
      "31\n",
      "51\n",
      "45\n",
      "21\n",
      "55\n",
      "27\n",
      "24\n",
      "6\n",
      "28\n",
      "36\n",
      "54\n",
      "4\n",
      "47\n",
      "48\n",
      "42\n",
      "51\n",
      "48\n",
      "22\n",
      "34\n",
      "34\n",
      "29\n",
      "18\n",
      "27\n",
      "46\n",
      "12\n",
      "42\n",
      "37\n",
      "18\n",
      "30\n",
      "49\n",
      "21\n",
      "18\n",
      "18\n",
      "55\n",
      "18\n",
      "18\n",
      "16\n",
      "12\n",
      "6\n",
      "12\n",
      "12\n",
      "37\n",
      "55\n",
      "12\n",
      "22\n",
      "54\n",
      "53\n",
      "41\n",
      "12\n",
      "48\n",
      "36\n",
      "36\n",
      "40\n",
      "6\n",
      "45\n",
      "36\n",
      "5\n",
      "36\n",
      "18\n",
      "28\n",
      "27\n",
      "20\n",
      "36\n",
      "26\n",
      "45\n",
      "54\n",
      "13\n",
      "54\n",
      "42\n",
      "22\n",
      "54\n",
      "55\n",
      "4\n",
      "41\n",
      "13\n",
      "34\n",
      "6\n",
      "6\n",
      "21\n",
      "41\n",
      "12\n",
      "27\n",
      "39\n",
      "6\n",
      "6\n",
      "6\n",
      "17\n",
      "8\n",
      "48\n",
      "51\n",
      "47\n",
      "47\n",
      "45\n",
      "36\n",
      "36\n",
      "37\n",
      "45\n",
      "44\n",
      "8\n",
      "6\n",
      "4\n",
      "47\n",
      "36\n",
      "9\n",
      "12\n",
      "55\n",
      "53\n",
      "20\n",
      "51\n",
      "42\n",
      "51\n",
      "6\n",
      "29\n",
      "36\n",
      "16\n",
      "4\n",
      "35\n",
      "39\n",
      "26\n",
      "12\n"
     ]
    }
   ],
   "source": [
    "for i in survey.state:\n",
    "    survey.PK = "
   ]
  },
  {
   "cell_type": "code",
   "execution_count": 433,
   "id": "5a76c360-f81d-475a-8edc-78438460fef7",
   "metadata": {},
   "outputs": [
    {
     "data": {
      "text/plain": [
       "state\n",
       "1     0.611111\n",
       "4     0.726852\n",
       "5     0.621429\n",
       "6     0.725857\n",
       "8     0.709016\n",
       "9     0.720588\n",
       "10    0.750000\n",
       "11    0.625000\n",
       "12    0.680628\n",
       "13    0.603960\n",
       "16    0.657895\n",
       "17    0.696691\n",
       "18    0.665842\n",
       "19    0.693878\n",
       "20    0.750000\n",
       "21    0.631579\n",
       "22    0.621795\n",
       "23    0.848485\n",
       "24    0.722527\n",
       "25    0.710526\n",
       "26    0.706107\n",
       "27    0.747619\n",
       "28    0.637097\n",
       "29    0.700521\n",
       "30    0.736111\n",
       "31    0.656250\n",
       "32    0.766667\n",
       "33    0.704545\n",
       "34    0.700000\n",
       "35    0.694444\n",
       "36    0.731681\n",
       "37    0.636538\n",
       "38    0.694444\n",
       "39    0.685583\n",
       "40    0.636364\n",
       "41    0.661017\n",
       "42    0.662222\n",
       "44    0.728261\n",
       "45    0.706731\n",
       "46    0.700000\n",
       "47    0.672872\n",
       "48    0.693005\n",
       "49    0.756579\n",
       "50    0.839286\n",
       "51    0.715812\n",
       "53    0.717262\n",
       "54    0.648438\n",
       "55    0.709135\n",
       "56    0.750000\n",
       "Name: PK, dtype: float64"
      ]
     },
     "execution_count": 433,
     "metadata": {},
     "output_type": "execute_result"
    }
   ],
   "source": [
    "survey.groupby('state').PK.mean()"
   ]
  },
  {
   "cell_type": "code",
   "execution_count": 434,
   "id": "e87529f8-a0c5-4827-ab68-a937576e7da3",
   "metadata": {},
   "outputs": [
    {
     "data": {
      "text/html": [
       "<div>\n",
       "<style scoped>\n",
       "    .dataframe tbody tr th:only-of-type {\n",
       "        vertical-align: middle;\n",
       "    }\n",
       "\n",
       "    .dataframe tbody tr th {\n",
       "        vertical-align: top;\n",
       "    }\n",
       "\n",
       "    .dataframe thead th {\n",
       "        text-align: right;\n",
       "    }\n",
       "</style>\n",
       "<table border=\"1\" class=\"dataframe\">\n",
       "  <thead>\n",
       "    <tr style=\"text-align: right;\">\n",
       "      <th></th>\n",
       "      <th>state</th>\n",
       "      <th>law</th>\n",
       "      <th>veto</th>\n",
       "      <th>congress</th>\n",
       "      <th>justices</th>\n",
       "      <th>PK</th>\n",
       "    </tr>\n",
       "  </thead>\n",
       "  <tbody>\n",
       "    <tr>\n",
       "      <th>0</th>\n",
       "      <td>39</td>\n",
       "      <td>0</td>\n",
       "      <td>0</td>\n",
       "      <td>1</td>\n",
       "      <td>1</td>\n",
       "      <td>0.50</td>\n",
       "    </tr>\n",
       "    <tr>\n",
       "      <th>1</th>\n",
       "      <td>48</td>\n",
       "      <td>1</td>\n",
       "      <td>1</td>\n",
       "      <td>1</td>\n",
       "      <td>1</td>\n",
       "      <td>1.00</td>\n",
       "    </tr>\n",
       "    <tr>\n",
       "      <th>2</th>\n",
       "      <td>51</td>\n",
       "      <td>1</td>\n",
       "      <td>1</td>\n",
       "      <td>0</td>\n",
       "      <td>1</td>\n",
       "      <td>0.75</td>\n",
       "    </tr>\n",
       "    <tr>\n",
       "      <th>3</th>\n",
       "      <td>53</td>\n",
       "      <td>1</td>\n",
       "      <td>1</td>\n",
       "      <td>1</td>\n",
       "      <td>1</td>\n",
       "      <td>1.00</td>\n",
       "    </tr>\n",
       "    <tr>\n",
       "      <th>4</th>\n",
       "      <td>42</td>\n",
       "      <td>1</td>\n",
       "      <td>1</td>\n",
       "      <td>1</td>\n",
       "      <td>1</td>\n",
       "      <td>1.00</td>\n",
       "    </tr>\n",
       "    <tr>\n",
       "      <th>...</th>\n",
       "      <td>...</td>\n",
       "      <td>...</td>\n",
       "      <td>...</td>\n",
       "      <td>...</td>\n",
       "      <td>...</td>\n",
       "      <td>...</td>\n",
       "    </tr>\n",
       "    <tr>\n",
       "      <th>3732</th>\n",
       "      <td>4</td>\n",
       "      <td>1</td>\n",
       "      <td>1</td>\n",
       "      <td>0</td>\n",
       "      <td>1</td>\n",
       "      <td>0.75</td>\n",
       "    </tr>\n",
       "    <tr>\n",
       "      <th>3733</th>\n",
       "      <td>35</td>\n",
       "      <td>1</td>\n",
       "      <td>1</td>\n",
       "      <td>1</td>\n",
       "      <td>1</td>\n",
       "      <td>1.00</td>\n",
       "    </tr>\n",
       "    <tr>\n",
       "      <th>3734</th>\n",
       "      <td>39</td>\n",
       "      <td>0</td>\n",
       "      <td>0</td>\n",
       "      <td>1</td>\n",
       "      <td>1</td>\n",
       "      <td>0.50</td>\n",
       "    </tr>\n",
       "    <tr>\n",
       "      <th>3735</th>\n",
       "      <td>26</td>\n",
       "      <td>1</td>\n",
       "      <td>0</td>\n",
       "      <td>1</td>\n",
       "      <td>1</td>\n",
       "      <td>0.75</td>\n",
       "    </tr>\n",
       "    <tr>\n",
       "      <th>3736</th>\n",
       "      <td>12</td>\n",
       "      <td>1</td>\n",
       "      <td>0</td>\n",
       "      <td>1</td>\n",
       "      <td>1</td>\n",
       "      <td>0.75</td>\n",
       "    </tr>\n",
       "  </tbody>\n",
       "</table>\n",
       "<p>3737 rows × 6 columns</p>\n",
       "</div>"
      ],
      "text/plain": [
       "      state  law  veto  congress  justices    PK\n",
       "0        39    0     0         1         1  0.50\n",
       "1        48    1     1         1         1  1.00\n",
       "2        51    1     1         0         1  0.75\n",
       "3        53    1     1         1         1  1.00\n",
       "4        42    1     1         1         1  1.00\n",
       "...     ...  ...   ...       ...       ...   ...\n",
       "3732      4    1     1         0         1  0.75\n",
       "3733     35    1     1         1         1  1.00\n",
       "3734     39    0     0         1         1  0.50\n",
       "3735     26    1     0         1         1  0.75\n",
       "3736     12    1     0         1         1  0.75\n",
       "\n",
       "[3737 rows x 6 columns]"
      ]
     },
     "execution_count": 434,
     "metadata": {},
     "output_type": "execute_result"
    }
   ],
   "source": [
    "survey"
   ]
  },
  {
   "cell_type": "code",
   "execution_count": null,
   "id": "daebed2c-0e4c-447d-bda2-d140bbe09b85",
   "metadata": {},
   "outputs": [],
   "source": []
  },
  {
   "cell_type": "code",
   "execution_count": null,
   "id": "148b9406-92ac-4d45-b711-f67c375192d4",
   "metadata": {},
   "outputs": [],
   "source": []
  },
  {
   "cell_type": "code",
   "execution_count": null,
   "id": "0b1b87ff-acf3-437c-af47-db2562b4c46b",
   "metadata": {},
   "outputs": [],
   "source": []
  },
  {
   "cell_type": "code",
   "execution_count": null,
   "id": "46e41b28-fe47-47b1-905b-b2772e600095",
   "metadata": {},
   "outputs": [],
   "source": []
  },
  {
   "cell_type": "code",
   "execution_count": null,
   "id": "8480af41-0333-436f-ab7b-205411ad9374",
   "metadata": {},
   "outputs": [],
   "source": []
  },
  {
   "cell_type": "code",
   "execution_count": null,
   "id": "856c6662-cd70-4951-b9c2-ae0c4c183daf",
   "metadata": {},
   "outputs": [],
   "source": []
  },
  {
   "cell_type": "code",
   "execution_count": null,
   "id": "d5cedeba-d9a5-4bc7-8d50-49293db5bc96",
   "metadata": {},
   "outputs": [],
   "source": []
  },
  {
   "cell_type": "code",
   "execution_count": null,
   "id": "2c538e0c-d4b4-4faa-861c-bd261e4b1f21",
   "metadata": {},
   "outputs": [],
   "source": []
  },
  {
   "cell_type": "code",
   "execution_count": null,
   "id": "611b9c15-91a8-4037-9517-5fdea732bd03",
   "metadata": {},
   "outputs": [],
   "source": []
  },
  {
   "cell_type": "code",
   "execution_count": null,
   "id": "26f96829-c34a-4d91-9aba-6315e20de96d",
   "metadata": {},
   "outputs": [],
   "source": []
  },
  {
   "cell_type": "code",
   "execution_count": null,
   "id": "d5c33745-a4b7-4f52-a05e-e5c0ef11270d",
   "metadata": {},
   "outputs": [],
   "source": []
  },
  {
   "cell_type": "code",
   "execution_count": null,
   "id": "06691f86-04c7-4a9f-b8fb-4ea3fa199d94",
   "metadata": {},
   "outputs": [],
   "source": []
  },
  {
   "cell_type": "code",
   "execution_count": null,
   "id": "e2db860d-4371-41a9-b017-ff3ca3877954",
   "metadata": {},
   "outputs": [],
   "source": []
  },
  {
   "cell_type": "code",
   "execution_count": null,
   "id": "fc46d42f-afd6-452f-a6ca-0e5fc2d057cc",
   "metadata": {},
   "outputs": [],
   "source": []
  },
  {
   "cell_type": "code",
   "execution_count": null,
   "id": "71e74871-329a-4205-b058-1645674e637f",
   "metadata": {},
   "outputs": [],
   "source": []
  },
  {
   "cell_type": "code",
   "execution_count": null,
   "id": "875ba6f0-7e72-4d19-a76c-1b3b72c50d00",
   "metadata": {},
   "outputs": [],
   "source": []
  },
  {
   "cell_type": "code",
   "execution_count": null,
   "id": "1fa27d4e-d197-467e-8aa3-12367216d30a",
   "metadata": {},
   "outputs": [],
   "source": []
  },
  {
   "cell_type": "code",
   "execution_count": null,
   "id": "8bb1efb9-1f76-4329-82e4-54febe61dd90",
   "metadata": {},
   "outputs": [],
   "source": []
  },
  {
   "cell_type": "code",
   "execution_count": null,
   "id": "17e60795-70de-426b-9ccb-c2100e9cf7ce",
   "metadata": {},
   "outputs": [],
   "source": []
  },
  {
   "cell_type": "code",
   "execution_count": null,
   "id": "65bf94ae-ae24-4119-90fe-81ad7440ef6e",
   "metadata": {},
   "outputs": [],
   "source": []
  },
  {
   "cell_type": "code",
   "execution_count": null,
   "id": "d0c4d973-d132-4d01-9c57-c11e09c4e61b",
   "metadata": {},
   "outputs": [],
   "source": []
  },
  {
   "cell_type": "code",
   "execution_count": null,
   "id": "ea661b2d-aa3e-4588-9fe4-c09d044f9300",
   "metadata": {},
   "outputs": [],
   "source": []
  }
 ],
 "metadata": {
  "kernelspec": {
   "display_name": "Python 3",
   "language": "python",
   "name": "python3"
  },
  "language_info": {
   "codemirror_mode": {
    "name": "ipython",
    "version": 3
   },
   "file_extension": ".py",
   "mimetype": "text/x-python",
   "name": "python",
   "nbconvert_exporter": "python",
   "pygments_lexer": "ipython3",
   "version": "3.8.8"
  }
 },
 "nbformat": 4,
 "nbformat_minor": 5
}
