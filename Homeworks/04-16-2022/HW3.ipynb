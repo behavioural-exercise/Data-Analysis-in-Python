{
 "cells": [
  {
   "cell_type": "code",
   "execution_count": 1,
   "id": "d231e500-83b3-4799-af9c-cd1d32f9ba81",
   "metadata": {
    "tags": []
   },
   "outputs": [],
   "source": [
    "import requests\n",
    "import pandas as pd"
   ]
  },
  {
   "cell_type": "code",
   "execution_count": 2,
   "id": "16b3d47d-a0e2-4faf-9a13-d6915a7df08e",
   "metadata": {},
   "outputs": [
    {
     "data": {
      "text/plain": [
       "<Response [200]>"
      ]
     },
     "execution_count": 2,
     "metadata": {},
     "output_type": "execute_result"
    }
   ],
   "source": [
    "r = requests.get('https://nbviewer.org/github/rogovich/Data/blob/master/docs/Plotly_HW/FairVote%20-%20Press%20Room.html')\n",
    "r"
   ]
  },
  {
   "cell_type": "code",
   "execution_count": 3,
   "id": "d858c54b-3ce1-44ef-a16a-254eaefe495e",
   "metadata": {},
   "outputs": [
    {
     "data": {
      "text/plain": [
       "range(15527, 22237)"
      ]
     },
     "execution_count": 3,
     "metadata": {},
     "output_type": "execute_result"
    }
   ],
   "source": [
    "range(r.text.find('<br><br>Rank&nbsp'), r.text.find('* Source: Washington Post'))"
   ]
  },
  {
   "cell_type": "code",
   "execution_count": 4,
   "id": "68b84732-4c00-4a65-958a-e2a1d9551fe5",
   "metadata": {},
   "outputs": [
    {
     "data": {
      "text/plain": [
       "range(24787, 28731)"
      ]
     },
     "execution_count": 4,
     "metadata": {},
     "output_type": "execute_result"
    }
   ],
   "source": [
    "range(r.text.find('<br><br>Rank&nbsp;&nbsp;&nbsp; State&nbsp;&nbsp;&nbsp; Ad'), r.text.find('* Source: <a href='))"
   ]
  },
  {
   "cell_type": "code",
   "execution_count": 5,
   "id": "a97ea3ef-aeaa-48b7-b141-952245444fbb",
   "metadata": {},
   "outputs": [
    {
     "data": {
      "text/plain": [
       "range(30236, 34473)"
      ]
     },
     "execution_count": 5,
     "metadata": {},
     "output_type": "execute_result"
    }
   ],
   "source": [
    "range(r.text.find('<br>Year&nbsp'), r.text.find(' 16<br><br>As the'))"
   ]
  },
  {
   "cell_type": "code",
   "execution_count": 6,
   "id": "0de0dc9b-bdba-42ed-8b97-5fd57a02fadf",
   "metadata": {},
   "outputs": [],
   "source": [
    "table_1 = r.text[15527:22237]\n",
    "table_2 = r.text[24787:28731]\n",
    "table_3 = r.text[30236:34473]\n",
    "tables = []\n",
    "tables.append(table_1)\n",
    "tables.append(table_2)\n",
    "tables.append(table_3)"
   ]
  },
  {
   "cell_type": "code",
   "execution_count": 7,
   "id": "02d1aa0e-2470-49c4-9900-c7f7afa1e2ef",
   "metadata": {},
   "outputs": [],
   "source": [
    "n = 0\n",
    "\n",
    "for table in tables:\n",
    "    table = table.replace('&nbsp', ';')\n",
    "    table = ';'.join([letter for letter in table.split(';') if len(letter)>0])\n",
    "    if n == 0:\n",
    "        a = []\n",
    "        for i in table.split('<br>')[2:-2]:\n",
    "            a.append(i.split(';'))\n",
    "        n += n+1\n",
    "    elif n == 1:\n",
    "        b = []\n",
    "        for i in table.split('<br>')[2:-1]:\n",
    "            b.append(i.split(';'))\n",
    "        n += n+2\n",
    "    elif n == 4:\n",
    "        c = []\n",
    "        for i in table.split('<br>')[1:]:\n",
    "            c.append(i.split(';'))"
   ]
  },
  {
   "cell_type": "code",
   "execution_count": 8,
   "id": "bf4a926a-1682-4961-8d35-4b527324fa2e",
   "metadata": {},
   "outputs": [],
   "source": [
    "table_1 = pd.DataFrame(a[1:-1], columns=a[0])\n",
    "table_2 = pd.DataFrame(b[1:-1], columns=b[0])\n",
    "table_3 = pd.DataFrame(c[1:-1], columns=c[0])"
   ]
  },
  {
   "cell_type": "code",
   "execution_count": 9,
   "id": "541abc47-53e4-4fc5-9217-42cafe42cc4d",
   "metadata": {},
   "outputs": [],
   "source": [
    "table_1.to_csv('table_1.csv', index=False)\n",
    "table_2.to_csv('table_2.csv', index=False)\n",
    "table_3.to_csv('table_3.csv', index=False)"
   ]
  },
  {
   "cell_type": "code",
   "execution_count": null,
   "id": "43fa31a3-b0a1-4d08-bfff-a679ad577708",
   "metadata": {},
   "outputs": [],
   "source": []
  },
  {
   "cell_type": "code",
   "execution_count": null,
   "id": "95a50d31-4870-4cfa-b5b5-1ada76dfc1b3",
   "metadata": {},
   "outputs": [],
   "source": []
  },
  {
   "cell_type": "code",
   "execution_count": null,
   "id": "eaaf2f5c-0672-4e1f-adb8-e15f7da2646b",
   "metadata": {},
   "outputs": [],
   "source": []
  },
  {
   "cell_type": "code",
   "execution_count": null,
   "id": "55ccb0e3-6623-40af-ab65-248f0240ec79",
   "metadata": {},
   "outputs": [],
   "source": []
  },
  {
   "cell_type": "code",
   "execution_count": null,
   "id": "863ebd7b-04bf-441c-a543-f8882d83cd05",
   "metadata": {},
   "outputs": [],
   "source": []
  },
  {
   "cell_type": "code",
   "execution_count": null,
   "id": "4e124bb8-4e86-4599-b24a-cd74ad54b50e",
   "metadata": {},
   "outputs": [],
   "source": []
  },
  {
   "cell_type": "code",
   "execution_count": null,
   "id": "87fa1408-5101-4066-a78c-9f1854b39971",
   "metadata": {},
   "outputs": [],
   "source": []
  }
 ],
 "metadata": {
  "kernelspec": {
   "display_name": "Python 3",
   "language": "python",
   "name": "python3"
  },
  "language_info": {
   "codemirror_mode": {
    "name": "ipython",
    "version": 3
   },
   "file_extension": ".py",
   "mimetype": "text/x-python",
   "name": "python",
   "nbconvert_exporter": "python",
   "pygments_lexer": "ipython3",
   "version": "3.8.8"
  }
 },
 "nbformat": 4,
 "nbformat_minor": 5
}
