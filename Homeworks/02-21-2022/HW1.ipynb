{
 "cells": [
  {
   "cell_type": "markdown",
   "metadata": {
    "id": "yDN3StLrZPch"
   },
   "source": [
    "# Домашнее задание #1\n",
    "\n",
    "* Каждый вопрос оценивается в 0.5 балла. \n",
    "* 20 вопросов, максимум 10 баллов.\n",
    "\n",
    "Запустите ячейку ниже для импорта библиотек."
   ]
  },
  {
   "cell_type": "code",
   "execution_count": 2,
   "metadata": {
    "id": "2I3WAeJyZXZb"
   },
   "outputs": [],
   "source": [
    "import pandas as pd\n",
    "import numpy as np"
   ]
  },
  {
   "cell_type": "markdown",
   "metadata": {
    "id": "bz-9InjdcKJJ"
   },
   "source": [
    "## Создание датафрейма\n",
    "В этом задании нужно воспроизвести таблицу со скриншота."
   ]
  },
  {
   "cell_type": "markdown",
   "metadata": {
    "id": "0nLtSn0OcBD6"
   },
   "source": [
    "![Снимок экрана 2021-09-06 в 03.09.29.png](data:image/png;base64,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)"
   ]
  },
  {
   "cell_type": "markdown",
   "metadata": {
    "id": "7QouHiNgcSu9"
   },
   "source": [
    "1. Создайте пустой датафрейм и сохраните его в переменную"
   ]
  },
  {
   "cell_type": "code",
   "execution_count": 18,
   "metadata": {
    "id": "mTExvtFSaF1h"
   },
   "outputs": [
    {
     "data": {
      "text/html": [
       "<div>\n",
       "<style scoped>\n",
       "    .dataframe tbody tr th:only-of-type {\n",
       "        vertical-align: middle;\n",
       "    }\n",
       "\n",
       "    .dataframe tbody tr th {\n",
       "        vertical-align: top;\n",
       "    }\n",
       "\n",
       "    .dataframe thead th {\n",
       "        text-align: right;\n",
       "    }\n",
       "</style>\n",
       "<table border=\"1\" class=\"dataframe\">\n",
       "  <thead>\n",
       "    <tr style=\"text-align: right;\">\n",
       "      <th></th>\n",
       "    </tr>\n",
       "  </thead>\n",
       "  <tbody>\n",
       "  </tbody>\n",
       "</table>\n",
       "</div>"
      ],
      "text/plain": [
       "Empty DataFrame\n",
       "Columns: []\n",
       "Index: []"
      ]
     },
     "execution_count": 18,
     "metadata": {},
     "output_type": "execute_result"
    }
   ],
   "source": [
    "# код здесь\n",
    "\n",
    "df = pd.DataFrame()\n",
    "\n",
    "df"
   ]
  },
  {
   "cell_type": "markdown",
   "metadata": {
    "id": "Q-h7GIJIcX-O"
   },
   "source": [
    "2. Создайте в нем две колонки (`height` и `weight`) и в каждую из них запишите соответствующий список (см. скриншот)"
   ]
  },
  {
   "cell_type": "code",
   "execution_count": 20,
   "metadata": {
    "colab": {
     "base_uri": "https://localhost:8080/",
     "height": 143
    },
    "id": "UQfdd9fdZzhm",
    "outputId": "5848de09-7c0d-4143-cf66-d47f9efcafd5"
   },
   "outputs": [
    {
     "data": {
      "text/html": [
       "<div>\n",
       "<style scoped>\n",
       "    .dataframe tbody tr th:only-of-type {\n",
       "        vertical-align: middle;\n",
       "    }\n",
       "\n",
       "    .dataframe tbody tr th {\n",
       "        vertical-align: top;\n",
       "    }\n",
       "\n",
       "    .dataframe thead th {\n",
       "        text-align: right;\n",
       "    }\n",
       "</style>\n",
       "<table border=\"1\" class=\"dataframe\">\n",
       "  <thead>\n",
       "    <tr style=\"text-align: right;\">\n",
       "      <th></th>\n",
       "      <th>height</th>\n",
       "      <th>weight</th>\n",
       "    </tr>\n",
       "  </thead>\n",
       "  <tbody>\n",
       "    <tr>\n",
       "      <th>0</th>\n",
       "      <td>170</td>\n",
       "      <td>68</td>\n",
       "    </tr>\n",
       "    <tr>\n",
       "      <th>1</th>\n",
       "      <td>165</td>\n",
       "      <td>45</td>\n",
       "    </tr>\n",
       "    <tr>\n",
       "      <th>2</th>\n",
       "      <td>180</td>\n",
       "      <td>90</td>\n",
       "    </tr>\n",
       "  </tbody>\n",
       "</table>\n",
       "</div>"
      ],
      "text/plain": [
       "   height  weight\n",
       "0     170      68\n",
       "1     165      45\n",
       "2     180      90"
      ]
     },
     "execution_count": 20,
     "metadata": {},
     "output_type": "execute_result"
    }
   ],
   "source": [
    "# код здесь\n",
    "df['height'] = [170, 165, 180]\n",
    "df['weight'] = [68, 45, 90]\n",
    "df"
   ]
  },
  {
   "cell_type": "markdown",
   "metadata": {
    "id": "CGxNWbpJcp3_"
   },
   "source": [
    "3. Замените колонку индексов на имена трех студентов"
   ]
  },
  {
   "cell_type": "code",
   "execution_count": 21,
   "metadata": {
    "id": "aXUxS4HFaLLC"
   },
   "outputs": [
    {
     "data": {
      "text/html": [
       "<div>\n",
       "<style scoped>\n",
       "    .dataframe tbody tr th:only-of-type {\n",
       "        vertical-align: middle;\n",
       "    }\n",
       "\n",
       "    .dataframe tbody tr th {\n",
       "        vertical-align: top;\n",
       "    }\n",
       "\n",
       "    .dataframe thead th {\n",
       "        text-align: right;\n",
       "    }\n",
       "</style>\n",
       "<table border=\"1\" class=\"dataframe\">\n",
       "  <thead>\n",
       "    <tr style=\"text-align: right;\">\n",
       "      <th></th>\n",
       "      <th>height</th>\n",
       "      <th>weight</th>\n",
       "    </tr>\n",
       "  </thead>\n",
       "  <tbody>\n",
       "    <tr>\n",
       "      <th>Lisa</th>\n",
       "      <td>170</td>\n",
       "      <td>68</td>\n",
       "    </tr>\n",
       "    <tr>\n",
       "      <th>Alice</th>\n",
       "      <td>165</td>\n",
       "      <td>45</td>\n",
       "    </tr>\n",
       "    <tr>\n",
       "      <th>Mark</th>\n",
       "      <td>180</td>\n",
       "      <td>90</td>\n",
       "    </tr>\n",
       "  </tbody>\n",
       "</table>\n",
       "</div>"
      ],
      "text/plain": [
       "       height  weight\n",
       "Lisa      170      68\n",
       "Alice     165      45\n",
       "Mark      180      90"
      ]
     },
     "execution_count": 21,
     "metadata": {},
     "output_type": "execute_result"
    }
   ],
   "source": [
    "# код здесь\n",
    "df.index = ['Lisa', 'Alice', 'Mark']\n",
    "df"
   ]
  },
  {
   "cell_type": "markdown",
   "metadata": {
    "id": "MNuZxddlc531"
   },
   "source": [
    "4. Выведите вес для `Alice`, обратившись по лейблу ряда"
   ]
  },
  {
   "cell_type": "code",
   "execution_count": 22,
   "metadata": {
    "colab": {
     "base_uri": "https://localhost:8080/"
    },
    "id": "kC0ujGVdbFTa",
    "outputId": "832ec65a-44fa-417a-9240-dbafd0a0f4bb"
   },
   "outputs": [
    {
     "data": {
      "text/plain": [
       "45"
      ]
     },
     "execution_count": 22,
     "metadata": {},
     "output_type": "execute_result"
    }
   ],
   "source": [
    "# код здесь\n",
    "df['weight'][1]"
   ]
  },
  {
   "cell_type": "markdown",
   "metadata": {},
   "source": [
    "5. Выведите рост для `Mark`, обратившись по порядковому индексу ряда"
   ]
  },
  {
   "cell_type": "code",
   "execution_count": 23,
   "metadata": {},
   "outputs": [
    {
     "data": {
      "text/plain": [
       "180"
      ]
     },
     "execution_count": 23,
     "metadata": {},
     "output_type": "execute_result"
    }
   ],
   "source": [
    "# код здесь\n",
    "df.iloc[2]['height']"
   ]
  },
  {
   "cell_type": "markdown",
   "metadata": {
    "id": "HVYdBkQPT7GK"
   },
   "source": [
    "6. Создайте новую колонку `bmi` (индекс массы тела). Формула расчета `bmi`:\n",
    "$$bmi=\\frac{weight}{height^2}$$"
   ]
  },
  {
   "cell_type": "code",
   "execution_count": 24,
   "metadata": {},
   "outputs": [
    {
     "data": {
      "text/html": [
       "<div>\n",
       "<style scoped>\n",
       "    .dataframe tbody tr th:only-of-type {\n",
       "        vertical-align: middle;\n",
       "    }\n",
       "\n",
       "    .dataframe tbody tr th {\n",
       "        vertical-align: top;\n",
       "    }\n",
       "\n",
       "    .dataframe thead th {\n",
       "        text-align: right;\n",
       "    }\n",
       "</style>\n",
       "<table border=\"1\" class=\"dataframe\">\n",
       "  <thead>\n",
       "    <tr style=\"text-align: right;\">\n",
       "      <th></th>\n",
       "      <th>height</th>\n",
       "      <th>weight</th>\n",
       "      <th>bmi</th>\n",
       "    </tr>\n",
       "  </thead>\n",
       "  <tbody>\n",
       "    <tr>\n",
       "      <th>Lisa</th>\n",
       "      <td>170</td>\n",
       "      <td>68</td>\n",
       "      <td>23.529412</td>\n",
       "    </tr>\n",
       "    <tr>\n",
       "      <th>Alice</th>\n",
       "      <td>165</td>\n",
       "      <td>45</td>\n",
       "      <td>16.528926</td>\n",
       "    </tr>\n",
       "    <tr>\n",
       "      <th>Mark</th>\n",
       "      <td>180</td>\n",
       "      <td>90</td>\n",
       "      <td>27.777778</td>\n",
       "    </tr>\n",
       "  </tbody>\n",
       "</table>\n",
       "</div>"
      ],
      "text/plain": [
       "       height  weight        bmi\n",
       "Lisa      170      68  23.529412\n",
       "Alice     165      45  16.528926\n",
       "Mark      180      90  27.777778"
      ]
     },
     "execution_count": 24,
     "metadata": {},
     "output_type": "execute_result"
    }
   ],
   "source": [
    "# код здесь\n",
    "df['bmi'] = df['weight'] / ((df.height/100) ** 2) # предварительно делю рост на 100, т.к. в реальности, если не ошибаюсь, формула BMI работает с метрами, а не см \n",
    "df"
   ]
  },
  {
   "cell_type": "markdown",
   "metadata": {
    "id": "onpFlJsuVPiK"
   },
   "source": [
    "## NumPy"
   ]
  },
  {
   "cell_type": "markdown",
   "metadata": {},
   "source": [
    "7. Создайте массив `numpy` с оценками студентов: `20, 40, 56, 80, 0, 5, 25, 27, 74, 1, 0`"
   ]
  },
  {
   "cell_type": "code",
   "execution_count": 20,
   "metadata": {
    "id": "cMeZshSmXjMv"
   },
   "outputs": [
    {
     "data": {
      "text/plain": [
       "array([20, 40, 56, 80,  0,  5, 25, 27, 74,  1,  0])"
      ]
     },
     "execution_count": 20,
     "metadata": {},
     "output_type": "execute_result"
    }
   ],
   "source": [
    "# код здесь\n",
    "numpy = np.array([20, 40, 56, 80, 0, 5, 25, 27, 74, 1, 0])\n",
    "numpy"
   ]
  },
  {
   "cell_type": "markdown",
   "metadata": {
    "id": "Ua21SyyDXy0u"
   },
   "source": [
    "8. Отфильтруйте с помощью булевой маски тех студентов, которые получили `0` за работу."
   ]
  },
  {
   "cell_type": "code",
   "execution_count": 22,
   "metadata": {},
   "outputs": [
    {
     "data": {
      "text/plain": [
       "array([0, 0])"
      ]
     },
     "execution_count": 22,
     "metadata": {},
     "output_type": "execute_result"
    }
   ],
   "source": [
    "# код здесь\n",
    "numpy[numpy == 0]"
   ]
  },
  {
   "cell_type": "markdown",
   "metadata": {
    "id": "faLSqOikXz8s"
   },
   "source": [
    "9. С помощью метода `numpy` найдите среднюю оценку и сохраните ее в переменную."
   ]
  },
  {
   "cell_type": "code",
   "execution_count": 23,
   "metadata": {
    "colab": {
     "base_uri": "https://localhost:8080/"
    },
    "id": "q_fNMi8fWWl1",
    "outputId": "878f37b5-63b1-4a46-a096-1610e8943152"
   },
   "outputs": [
    {
     "data": {
      "text/plain": [
       "29.818181818181817"
      ]
     },
     "execution_count": 23,
     "metadata": {},
     "output_type": "execute_result"
    }
   ],
   "source": [
    "# код здесь\n",
    "mean_grade = numpy.mean()\n",
    "mean_grade"
   ]
  },
  {
   "cell_type": "markdown",
   "metadata": {
    "id": "JIIP4YMHYEHr"
   },
   "source": [
    "10. Отфильтруте только тех студентов, которые получили оценку выше среднего."
   ]
  },
  {
   "cell_type": "code",
   "execution_count": 28,
   "metadata": {
    "colab": {
     "base_uri": "https://localhost:8080/"
    },
    "id": "TqqEwuwtWaKz",
    "outputId": "56c76676-14bf-4912-a878-4cbb4239a997"
   },
   "outputs": [
    {
     "name": "stdout",
     "output_type": "stream",
     "text": [
      "[40 56 80 74]\n"
     ]
    },
    {
     "data": {
      "text/plain": [
       "array([False,  True,  True,  True, False, False, False, False,  True,\n",
       "       False, False])"
      ]
     },
     "execution_count": 28,
     "metadata": {},
     "output_type": "execute_result"
    }
   ],
   "source": [
    "# код здесь\n",
    "print(numpy[numpy > mean_grade])\n",
    "numpy > mean_grade"
   ]
  },
  {
   "cell_type": "markdown",
   "metadata": {},
   "source": [
    "## Работа с датасетом (pandas)\n",
    "\n",
    "Будем работать с рейтингом брендов лапши быстрого приготовления. \n",
    "\n",
    "* **Review #**: ID\n",
    "* **Brand**: Бренд\n",
    "* **Variety**: Название продукта\n",
    "* **Style**: Тип упаковки\n",
    "* **Country**: Страна происхождения\n",
    "* **Stars**: Рейтинг\n",
    "* **Top Ten**: Входит ли в топ-10\n",
    "\n",
    "Запустите ячейку ниже, чтобы загрузить данные."
   ]
  },
  {
   "cell_type": "code",
   "execution_count": 3,
   "metadata": {},
   "outputs": [
    {
     "data": {
      "text/html": [
       "<div>\n",
       "<style scoped>\n",
       "    .dataframe tbody tr th:only-of-type {\n",
       "        vertical-align: middle;\n",
       "    }\n",
       "\n",
       "    .dataframe tbody tr th {\n",
       "        vertical-align: top;\n",
       "    }\n",
       "\n",
       "    .dataframe thead th {\n",
       "        text-align: right;\n",
       "    }\n",
       "</style>\n",
       "<table border=\"1\" class=\"dataframe\">\n",
       "  <thead>\n",
       "    <tr style=\"text-align: right;\">\n",
       "      <th></th>\n",
       "      <th>Review #</th>\n",
       "      <th>Brand</th>\n",
       "      <th>Variety</th>\n",
       "      <th>Style</th>\n",
       "      <th>Country</th>\n",
       "      <th>Stars</th>\n",
       "      <th>Top Ten</th>\n",
       "    </tr>\n",
       "  </thead>\n",
       "  <tbody>\n",
       "    <tr>\n",
       "      <th>0</th>\n",
       "      <td>2580</td>\n",
       "      <td>New Touch</td>\n",
       "      <td>T's Restaurant Tantanmen</td>\n",
       "      <td>Cup</td>\n",
       "      <td>Japan</td>\n",
       "      <td>3.75</td>\n",
       "      <td>NaN</td>\n",
       "    </tr>\n",
       "    <tr>\n",
       "      <th>1</th>\n",
       "      <td>2579</td>\n",
       "      <td>Just Way</td>\n",
       "      <td>Noodles Spicy Hot Sesame Spicy Hot Sesame Guan...</td>\n",
       "      <td>Pack</td>\n",
       "      <td>Taiwan</td>\n",
       "      <td>1.00</td>\n",
       "      <td>NaN</td>\n",
       "    </tr>\n",
       "    <tr>\n",
       "      <th>2</th>\n",
       "      <td>2578</td>\n",
       "      <td>Nissin</td>\n",
       "      <td>Cup Noodles Chicken Vegetable</td>\n",
       "      <td>Cup</td>\n",
       "      <td>USA</td>\n",
       "      <td>2.25</td>\n",
       "      <td>NaN</td>\n",
       "    </tr>\n",
       "    <tr>\n",
       "      <th>3</th>\n",
       "      <td>2577</td>\n",
       "      <td>Wei Lih</td>\n",
       "      <td>GGE Ramen Snack Tomato Flavor</td>\n",
       "      <td>Pack</td>\n",
       "      <td>Taiwan</td>\n",
       "      <td>2.75</td>\n",
       "      <td>NaN</td>\n",
       "    </tr>\n",
       "    <tr>\n",
       "      <th>4</th>\n",
       "      <td>2576</td>\n",
       "      <td>Ching's Secret</td>\n",
       "      <td>Singapore Curry</td>\n",
       "      <td>Pack</td>\n",
       "      <td>India</td>\n",
       "      <td>3.75</td>\n",
       "      <td>NaN</td>\n",
       "    </tr>\n",
       "  </tbody>\n",
       "</table>\n",
       "</div>"
      ],
      "text/plain": [
       "   Review #           Brand  \\\n",
       "0      2580       New Touch   \n",
       "1      2579        Just Way   \n",
       "2      2578          Nissin   \n",
       "3      2577         Wei Lih   \n",
       "4      2576  Ching's Secret   \n",
       "\n",
       "                                             Variety Style Country  Stars  \\\n",
       "0                          T's Restaurant Tantanmen    Cup   Japan   3.75   \n",
       "1  Noodles Spicy Hot Sesame Spicy Hot Sesame Guan...  Pack  Taiwan   1.00   \n",
       "2                      Cup Noodles Chicken Vegetable   Cup     USA   2.25   \n",
       "3                      GGE Ramen Snack Tomato Flavor  Pack  Taiwan   2.75   \n",
       "4                                    Singapore Curry  Pack   India   3.75   \n",
       "\n",
       "  Top Ten  \n",
       "0     NaN  \n",
       "1     NaN  \n",
       "2     NaN  \n",
       "3     NaN  \n",
       "4     NaN  "
      ]
     },
     "execution_count": 3,
     "metadata": {},
     "output_type": "execute_result"
    }
   ],
   "source": [
    "ramen = pd.read_csv('https://raw.githubusercontent.com/rogovich/2022_POL_Data_Analysis_in_Python/main/%40HW/HW1/ramen-ratings.csv')\n",
    "ramen.head()"
   ]
  },
  {
   "cell_type": "markdown",
   "metadata": {},
   "source": [
    "11. Выведите информацию о данных (метод `.info()`). Есть ли колонки с пропущенными данными? (напишите ответ в этой ячейке)\n",
    "\n",
    "*Ответ:*"
   ]
  },
  {
   "cell_type": "code",
   "execution_count": 32,
   "metadata": {},
   "outputs": [
    {
     "name": "stdout",
     "output_type": "stream",
     "text": [
      "<class 'pandas.core.frame.DataFrame'>\n",
      "RangeIndex: 2577 entries, 0 to 2576\n",
      "Data columns (total 7 columns):\n",
      " #   Column    Non-Null Count  Dtype  \n",
      "---  ------    --------------  -----  \n",
      " 0   Review #  2577 non-null   int64  \n",
      " 1   Brand     2577 non-null   object \n",
      " 2   Variety   2577 non-null   object \n",
      " 3   Style     2575 non-null   object \n",
      " 4   Country   2577 non-null   object \n",
      " 5   Stars     2577 non-null   float64\n",
      " 6   Top Ten   41 non-null     object \n",
      "dtypes: float64(1), int64(1), object(5)\n",
      "memory usage: 141.1+ KB\n"
     ]
    }
   ],
   "source": [
    "# код здесь\n",
    "ramen.info()\n",
    "# метод info() показал нам, что мы имеем дело с таблицей с 2577 записями (рядами). Далее, по каждой из колонок нам отображается количество непустых ячеек,\n",
    "# исходя из чего можно сделать вывод, что пустые ячейки имеются в столбцах Style (2 штуки), Top Ten (2536 штук)"
   ]
  },
  {
   "cell_type": "markdown",
   "metadata": {},
   "source": [
    "12. Сколько уникальных брендов рамена в наборе данных? Используйте метод `.unique()` для релевантной колонки."
   ]
  },
  {
   "cell_type": "code",
   "execution_count": 40,
   "metadata": {},
   "outputs": [
    {
     "data": {
      "text/plain": [
       "355"
      ]
     },
     "execution_count": 40,
     "metadata": {},
     "output_type": "execute_result"
    }
   ],
   "source": [
    "# код здесь\n",
    "ramen['Brand'].unique().size"
   ]
  },
  {
   "cell_type": "markdown",
   "metadata": {},
   "source": [
    "13. Выведите только те ряды, в которых значение колонки `Style` пропущено (используйте метод `.isna()` для того, чтобы найти пропущенные значения)"
   ]
  },
  {
   "cell_type": "code",
   "execution_count": 42,
   "metadata": {},
   "outputs": [
    {
     "data": {
      "text/html": [
       "<div>\n",
       "<style scoped>\n",
       "    .dataframe tbody tr th:only-of-type {\n",
       "        vertical-align: middle;\n",
       "    }\n",
       "\n",
       "    .dataframe tbody tr th {\n",
       "        vertical-align: top;\n",
       "    }\n",
       "\n",
       "    .dataframe thead th {\n",
       "        text-align: right;\n",
       "    }\n",
       "</style>\n",
       "<table border=\"1\" class=\"dataframe\">\n",
       "  <thead>\n",
       "    <tr style=\"text-align: right;\">\n",
       "      <th></th>\n",
       "      <th>Review #</th>\n",
       "      <th>Brand</th>\n",
       "      <th>Variety</th>\n",
       "      <th>Style</th>\n",
       "      <th>Country</th>\n",
       "      <th>Stars</th>\n",
       "      <th>Top Ten</th>\n",
       "    </tr>\n",
       "  </thead>\n",
       "  <tbody>\n",
       "    <tr>\n",
       "      <th>2149</th>\n",
       "      <td>428</td>\n",
       "      <td>Kamfen</td>\n",
       "      <td>E Menm Chicken</td>\n",
       "      <td>NaN</td>\n",
       "      <td>China</td>\n",
       "      <td>3.75</td>\n",
       "      <td>NaN</td>\n",
       "    </tr>\n",
       "    <tr>\n",
       "      <th>2439</th>\n",
       "      <td>138</td>\n",
       "      <td>Unif</td>\n",
       "      <td>100 Furong Shrimp</td>\n",
       "      <td>NaN</td>\n",
       "      <td>Taiwan</td>\n",
       "      <td>3.00</td>\n",
       "      <td>NaN</td>\n",
       "    </tr>\n",
       "  </tbody>\n",
       "</table>\n",
       "</div>"
      ],
      "text/plain": [
       "      Review #   Brand            Variety Style Country  Stars Top Ten\n",
       "2149       428  Kamfen     E Menm Chicken   NaN   China   3.75     NaN\n",
       "2439       138    Unif  100 Furong Shrimp   NaN  Taiwan   3.00     NaN"
      ]
     },
     "execution_count": 42,
     "metadata": {},
     "output_type": "execute_result"
    }
   ],
   "source": [
    "# код здесь\n",
    "ramen[ramen['Style'].isna()]"
   ]
  },
  {
   "cell_type": "markdown",
   "metadata": {},
   "source": [
    "14. Выведите на экран количество брендов, которые удовлетворяют следующим условиям:\n",
    "\n",
    "* страна происхождения `Malaysia`\n",
    "* ретинг, как минимум 4.5 звезды\n",
    "* стиль упаковки — `pack`\n",
    "\n",
    "Нужно отфильтровать нужные ряды, а затем посмотреть на `.shape` получившегося дата фрейма."
   ]
  },
  {
   "cell_type": "code",
   "execution_count": 55,
   "metadata": {},
   "outputs": [
    {
     "data": {
      "text/plain": [
       "(17,)"
      ]
     },
     "execution_count": 55,
     "metadata": {},
     "output_type": "execute_result"
    }
   ],
   "source": [
    "# код здесь\n",
    "ramen[(ramen['Country'] == 'Malaysia') & (ramen['Stars'] >= 4.5) & (ramen['Style'] == 'Pack')]['Brand'].unique().shape"
   ]
  },
  {
   "cell_type": "markdown",
   "metadata": {},
   "source": [
    "15. Найдите средний рейтинг лапши японских брендов (`Japan`). Отфильтруйте нужные ряды, а потом примените метод для нахождения среднего на колонку рейтинга."
   ]
  },
  {
   "cell_type": "code",
   "execution_count": 57,
   "metadata": {},
   "outputs": [
    {
     "data": {
      "text/plain": [
       "3.981605113636364"
      ]
     },
     "execution_count": 57,
     "metadata": {},
     "output_type": "execute_result"
    }
   ],
   "source": [
    "# код здесь\n",
    "ramen[ramen['Country'] == 'Japan']['Stars'].mean()"
   ]
  },
  {
   "cell_type": "markdown",
   "metadata": {},
   "source": [
    "16. Создайте новую бинарную переменную с помощью функции `np.where` — только тайваньские бренды (`Taiwan`), рейтинг которых больше 4."
   ]
  },
  {
   "cell_type": "code",
   "execution_count": 70,
   "metadata": {},
   "outputs": [],
   "source": [
    "# код здесь\n",
    "ramen['Binary'] = np.where((ramen['Country'] == 'Taiwan') & (ramen['Stars'] > 4), 1, 0)"
   ]
  },
  {
   "cell_type": "markdown",
   "metadata": {},
   "source": [
    "17. Определите функцию `get_ranking`, которая возвращает строки на основании рейтинга лапши:\n",
    "\n",
    "* < 2 — 'poor'\n",
    "* < 3.5 — 'average'\n",
    "* < 4.5 — 'good.\n",
    "* 4.5 и больше — 'excellent'"
   ]
  },
  {
   "cell_type": "code",
   "execution_count": 10,
   "metadata": {},
   "outputs": [],
   "source": [
    "# код здесь\n",
    "def get_ranking(a):\n",
    "    if a >= 4.5:\n",
    "        return 'excellent'\n",
    "    elif a >= 3.5:\n",
    "        return 'good'\n",
    "    elif a >= 2:\n",
    "        return 'average'\n",
    "    elif a < 2:\n",
    "        return 'poor'"
   ]
  },
  {
   "cell_type": "markdown",
   "metadata": {},
   "source": [
    "18. Примените функцию `get_ranking` к колонке с рейтингом и запишите результат в новую переменную."
   ]
  },
  {
   "cell_type": "code",
   "execution_count": 13,
   "metadata": {},
   "outputs": [
    {
     "data": {
      "text/html": [
       "<div>\n",
       "<style scoped>\n",
       "    .dataframe tbody tr th:only-of-type {\n",
       "        vertical-align: middle;\n",
       "    }\n",
       "\n",
       "    .dataframe tbody tr th {\n",
       "        vertical-align: top;\n",
       "    }\n",
       "\n",
       "    .dataframe thead th {\n",
       "        text-align: right;\n",
       "    }\n",
       "</style>\n",
       "<table border=\"1\" class=\"dataframe\">\n",
       "  <thead>\n",
       "    <tr style=\"text-align: right;\">\n",
       "      <th></th>\n",
       "      <th>Review #</th>\n",
       "      <th>Brand</th>\n",
       "      <th>Variety</th>\n",
       "      <th>Style</th>\n",
       "      <th>Country</th>\n",
       "      <th>Stars</th>\n",
       "      <th>Top Ten</th>\n",
       "      <th>Ranking</th>\n",
       "    </tr>\n",
       "  </thead>\n",
       "  <tbody>\n",
       "    <tr>\n",
       "      <th>0</th>\n",
       "      <td>2580</td>\n",
       "      <td>New Touch</td>\n",
       "      <td>T's Restaurant Tantanmen</td>\n",
       "      <td>Cup</td>\n",
       "      <td>Japan</td>\n",
       "      <td>3.75</td>\n",
       "      <td>NaN</td>\n",
       "      <td>good</td>\n",
       "    </tr>\n",
       "    <tr>\n",
       "      <th>1</th>\n",
       "      <td>2579</td>\n",
       "      <td>Just Way</td>\n",
       "      <td>Noodles Spicy Hot Sesame Spicy Hot Sesame Guan...</td>\n",
       "      <td>Pack</td>\n",
       "      <td>Taiwan</td>\n",
       "      <td>1.00</td>\n",
       "      <td>NaN</td>\n",
       "      <td>poor</td>\n",
       "    </tr>\n",
       "    <tr>\n",
       "      <th>2</th>\n",
       "      <td>2578</td>\n",
       "      <td>Nissin</td>\n",
       "      <td>Cup Noodles Chicken Vegetable</td>\n",
       "      <td>Cup</td>\n",
       "      <td>USA</td>\n",
       "      <td>2.25</td>\n",
       "      <td>NaN</td>\n",
       "      <td>average</td>\n",
       "    </tr>\n",
       "    <tr>\n",
       "      <th>3</th>\n",
       "      <td>2577</td>\n",
       "      <td>Wei Lih</td>\n",
       "      <td>GGE Ramen Snack Tomato Flavor</td>\n",
       "      <td>Pack</td>\n",
       "      <td>Taiwan</td>\n",
       "      <td>2.75</td>\n",
       "      <td>NaN</td>\n",
       "      <td>average</td>\n",
       "    </tr>\n",
       "    <tr>\n",
       "      <th>4</th>\n",
       "      <td>2576</td>\n",
       "      <td>Ching's Secret</td>\n",
       "      <td>Singapore Curry</td>\n",
       "      <td>Pack</td>\n",
       "      <td>India</td>\n",
       "      <td>3.75</td>\n",
       "      <td>NaN</td>\n",
       "      <td>good</td>\n",
       "    </tr>\n",
       "    <tr>\n",
       "      <th>...</th>\n",
       "      <td>...</td>\n",
       "      <td>...</td>\n",
       "      <td>...</td>\n",
       "      <td>...</td>\n",
       "      <td>...</td>\n",
       "      <td>...</td>\n",
       "      <td>...</td>\n",
       "      <td>...</td>\n",
       "    </tr>\n",
       "    <tr>\n",
       "      <th>2572</th>\n",
       "      <td>5</td>\n",
       "      <td>Vifon</td>\n",
       "      <td>Hu Tiu Nam Vang [\"Phnom Penh\" style] Asian Sty...</td>\n",
       "      <td>Bowl</td>\n",
       "      <td>Vietnam</td>\n",
       "      <td>3.50</td>\n",
       "      <td>NaN</td>\n",
       "      <td>good</td>\n",
       "    </tr>\n",
       "    <tr>\n",
       "      <th>2573</th>\n",
       "      <td>4</td>\n",
       "      <td>Wai Wai</td>\n",
       "      <td>Oriental Style Instant Noodles</td>\n",
       "      <td>Pack</td>\n",
       "      <td>Thailand</td>\n",
       "      <td>1.00</td>\n",
       "      <td>NaN</td>\n",
       "      <td>poor</td>\n",
       "    </tr>\n",
       "    <tr>\n",
       "      <th>2574</th>\n",
       "      <td>3</td>\n",
       "      <td>Wai Wai</td>\n",
       "      <td>Tom Yum Shrimp</td>\n",
       "      <td>Pack</td>\n",
       "      <td>Thailand</td>\n",
       "      <td>2.00</td>\n",
       "      <td>NaN</td>\n",
       "      <td>average</td>\n",
       "    </tr>\n",
       "    <tr>\n",
       "      <th>2575</th>\n",
       "      <td>2</td>\n",
       "      <td>Wai Wai</td>\n",
       "      <td>Tom Yum Chili Flavor</td>\n",
       "      <td>Pack</td>\n",
       "      <td>Thailand</td>\n",
       "      <td>2.00</td>\n",
       "      <td>NaN</td>\n",
       "      <td>average</td>\n",
       "    </tr>\n",
       "    <tr>\n",
       "      <th>2576</th>\n",
       "      <td>1</td>\n",
       "      <td>Westbrae</td>\n",
       "      <td>Miso Ramen</td>\n",
       "      <td>Pack</td>\n",
       "      <td>USA</td>\n",
       "      <td>0.50</td>\n",
       "      <td>NaN</td>\n",
       "      <td>poor</td>\n",
       "    </tr>\n",
       "  </tbody>\n",
       "</table>\n",
       "<p>2577 rows × 8 columns</p>\n",
       "</div>"
      ],
      "text/plain": [
       "      Review #           Brand  \\\n",
       "0         2580       New Touch   \n",
       "1         2579        Just Way   \n",
       "2         2578          Nissin   \n",
       "3         2577         Wei Lih   \n",
       "4         2576  Ching's Secret   \n",
       "...        ...             ...   \n",
       "2572         5           Vifon   \n",
       "2573         4         Wai Wai   \n",
       "2574         3         Wai Wai   \n",
       "2575         2         Wai Wai   \n",
       "2576         1        Westbrae   \n",
       "\n",
       "                                                Variety Style   Country  \\\n",
       "0                             T's Restaurant Tantanmen    Cup     Japan   \n",
       "1     Noodles Spicy Hot Sesame Spicy Hot Sesame Guan...  Pack    Taiwan   \n",
       "2                         Cup Noodles Chicken Vegetable   Cup       USA   \n",
       "3                         GGE Ramen Snack Tomato Flavor  Pack    Taiwan   \n",
       "4                                       Singapore Curry  Pack     India   \n",
       "...                                                 ...   ...       ...   \n",
       "2572  Hu Tiu Nam Vang [\"Phnom Penh\" style] Asian Sty...  Bowl   Vietnam   \n",
       "2573                     Oriental Style Instant Noodles  Pack  Thailand   \n",
       "2574                                     Tom Yum Shrimp  Pack  Thailand   \n",
       "2575                               Tom Yum Chili Flavor  Pack  Thailand   \n",
       "2576                                         Miso Ramen  Pack       USA   \n",
       "\n",
       "      Stars Top Ten  Ranking  \n",
       "0      3.75     NaN     good  \n",
       "1      1.00     NaN     poor  \n",
       "2      2.25     NaN  average  \n",
       "3      2.75     NaN  average  \n",
       "4      3.75     NaN     good  \n",
       "...     ...     ...      ...  \n",
       "2572   3.50     NaN     good  \n",
       "2573   1.00     NaN     poor  \n",
       "2574   2.00     NaN  average  \n",
       "2575   2.00     NaN  average  \n",
       "2576   0.50     NaN     poor  \n",
       "\n",
       "[2577 rows x 8 columns]"
      ]
     },
     "execution_count": 13,
     "metadata": {},
     "output_type": "execute_result"
    }
   ],
   "source": [
    "# код здесь\n",
    "ramen['Ranking'] = ramen['Stars'].apply(get_ranking)\n",
    "ramen"
   ]
  },
  {
   "cell_type": "markdown",
   "metadata": {},
   "source": [
    "19. Сколько брендов из США попадают в категорию `'good'` (используйте переменные, созданные на двух предыдущих этапов)"
   ]
  },
  {
   "cell_type": "code",
   "execution_count": 96,
   "metadata": {},
   "outputs": [
    {
     "data": {
      "text/plain": [
       "(158, 9)"
      ]
     },
     "execution_count": 96,
     "metadata": {},
     "output_type": "execute_result"
    }
   ],
   "source": [
    "# код здесь\n",
    "ramen[(ramen['Country'] == 'USA') & (ramen['Ranking'] == 'good')].shape"
   ]
  },
  {
   "cell_type": "markdown",
   "metadata": {},
   "source": [
    "20. Отфильтруйте только те ряды, которые входят в `Top Ten` (это те ряды, в которых НЕТ пропущенных значений в этой колонке). Для отрицания используем значок тильды `~`"
   ]
  },
  {
   "cell_type": "code",
   "execution_count": 8,
   "metadata": {},
   "outputs": [
    {
     "data": {
      "text/html": [
       "<div>\n",
       "<style scoped>\n",
       "    .dataframe tbody tr th:only-of-type {\n",
       "        vertical-align: middle;\n",
       "    }\n",
       "\n",
       "    .dataframe tbody tr th {\n",
       "        vertical-align: top;\n",
       "    }\n",
       "\n",
       "    .dataframe thead th {\n",
       "        text-align: right;\n",
       "    }\n",
       "</style>\n",
       "<table border=\"1\" class=\"dataframe\">\n",
       "  <thead>\n",
       "    <tr style=\"text-align: right;\">\n",
       "      <th></th>\n",
       "      <th>Review #</th>\n",
       "      <th>Brand</th>\n",
       "      <th>Variety</th>\n",
       "      <th>Style</th>\n",
       "      <th>Country</th>\n",
       "      <th>Stars</th>\n",
       "      <th>Top Ten</th>\n",
       "    </tr>\n",
       "  </thead>\n",
       "  <tbody>\n",
       "    <tr>\n",
       "      <th>614</th>\n",
       "      <td>1964</td>\n",
       "      <td>MAMA</td>\n",
       "      <td>Instant Noodles Coconut Milk Flavour</td>\n",
       "      <td>Pack</td>\n",
       "      <td>Myanmar</td>\n",
       "      <td>5.00</td>\n",
       "      <td>2016 #10</td>\n",
       "    </tr>\n",
       "    <tr>\n",
       "      <th>631</th>\n",
       "      <td>1947</td>\n",
       "      <td>Prima Taste</td>\n",
       "      <td>Singapore Laksa Wholegrain La Mian</td>\n",
       "      <td>Pack</td>\n",
       "      <td>Singapore</td>\n",
       "      <td>5.00</td>\n",
       "      <td>2016 #1</td>\n",
       "    </tr>\n",
       "    <tr>\n",
       "      <th>653</th>\n",
       "      <td>1925</td>\n",
       "      <td>Prima</td>\n",
       "      <td>Juzz's Mee Creamy Chicken Flavour</td>\n",
       "      <td>Pack</td>\n",
       "      <td>Singapore</td>\n",
       "      <td>5.00</td>\n",
       "      <td>2016 #8</td>\n",
       "    </tr>\n",
       "    <tr>\n",
       "      <th>671</th>\n",
       "      <td>1907</td>\n",
       "      <td>Prima Taste</td>\n",
       "      <td>Singapore Curry Wholegrain La Mian</td>\n",
       "      <td>Pack</td>\n",
       "      <td>Singapore</td>\n",
       "      <td>5.00</td>\n",
       "      <td>2016 #5</td>\n",
       "    </tr>\n",
       "    <tr>\n",
       "      <th>750</th>\n",
       "      <td>1828</td>\n",
       "      <td>Tseng Noodles</td>\n",
       "      <td>Scallion With Sichuan Pepper  Flavor</td>\n",
       "      <td>Pack</td>\n",
       "      <td>Taiwan</td>\n",
       "      <td>5.00</td>\n",
       "      <td>2016 #9</td>\n",
       "    </tr>\n",
       "    <tr>\n",
       "      <th>889</th>\n",
       "      <td>1689</td>\n",
       "      <td>Wugudaochang</td>\n",
       "      <td>Tomato Beef Brisket Flavor Purple Potato Noodle</td>\n",
       "      <td>Pack</td>\n",
       "      <td>China</td>\n",
       "      <td>5.00</td>\n",
       "      <td>2016 #7</td>\n",
       "    </tr>\n",
       "    <tr>\n",
       "      <th>940</th>\n",
       "      <td>1638</td>\n",
       "      <td>A-Sha Dry Noodle</td>\n",
       "      <td>Veggie Noodle Tomato Noodle With Vine Ripened ...</td>\n",
       "      <td>Pack</td>\n",
       "      <td>Taiwan</td>\n",
       "      <td>5.00</td>\n",
       "      <td>2015 #10</td>\n",
       "    </tr>\n",
       "    <tr>\n",
       "      <th>961</th>\n",
       "      <td>1617</td>\n",
       "      <td>MyKuali</td>\n",
       "      <td>Penang Hokkien Prawn Noodle (New Improved Taste)</td>\n",
       "      <td>Pack</td>\n",
       "      <td>Malaysia</td>\n",
       "      <td>5.00</td>\n",
       "      <td>2015 #7</td>\n",
       "    </tr>\n",
       "    <tr>\n",
       "      <th>992</th>\n",
       "      <td>1585</td>\n",
       "      <td>CarJEN</td>\n",
       "      <td>Nyonya Curry Laksa</td>\n",
       "      <td>Pack</td>\n",
       "      <td>Malaysia</td>\n",
       "      <td>5.00</td>\n",
       "      <td>2015 #4</td>\n",
       "    </tr>\n",
       "    <tr>\n",
       "      <th>1056</th>\n",
       "      <td>1521</td>\n",
       "      <td>Maruchan</td>\n",
       "      <td>Gotsumori Sauce Yakisoba</td>\n",
       "      <td>Tray</td>\n",
       "      <td>Japan</td>\n",
       "      <td>5.00</td>\n",
       "      <td>2015 #9</td>\n",
       "    </tr>\n",
       "    <tr>\n",
       "      <th>1069</th>\n",
       "      <td>1508</td>\n",
       "      <td>Mamee</td>\n",
       "      <td>Chef Gold Recipe Mi Kari Seribu Rasa</td>\n",
       "      <td>Pack</td>\n",
       "      <td>Malaysia</td>\n",
       "      <td>5.00</td>\n",
       "      <td>2015 #6</td>\n",
       "    </tr>\n",
       "    <tr>\n",
       "      <th>1077</th>\n",
       "      <td>1500</td>\n",
       "      <td>MyKuali</td>\n",
       "      <td>Penang Red Tom Yum Goong Noodle</td>\n",
       "      <td>Pack</td>\n",
       "      <td>Malaysia</td>\n",
       "      <td>5.00</td>\n",
       "      <td>2015 #1</td>\n",
       "    </tr>\n",
       "    <tr>\n",
       "      <th>1106</th>\n",
       "      <td>1471</td>\n",
       "      <td>Mama</td>\n",
       "      <td>Instant Noodles Shrimp Creamy Tom Yum Flavour ...</td>\n",
       "      <td>Pack</td>\n",
       "      <td>Thailand</td>\n",
       "      <td>5.00</td>\n",
       "      <td>2013 #10</td>\n",
       "    </tr>\n",
       "    <tr>\n",
       "      <th>1111</th>\n",
       "      <td>1466</td>\n",
       "      <td>Mama</td>\n",
       "      <td>Oriental Style Instant Noodles Green Curry Fla...</td>\n",
       "      <td>Pack</td>\n",
       "      <td>Thailand</td>\n",
       "      <td>5.00</td>\n",
       "      <td>2015 #8</td>\n",
       "    </tr>\n",
       "    <tr>\n",
       "      <th>1227</th>\n",
       "      <td>1350</td>\n",
       "      <td>Mamee</td>\n",
       "      <td>Chef Curry Laksa Flavour</td>\n",
       "      <td>Pack</td>\n",
       "      <td>Malaysia</td>\n",
       "      <td>5.00</td>\n",
       "      <td>2014 #7</td>\n",
       "    </tr>\n",
       "    <tr>\n",
       "      <th>1247</th>\n",
       "      <td>1330</td>\n",
       "      <td>Sapporo Ichiban</td>\n",
       "      <td>Otafuku Okonomi Sauce Yakisoba</td>\n",
       "      <td>Tray</td>\n",
       "      <td>Japan</td>\n",
       "      <td>5.00</td>\n",
       "      <td>2014 #4</td>\n",
       "    </tr>\n",
       "    <tr>\n",
       "      <th>1269</th>\n",
       "      <td>1308</td>\n",
       "      <td>Nongshim</td>\n",
       "      <td>Soon Veggie Noodle Soup</td>\n",
       "      <td>Pack</td>\n",
       "      <td>South Korea</td>\n",
       "      <td>5.00</td>\n",
       "      <td>2014 #9</td>\n",
       "    </tr>\n",
       "    <tr>\n",
       "      <th>1275</th>\n",
       "      <td>1302</td>\n",
       "      <td>Mama</td>\n",
       "      <td>Instant Noodles Yentafo Tom Yum Mohfai Flavour</td>\n",
       "      <td>Pack</td>\n",
       "      <td>Thailand</td>\n",
       "      <td>5.00</td>\n",
       "      <td>2014 #10</td>\n",
       "    </tr>\n",
       "    <tr>\n",
       "      <th>1306</th>\n",
       "      <td>1271</td>\n",
       "      <td>Prima Taste</td>\n",
       "      <td>Singapore Chilli Crab La Mian</td>\n",
       "      <td>Pack</td>\n",
       "      <td>Singapore</td>\n",
       "      <td>5.00</td>\n",
       "      <td>2014 #8</td>\n",
       "    </tr>\n",
       "    <tr>\n",
       "      <th>1379</th>\n",
       "      <td>1198</td>\n",
       "      <td>Samyang Foods</td>\n",
       "      <td>Maesaengyitangmyun Baked Noodle</td>\n",
       "      <td>Pack</td>\n",
       "      <td>South Korea</td>\n",
       "      <td>5.00</td>\n",
       "      <td>2014 #5</td>\n",
       "    </tr>\n",
       "    <tr>\n",
       "      <th>1394</th>\n",
       "      <td>1183</td>\n",
       "      <td>Paldo</td>\n",
       "      <td>Cheese Noodle</td>\n",
       "      <td>Pack</td>\n",
       "      <td>South Korea</td>\n",
       "      <td>5.00</td>\n",
       "      <td>2014 #6</td>\n",
       "    </tr>\n",
       "    <tr>\n",
       "      <th>1490</th>\n",
       "      <td>1087</td>\n",
       "      <td>MyKuali</td>\n",
       "      <td>Penang White Curry Noodle</td>\n",
       "      <td>Pack</td>\n",
       "      <td>Malaysia</td>\n",
       "      <td>5.00</td>\n",
       "      <td>2014 #1</td>\n",
       "    </tr>\n",
       "    <tr>\n",
       "      <th>1585</th>\n",
       "      <td>992</td>\n",
       "      <td>Prima Taste</td>\n",
       "      <td>Singapore Laksa La Mian</td>\n",
       "      <td>Pack</td>\n",
       "      <td>Singapore</td>\n",
       "      <td>5.00</td>\n",
       "      <td>2013 #1</td>\n",
       "    </tr>\n",
       "    <tr>\n",
       "      <th>1586</th>\n",
       "      <td>991</td>\n",
       "      <td>Prima Taste</td>\n",
       "      <td>Singapore Curry La Mian</td>\n",
       "      <td>Pack</td>\n",
       "      <td>Singapore</td>\n",
       "      <td>5.00</td>\n",
       "      <td>2013 #2</td>\n",
       "    </tr>\n",
       "    <tr>\n",
       "      <th>1643</th>\n",
       "      <td>934</td>\n",
       "      <td>Nongshim</td>\n",
       "      <td>Jinjja Jinjja Flamin' Hot &amp; Nutty</td>\n",
       "      <td>Pack</td>\n",
       "      <td>USA</td>\n",
       "      <td>5.00</td>\n",
       "      <td>2013 #4</td>\n",
       "    </tr>\n",
       "    <tr>\n",
       "      <th>1754</th>\n",
       "      <td>823</td>\n",
       "      <td>Paldo</td>\n",
       "      <td>Kokomen Spicy Chicken</td>\n",
       "      <td>Pack</td>\n",
       "      <td>South Korea</td>\n",
       "      <td>5.00</td>\n",
       "      <td>2013 #9</td>\n",
       "    </tr>\n",
       "    <tr>\n",
       "      <th>1862</th>\n",
       "      <td>715</td>\n",
       "      <td>Indomie</td>\n",
       "      <td>Mi Goreng Rendang (Import)</td>\n",
       "      <td>Pack</td>\n",
       "      <td>Indonesia</td>\n",
       "      <td>5.00</td>\n",
       "      <td>2013 #3</td>\n",
       "    </tr>\n",
       "    <tr>\n",
       "      <th>1969</th>\n",
       "      <td>608</td>\n",
       "      <td>Koka</td>\n",
       "      <td>Spicy Black Pepper</td>\n",
       "      <td>Pack</td>\n",
       "      <td>Singapore</td>\n",
       "      <td>5.00</td>\n",
       "      <td>2012 #10</td>\n",
       "    </tr>\n",
       "    <tr>\n",
       "      <th>1999</th>\n",
       "      <td>578</td>\n",
       "      <td>Nongshim</td>\n",
       "      <td>Shin Ramyun Black</td>\n",
       "      <td>Pack</td>\n",
       "      <td>South Korea</td>\n",
       "      <td>4.75</td>\n",
       "      <td>2012 #7</td>\n",
       "    </tr>\n",
       "    <tr>\n",
       "      <th>2143</th>\n",
       "      <td>434</td>\n",
       "      <td>Mi Sedaap</td>\n",
       "      <td>Kari Spesial</td>\n",
       "      <td>Pack</td>\n",
       "      <td>Indonesia</td>\n",
       "      <td>4.50</td>\n",
       "      <td>2012 #5</td>\n",
       "    </tr>\n",
       "    <tr>\n",
       "      <th>2185</th>\n",
       "      <td>392</td>\n",
       "      <td>Nissin</td>\n",
       "      <td>Yakisoba Noodles Karashi</td>\n",
       "      <td>Tray</td>\n",
       "      <td>Japan</td>\n",
       "      <td>5.00</td>\n",
       "      <td>2012 #3</td>\n",
       "    </tr>\n",
       "    <tr>\n",
       "      <th>2186</th>\n",
       "      <td>391</td>\n",
       "      <td>Myojo</td>\n",
       "      <td>Hyoubanya No Chukasoba Oriental</td>\n",
       "      <td>Pack</td>\n",
       "      <td>Japan</td>\n",
       "      <td>4.25</td>\n",
       "      <td>2012 #6</td>\n",
       "    </tr>\n",
       "    <tr>\n",
       "      <th>2292</th>\n",
       "      <td>285</td>\n",
       "      <td>Doll</td>\n",
       "      <td>Artificial Chicken</td>\n",
       "      <td>Pack</td>\n",
       "      <td>Hong Kong</td>\n",
       "      <td>4.50</td>\n",
       "      <td>2012 #9</td>\n",
       "    </tr>\n",
       "    <tr>\n",
       "      <th>2472</th>\n",
       "      <td>105</td>\n",
       "      <td>Indomie</td>\n",
       "      <td>Special Fried Curly Noodle</td>\n",
       "      <td>Pack</td>\n",
       "      <td>Indonesia</td>\n",
       "      <td>5.00</td>\n",
       "      <td>2012 #1</td>\n",
       "    </tr>\n",
       "    <tr>\n",
       "      <th>2530</th>\n",
       "      <td>47</td>\n",
       "      <td>Indomie</td>\n",
       "      <td>Mi Goreng Jumbo Barbecue Chicken</td>\n",
       "      <td>Pack</td>\n",
       "      <td>Indonesia</td>\n",
       "      <td>5.00</td>\n",
       "      <td>2012 #2</td>\n",
       "    </tr>\n",
       "    <tr>\n",
       "      <th>2546</th>\n",
       "      <td>31</td>\n",
       "      <td>Myojo</td>\n",
       "      <td>Ippeichan Yakisoba</td>\n",
       "      <td>Tray</td>\n",
       "      <td>Japan</td>\n",
       "      <td>4.00</td>\n",
       "      <td>2013 #6</td>\n",
       "    </tr>\n",
       "    <tr>\n",
       "      <th>2564</th>\n",
       "      <td>13</td>\n",
       "      <td>Sapporo Ichiban</td>\n",
       "      <td>Chow Mein</td>\n",
       "      <td>Pack</td>\n",
       "      <td>Japan</td>\n",
       "      <td>5.00</td>\n",
       "      <td>2012 #4</td>\n",
       "    </tr>\n",
       "  </tbody>\n",
       "</table>\n",
       "</div>"
      ],
      "text/plain": [
       "      Review #             Brand  \\\n",
       "614       1964              MAMA   \n",
       "631       1947       Prima Taste   \n",
       "653       1925             Prima   \n",
       "671       1907       Prima Taste   \n",
       "750       1828     Tseng Noodles   \n",
       "889       1689      Wugudaochang   \n",
       "940       1638  A-Sha Dry Noodle   \n",
       "961       1617           MyKuali   \n",
       "992       1585            CarJEN   \n",
       "1056      1521          Maruchan   \n",
       "1069      1508             Mamee   \n",
       "1077      1500           MyKuali   \n",
       "1106      1471              Mama   \n",
       "1111      1466              Mama   \n",
       "1227      1350             Mamee   \n",
       "1247      1330   Sapporo Ichiban   \n",
       "1269      1308          Nongshim   \n",
       "1275      1302              Mama   \n",
       "1306      1271       Prima Taste   \n",
       "1379      1198     Samyang Foods   \n",
       "1394      1183             Paldo   \n",
       "1490      1087           MyKuali   \n",
       "1585       992       Prima Taste   \n",
       "1586       991       Prima Taste   \n",
       "1643       934          Nongshim   \n",
       "1754       823             Paldo   \n",
       "1862       715           Indomie   \n",
       "1969       608              Koka   \n",
       "1999       578          Nongshim   \n",
       "2143       434         Mi Sedaap   \n",
       "2185       392            Nissin   \n",
       "2186       391             Myojo   \n",
       "2292       285              Doll   \n",
       "2472       105           Indomie   \n",
       "2530        47           Indomie   \n",
       "2546        31             Myojo   \n",
       "2564        13   Sapporo Ichiban   \n",
       "\n",
       "                                                Variety Style      Country  \\\n",
       "614                Instant Noodles Coconut Milk Flavour  Pack      Myanmar   \n",
       "631                  Singapore Laksa Wholegrain La Mian  Pack    Singapore   \n",
       "653                   Juzz's Mee Creamy Chicken Flavour  Pack    Singapore   \n",
       "671                  Singapore Curry Wholegrain La Mian  Pack    Singapore   \n",
       "750                Scallion With Sichuan Pepper  Flavor  Pack       Taiwan   \n",
       "889     Tomato Beef Brisket Flavor Purple Potato Noodle  Pack        China   \n",
       "940   Veggie Noodle Tomato Noodle With Vine Ripened ...  Pack       Taiwan   \n",
       "961    Penang Hokkien Prawn Noodle (New Improved Taste)  Pack     Malaysia   \n",
       "992                                  Nyonya Curry Laksa  Pack     Malaysia   \n",
       "1056                           Gotsumori Sauce Yakisoba  Tray        Japan   \n",
       "1069               Chef Gold Recipe Mi Kari Seribu Rasa  Pack     Malaysia   \n",
       "1077                    Penang Red Tom Yum Goong Noodle  Pack     Malaysia   \n",
       "1106  Instant Noodles Shrimp Creamy Tom Yum Flavour ...  Pack     Thailand   \n",
       "1111  Oriental Style Instant Noodles Green Curry Fla...  Pack     Thailand   \n",
       "1227                           Chef Curry Laksa Flavour  Pack     Malaysia   \n",
       "1247                     Otafuku Okonomi Sauce Yakisoba  Tray        Japan   \n",
       "1269                            Soon Veggie Noodle Soup  Pack  South Korea   \n",
       "1275     Instant Noodles Yentafo Tom Yum Mohfai Flavour  Pack     Thailand   \n",
       "1306                      Singapore Chilli Crab La Mian  Pack    Singapore   \n",
       "1379                    Maesaengyitangmyun Baked Noodle  Pack  South Korea   \n",
       "1394                                      Cheese Noodle  Pack  South Korea   \n",
       "1490                          Penang White Curry Noodle  Pack     Malaysia   \n",
       "1585                            Singapore Laksa La Mian  Pack    Singapore   \n",
       "1586                            Singapore Curry La Mian  Pack    Singapore   \n",
       "1643                  Jinjja Jinjja Flamin' Hot & Nutty  Pack          USA   \n",
       "1754                              Kokomen Spicy Chicken  Pack  South Korea   \n",
       "1862                         Mi Goreng Rendang (Import)  Pack    Indonesia   \n",
       "1969                                 Spicy Black Pepper  Pack    Singapore   \n",
       "1999                                  Shin Ramyun Black  Pack  South Korea   \n",
       "2143                                       Kari Spesial  Pack    Indonesia   \n",
       "2185                           Yakisoba Noodles Karashi  Tray        Japan   \n",
       "2186                    Hyoubanya No Chukasoba Oriental  Pack        Japan   \n",
       "2292                                 Artificial Chicken  Pack    Hong Kong   \n",
       "2472                         Special Fried Curly Noodle  Pack    Indonesia   \n",
       "2530                   Mi Goreng Jumbo Barbecue Chicken  Pack    Indonesia   \n",
       "2546                                 Ippeichan Yakisoba  Tray        Japan   \n",
       "2564                                          Chow Mein  Pack        Japan   \n",
       "\n",
       "      Stars   Top Ten  \n",
       "614    5.00  2016 #10  \n",
       "631    5.00   2016 #1  \n",
       "653    5.00   2016 #8  \n",
       "671    5.00   2016 #5  \n",
       "750    5.00   2016 #9  \n",
       "889    5.00   2016 #7  \n",
       "940    5.00  2015 #10  \n",
       "961    5.00   2015 #7  \n",
       "992    5.00   2015 #4  \n",
       "1056   5.00   2015 #9  \n",
       "1069   5.00   2015 #6  \n",
       "1077   5.00   2015 #1  \n",
       "1106   5.00  2013 #10  \n",
       "1111   5.00   2015 #8  \n",
       "1227   5.00   2014 #7  \n",
       "1247   5.00   2014 #4  \n",
       "1269   5.00   2014 #9  \n",
       "1275   5.00  2014 #10  \n",
       "1306   5.00   2014 #8  \n",
       "1379   5.00   2014 #5  \n",
       "1394   5.00   2014 #6  \n",
       "1490   5.00   2014 #1  \n",
       "1585   5.00   2013 #1  \n",
       "1586   5.00   2013 #2  \n",
       "1643   5.00   2013 #4  \n",
       "1754   5.00   2013 #9  \n",
       "1862   5.00   2013 #3  \n",
       "1969   5.00  2012 #10  \n",
       "1999   4.75   2012 #7  \n",
       "2143   4.50   2012 #5  \n",
       "2185   5.00   2012 #3  \n",
       "2186   4.25   2012 #6  \n",
       "2292   4.50   2012 #9  \n",
       "2472   5.00   2012 #1  \n",
       "2530   5.00   2012 #2  \n",
       "2546   4.00   2013 #6  \n",
       "2564   5.00   2012 #4  "
      ]
     },
     "execution_count": 8,
     "metadata": {},
     "output_type": "execute_result"
    }
   ],
   "source": [
    "# код здесь\n",
    "topten = ramen[~ramen['Top Ten'].isna()]\n",
    "topten[topten['Top Ten'].str.contains(\"\\n\") == False] # '\\n' фактически тоже является пропуском"
   ]
  },
  {
   "cell_type": "code",
   "execution_count": null,
   "metadata": {},
   "outputs": [],
   "source": []
  },
  {
   "cell_type": "code",
   "execution_count": null,
   "metadata": {},
   "outputs": [],
   "source": []
  }
 ],
 "metadata": {
  "colab": {
   "collapsed_sections": [],
   "name": "Practice_1.ipynb",
   "provenance": []
  },
  "kernelspec": {
   "display_name": "Python 3",
   "language": "python",
   "name": "python3"
  },
  "language_info": {
   "codemirror_mode": {
    "name": "ipython",
    "version": 3
   },
   "file_extension": ".py",
   "mimetype": "text/x-python",
   "name": "python",
   "nbconvert_exporter": "python",
   "pygments_lexer": "ipython3",
   "version": "3.8.8"
  }
 },
 "nbformat": 4,
 "nbformat_minor": 4
}
