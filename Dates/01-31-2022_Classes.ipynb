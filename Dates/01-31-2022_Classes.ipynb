{
 "cells": [
  {
   "cell_type": "code",
   "execution_count": 1,
   "id": "4331b83c-2b5e-430e-a5fb-d86befa6fdc1",
   "metadata": {},
   "outputs": [
    {
     "name": "stdout",
     "output_type": "stream",
     "text": [
      "[1, 2, 10, 20, 31]\n",
      "['1', '2', '10', '20', '31']\n"
     ]
    }
   ],
   "source": [
    "example = ['1', '2', '10', '20', '31']\n",
    "print(sorted(map(int, example)))\n",
    "print(sorted(example, key=int)) # расставляет строки в цифровом порядке"
   ]
  },
  {
   "cell_type": "code",
   "execution_count": 5,
   "id": "82d028de-9085-49c5-9ece-000ec6f15f72",
   "metadata": {},
   "outputs": [
    {
     "name": "stdout",
     "output_type": "stream",
     "text": [
      "['Alice', 'Dad', 'apple', 'cat', 'dog']\n",
      "['Alice', 'apple', 'cat', 'Dad', 'dog']\n"
     ]
    }
   ],
   "source": [
    "example = ['cat', 'Dad', 'dog', 'apple', 'Alice']\n",
    "print(sorted(example))\n",
    "print(sorted(example, key=str.lower))"
   ]
  },
  {
   "cell_type": "code",
   "execution_count": null,
   "id": "cbb82786-33ab-46d5-aa1b-899e7a23e7a9",
   "metadata": {},
   "outputs": [],
   "source": []
  },
  {
   "cell_type": "code",
   "execution_count": null,
   "id": "814f5aaf-def6-448e-9cdb-a52d22af3553",
   "metadata": {},
   "outputs": [],
   "source": []
  },
  {
   "cell_type": "code",
   "execution_count": 21,
   "id": "ac9c1534-9981-4c2a-9d7d-f0a565745506",
   "metadata": {},
   "outputs": [
    {
     "name": "stdout",
     "output_type": "stream",
     "text": [
      "<class 'pandas.core.frame.DataFrame'>\n",
      "RangeIndex: 2 entries, 0 to 1\n",
      "Data columns (total 2 columns):\n",
      " #   Column  Non-Null Count  Dtype\n",
      "---  ------  --------------  -----\n",
      " 0   1       2 non-null      int64\n",
      " 1   2       2 non-null      int64\n",
      "dtypes: int64(2)\n",
      "memory usage: 160.0 bytes\n"
     ]
    },
    {
     "data": {
      "text/plain": [
       "(2, 2)"
      ]
     },
     "execution_count": 21,
     "metadata": {},
     "output_type": "execute_result"
    }
   ],
   "source": [
    "import pandas as pd\n",
    "\n",
    "df = pd.DataFrame({1:[4, 5], 2:[5, 5]})\n",
    "df.info() # method\n",
    "df.shape # attribute"
   ]
  },
  {
   "cell_type": "code",
   "execution_count": null,
   "id": "cb6342b4-30fa-4e56-bcd8-ff97d4eae66b",
   "metadata": {},
   "outputs": [],
   "source": [
    "# snake_case - переменные и функции\n",
    "# CamelCase - классы"
   ]
  },
  {
   "cell_type": "code",
   "execution_count": 65,
   "id": "da61c650-26c3-4735-8e8b-aeeef4b92075",
   "metadata": {},
   "outputs": [],
   "source": [
    "class Car:\n",
    "    # cтатический атрибут класса\n",
    "    default_color = 'green'\n",
    "    \n",
    "    # статический метод (вообще методы придумали чтоб не забивать память питона, отчасти)\n",
    "    # НЕ МОЖЕМ вызвать от экземпляра!\n",
    "    def is_warranty_valid(age):\n",
    "        return age < 3\n",
    "        \n",
    "    \n",
    "    \n",
    "    # конструктор класса\n",
    "    def __init__(self, color, model, age):\n",
    "        # динамический атрибут\n",
    "        self.model = model\n",
    "        self.age = age\n",
    "        if color == None:\n",
    "            self.color = self.default_color\n",
    "        else:\n",
    "            self.color = color\n",
    "            \n",
    "    # динамический метод    \n",
    "    def is_warranty_vadid_dynamic(self):\n",
    "        return self.age < 3\n",
    "    \n",
    "    def info(self):\n",
    "        print('Color:', self.color)\n",
    "        print('Age:', self.age)\n",
    "        print('Warranty:', self.is_warranty_vadid_dynamic())"
   ]
  },
  {
   "cell_type": "code",
   "execution_count": 66,
   "id": "c2140013-38a4-4a0a-aa34-68a399137587",
   "metadata": {},
   "outputs": [
    {
     "name": "stdout",
     "output_type": "stream",
     "text": [
      "True\n",
      "True\n",
      "Color: red\n",
      "Age: 2\n",
      "Warranty: True\n"
     ]
    }
   ],
   "source": [
    "audi = Car('red', 'a5', 2)\n",
    "print(Car.is_warranty_valid(audi.age))\n",
    "print(audi.is_warranty_vadid_dynamic())\n",
    "audi.info()"
   ]
  },
  {
   "cell_type": "code",
   "execution_count": 39,
   "id": "459796fd-38b6-41a2-aa0d-350e2ce9322b",
   "metadata": {},
   "outputs": [
    {
     "name": "stdout",
     "output_type": "stream",
     "text": [
      "green\n",
      "green\n",
      "a5\n"
     ]
    }
   ],
   "source": [
    "audi = Car(None, 'a5') # экземпляр класса, instance\n",
    "print(audi.default_color)\n",
    "print(audi.color)\n",
    "print(audi.model)"
   ]
  },
  {
   "cell_type": "code",
   "execution_count": null,
   "id": "33759e23-beef-4994-86f1-ae868a5c79e1",
   "metadata": {},
   "outputs": [],
   "source": []
  },
  {
   "cell_type": "code",
   "execution_count": 26,
   "id": "263bc381-8dc0-481c-8cce-81192d155117",
   "metadata": {},
   "outputs": [
    {
     "name": "stdout",
     "output_type": "stream",
     "text": [
      "green\n",
      "yellow\n"
     ]
    }
   ],
   "source": [
    "niva = Car('yellow')\n",
    "print(niva.default_color)\n",
    "print(niva.color)"
   ]
  },
  {
   "cell_type": "code",
   "execution_count": null,
   "id": "6fcd3711-6b49-4df8-8522-c91eb9916970",
   "metadata": {},
   "outputs": [],
   "source": [
    "print(dir(df)) # совокупность заложенных в датафрейм вещей"
   ]
  },
  {
   "cell_type": "code",
   "execution_count": 18,
   "id": "fe741436-a940-4d4e-8f1b-73080bf5e553",
   "metadata": {},
   "outputs": [
    {
     "name": "stdout",
     "output_type": "stream",
     "text": [
      "['__class__', '__delattr__', '__dict__', '__dir__', '__doc__', '__eq__', '__format__', '__ge__', '__getattribute__', '__gt__', '__hash__', '__init__', '__init_subclass__', '__le__', '__lt__', '__module__', '__ne__', '__new__', '__reduce__', '__reduce_ex__', '__repr__', '__setattr__', '__sizeof__', '__str__', '__subclasshook__', '__weakref__', 'default_color']\n"
     ]
    }
   ],
   "source": [
    "print(dir(Car)) # показывает дефолтные атрибуты даже пустого класса"
   ]
  },
  {
   "cell_type": "code",
   "execution_count": null,
   "id": "7de9e0b1-1b3c-4485-933e-b181e25eddd2",
   "metadata": {},
   "outputs": [],
   "source": []
  },
  {
   "cell_type": "code",
   "execution_count": null,
   "id": "591e2a56-0194-4f23-b977-7aad3ace7a10",
   "metadata": {},
   "outputs": [],
   "source": []
  },
  {
   "cell_type": "code",
   "execution_count": null,
   "id": "698ca4d6-7236-402f-a029-1aee60b2099a",
   "metadata": {},
   "outputs": [],
   "source": [
    "class Car:\n",
    "    # cтатический атрибут класса\n",
    "    default_color = 'green'\n",
    "    \n",
    "    # статический метод (вообще методы придумали чтоб не забивать память питона, отчасти)\n",
    "    # НЕ МОЖЕМ вызвать от экземпляра!\n",
    "    def is_warranty_valid(age):\n",
    "        return age < 3\n",
    "        \n",
    "    \n",
    "    \n",
    "    # конструктор класса\n",
    "    def __init__(self, color, model, age):\n",
    "        # динамический атрибут\n",
    "        self.model = model\n",
    "        self.age = age\n",
    "        if color == None:\n",
    "            self.color = self.default_color\n",
    "        else:\n",
    "            self.color = color\n",
    "            \n",
    "    # динамический метод    \n",
    "    def is_warranty_vadid_dynamic(self):\n",
    "        return self.age < 3\n",
    "    \n",
    "    def info(self):\n",
    "        print('Color:', self.color)\n",
    "        print('Age:', self.age)\n",
    "        print('Warranty:', self.is_warranty_vadid_dynamic())"
   ]
  },
  {
   "cell_type": "code",
   "execution_count": 117,
   "id": "d02baa1b-8deb-4f1f-a7a7-59f30b91366b",
   "metadata": {},
   "outputs": [],
   "source": [
    "class Student:\n",
    "    def __init__(self, name, year):\n",
    "        self.name = name\n",
    "        self.year = year\n",
    "        \n",
    "        # В конструкторе класса Student объявите self.grades и присвойте пустой список.\n",
    "        self.grades = []\n",
    "        \n",
    "    # Добавьте в класс Student динамический метод add_grade(), который принимает параметр grade. add_grade() должен проверять, что введенная оценка является проходной (is_passing()). \n",
    "    # Если да, то добавьте .score оценки в список студента, если нет, то ничего не делайте.\n",
    "    def add_grade(self, grade=Grade):\n",
    "        if grade.is_passing():\n",
    "            self.grades.append(grade.score)\n",
    "            \n",
    "    def get_average(self):\n",
    "        if len(self.grades) !=0:\n",
    "            return sum(self.grades) / len(self.grades)\n",
    "        else:\n",
    "            'Добавьте оценки'\n",
    "\n",
    "        \n",
    "        \n",
    "class Grade:\n",
    "    \n",
    "    # Создате класс Grade() с атрибутом класса minimum_passing равным 4.\n",
    "    minimum_passing = 4\n",
    "    \n",
    "    # Добавьте в Grade конструктор, который должен принимать один аргумент (оценку) и сохранять ее в переменную score\n",
    "    def __init__(self, score):\n",
    "        self.score = score\n",
    "    # Добавьте в Grade динамический метод, который проверяет оценку на минимальный балл и возвращает True, если она больше или равна четырем.\n",
    "    def is_passing(self):\n",
    "        return self.score >= self.minimum_passing\n",
    "    \n",
    "    \n",
    "    \n",
    "    "
   ]
  },
  {
   "cell_type": "code",
   "execution_count": 104,
   "id": "fe868475-20f9-4f4b-99cc-c00fa37818c7",
   "metadata": {},
   "outputs": [],
   "source": [
    "chel = Student('Pavel', 18)"
   ]
  },
  {
   "cell_type": "code",
   "execution_count": 105,
   "id": "326dfadd-442d-4614-a24e-d6503f5b5792",
   "metadata": {},
   "outputs": [],
   "source": [
    "ocen = Grade(5)"
   ]
  },
  {
   "cell_type": "code",
   "execution_count": 106,
   "id": "8cca1827-81b6-454b-9335-c7582de9143b",
   "metadata": {},
   "outputs": [
    {
     "data": {
      "text/plain": [
       "True"
      ]
     },
     "execution_count": 106,
     "metadata": {},
     "output_type": "execute_result"
    }
   ],
   "source": [
    "ocen.is_passing()"
   ]
  },
  {
   "cell_type": "code",
   "execution_count": 119,
   "id": "72b41ce5-abfa-475d-8abd-686066082b55",
   "metadata": {},
   "outputs": [],
   "source": [
    "ivan = Student('Иван Смирнов', 2)\n",
    "mark_1 = Grade(5)\n",
    "mark_2 = Grade(3)\n",
    "mark_3 = Grade(10)\n",
    "ivan.add_grade(mark_1)\n",
    "ivan.add_grade(mark_2)\n",
    "ivan.add_grade(mark_3)"
   ]
  },
  {
   "cell_type": "code",
   "execution_count": 122,
   "id": "f176327f-e35c-414f-9b31-2b9185649e67",
   "metadata": {},
   "outputs": [
    {
     "data": {
      "text/plain": [
       "7.5"
      ]
     },
     "execution_count": 122,
     "metadata": {},
     "output_type": "execute_result"
    }
   ],
   "source": [
    "ivan.grades\n",
    "ivan.get_average()"
   ]
  },
  {
   "cell_type": "code",
   "execution_count": null,
   "id": "c003755c-23dc-4da0-ade0-5dcf8bb4aad6",
   "metadata": {},
   "outputs": [],
   "source": []
  },
  {
   "cell_type": "code",
   "execution_count": null,
   "id": "2c0ac4bf-b13b-4a77-833e-ac1738145f57",
   "metadata": {},
   "outputs": [],
   "source": []
  },
  {
   "cell_type": "markdown",
   "id": "4df2e98b-6962-4fe9-9d88-29489fe88daa",
   "metadata": {},
   "source": [
    "Задание\n",
    "\n",
    "1. Определите класс Student(). Его конструктор должен принимать два параметра: имя и курс обучения (год) и сохранять их в переменные name (str) и year (int).\n",
    "\n",
    "2. Создате класс Grade() с атрибутом класса minimum_passing равным 4.\n",
    "\n",
    "3. Добавьте в Grade конструктор, который должен принимать один аргумент (оценку) и сохранять ее в переменную score. Добавьте в Grade динамический метод, который проверяет оценку на минимальный балл и возвращает True, если она больше или равна четырем.\n",
    "\n",
    "4. В конструкторе класса Student объявите self.grades и присвойте пустой список.\n",
    "\n",
    "5. Создайте два экземпляра класса ivan (Иван Смирнов, 2 курс) и olga (Ольга Петрова, 4 курс).\n",
    "\n",
    "6. Добавьте в класс Student динамический метод add_grade(), который принимает параметр grade. add_grade() должен проверять, что введенная оценка является проходной (is_passing()). Если да, то добавьте .score оценки в список студента, если нет, то ничего не делайте.\n",
    "\n",
    "7. Создайте новый экземпляр Grade() с параметром 10 и добавьте его в оценки Ивана. Добавьте в оценки Ивана еще две оценки - 5 и 7. Выведите оценки Ивана. Добавьте в оценки Ольги 2 и 4. Выведите оценки Ольги.\n",
    "\n",
    "8. В классе Student создайте метод get_average, который возвращает среднее оценок студента. Выведите среднее оценок Ивана."
   ]
  },
  {
   "cell_type": "code",
   "execution_count": 35,
   "id": "56445509-573e-4ad7-a85d-6f6da4993344",
   "metadata": {},
   "outputs": [],
   "source": [
    "class Student:\n",
    "    \n",
    "    # Его конструктор должен принимать два параметра: имя и курс обучения (год) и сохранять их в переменные name (str) и year (int).\n",
    "    def __init__(self, name, year):\n",
    "        self.name = name\n",
    "        self.year = year\n",
    "        self.grades = []\n",
    "    # В конструкторе класса Student объявите self.grades и присвойте пустой список.\n",
    "        \n",
    "    # Добавьте в класс Student динамический метод add_grade(), который принимает параметр grade. add_grade() должен проверять, что введенная\n",
    "    # оценка является проходной (is_passing()). Если да, то добавьте .score оценки в список студента, если нет, то ничего не делайте.\n",
    "    def add_grade(self, grade=Grade):\n",
    "        if grade.is_passing:\n",
    "            self.grades.append(grade.score)\n",
    "            \n",
    "    def get_average(self):\n",
    "        if len(self.grades) != 0:\n",
    "            return sum(self.grades) / len(self.grades)\n",
    "        else:\n",
    "            'Добавьте оценки'\n",
    "\n",
    "# Создате класс Grade() с атрибутом [статическим] класса minimum_passing равным 4.\n",
    "class Grade:\n",
    "    minimum_passing = 4\n",
    "    \n",
    "    \n",
    "    # Добавьте в Grade конструктор, который должен принимать один аргумент (оценку) и сохранять ее в переменную score. Добавьте в Grade динамический метод, \n",
    "    # который проверяет оценку на минимальный балл и возвращает True, если она больше или равна четырем.\n",
    "    def __init__(self, score):\n",
    "        self.score = score\n",
    "    def is_passing(self):\n",
    "        return self.score >= self.minimum_passing"
   ]
  },
  {
   "cell_type": "code",
   "execution_count": 43,
   "id": "a755de74-ffbc-441f-b64c-b0c712d9843f",
   "metadata": {},
   "outputs": [],
   "source": [
    "mark_1 = Grade(5)\n",
    "mark_2 = Grade(3)\n",
    "mark_3 = Grade(10)\n",
    "ivan.add_grade(mark_1)\n",
    "ivan.add_grade(mark_2)\n",
    "ivan.add_grade(mark_3)"
   ]
  },
  {
   "cell_type": "code",
   "execution_count": 44,
   "id": "280f0128-f1b7-443c-80a3-467e887ab8ed",
   "metadata": {},
   "outputs": [
    {
     "data": {
      "text/plain": [
       "6.0"
      ]
     },
     "execution_count": 44,
     "metadata": {},
     "output_type": "execute_result"
    }
   ],
   "source": [
    "ivan.grades\n",
    "ivan.get_average()"
   ]
  },
  {
   "cell_type": "code",
   "execution_count": 42,
   "id": "98c693c2-fc68-4004-a22c-cfc3161a223a",
   "metadata": {},
   "outputs": [],
   "source": [
    "ivan = Student('Иван Смирнов', 2)\n",
    "olga = Student('Ольга Петрова', 4)"
   ]
  },
  {
   "cell_type": "code",
   "execution_count": null,
   "id": "411d9348-24ea-4855-b877-e21c45838cf0",
   "metadata": {},
   "outputs": [],
   "source": []
  },
  {
   "cell_type": "code",
   "execution_count": null,
   "id": "9e4d525d-b7e4-4ac0-81f9-886cd9a5c8eb",
   "metadata": {},
   "outputs": [],
   "source": [
    "class Car:\n",
    "    # cтатический атрибут класса\n",
    "    default_color = 'green'\n",
    "    \n",
    "    # статический метод (вообще методы придумали чтоб не забивать память питона, отчасти)\n",
    "    # НЕ МОЖЕМ вызвать от экземпляра!\n",
    "    def is_warranty_valid(age):\n",
    "        return age < 3\n",
    "        \n",
    "    \n",
    "    \n",
    "    # конструктор класса\n",
    "    def __init__(self, color, model, age):\n",
    "        # динамический атрибут\n",
    "        self.model = model\n",
    "        self.age = age\n",
    "        if color == None:\n",
    "            self.color = self.default_color\n",
    "        else:\n",
    "            self.color = color\n",
    "            \n",
    "    # динамический метод    \n",
    "    def is_warranty_vadid_dynamic(self):\n",
    "        return self.age < 3\n",
    "    \n",
    "    def info(self):\n",
    "        print('Color:', self.color)\n",
    "        print('Age:', self.age)\n",
    "        print('Warranty:', self.is_warranty_vadid_dynamic())"
   ]
  },
  {
   "cell_type": "code",
   "execution_count": null,
   "id": "f023395d-eb34-42fe-a6a0-da5901a3ac82",
   "metadata": {},
   "outputs": [],
   "source": []
  }
 ],
 "metadata": {
  "kernelspec": {
   "display_name": "Python 3",
   "language": "python",
   "name": "python3"
  },
  "language_info": {
   "codemirror_mode": {
    "name": "ipython",
    "version": 3
   },
   "file_extension": ".py",
   "mimetype": "text/x-python",
   "name": "python",
   "nbconvert_exporter": "python",
   "pygments_lexer": "ipython3",
   "version": "3.8.8"
  }
 },
 "nbformat": 4,
 "nbformat_minor": 5
}
