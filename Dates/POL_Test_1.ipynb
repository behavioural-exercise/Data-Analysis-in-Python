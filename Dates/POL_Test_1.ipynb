{
 "cells": [
  {
   "cell_type": "markdown",
   "metadata": {
    "id": "hlO9YSc-9Rkt"
   },
   "source": [
    "# Контрольная работа 1\n",
    "\n",
    "Максимум 13 баллов. В ведомость идет максимум 11 баллов."
   ]
  },
  {
   "cell_type": "markdown",
   "metadata": {
    "id": "yg8CrTwHMT_g"
   },
   "source": [
    "## Загрузка данных\n",
    "\n",
    "Мы будем работать с набором данных, в котором содержится информация о хостелах в японии. Запустите ячейку ниже, чтобы импортировать билиотеки и загрузить данные в переменную `hostels`.\n",
    "\n",
    "Один ряд — один хостел."
   ]
  },
  {
   "cell_type": "code",
   "execution_count": 139,
   "metadata": {
    "colab": {
     "base_uri": "https://localhost:8080/",
     "height": 400
    },
    "id": "6aJjSZwjlYM0",
    "outputId": "385e7003-12ed-4bd7-a1bf-852ec1fa6944"
   },
   "outputs": [
    {
     "data": {
      "text/html": [
       "<div>\n",
       "<style scoped>\n",
       "    .dataframe tbody tr th:only-of-type {\n",
       "        vertical-align: middle;\n",
       "    }\n",
       "\n",
       "    .dataframe tbody tr th {\n",
       "        vertical-align: top;\n",
       "    }\n",
       "\n",
       "    .dataframe thead th {\n",
       "        text-align: right;\n",
       "    }\n",
       "</style>\n",
       "<table border=\"1\" class=\"dataframe\">\n",
       "  <thead>\n",
       "    <tr style=\"text-align: right;\">\n",
       "      <th></th>\n",
       "      <th>hostel.name</th>\n",
       "      <th>City</th>\n",
       "      <th>price.from</th>\n",
       "      <th>Distance</th>\n",
       "      <th>summary.score</th>\n",
       "      <th>rating.band</th>\n",
       "      <th>atmosphere</th>\n",
       "      <th>cleanliness</th>\n",
       "      <th>facilities</th>\n",
       "      <th>location.y</th>\n",
       "      <th>security</th>\n",
       "      <th>staff</th>\n",
       "      <th>valueformoney</th>\n",
       "      <th>lon</th>\n",
       "      <th>lat</th>\n",
       "    </tr>\n",
       "  </thead>\n",
       "  <tbody>\n",
       "    <tr>\n",
       "      <th>1</th>\n",
       "      <td>\"Bike &amp; Bed\" CharinCo Hostel</td>\n",
       "      <td>Osaka</td>\n",
       "      <td>3300</td>\n",
       "      <td>2.9km from city centre</td>\n",
       "      <td>9.2</td>\n",
       "      <td>Superb</td>\n",
       "      <td>8.9</td>\n",
       "      <td>9.4</td>\n",
       "      <td>9.3</td>\n",
       "      <td>8.9</td>\n",
       "      <td>9.0</td>\n",
       "      <td>9.4</td>\n",
       "      <td>9.4</td>\n",
       "      <td>135.513767</td>\n",
       "      <td>34.682678</td>\n",
       "    </tr>\n",
       "    <tr>\n",
       "      <th>2</th>\n",
       "      <td>&amp; And Hostel</td>\n",
       "      <td>Fukuoka-City</td>\n",
       "      <td>2600</td>\n",
       "      <td>0.7km from city centre</td>\n",
       "      <td>9.5</td>\n",
       "      <td>Superb</td>\n",
       "      <td>9.4</td>\n",
       "      <td>9.7</td>\n",
       "      <td>9.5</td>\n",
       "      <td>9.7</td>\n",
       "      <td>9.2</td>\n",
       "      <td>9.7</td>\n",
       "      <td>9.5</td>\n",
       "      <td>NaN</td>\n",
       "      <td>NaN</td>\n",
       "    </tr>\n",
       "    <tr>\n",
       "      <th>3</th>\n",
       "      <td>&amp;And Hostel Akihabara</td>\n",
       "      <td>Tokyo</td>\n",
       "      <td>3600</td>\n",
       "      <td>7.8km from city centre</td>\n",
       "      <td>8.7</td>\n",
       "      <td>Fabulous</td>\n",
       "      <td>8.0</td>\n",
       "      <td>7.0</td>\n",
       "      <td>9.0</td>\n",
       "      <td>8.0</td>\n",
       "      <td>10.0</td>\n",
       "      <td>10.0</td>\n",
       "      <td>9.0</td>\n",
       "      <td>139.777472</td>\n",
       "      <td>35.697447</td>\n",
       "    </tr>\n",
       "    <tr>\n",
       "      <th>4</th>\n",
       "      <td>&amp;And Hostel Ueno</td>\n",
       "      <td>Tokyo</td>\n",
       "      <td>2600</td>\n",
       "      <td>8.7km from city centre</td>\n",
       "      <td>7.4</td>\n",
       "      <td>Very Good</td>\n",
       "      <td>8.0</td>\n",
       "      <td>7.5</td>\n",
       "      <td>7.5</td>\n",
       "      <td>7.5</td>\n",
       "      <td>7.0</td>\n",
       "      <td>8.0</td>\n",
       "      <td>6.5</td>\n",
       "      <td>139.783667</td>\n",
       "      <td>35.712716</td>\n",
       "    </tr>\n",
       "    <tr>\n",
       "      <th>5</th>\n",
       "      <td>&amp;And Hostel-Asakusa North-</td>\n",
       "      <td>Tokyo</td>\n",
       "      <td>1500</td>\n",
       "      <td>10.5km from city centre</td>\n",
       "      <td>9.4</td>\n",
       "      <td>Superb</td>\n",
       "      <td>9.5</td>\n",
       "      <td>9.5</td>\n",
       "      <td>9.0</td>\n",
       "      <td>9.0</td>\n",
       "      <td>9.5</td>\n",
       "      <td>10.0</td>\n",
       "      <td>9.5</td>\n",
       "      <td>139.798371</td>\n",
       "      <td>35.727898</td>\n",
       "    </tr>\n",
       "  </tbody>\n",
       "</table>\n",
       "</div>"
      ],
      "text/plain": [
       "                    hostel.name          City  price.from  \\\n",
       "1  \"Bike & Bed\" CharinCo Hostel         Osaka        3300   \n",
       "2                  & And Hostel  Fukuoka-City        2600   \n",
       "3         &And Hostel Akihabara         Tokyo        3600   \n",
       "4              &And Hostel Ueno         Tokyo        2600   \n",
       "5    &And Hostel-Asakusa North-         Tokyo        1500   \n",
       "\n",
       "                  Distance  summary.score rating.band  atmosphere  \\\n",
       "1   2.9km from city centre            9.2      Superb         8.9   \n",
       "2   0.7km from city centre            9.5      Superb         9.4   \n",
       "3   7.8km from city centre            8.7    Fabulous         8.0   \n",
       "4   8.7km from city centre            7.4   Very Good         8.0   \n",
       "5  10.5km from city centre            9.4      Superb         9.5   \n",
       "\n",
       "   cleanliness  facilities  location.y  security  staff  valueformoney  \\\n",
       "1          9.4         9.3         8.9       9.0    9.4            9.4   \n",
       "2          9.7         9.5         9.7       9.2    9.7            9.5   \n",
       "3          7.0         9.0         8.0      10.0   10.0            9.0   \n",
       "4          7.5         7.5         7.5       7.0    8.0            6.5   \n",
       "5          9.5         9.0         9.0       9.5   10.0            9.5   \n",
       "\n",
       "          lon        lat  \n",
       "1  135.513767  34.682678  \n",
       "2         NaN        NaN  \n",
       "3  139.777472  35.697447  \n",
       "4  139.783667  35.712716  \n",
       "5  139.798371  35.727898  "
      ]
     },
     "execution_count": 139,
     "metadata": {},
     "output_type": "execute_result"
    }
   ],
   "source": [
    "import pandas as pd \n",
    "import matplotlib.pyplot as plt \n",
    "\n",
    "hostels = pd.read_csv('https://raw.githubusercontent.com/rogovich/Data/master/data/Hostel.csv', index_col=0)\n",
    "hostels.head()"
   ]
  },
  {
   "cell_type": "markdown",
   "metadata": {
    "id": "B5jQVqtklRLa"
   },
   "source": [
    "## Задание 1 (0.5 балла)\n",
    "\n",
    "Выведите все основные дескриптивные статистики датасета с помощью метода `.describe()` и ответьте на вопрос ниже."
   ]
  },
  {
   "cell_type": "code",
   "execution_count": 141,
   "metadata": {
    "id": "R5IdAtb5l1sG"
   },
   "outputs": [
    {
     "data": {
      "text/html": [
       "<div>\n",
       "<style scoped>\n",
       "    .dataframe tbody tr th:only-of-type {\n",
       "        vertical-align: middle;\n",
       "    }\n",
       "\n",
       "    .dataframe tbody tr th {\n",
       "        vertical-align: top;\n",
       "    }\n",
       "\n",
       "    .dataframe thead th {\n",
       "        text-align: right;\n",
       "    }\n",
       "</style>\n",
       "<table border=\"1\" class=\"dataframe\">\n",
       "  <thead>\n",
       "    <tr style=\"text-align: right;\">\n",
       "      <th></th>\n",
       "      <th>price.from</th>\n",
       "      <th>summary.score</th>\n",
       "      <th>atmosphere</th>\n",
       "      <th>cleanliness</th>\n",
       "      <th>facilities</th>\n",
       "      <th>location.y</th>\n",
       "      <th>security</th>\n",
       "      <th>staff</th>\n",
       "      <th>valueformoney</th>\n",
       "      <th>lon</th>\n",
       "      <th>lat</th>\n",
       "    </tr>\n",
       "  </thead>\n",
       "  <tbody>\n",
       "    <tr>\n",
       "      <th>count</th>\n",
       "      <td>3.420000e+02</td>\n",
       "      <td>327.000000</td>\n",
       "      <td>327.000000</td>\n",
       "      <td>327.000000</td>\n",
       "      <td>327.000000</td>\n",
       "      <td>327.000000</td>\n",
       "      <td>327.000000</td>\n",
       "      <td>327.000000</td>\n",
       "      <td>327.000000</td>\n",
       "      <td>298.000000</td>\n",
       "      <td>298.000000</td>\n",
       "    </tr>\n",
       "    <tr>\n",
       "      <th>mean</th>\n",
       "      <td>8.388012e+03</td>\n",
       "      <td>8.782569</td>\n",
       "      <td>8.238838</td>\n",
       "      <td>9.011927</td>\n",
       "      <td>8.597554</td>\n",
       "      <td>8.694801</td>\n",
       "      <td>8.947401</td>\n",
       "      <td>9.133333</td>\n",
       "      <td>8.848318</td>\n",
       "      <td>136.756376</td>\n",
       "      <td>34.976583</td>\n",
       "    </tr>\n",
       "    <tr>\n",
       "      <th>std</th>\n",
       "      <td>7.641527e+04</td>\n",
       "      <td>0.960909</td>\n",
       "      <td>1.382002</td>\n",
       "      <td>1.215775</td>\n",
       "      <td>1.285356</td>\n",
       "      <td>1.102703</td>\n",
       "      <td>1.114345</td>\n",
       "      <td>1.086513</td>\n",
       "      <td>1.047809</td>\n",
       "      <td>3.251995</td>\n",
       "      <td>2.040896</td>\n",
       "    </tr>\n",
       "    <tr>\n",
       "      <th>min</th>\n",
       "      <td>1.000000e+03</td>\n",
       "      <td>3.100000</td>\n",
       "      <td>2.000000</td>\n",
       "      <td>2.000000</td>\n",
       "      <td>2.000000</td>\n",
       "      <td>2.000000</td>\n",
       "      <td>2.000000</td>\n",
       "      <td>2.000000</td>\n",
       "      <td>4.000000</td>\n",
       "      <td>103.873135</td>\n",
       "      <td>1.310820</td>\n",
       "    </tr>\n",
       "    <tr>\n",
       "      <th>25%</th>\n",
       "      <td>2.000000e+03</td>\n",
       "      <td>8.600000</td>\n",
       "      <td>7.800000</td>\n",
       "      <td>8.800000</td>\n",
       "      <td>8.000000</td>\n",
       "      <td>8.000000</td>\n",
       "      <td>8.700000</td>\n",
       "      <td>9.000000</td>\n",
       "      <td>8.600000</td>\n",
       "      <td>135.505314</td>\n",
       "      <td>34.668900</td>\n",
       "    </tr>\n",
       "    <tr>\n",
       "      <th>50%</th>\n",
       "      <td>2.500000e+03</td>\n",
       "      <td>9.000000</td>\n",
       "      <td>8.600000</td>\n",
       "      <td>9.300000</td>\n",
       "      <td>9.000000</td>\n",
       "      <td>9.000000</td>\n",
       "      <td>9.200000</td>\n",
       "      <td>9.400000</td>\n",
       "      <td>9.000000</td>\n",
       "      <td>135.761617</td>\n",
       "      <td>34.998470</td>\n",
       "    </tr>\n",
       "    <tr>\n",
       "      <th>75%</th>\n",
       "      <td>2.900000e+03</td>\n",
       "      <td>9.400000</td>\n",
       "      <td>9.000000</td>\n",
       "      <td>9.800000</td>\n",
       "      <td>9.300000</td>\n",
       "      <td>9.400000</td>\n",
       "      <td>9.600000</td>\n",
       "      <td>9.800000</td>\n",
       "      <td>9.500000</td>\n",
       "      <td>139.770187</td>\n",
       "      <td>35.696709</td>\n",
       "    </tr>\n",
       "    <tr>\n",
       "      <th>max</th>\n",
       "      <td>1.003200e+06</td>\n",
       "      <td>10.000000</td>\n",
       "      <td>10.000000</td>\n",
       "      <td>10.000000</td>\n",
       "      <td>10.000000</td>\n",
       "      <td>10.000000</td>\n",
       "      <td>10.000000</td>\n",
       "      <td>10.000000</td>\n",
       "      <td>10.000000</td>\n",
       "      <td>139.877880</td>\n",
       "      <td>36.204824</td>\n",
       "    </tr>\n",
       "  </tbody>\n",
       "</table>\n",
       "</div>"
      ],
      "text/plain": [
       "         price.from  summary.score  atmosphere  cleanliness  facilities  \\\n",
       "count  3.420000e+02     327.000000  327.000000   327.000000  327.000000   \n",
       "mean   8.388012e+03       8.782569    8.238838     9.011927    8.597554   \n",
       "std    7.641527e+04       0.960909    1.382002     1.215775    1.285356   \n",
       "min    1.000000e+03       3.100000    2.000000     2.000000    2.000000   \n",
       "25%    2.000000e+03       8.600000    7.800000     8.800000    8.000000   \n",
       "50%    2.500000e+03       9.000000    8.600000     9.300000    9.000000   \n",
       "75%    2.900000e+03       9.400000    9.000000     9.800000    9.300000   \n",
       "max    1.003200e+06      10.000000   10.000000    10.000000   10.000000   \n",
       "\n",
       "       location.y    security       staff  valueformoney         lon  \\\n",
       "count  327.000000  327.000000  327.000000     327.000000  298.000000   \n",
       "mean     8.694801    8.947401    9.133333       8.848318  136.756376   \n",
       "std      1.102703    1.114345    1.086513       1.047809    3.251995   \n",
       "min      2.000000    2.000000    2.000000       4.000000  103.873135   \n",
       "25%      8.000000    8.700000    9.000000       8.600000  135.505314   \n",
       "50%      9.000000    9.200000    9.400000       9.000000  135.761617   \n",
       "75%      9.400000    9.600000    9.800000       9.500000  139.770187   \n",
       "max     10.000000   10.000000   10.000000      10.000000  139.877880   \n",
       "\n",
       "              lat  \n",
       "count  298.000000  \n",
       "mean    34.976583  \n",
       "std      2.040896  \n",
       "min      1.310820  \n",
       "25%     34.668900  \n",
       "50%     34.998470  \n",
       "75%     35.696709  \n",
       "max     36.204824  "
      ]
     },
     "execution_count": 141,
     "metadata": {},
     "output_type": "execute_result"
    }
   ],
   "source": [
    "# ваш код здесь\n",
    "hostels.describe()"
   ]
  },
  {
   "cell_type": "markdown",
   "metadata": {
    "id": "P603thU0ma_z"
   },
   "source": [
    "(кликните два раза, чтобы редактировать ячеку)\n",
    "\n",
    "**Каков 25-й перцентиль переменной `cleanliness`?**\n",
    "\n",
    "Ваш ответ: 8.8"
   ]
  },
  {
   "cell_type": "markdown",
   "metadata": {
    "id": "UGPMLLYIlUsF"
   },
   "source": [
    "## Задание 2 (0.5 балла)"
   ]
  },
  {
   "cell_type": "markdown",
   "metadata": {
    "id": "Et4ZPA-F-mRZ"
   },
   "source": [
    "Отфильтруйте и отобразите только три колонки из набора данных — `location.y`, `City` and `lon`. Колонки должны отображаться именно в этом порядке."
   ]
  },
  {
   "cell_type": "code",
   "execution_count": 142,
   "metadata": {
    "id": "4Z0arum9mnxq"
   },
   "outputs": [
    {
     "data": {
      "text/html": [
       "<div>\n",
       "<style scoped>\n",
       "    .dataframe tbody tr th:only-of-type {\n",
       "        vertical-align: middle;\n",
       "    }\n",
       "\n",
       "    .dataframe tbody tr th {\n",
       "        vertical-align: top;\n",
       "    }\n",
       "\n",
       "    .dataframe thead th {\n",
       "        text-align: right;\n",
       "    }\n",
       "</style>\n",
       "<table border=\"1\" class=\"dataframe\">\n",
       "  <thead>\n",
       "    <tr style=\"text-align: right;\">\n",
       "      <th></th>\n",
       "      <th>location.y</th>\n",
       "      <th>City</th>\n",
       "      <th>lon</th>\n",
       "    </tr>\n",
       "  </thead>\n",
       "  <tbody>\n",
       "    <tr>\n",
       "      <th>1</th>\n",
       "      <td>8.9</td>\n",
       "      <td>Osaka</td>\n",
       "      <td>135.513767</td>\n",
       "    </tr>\n",
       "    <tr>\n",
       "      <th>2</th>\n",
       "      <td>9.7</td>\n",
       "      <td>Fukuoka-City</td>\n",
       "      <td>NaN</td>\n",
       "    </tr>\n",
       "    <tr>\n",
       "      <th>3</th>\n",
       "      <td>8.0</td>\n",
       "      <td>Tokyo</td>\n",
       "      <td>139.777472</td>\n",
       "    </tr>\n",
       "    <tr>\n",
       "      <th>4</th>\n",
       "      <td>7.5</td>\n",
       "      <td>Tokyo</td>\n",
       "      <td>139.783667</td>\n",
       "    </tr>\n",
       "    <tr>\n",
       "      <th>5</th>\n",
       "      <td>9.0</td>\n",
       "      <td>Tokyo</td>\n",
       "      <td>139.798371</td>\n",
       "    </tr>\n",
       "    <tr>\n",
       "      <th>...</th>\n",
       "      <td>...</td>\n",
       "      <td>...</td>\n",
       "      <td>...</td>\n",
       "    </tr>\n",
       "    <tr>\n",
       "      <th>338</th>\n",
       "      <td>8.9</td>\n",
       "      <td>Tokyo</td>\n",
       "      <td>139.668125</td>\n",
       "    </tr>\n",
       "    <tr>\n",
       "      <th>339</th>\n",
       "      <td>9.4</td>\n",
       "      <td>Tokyo</td>\n",
       "      <td>139.667695</td>\n",
       "    </tr>\n",
       "    <tr>\n",
       "      <th>340</th>\n",
       "      <td>8.5</td>\n",
       "      <td>Tokyo</td>\n",
       "      <td>139.869197</td>\n",
       "    </tr>\n",
       "    <tr>\n",
       "      <th>341</th>\n",
       "      <td>8.0</td>\n",
       "      <td>Kyoto</td>\n",
       "      <td>135.749063</td>\n",
       "    </tr>\n",
       "    <tr>\n",
       "      <th>342</th>\n",
       "      <td>9.0</td>\n",
       "      <td>Tokyo</td>\n",
       "      <td>139.742116</td>\n",
       "    </tr>\n",
       "  </tbody>\n",
       "</table>\n",
       "<p>342 rows × 3 columns</p>\n",
       "</div>"
      ],
      "text/plain": [
       "     location.y          City         lon\n",
       "1           8.9         Osaka  135.513767\n",
       "2           9.7  Fukuoka-City         NaN\n",
       "3           8.0         Tokyo  139.777472\n",
       "4           7.5         Tokyo  139.783667\n",
       "5           9.0         Tokyo  139.798371\n",
       "..          ...           ...         ...\n",
       "338         8.9         Tokyo  139.668125\n",
       "339         9.4         Tokyo  139.667695\n",
       "340         8.5         Tokyo  139.869197\n",
       "341         8.0         Kyoto  135.749063\n",
       "342         9.0         Tokyo  139.742116\n",
       "\n",
       "[342 rows x 3 columns]"
      ]
     },
     "execution_count": 142,
     "metadata": {},
     "output_type": "execute_result"
    }
   ],
   "source": [
    "# ваш код здесь\n",
    "hostels[['location.y', 'City', 'lon']]"
   ]
  },
  {
   "cell_type": "markdown",
   "metadata": {
    "id": "ie8XC3_WnDwP"
   },
   "source": [
    "## Задание 3 (0.5 балла)\n",
    "\n",
    "Создайте новую переменную. Конвертируйте `price.from` из японских йен в китайские юани, если 1 юань = 17.73 японсих йен. Округлите результат до сотых и сохраните в колонку `price.from.yuans`.\n"
   ]
  },
  {
   "cell_type": "code",
   "execution_count": 143,
   "metadata": {
    "id": "ZeljeYiWp06J"
   },
   "outputs": [
    {
     "data": {
      "text/html": [
       "<div>\n",
       "<style scoped>\n",
       "    .dataframe tbody tr th:only-of-type {\n",
       "        vertical-align: middle;\n",
       "    }\n",
       "\n",
       "    .dataframe tbody tr th {\n",
       "        vertical-align: top;\n",
       "    }\n",
       "\n",
       "    .dataframe thead th {\n",
       "        text-align: right;\n",
       "    }\n",
       "</style>\n",
       "<table border=\"1\" class=\"dataframe\">\n",
       "  <thead>\n",
       "    <tr style=\"text-align: right;\">\n",
       "      <th></th>\n",
       "      <th>hostel.name</th>\n",
       "      <th>City</th>\n",
       "      <th>price.from</th>\n",
       "      <th>Distance</th>\n",
       "      <th>summary.score</th>\n",
       "      <th>rating.band</th>\n",
       "      <th>atmosphere</th>\n",
       "      <th>cleanliness</th>\n",
       "      <th>facilities</th>\n",
       "      <th>location.y</th>\n",
       "      <th>security</th>\n",
       "      <th>staff</th>\n",
       "      <th>valueformoney</th>\n",
       "      <th>lon</th>\n",
       "      <th>lat</th>\n",
       "      <th>price.from.yuans</th>\n",
       "    </tr>\n",
       "  </thead>\n",
       "  <tbody>\n",
       "    <tr>\n",
       "      <th>1</th>\n",
       "      <td>\"Bike &amp; Bed\" CharinCo Hostel</td>\n",
       "      <td>Osaka</td>\n",
       "      <td>3300</td>\n",
       "      <td>2.9km from city centre</td>\n",
       "      <td>9.2</td>\n",
       "      <td>Superb</td>\n",
       "      <td>8.9</td>\n",
       "      <td>9.4</td>\n",
       "      <td>9.3</td>\n",
       "      <td>8.9</td>\n",
       "      <td>9.0</td>\n",
       "      <td>9.4</td>\n",
       "      <td>9.4</td>\n",
       "      <td>135.513767</td>\n",
       "      <td>34.682678</td>\n",
       "      <td>186.125212</td>\n",
       "    </tr>\n",
       "    <tr>\n",
       "      <th>2</th>\n",
       "      <td>&amp; And Hostel</td>\n",
       "      <td>Fukuoka-City</td>\n",
       "      <td>2600</td>\n",
       "      <td>0.7km from city centre</td>\n",
       "      <td>9.5</td>\n",
       "      <td>Superb</td>\n",
       "      <td>9.4</td>\n",
       "      <td>9.7</td>\n",
       "      <td>9.5</td>\n",
       "      <td>9.7</td>\n",
       "      <td>9.2</td>\n",
       "      <td>9.7</td>\n",
       "      <td>9.5</td>\n",
       "      <td>NaN</td>\n",
       "      <td>NaN</td>\n",
       "      <td>146.644106</td>\n",
       "    </tr>\n",
       "    <tr>\n",
       "      <th>3</th>\n",
       "      <td>&amp;And Hostel Akihabara</td>\n",
       "      <td>Tokyo</td>\n",
       "      <td>3600</td>\n",
       "      <td>7.8km from city centre</td>\n",
       "      <td>8.7</td>\n",
       "      <td>Fabulous</td>\n",
       "      <td>8.0</td>\n",
       "      <td>7.0</td>\n",
       "      <td>9.0</td>\n",
       "      <td>8.0</td>\n",
       "      <td>10.0</td>\n",
       "      <td>10.0</td>\n",
       "      <td>9.0</td>\n",
       "      <td>139.777472</td>\n",
       "      <td>35.697447</td>\n",
       "      <td>203.045685</td>\n",
       "    </tr>\n",
       "    <tr>\n",
       "      <th>4</th>\n",
       "      <td>&amp;And Hostel Ueno</td>\n",
       "      <td>Tokyo</td>\n",
       "      <td>2600</td>\n",
       "      <td>8.7km from city centre</td>\n",
       "      <td>7.4</td>\n",
       "      <td>Very Good</td>\n",
       "      <td>8.0</td>\n",
       "      <td>7.5</td>\n",
       "      <td>7.5</td>\n",
       "      <td>7.5</td>\n",
       "      <td>7.0</td>\n",
       "      <td>8.0</td>\n",
       "      <td>6.5</td>\n",
       "      <td>139.783667</td>\n",
       "      <td>35.712716</td>\n",
       "      <td>146.644106</td>\n",
       "    </tr>\n",
       "    <tr>\n",
       "      <th>5</th>\n",
       "      <td>&amp;And Hostel-Asakusa North-</td>\n",
       "      <td>Tokyo</td>\n",
       "      <td>1500</td>\n",
       "      <td>10.5km from city centre</td>\n",
       "      <td>9.4</td>\n",
       "      <td>Superb</td>\n",
       "      <td>9.5</td>\n",
       "      <td>9.5</td>\n",
       "      <td>9.0</td>\n",
       "      <td>9.0</td>\n",
       "      <td>9.5</td>\n",
       "      <td>10.0</td>\n",
       "      <td>9.5</td>\n",
       "      <td>139.798371</td>\n",
       "      <td>35.727898</td>\n",
       "      <td>84.602369</td>\n",
       "    </tr>\n",
       "  </tbody>\n",
       "</table>\n",
       "</div>"
      ],
      "text/plain": [
       "                    hostel.name          City  price.from  \\\n",
       "1  \"Bike & Bed\" CharinCo Hostel         Osaka        3300   \n",
       "2                  & And Hostel  Fukuoka-City        2600   \n",
       "3         &And Hostel Akihabara         Tokyo        3600   \n",
       "4              &And Hostel Ueno         Tokyo        2600   \n",
       "5    &And Hostel-Asakusa North-         Tokyo        1500   \n",
       "\n",
       "                  Distance  summary.score rating.band  atmosphere  \\\n",
       "1   2.9km from city centre            9.2      Superb         8.9   \n",
       "2   0.7km from city centre            9.5      Superb         9.4   \n",
       "3   7.8km from city centre            8.7    Fabulous         8.0   \n",
       "4   8.7km from city centre            7.4   Very Good         8.0   \n",
       "5  10.5km from city centre            9.4      Superb         9.5   \n",
       "\n",
       "   cleanliness  facilities  location.y  security  staff  valueformoney  \\\n",
       "1          9.4         9.3         8.9       9.0    9.4            9.4   \n",
       "2          9.7         9.5         9.7       9.2    9.7            9.5   \n",
       "3          7.0         9.0         8.0      10.0   10.0            9.0   \n",
       "4          7.5         7.5         7.5       7.0    8.0            6.5   \n",
       "5          9.5         9.0         9.0       9.5   10.0            9.5   \n",
       "\n",
       "          lon        lat  price.from.yuans  \n",
       "1  135.513767  34.682678        186.125212  \n",
       "2         NaN        NaN        146.644106  \n",
       "3  139.777472  35.697447        203.045685  \n",
       "4  139.783667  35.712716        146.644106  \n",
       "5  139.798371  35.727898         84.602369  "
      ]
     },
     "execution_count": 143,
     "metadata": {},
     "output_type": "execute_result"
    }
   ],
   "source": [
    "# ваш код здесь\n",
    "hostels['price.from.yuans'] = hostels['price.from'] / 17.73\n",
    "hostels.head()"
   ]
  },
  {
   "cell_type": "markdown",
   "metadata": {
    "id": "h0ik9XLywJ1L"
   },
   "source": [
    "## Задание 4 (0.5 балла)\n",
    "Для переменной `price.from.yuans` найдите медианное значение для всех хостелов со значением переменной `valueformoney` 5 и выше."
   ]
  },
  {
   "cell_type": "code",
   "execution_count": 144,
   "metadata": {
    "id": "Rr4WBSnBqA0p"
   },
   "outputs": [
    {
     "data": {
      "text/plain": [
       "141.0039481105471"
      ]
     },
     "execution_count": 144,
     "metadata": {},
     "output_type": "execute_result"
    }
   ],
   "source": [
    "# ваш код здесь\n",
    "hostels[hostels.valueformoney > 5]['price.from.yuans'].median()"
   ]
  },
  {
   "cell_type": "markdown",
   "metadata": {
    "id": "BpB3S5DLw3cC"
   },
   "source": [
    "## Задание 5 (0.5 балла)\n",
    "Переменная `rating.band` говорит нам, к какой категории принадлежит хостел, основываясь на его `summary.score`. Переменная `City` содержит информацию о локации хостелов. Сколько хостелов, принадлежащих к категории `Very Good`, находятся в `Hiroshima`? \n",
    "\n",
    "Выведите в ответе одно число."
   ]
  },
  {
   "cell_type": "code",
   "execution_count": 145,
   "metadata": {
    "id": "_xBPsqcvwked"
   },
   "outputs": [
    {
     "name": "stdout",
     "output_type": "stream",
     "text": [
      "0\n"
     ]
    }
   ],
   "source": [
    "# ваш код здесь\n",
    "hostels[(hostels['rating.band'] == 'Very Good') & (hostels.City == 'Hiroshima')]\n",
    "print(0)"
   ]
  },
  {
   "cell_type": "markdown",
   "metadata": {
    "id": "4gIlLsCPxhtJ"
   },
   "source": [
    "## Задание 6 (0.5 балла)\n",
    "Найдите среднее значение переменной `price.from` (оригинальная переменная) для каждого уникального города в датасете (`City`). Используте метод группировки `.groupby()`"
   ]
  },
  {
   "cell_type": "code",
   "execution_count": 20,
   "metadata": {
    "id": "5vLx_b8Hqqsm"
   },
   "outputs": [
    {
     "data": {
      "text/plain": [
       "City\n",
       "Osaka           12014.423077\n",
       "Tokyo           10647.244094\n",
       "Fukuoka-City     2736.842105\n",
       "Hiroshima        2578.571429\n",
       "Kyoto            2293.589744\n",
       "Name: price.from, dtype: float64"
      ]
     },
     "execution_count": 20,
     "metadata": {},
     "output_type": "execute_result"
    }
   ],
   "source": [
    "# ваш код здесь\n",
    "hostels.groupby('City')['price.from'].mean().sort_values(ascending = False)"
   ]
  },
  {
   "cell_type": "markdown",
   "metadata": {
    "id": "fda6L395yr5x"
   },
   "source": [
    "## Задание 7 (0.5 балла)"
   ]
  },
  {
   "cell_type": "markdown",
   "metadata": {
    "id": "aZ4OJFMvFt12"
   },
   "source": [
    "Для каждого города найдите число хостелов, для которых значение `staff` выше 9.5. Используйте метод для построения частотной таблицы `.value_counts()`"
   ]
  },
  {
   "cell_type": "code",
   "execution_count": 160,
   "metadata": {
    "id": "iYWNCzJixgsK"
   },
   "outputs": [
    {
     "data": {
      "text/plain": [
       "Osaka           40\n",
       "Kyoto           38\n",
       "Tokyo           36\n",
       "Fukuoka-City     8\n",
       "Hiroshima        8\n",
       "Name: City, dtype: int64"
      ]
     },
     "execution_count": 160,
     "metadata": {},
     "output_type": "execute_result"
    }
   ],
   "source": [
    "# ваш код здесь\n",
    "hostels[hostels.staff > 9.5].City.value_counts()"
   ]
  },
  {
   "cell_type": "markdown",
   "metadata": {
    "id": "QdhFn2zwwgE-"
   },
   "source": [
    "## Задание 8 (1 балл)\n",
    "\n",
    "Сколько выбросов содержит переменная `price.from` (оригинальная колонка), которые находятся выше среднего? Будем считать выбросами любые значения, находящиеся на расстоянии двух среднеквадратичных отклонений выше среднего. Найдите среднее значение с помощью `.mean()` и отклонение с помощью `.std()`"
   ]
  },
  {
   "cell_type": "code",
   "execution_count": 163,
   "metadata": {
    "id": "y8Df6tnFyCRx"
   },
   "outputs": [
    {
     "name": "stdout",
     "output_type": "stream",
     "text": [
      "Два выброса\n"
     ]
    }
   ],
   "source": [
    "# ваш код здесь\n",
    "mean = hostels['price.from'].mean()\n",
    "std = hostels['price.from'].std()\n",
    "vib = mean + std*2\n",
    "hostels[hostels['price.from'] > vib]\n",
    "print('Два выброса')"
   ]
  },
  {
   "cell_type": "markdown",
   "metadata": {
    "id": "bZazFPTszQNw"
   },
   "source": [
    "## Задание 9 (0.5 балла)\n",
    "\n",
    "Сколько `na` значений (пропущенных значений) содержат колонки `staff` и `Distance`? Используйте метод `.isna()` и метод `.sum()`. В ответе нужно вывести количество пропущенных значений только для этих двух колонок."
   ]
  },
  {
   "cell_type": "code",
   "execution_count": 46,
   "metadata": {
    "id": "yBgNL71kzRwV"
   },
   "outputs": [
    {
     "name": "stdout",
     "output_type": "stream",
     "text": [
      "15\n",
      "0\n"
     ]
    }
   ],
   "source": [
    "# ваш код здесь\n",
    "print(hostels.staff.isna().sum())\n",
    "print(hostels.Distance.isna().sum())\n"
   ]
  },
  {
   "cell_type": "markdown",
   "metadata": {
    "id": "NXaC7gzszaWe"
   },
   "source": [
    "## Задание 10 (0.5 балла)\n",
    "\n",
    "Удалите из датасета все ряды, где пропущены значения колонок `atmosphere` и `valueformoney` (хотя бы одной из них). Используйте `.dropna()` метод с параметром `subset=[]`, где в списке перечисляются названия нужных переменных. Не сохраняйте результат (не изменяйте исходный датафрейм!)."
   ]
  },
  {
   "cell_type": "code",
   "execution_count": 56,
   "metadata": {
    "id": "kfqfP6XFzOk_"
   },
   "outputs": [
    {
     "data": {
      "text/html": [
       "<div>\n",
       "<style scoped>\n",
       "    .dataframe tbody tr th:only-of-type {\n",
       "        vertical-align: middle;\n",
       "    }\n",
       "\n",
       "    .dataframe tbody tr th {\n",
       "        vertical-align: top;\n",
       "    }\n",
       "\n",
       "    .dataframe thead th {\n",
       "        text-align: right;\n",
       "    }\n",
       "</style>\n",
       "<table border=\"1\" class=\"dataframe\">\n",
       "  <thead>\n",
       "    <tr style=\"text-align: right;\">\n",
       "      <th></th>\n",
       "      <th>hostel.name</th>\n",
       "      <th>City</th>\n",
       "      <th>price.from</th>\n",
       "      <th>Distance</th>\n",
       "      <th>summary.score</th>\n",
       "      <th>rating.band</th>\n",
       "      <th>atmosphere</th>\n",
       "      <th>cleanliness</th>\n",
       "      <th>facilities</th>\n",
       "      <th>location.y</th>\n",
       "      <th>security</th>\n",
       "      <th>staff</th>\n",
       "      <th>valueformoney</th>\n",
       "      <th>lon</th>\n",
       "      <th>lat</th>\n",
       "    </tr>\n",
       "  </thead>\n",
       "  <tbody>\n",
       "    <tr>\n",
       "      <th>1</th>\n",
       "      <td>\"Bike &amp; Bed\" CharinCo Hostel</td>\n",
       "      <td>Osaka</td>\n",
       "      <td>3300</td>\n",
       "      <td>2.9km from city centre</td>\n",
       "      <td>9.2</td>\n",
       "      <td>Superb</td>\n",
       "      <td>8.9</td>\n",
       "      <td>9.4</td>\n",
       "      <td>9.3</td>\n",
       "      <td>8.9</td>\n",
       "      <td>9.0</td>\n",
       "      <td>9.4</td>\n",
       "      <td>9.4</td>\n",
       "      <td>135.513767</td>\n",
       "      <td>34.682678</td>\n",
       "    </tr>\n",
       "    <tr>\n",
       "      <th>2</th>\n",
       "      <td>&amp; And Hostel</td>\n",
       "      <td>Fukuoka-City</td>\n",
       "      <td>2600</td>\n",
       "      <td>0.7km from city centre</td>\n",
       "      <td>9.5</td>\n",
       "      <td>Superb</td>\n",
       "      <td>9.4</td>\n",
       "      <td>9.7</td>\n",
       "      <td>9.5</td>\n",
       "      <td>9.7</td>\n",
       "      <td>9.2</td>\n",
       "      <td>9.7</td>\n",
       "      <td>9.5</td>\n",
       "      <td>NaN</td>\n",
       "      <td>NaN</td>\n",
       "    </tr>\n",
       "    <tr>\n",
       "      <th>3</th>\n",
       "      <td>&amp;And Hostel Akihabara</td>\n",
       "      <td>Tokyo</td>\n",
       "      <td>3600</td>\n",
       "      <td>7.8km from city centre</td>\n",
       "      <td>8.7</td>\n",
       "      <td>Fabulous</td>\n",
       "      <td>8.0</td>\n",
       "      <td>7.0</td>\n",
       "      <td>9.0</td>\n",
       "      <td>8.0</td>\n",
       "      <td>10.0</td>\n",
       "      <td>10.0</td>\n",
       "      <td>9.0</td>\n",
       "      <td>139.777472</td>\n",
       "      <td>35.697447</td>\n",
       "    </tr>\n",
       "    <tr>\n",
       "      <th>4</th>\n",
       "      <td>&amp;And Hostel Ueno</td>\n",
       "      <td>Tokyo</td>\n",
       "      <td>2600</td>\n",
       "      <td>8.7km from city centre</td>\n",
       "      <td>7.4</td>\n",
       "      <td>Very Good</td>\n",
       "      <td>8.0</td>\n",
       "      <td>7.5</td>\n",
       "      <td>7.5</td>\n",
       "      <td>7.5</td>\n",
       "      <td>7.0</td>\n",
       "      <td>8.0</td>\n",
       "      <td>6.5</td>\n",
       "      <td>139.783667</td>\n",
       "      <td>35.712716</td>\n",
       "    </tr>\n",
       "    <tr>\n",
       "      <th>5</th>\n",
       "      <td>&amp;And Hostel-Asakusa North-</td>\n",
       "      <td>Tokyo</td>\n",
       "      <td>1500</td>\n",
       "      <td>10.5km from city centre</td>\n",
       "      <td>9.4</td>\n",
       "      <td>Superb</td>\n",
       "      <td>9.5</td>\n",
       "      <td>9.5</td>\n",
       "      <td>9.0</td>\n",
       "      <td>9.0</td>\n",
       "      <td>9.5</td>\n",
       "      <td>10.0</td>\n",
       "      <td>9.5</td>\n",
       "      <td>139.798371</td>\n",
       "      <td>35.727898</td>\n",
       "    </tr>\n",
       "    <tr>\n",
       "      <th>...</th>\n",
       "      <td>...</td>\n",
       "      <td>...</td>\n",
       "      <td>...</td>\n",
       "      <td>...</td>\n",
       "      <td>...</td>\n",
       "      <td>...</td>\n",
       "      <td>...</td>\n",
       "      <td>...</td>\n",
       "      <td>...</td>\n",
       "      <td>...</td>\n",
       "      <td>...</td>\n",
       "      <td>...</td>\n",
       "      <td>...</td>\n",
       "      <td>...</td>\n",
       "      <td>...</td>\n",
       "    </tr>\n",
       "    <tr>\n",
       "      <th>338</th>\n",
       "      <td>YADOYA Guesthouse Green</td>\n",
       "      <td>Tokyo</td>\n",
       "      <td>2300</td>\n",
       "      <td>2.6km from city centre</td>\n",
       "      <td>8.2</td>\n",
       "      <td>Fabulous</td>\n",
       "      <td>7.9</td>\n",
       "      <td>7.7</td>\n",
       "      <td>6.9</td>\n",
       "      <td>8.9</td>\n",
       "      <td>8.9</td>\n",
       "      <td>8.8</td>\n",
       "      <td>8.3</td>\n",
       "      <td>139.668125</td>\n",
       "      <td>35.702908</td>\n",
       "    </tr>\n",
       "    <tr>\n",
       "      <th>339</th>\n",
       "      <td>YADOYA Guesthouse Orange</td>\n",
       "      <td>Tokyo</td>\n",
       "      <td>2000</td>\n",
       "      <td>2.9km from city centre</td>\n",
       "      <td>8.9</td>\n",
       "      <td>Fabulous</td>\n",
       "      <td>8.6</td>\n",
       "      <td>9.0</td>\n",
       "      <td>7.8</td>\n",
       "      <td>9.4</td>\n",
       "      <td>9.0</td>\n",
       "      <td>9.2</td>\n",
       "      <td>9.4</td>\n",
       "      <td>139.667695</td>\n",
       "      <td>35.706513</td>\n",
       "    </tr>\n",
       "    <tr>\n",
       "      <th>340</th>\n",
       "      <td>YAWP! backpackers</td>\n",
       "      <td>Tokyo</td>\n",
       "      <td>2500</td>\n",
       "      <td>17.5km from city centre</td>\n",
       "      <td>9.3</td>\n",
       "      <td>Superb</td>\n",
       "      <td>9.5</td>\n",
       "      <td>9.3</td>\n",
       "      <td>9.4</td>\n",
       "      <td>8.5</td>\n",
       "      <td>9.5</td>\n",
       "      <td>9.2</td>\n",
       "      <td>9.6</td>\n",
       "      <td>139.869197</td>\n",
       "      <td>35.752885</td>\n",
       "    </tr>\n",
       "    <tr>\n",
       "      <th>341</th>\n",
       "      <td>You En Me House</td>\n",
       "      <td>Kyoto</td>\n",
       "      <td>2800</td>\n",
       "      <td>2.4km from city centre</td>\n",
       "      <td>8.0</td>\n",
       "      <td>Fabulous</td>\n",
       "      <td>7.3</td>\n",
       "      <td>8.0</td>\n",
       "      <td>6.7</td>\n",
       "      <td>8.0</td>\n",
       "      <td>8.7</td>\n",
       "      <td>10.0</td>\n",
       "      <td>7.3</td>\n",
       "      <td>135.749063</td>\n",
       "      <td>34.997376</td>\n",
       "    </tr>\n",
       "    <tr>\n",
       "      <th>342</th>\n",
       "      <td>Zabutton Hostel</td>\n",
       "      <td>Tokyo</td>\n",
       "      <td>2900</td>\n",
       "      <td>5.9km from city centre</td>\n",
       "      <td>8.6</td>\n",
       "      <td>Fabulous</td>\n",
       "      <td>8.1</td>\n",
       "      <td>8.5</td>\n",
       "      <td>7.8</td>\n",
       "      <td>9.0</td>\n",
       "      <td>8.9</td>\n",
       "      <td>9.5</td>\n",
       "      <td>8.5</td>\n",
       "      <td>139.742116</td>\n",
       "      <td>35.655470</td>\n",
       "    </tr>\n",
       "  </tbody>\n",
       "</table>\n",
       "<p>327 rows × 15 columns</p>\n",
       "</div>"
      ],
      "text/plain": [
       "                      hostel.name          City  price.from  \\\n",
       "1    \"Bike & Bed\" CharinCo Hostel         Osaka        3300   \n",
       "2                    & And Hostel  Fukuoka-City        2600   \n",
       "3           &And Hostel Akihabara         Tokyo        3600   \n",
       "4                &And Hostel Ueno         Tokyo        2600   \n",
       "5      &And Hostel-Asakusa North-         Tokyo        1500   \n",
       "..                            ...           ...         ...   \n",
       "338       YADOYA Guesthouse Green         Tokyo        2300   \n",
       "339      YADOYA Guesthouse Orange         Tokyo        2000   \n",
       "340             YAWP! backpackers         Tokyo        2500   \n",
       "341               You En Me House         Kyoto        2800   \n",
       "342               Zabutton Hostel         Tokyo        2900   \n",
       "\n",
       "                    Distance  summary.score rating.band  atmosphere  \\\n",
       "1     2.9km from city centre            9.2      Superb         8.9   \n",
       "2     0.7km from city centre            9.5      Superb         9.4   \n",
       "3     7.8km from city centre            8.7    Fabulous         8.0   \n",
       "4     8.7km from city centre            7.4   Very Good         8.0   \n",
       "5    10.5km from city centre            9.4      Superb         9.5   \n",
       "..                       ...            ...         ...         ...   \n",
       "338   2.6km from city centre            8.2    Fabulous         7.9   \n",
       "339   2.9km from city centre            8.9    Fabulous         8.6   \n",
       "340  17.5km from city centre            9.3      Superb         9.5   \n",
       "341   2.4km from city centre            8.0    Fabulous         7.3   \n",
       "342   5.9km from city centre            8.6    Fabulous         8.1   \n",
       "\n",
       "     cleanliness  facilities  location.y  security  staff  valueformoney  \\\n",
       "1            9.4         9.3         8.9       9.0    9.4            9.4   \n",
       "2            9.7         9.5         9.7       9.2    9.7            9.5   \n",
       "3            7.0         9.0         8.0      10.0   10.0            9.0   \n",
       "4            7.5         7.5         7.5       7.0    8.0            6.5   \n",
       "5            9.5         9.0         9.0       9.5   10.0            9.5   \n",
       "..           ...         ...         ...       ...    ...            ...   \n",
       "338          7.7         6.9         8.9       8.9    8.8            8.3   \n",
       "339          9.0         7.8         9.4       9.0    9.2            9.4   \n",
       "340          9.3         9.4         8.5       9.5    9.2            9.6   \n",
       "341          8.0         6.7         8.0       8.7   10.0            7.3   \n",
       "342          8.5         7.8         9.0       8.9    9.5            8.5   \n",
       "\n",
       "            lon        lat  \n",
       "1    135.513767  34.682678  \n",
       "2           NaN        NaN  \n",
       "3    139.777472  35.697447  \n",
       "4    139.783667  35.712716  \n",
       "5    139.798371  35.727898  \n",
       "..          ...        ...  \n",
       "338  139.668125  35.702908  \n",
       "339  139.667695  35.706513  \n",
       "340  139.869197  35.752885  \n",
       "341  135.749063  34.997376  \n",
       "342  139.742116  35.655470  \n",
       "\n",
       "[327 rows x 15 columns]"
      ]
     },
     "execution_count": 56,
     "metadata": {},
     "output_type": "execute_result"
    }
   ],
   "source": [
    "# ваш код здесь\n",
    "hostels.dropna(subset = ['atmosphere', 'valueformoney'], axis = 0)"
   ]
  },
  {
   "cell_type": "markdown",
   "metadata": {
    "id": "7fGqHxYR0MjF"
   },
   "source": [
    "## Задание 11 (1 балл)\n",
    "Заполните пропущенные значения в `summary.score` средним значением `summary.score` для каждого города. Используйте `.groupby()`, `.transform()` и `.fillna()`"
   ]
  },
  {
   "cell_type": "code",
   "execution_count": 60,
   "metadata": {
    "id": "VkTGFZ2Tw5mU"
   },
   "outputs": [],
   "source": [
    "# ваш код здесь\n",
    "hostels['summary.score'] = hostels['summary.score'].fillna(hostels.groupby('City')['summary.score'].transform('mean'))\n"
   ]
  },
  {
   "cell_type": "markdown",
   "metadata": {
    "id": "OZtt3mR3IWUc"
   },
   "source": [
    "## Задание 12 (1 балл)"
   ]
  },
  {
   "cell_type": "markdown",
   "metadata": {
    "id": "pSzPTGxrnEf1"
   },
   "source": [
    "Создайте новую переменную `Distance.km` — она должна выражаться вещественным числом — расстрояние хостела в километрах от центра города."
   ]
  },
  {
   "cell_type": "code",
   "execution_count": 169,
   "metadata": {
    "colab": {
     "base_uri": "https://localhost:8080/",
     "height": 400
    },
    "id": "VornWOq9nZU7",
    "outputId": "0267f238-af95-4051-80b4-737a782ed48d"
   },
   "outputs": [
    {
     "name": "stdout",
     "output_type": "stream",
     "text": [
      "<class 'pandas.core.frame.DataFrame'>\n",
      "Int64Index: 342 entries, 1 to 342\n",
      "Data columns (total 17 columns):\n",
      " #   Column            Non-Null Count  Dtype  \n",
      "---  ------            --------------  -----  \n",
      " 0   hostel.name       342 non-null    object \n",
      " 1   City              342 non-null    object \n",
      " 2   price.from        342 non-null    int64  \n",
      " 3   Distance          342 non-null    object \n",
      " 4   summary.score     327 non-null    float64\n",
      " 5   rating.band       327 non-null    object \n",
      " 6   atmosphere        327 non-null    float64\n",
      " 7   cleanliness       327 non-null    float64\n",
      " 8   facilities        327 non-null    float64\n",
      " 9   location.y        327 non-null    float64\n",
      " 10  security          327 non-null    float64\n",
      " 11  staff             327 non-null    float64\n",
      " 12  valueformoney     327 non-null    float64\n",
      " 13  lon               298 non-null    float64\n",
      " 14  lat               298 non-null    float64\n",
      " 15  price.from.yuans  342 non-null    float64\n",
      " 16  Distance.km       342 non-null    float64\n",
      "dtypes: float64(12), int64(1), object(4)\n",
      "memory usage: 48.1+ KB\n"
     ]
    }
   ],
   "source": [
    "# ваш код здесь\n",
    "hostels['Distance.km'] = hostels['Distance'].apply(lambda x: x.split()[0][:-2])\n",
    "hostels['Distance.km'] = pd.to_numeric(hostels['Distance.km'])\n",
    "hostels.info()"
   ]
  },
  {
   "cell_type": "markdown",
   "metadata": {
    "id": "H1QtuOTDpJBA"
   },
   "source": [
    "## Задание 13 (1 балл)"
   ]
  },
  {
   "cell_type": "markdown",
   "metadata": {
    "id": "tm1yKiXzI6et"
   },
   "source": [
    "Создайте бинарную переменную `Hiroshima.Centre`. Хостелы, которые находятся не дальше 1 км от центра города Хиросимы кодируются единицей, остальные — нулем."
   ]
  },
  {
   "cell_type": "code",
   "execution_count": 135,
   "metadata": {
    "id": "BG5uoPHFmvUx"
   },
   "outputs": [
    {
     "data": {
      "text/html": [
       "<div>\n",
       "<style scoped>\n",
       "    .dataframe tbody tr th:only-of-type {\n",
       "        vertical-align: middle;\n",
       "    }\n",
       "\n",
       "    .dataframe tbody tr th {\n",
       "        vertical-align: top;\n",
       "    }\n",
       "\n",
       "    .dataframe thead th {\n",
       "        text-align: right;\n",
       "    }\n",
       "</style>\n",
       "<table border=\"1\" class=\"dataframe\">\n",
       "  <thead>\n",
       "    <tr style=\"text-align: right;\">\n",
       "      <th></th>\n",
       "      <th>hostel.name</th>\n",
       "      <th>City</th>\n",
       "      <th>price.from</th>\n",
       "      <th>Distance</th>\n",
       "      <th>summary.score</th>\n",
       "      <th>rating.band</th>\n",
       "      <th>atmosphere</th>\n",
       "      <th>cleanliness</th>\n",
       "      <th>facilities</th>\n",
       "      <th>location.y</th>\n",
       "      <th>security</th>\n",
       "      <th>staff</th>\n",
       "      <th>valueformoney</th>\n",
       "      <th>lon</th>\n",
       "      <th>lat</th>\n",
       "      <th>Distance.km</th>\n",
       "      <th>Hiroshima.Centre</th>\n",
       "    </tr>\n",
       "  </thead>\n",
       "  <tbody>\n",
       "    <tr>\n",
       "      <th>149</th>\n",
       "      <td>Hostel Mallika</td>\n",
       "      <td>Hiroshima</td>\n",
       "      <td>2500</td>\n",
       "      <td>0.7km from city centre</td>\n",
       "      <td>9.3</td>\n",
       "      <td>Superb</td>\n",
       "      <td>8.5</td>\n",
       "      <td>9.5</td>\n",
       "      <td>9.2</td>\n",
       "      <td>9.7</td>\n",
       "      <td>9.4</td>\n",
       "      <td>9.6</td>\n",
       "      <td>9.3</td>\n",
       "      <td>132.449942</td>\n",
       "      <td>34.389848</td>\n",
       "      <td>0.7</td>\n",
       "      <td>1</td>\n",
       "    </tr>\n",
       "    <tr>\n",
       "      <th>286</th>\n",
       "      <td>Santiago Guesthouse Hiroshima</td>\n",
       "      <td>Hiroshima</td>\n",
       "      <td>2000</td>\n",
       "      <td>0.7km from city centre</td>\n",
       "      <td>8.9</td>\n",
       "      <td>Fabulous</td>\n",
       "      <td>8.5</td>\n",
       "      <td>8.9</td>\n",
       "      <td>8.7</td>\n",
       "      <td>9.6</td>\n",
       "      <td>9.0</td>\n",
       "      <td>8.6</td>\n",
       "      <td>8.8</td>\n",
       "      <td>132.459409</td>\n",
       "      <td>34.390366</td>\n",
       "      <td>0.7</td>\n",
       "      <td>1</td>\n",
       "    </tr>\n",
       "  </tbody>\n",
       "</table>\n",
       "</div>"
      ],
      "text/plain": [
       "                       hostel.name       City  price.from  \\\n",
       "149                 Hostel Mallika  Hiroshima        2500   \n",
       "286  Santiago Guesthouse Hiroshima  Hiroshima        2000   \n",
       "\n",
       "                   Distance  summary.score rating.band  atmosphere  \\\n",
       "149  0.7km from city centre            9.3      Superb         8.5   \n",
       "286  0.7km from city centre            8.9    Fabulous         8.5   \n",
       "\n",
       "     cleanliness  facilities  location.y  security  staff  valueformoney  \\\n",
       "149          9.5         9.2         9.7       9.4    9.6            9.3   \n",
       "286          8.9         8.7         9.6       9.0    8.6            8.8   \n",
       "\n",
       "            lon        lat  Distance.km  Hiroshima.Centre  \n",
       "149  132.449942  34.389848          0.7                 1  \n",
       "286  132.459409  34.390366          0.7                 1  "
      ]
     },
     "execution_count": 135,
     "metadata": {},
     "output_type": "execute_result"
    }
   ],
   "source": [
    "# ваш код здесь\n",
    "import numpy as np\n",
    "hostels['Hiroshima.Centre'] = np.where((hostels.City == 'Hiroshima') & (hostels['Distance.km'] <= 1), 1, 0)\n",
    "hostels[hostels['Hiroshima.Centre'] == 1]"
   ]
  },
  {
   "cell_type": "code",
   "execution_count": null,
   "metadata": {},
   "outputs": [],
   "source": []
  },
  {
   "cell_type": "markdown",
   "metadata": {
    "id": "OAP0p8Y5uuJq"
   },
   "source": [
    "## Задание 14 (1 балл)\n",
    "\n",
    "Используя переменную `Hiroshima.Centre` посчитайте процент всех хостелов, находящихся в Хиросиме, находятся в центре города."
   ]
  },
  {
   "cell_type": "code",
   "execution_count": 137,
   "metadata": {
    "id": "D5UaeI3u4jgr"
   },
   "outputs": [
    {
     "name": "stdout",
     "output_type": "stream",
     "text": [
      "0.14285714285714285\n",
      "14,3%\n"
     ]
    }
   ],
   "source": [
    "# ваш код здесь (процент хостелов, находящихся в центре города, от всех хостелов Хиросимы)\n",
    "\n",
    "print(hostels[hostels['Hiroshima.Centre'] == 1].shape[0] / hostels[hostels.City == 'Hiroshima'].shape[0])\n",
    "print('14,3%')"
   ]
  },
  {
   "cell_type": "markdown",
   "metadata": {},
   "source": [
    "## Задание 15 (1.5 балла)\n",
    "\n",
    "Постройте столбчатую диаграмму, где по оси x будут названия городов, а по оси y — средняя цена хостела в этом городе. Для получения полного балла выполните все шаги в ячейке ниже (каждый шаг 0.5 балла).\n",
    "\n",
    "Референс: \n",
    "\n",
    "![](https://github.com/rogovich/2022_POL_Data_Analysis_in_Python/blob/main/@Test/01_Test/reference_1.png?raw=true)"
   ]
  },
  {
   "cell_type": "code",
   "execution_count": 112,
   "metadata": {},
   "outputs": [
    {
     "data": {
      "text/plain": [
       "Text(0, 0.5, 'Средняя цена за ночь')"
      ]
     },
     "execution_count": 112,
     "metadata": {},
     "output_type": "execute_result"
    },
    {
     "data": {
      "image/png": "[encoded data removed]",
      "text/plain": [
       "<Figure size 504x360 with 1 Axes>"
      ]
     },
     "metadata": {
      "needs_background": "light"
     },
     "output_type": "display_data"
    }
   ],
   "source": [
    "# Инициализируем переменные fig, ax и задаем размер графика 7 на 5 дюймов\n",
    "fig, ax = plt.subplots(figsize = (7,5))\n",
    "\n",
    "# 1. Сгруппируйте данные и сохраните в переменную `cities_price`\n",
    "cities_price = hostels.groupby('City')['price.from'].mean()\n",
    "\n",
    "# 2. Постройсте столбчатую диаграмму: для оси x используйте индекс объекта `cities_price`\n",
    "# для оси y — значения `cities_price`. Сделайте столбики красного цвета\n",
    "ax.bar(cities_price.index, cities_price, color='r')\n",
    "\n",
    "\n",
    "# 3. Подпишите ось x `Город`, а ось y — 'Средняя цена за ночь'\n",
    "ax.set_xlabel('Город')\n",
    "ax.set_ylabel('Средняя цена за ночь')\n"
   ]
  },
  {
   "cell_type": "markdown",
   "metadata": {},
   "source": [
    "## Задание 16 (2 балла)\n",
    "\n",
    "Постройте график рассеяния для хостелов в Киото (`Kyoto`), где по оси x будет цена хостела, по оси y — суммарный рейтинг (`summary.score`), а за цвет будет отвечать колонка `valueformoney`. Для получения полного балла выполните все шаги в ячейке ниже. Каждый шаг 0.5 балла.\n",
    "\n",
    "Референс: \n",
    "\n",
    "![](https://github.com/rogovich/2022_POL_Data_Analysis_in_Python/blob/main/@Test/01_Test/reference_3.png?raw=true)"
   ]
  },
  {
   "cell_type": "code",
   "execution_count": 108,
   "metadata": {},
   "outputs": [
    {
     "data": {
      "text/plain": [
       "Text(0, 0.5, 'Суммарный рейтинг')"
      ]
     },
     "execution_count": 108,
     "metadata": {},
     "output_type": "execute_result"
    },
    {
     "data": {
      "image/png": "[encoded data removed]",
      "text/plain": [
       "<Figure size 720x360 with 2 Axes>"
      ]
     },
     "metadata": {
      "needs_background": "light"
     },
     "output_type": "display_data"
    }
   ],
   "source": [
    "# Инициализируем переменные fig, ax и задаем размер графика 10 на 5 дюймов\n",
    "fig, ax = plt.subplots(figsize = (10,5))\n",
    "\n",
    "# 1. Отфильтруйте только хостелы в Киото и сохраните в переменную kyoto\n",
    "\n",
    "kyoto = hostels[hostels.City == 'Kyoto']\n",
    "\n",
    "# 2. Постройте график рассеяния по условию. Добавьте уровень прозрачности равный 50%. Сохраните график в переменную graph\n",
    "\n",
    "graph = ax.scatter(kyoto['price.from'], kyoto['summary.score'], c=kyoto.valueformoney, alpha = 0.5)\n",
    "\n",
    "# 3. С помощью функции plt.colorbar() выведите цветовую шкалу для 'valueformoney'\n",
    "# передайте в функцию переменную graph и задайте аргумент label строкой  \"Соотношение цена-качество\"\n",
    "\n",
    "plt.colorbar(graph, label = 'Соотношение цена-качество')\n",
    "\n",
    "# 4. Подпишите шкалу x \"Цена за ночь\", а шкалу y — \"Суммарный рейтинг\"\n",
    "\n",
    "ax.set_xlabel('Цена за ночь')\n",
    "ax.set_ylabel('Суммарный рейтинг')\n"
   ]
  },
  {
   "cell_type": "code",
   "execution_count": null,
   "metadata": {},
   "outputs": [],
   "source": []
  },
  {
   "cell_type": "code",
   "execution_count": null,
   "metadata": {},
   "outputs": [],
   "source": []
  }
 ],
 "metadata": {
  "colab": {
   "collapsed_sections": [],
   "name": "KH_STATS_Midterm.ipynb",
   "provenance": []
  },
  "kernelspec": {
   "display_name": "Python 3",
   "language": "python",
   "name": "python3"
  },
  "language_info": {
   "codemirror_mode": {
    "name": "ipython",
    "version": 3
   },
   "file_extension": ".py",
   "mimetype": "text/x-python",
   "name": "python",
   "nbconvert_exporter": "python",
   "pygments_lexer": "ipython3",
   "version": "3.8.8"
  }
 },
 "nbformat": 4,
 "nbformat_minor": 4
}
