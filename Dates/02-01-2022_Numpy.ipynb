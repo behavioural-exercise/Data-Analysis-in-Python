{
 "cells": [
  {
   "cell_type": "code",
   "execution_count": 1,
   "id": "8a64bce0-0e38-4558-967c-6c568df845bf",
   "metadata": {},
   "outputs": [],
   "source": [
    "import numpy as np # numerical python, np - alias"
   ]
  },
  {
   "cell_type": "code",
   "execution_count": 4,
   "id": "f54acbd4-4be4-4088-9de0-817d5015a388",
   "metadata": {},
   "outputs": [
    {
     "name": "stdout",
     "output_type": "stream",
     "text": [
      "[2, 5, 5, 9, 4, 2]\n",
      "<class 'numpy.ndarray'>\n",
      "[2 5 5]\n"
     ]
    }
   ],
   "source": [
    "x = [2, 5, 5]\n",
    "y = [9, 4, 2]\n",
    "print(x+y)\n",
    "x_np = np.array(x)\n",
    "y_np = np.array(y)\n",
    "print(type(x_np)) # nd - n-dimensional\n",
    "print(x_np)"
   ]
  },
  {
   "cell_type": "code",
   "execution_count": 8,
   "id": "4e34e116-6164-4ed5-b486-15726a660b8f",
   "metadata": {},
   "outputs": [
    {
     "name": "stdout",
     "output_type": "stream",
     "text": [
      "[11  9  7]\n",
      "[18 20 10]\n",
      "[5.5 4.5 3.5]\n",
      "[0.69314718 1.60943791 1.60943791]\n"
     ]
    }
   ],
   "source": [
    "print(x_np + y_np)\n",
    "print(x_np * y_np)\n",
    "print((x_np + y_np)/2)\n",
    "print(np.log(x_np))"
   ]
  },
  {
   "cell_type": "code",
   "execution_count": 9,
   "id": "000811e8-e3c1-451c-8a22-21e6495c2393",
   "metadata": {},
   "outputs": [
    {
     "data": {
      "text/plain": [
       "array([62., 72.])"
      ]
     },
     "execution_count": 9,
     "metadata": {},
     "output_type": "execute_result"
    }
   ],
   "source": [
    "np.array([0.62, 0.72]) * 100"
   ]
  },
  {
   "cell_type": "code",
   "execution_count": 11,
   "id": "96b9d5e9-5bd2-4346-b19d-9b34c780da24",
   "metadata": {},
   "outputs": [
    {
     "data": {
      "text/plain": [
       "5"
      ]
     },
     "execution_count": 11,
     "metadata": {},
     "output_type": "execute_result"
    }
   ],
   "source": [
    "A = [[3, 5, 1], [5, 10 ,4], [4, 20, 4]]\n",
    "A[1][0]"
   ]
  },
  {
   "cell_type": "code",
   "execution_count": 12,
   "id": "e435defc-2099-4ca0-b601-b89f3866e459",
   "metadata": {},
   "outputs": [
    {
     "name": "stdout",
     "output_type": "stream",
     "text": [
      "[[ 3  5  1]\n",
      " [ 5 10  4]\n",
      " [ 4 20  4]]\n"
     ]
    }
   ],
   "source": [
    "A_np = np.array(A)\n",
    "print(A_np)"
   ]
  },
  {
   "cell_type": "code",
   "execution_count": 19,
   "id": "2cf891e6-b171-499c-a37e-53d31c7c34f0",
   "metadata": {},
   "outputs": [
    {
     "name": "stdout",
     "output_type": "stream",
     "text": [
      "5\n",
      "5\n",
      "[ 5 10  4]\n",
      "[1 4 4]\n",
      "[1 4]\n"
     ]
    }
   ],
   "source": [
    "print(A_np[0][1])\n",
    "print(A_np[0, 1]) # этот способ быстрее\n",
    "print(A_np[1])\n",
    "print(A_np[:, 2]) # достаем колонку\n",
    "print(A_np[:2, 2]) # достаем первые два элемента третьей колонки"
   ]
  },
  {
   "cell_type": "code",
   "execution_count": 26,
   "id": "7ce0d114-6291-49e2-ae69-dc3da5b84b06",
   "metadata": {},
   "outputs": [
    {
     "name": "stdout",
     "output_type": "stream",
     "text": [
      "['cat', 2, True, 4.2]\n",
      "['cat' '2' 'True' '4.2']\n"
     ]
    }
   ],
   "source": [
    "example = ['cat', 2, True, 4.2]\n",
    "print(example)\n",
    "example_np = np.array(example)\n",
    "print(example_np) # пакет не смог все преобразовать в цифры, поэтому он взял и сделал\n",
    "# гомогенным весь массив данных, то есть сделал все строками\n",
    "# короче эта штука хранит массивы только в одном типе данных"
   ]
  },
  {
   "cell_type": "code",
   "execution_count": 27,
   "id": "c7644553-461e-4386-bbf9-6091106ca1ee",
   "metadata": {},
   "outputs": [
    {
     "data": {
      "text/plain": [
       "[2, True, 4.2]"
      ]
     },
     "execution_count": 27,
     "metadata": {},
     "output_type": "execute_result"
    }
   ],
   "source": [
    "example = [2, True, 4.2] # превращает все элементы в float\n",
    "example"
   ]
  },
  {
   "cell_type": "code",
   "execution_count": 32,
   "id": "f56bb783-bc4a-4358-adba-5d895010d732",
   "metadata": {},
   "outputs": [
    {
     "name": "stdout",
     "output_type": "stream",
     "text": [
      "1.4142135623730951\n",
      "4.0\n"
     ]
    }
   ],
   "source": [
    "print(x_np.std())\n",
    "print(x_np.mean())"
   ]
  },
  {
   "cell_type": "code",
   "execution_count": 86,
   "id": "3f039c0c-b941-46be-a49a-c0f8a6017def",
   "metadata": {},
   "outputs": [
    {
     "data": {
      "text/plain": [
       "array([[ 3,  5,  1],\n",
       "       [ 5, 10,  4],\n",
       "       [ 4, 20,  4]])"
      ]
     },
     "execution_count": 86,
     "metadata": {},
     "output_type": "execute_result"
    }
   ],
   "source": [
    "A_np"
   ]
  },
  {
   "cell_type": "code",
   "execution_count": 65,
   "id": "ed0e8e59-bb2f-4776-a939-a3db4cda4ba5",
   "metadata": {},
   "outputs": [
    {
     "name": "stdout",
     "output_type": "stream",
     "text": [
      "6.222222222222222\n",
      "11.666666666666666\n",
      "[ 4.         11.66666667  3.        ]\n",
      "[3.         6.33333333 9.33333333]\n"
     ]
    }
   ],
   "source": [
    "print(A_np.mean())\n",
    "print(A_np[:, 1].mean())\n",
    "print(A_np.mean(axis = 0)) # среднее по колонкам\n",
    "print(A_np.mean(axis = 1)) # среднее по рядам"
   ]
  },
  {
   "cell_type": "code",
   "execution_count": 40,
   "id": "5bd946b0-721c-4f9c-a560-7e32a805efa7",
   "metadata": {},
   "outputs": [
    {
     "data": {
      "text/plain": [
       "5.0"
      ]
     },
     "execution_count": 40,
     "metadata": {},
     "output_type": "execute_result"
    }
   ],
   "source": [
    "np.median(x_np)"
   ]
  },
  {
   "cell_type": "code",
   "execution_count": null,
   "id": "c19711b8-7b50-4e61-b1e4-3bf7d88df4e7",
   "metadata": {},
   "outputs": [],
   "source": []
  },
  {
   "cell_type": "code",
   "execution_count": 50,
   "id": "af308b99-f28a-4d65-a167-68347d8d9bf4",
   "metadata": {},
   "outputs": [
    {
     "data": {
      "text/plain": [
       "9"
      ]
     },
     "execution_count": 50,
     "metadata": {},
     "output_type": "execute_result"
    }
   ],
   "source": [
    "A_np.size"
   ]
  },
  {
   "cell_type": "code",
   "execution_count": null,
   "id": "cc070842-9710-4c47-b04c-1e2419becb19",
   "metadata": {},
   "outputs": [],
   "source": []
  },
  {
   "cell_type": "code",
   "execution_count": 51,
   "id": "9ded478a-ad6e-46c6-906b-27f363229055",
   "metadata": {},
   "outputs": [],
   "source": [
    "ages = np.array([[15, 23, 32, 45, 52], \n",
    "               [68, 34, 55, 78, 20], \n",
    "               [25, 67, 33, 45, 14]])"
   ]
  },
  {
   "cell_type": "code",
   "execution_count": 52,
   "id": "6c4f9f6d-13e0-4798-aa9e-4c0de5eb97d4",
   "metadata": {},
   "outputs": [
    {
     "data": {
      "text/plain": [
       "array([[15, 23, 32, 45, 52],\n",
       "       [68, 34, 55, 78, 20],\n",
       "       [25, 67, 33, 45, 14]])"
      ]
     },
     "execution_count": 52,
     "metadata": {},
     "output_type": "execute_result"
    }
   ],
   "source": [
    "ages"
   ]
  },
  {
   "cell_type": "code",
   "execution_count": 56,
   "id": "d998b40e-03f9-4b2b-9ea9-02cbe4699789",
   "metadata": {},
   "outputs": [
    {
     "data": {
      "text/plain": [
       "array([[ True, False, False, False, False],\n",
       "       [ True, False, False,  True, False],\n",
       "       [False,  True, False, False,  True]])"
      ]
     },
     "execution_count": 56,
     "metadata": {},
     "output_type": "execute_result"
    }
   ],
   "source": [
    "~((ages >= 18) & (ages <= 65)) # and, not = ~"
   ]
  },
  {
   "cell_type": "code",
   "execution_count": 55,
   "id": "4840b1ca-57b4-4544-bcc0-e4f9d4c57c00",
   "metadata": {},
   "outputs": [
    {
     "data": {
      "text/plain": [
       "array([[ True, False, False, False, False],\n",
       "       [ True, False, False,  True, False],\n",
       "       [False,  True, False, False,  True]])"
      ]
     },
     "execution_count": 55,
     "metadata": {},
     "output_type": "execute_result"
    }
   ],
   "source": [
    "(ages < 18) | (ages > 65) # or"
   ]
  },
  {
   "cell_type": "code",
   "execution_count": 57,
   "id": "bbab0162-8b35-45f3-8eb3-30b65ccb6dbc",
   "metadata": {},
   "outputs": [
    {
     "data": {
      "text/plain": [
       "array([15, 68, 78, 67, 14])"
      ]
     },
     "execution_count": 57,
     "metadata": {},
     "output_type": "execute_result"
    }
   ],
   "source": [
    "ages[(ages < 18) | (ages > 65)] # boolean mask"
   ]
  },
  {
   "cell_type": "code",
   "execution_count": 59,
   "id": "6a58142f-052d-41c0-8b2f-a9cc9a9c7384",
   "metadata": {},
   "outputs": [
    {
     "data": {
      "text/plain": [
       "array([2, 5])"
      ]
     },
     "execution_count": 59,
     "metadata": {},
     "output_type": "execute_result"
    }
   ],
   "source": [
    "x_np[[True, True, False]]"
   ]
  },
  {
   "cell_type": "code",
   "execution_count": null,
   "id": "b80c70d1-1559-4c1d-91e3-93d77752e9e6",
   "metadata": {},
   "outputs": [],
   "source": []
  },
  {
   "cell_type": "code",
   "execution_count": null,
   "id": "4f0fd543-468b-4e06-8169-6d5269358d75",
   "metadata": {},
   "outputs": [],
   "source": []
  },
  {
   "cell_type": "code",
   "execution_count": 60,
   "id": "c21ebf2c-7da3-415e-b61e-51b290822833",
   "metadata": {},
   "outputs": [],
   "source": [
    "scores = np.array([[20, 40, 56, 80, 0, 5, 25, 27, 74, 1],\n",
    "         [0, 98, 67, 100, 8, 56, 34, 82, 100, 7],\n",
    "         [78, 54, 23, 79, 100, 0, 0, 42, 95, 83],\n",
    "         [51, 50, 47, 23, 100, 94, 25, 48, 38, 77],\n",
    "         [90, 87, 41, 89, 52, 0, 5, 17, 28, 99],\n",
    "         [32, 18, 21, 18, 29, 31, 48, 62, 76, 22],\n",
    "         [6, 0, 65, 78, 43, 22, 38, 88, 94, 100],\n",
    "         [77, 28, 39, 41, 0, 81, 45, 54, 98, 12],\n",
    "         [66, 0, 88, 0, 44, 0, 55, 100, 12, 11],\n",
    "         [17, 70, 86, 96, 56, 23, 32, 49, 70, 80],\n",
    "         [20, 24, 76, 50, 29, 40, 3, 2, 5, 11],\n",
    "         [33, 63, 28, 40, 51, 100, 98, 87, 22, 30],\n",
    "         [16, 54, 78, 12, 25, 35, 10, 19, 67, 0],\n",
    "         [100, 88, 24, 33, 47, 56, 62, 34, 77, 53],\n",
    "         [50, 89, 70, 72, 56, 29, 15, 20, 0, 0]])"
   ]
  },
  {
   "cell_type": "code",
   "execution_count": 79,
   "id": "b1ae27df-6e6b-4544-9745-d5251bacf7f4",
   "metadata": {},
   "outputs": [
    {
     "data": {
      "text/plain": [
       "13"
      ]
     },
     "execution_count": 79,
     "metadata": {},
     "output_type": "execute_result"
    }
   ],
   "source": [
    "# Посчитать, сколько слушателей получили 0 за вступительный экзамен.\n",
    "len(scores[(scores == 0)])\n",
    "(scores == 0).sum()"
   ]
  },
  {
   "cell_type": "code",
   "execution_count": 63,
   "id": "ee959edf-225d-460d-b9c4-e9af99523dba",
   "metadata": {},
   "outputs": [
    {
     "data": {
      "text/plain": [
       "64"
      ]
     },
     "execution_count": 63,
     "metadata": {},
     "output_type": "execute_result"
    }
   ],
   "source": [
    "# Посчитать, сколько слушателей получили балл выше 50.\n",
    "len(scores[(scores > 50)])"
   ]
  },
  {
   "cell_type": "code",
   "execution_count": 64,
   "id": "dfa03abc-b246-40e2-b868-6038ceb38688",
   "metadata": {},
   "outputs": [
    {
     "data": {
      "text/plain": [
       "26"
      ]
     },
     "execution_count": 64,
     "metadata": {},
     "output_type": "execute_result"
    }
   ],
   "source": [
    "# Посчитать, сколько человек получили балл не ниже 50, но не выше 70.\n",
    "len(scores[(scores >= 50) & (scores <= 70)])"
   ]
  },
  {
   "cell_type": "code",
   "execution_count": 81,
   "id": "f6a9e76a-e599-403f-8a6b-214f998eef41",
   "metadata": {},
   "outputs": [
    {
     "data": {
      "text/plain": [
       "9"
      ]
     },
     "execution_count": 81,
     "metadata": {},
     "output_type": "execute_result"
    }
   ],
   "source": [
    "# Определить, в какой группе средний балл за вступительный экзамен выше.\n",
    "scores.mean(axis = 1).argmax() # находим индекс максимального элемента"
   ]
  },
  {
   "cell_type": "code",
   "execution_count": 75,
   "id": "6e1990cf-f1a4-407e-be8b-5338db4ae97f",
   "metadata": {},
   "outputs": [
    {
     "data": {
      "text/plain": [
       "1"
      ]
     },
     "execution_count": 75,
     "metadata": {},
     "output_type": "execute_result"
    }
   ],
   "source": [
    "# Используя массив nonzero, определить минимальный вступительный балл по всем группам.\n",
    "nonzero = scores[(scores > 0)]\n",
    "nonzero.min()"
   ]
  },
  {
   "cell_type": "code",
   "execution_count": 77,
   "id": "391683e2-ca17-4c97-bbfc-2f7454fd9ac0",
   "metadata": {},
   "outputs": [
    {
     "data": {
      "text/plain": [
       "array([ 98, 100,  82, 100, 100,  95,  83, 100,  94,  90,  87,  89,  99,\n",
       "        88,  94, 100,  81,  98,  88, 100,  86,  96, 100,  98,  87, 100,\n",
       "        88,  89])"
      ]
     },
     "execution_count": 77,
     "metadata": {},
     "output_type": "execute_result"
    }
   ],
   "source": [
    "# Выбрать из массива nonzero только те значения, которые соответствуют продвинутому \n",
    "# уровню знания языка – баллу за экзамен выше 80. Сохранить полученный результат в \n",
    "# массив advanced.\n",
    "\n",
    "advanced = nonzero[(nonzero > 80)]\n",
    "advanced"
   ]
  },
  {
   "cell_type": "code",
   "execution_count": 82,
   "id": "cc4826b0-f8ff-4edd-9de0-5544eda65ffb",
   "metadata": {},
   "outputs": [
    {
     "data": {
      "text/plain": [
       "28"
      ]
     },
     "execution_count": 82,
     "metadata": {},
     "output_type": "execute_result"
    }
   ],
   "source": [
    "# Определить размерность массива advanced\n",
    "len(advanced)"
   ]
  },
  {
   "cell_type": "code",
   "execution_count": null,
   "id": "7a2ffe21-ccb6-422f-b5e7-6f6b286eb9a6",
   "metadata": {},
   "outputs": [],
   "source": []
  },
  {
   "cell_type": "code",
   "execution_count": null,
   "id": "8140580f-e50a-4654-a659-0b5161ad088e",
   "metadata": {},
   "outputs": [],
   "source": []
  },
  {
   "cell_type": "code",
   "execution_count": null,
   "id": "812fd6b1-4ccf-47b5-bd84-0a1ad27bd948",
   "metadata": {},
   "outputs": [],
   "source": []
  },
  {
   "cell_type": "code",
   "execution_count": null,
   "id": "f46f7728-7e5a-4879-8544-74f20f0009ef",
   "metadata": {},
   "outputs": [],
   "source": []
  },
  {
   "cell_type": "code",
   "execution_count": null,
   "id": "0a4e566a-ea73-40e2-a034-7286c9de2df8",
   "metadata": {},
   "outputs": [],
   "source": []
  },
  {
   "cell_type": "code",
   "execution_count": null,
   "id": "e5a2896a-721a-4b54-957d-79277eb7b343",
   "metadata": {},
   "outputs": [],
   "source": []
  },
  {
   "cell_type": "code",
   "execution_count": null,
   "id": "d8eb0573-e991-4eb9-b4bf-37ae6936ac09",
   "metadata": {},
   "outputs": [],
   "source": []
  },
  {
   "cell_type": "code",
   "execution_count": null,
   "id": "fbef7738-a1d3-49da-b7e5-b0d3d1def665",
   "metadata": {},
   "outputs": [],
   "source": []
  },
  {
   "cell_type": "code",
   "execution_count": null,
   "id": "a0ba506e-ba37-45b0-8809-4267ba874d0d",
   "metadata": {},
   "outputs": [],
   "source": []
  },
  {
   "cell_type": "code",
   "execution_count": null,
   "id": "39bc3ecb-c12f-49d7-a4f0-78e1efbbc75f",
   "metadata": {},
   "outputs": [],
   "source": []
  }
 ],
 "metadata": {
  "kernelspec": {
   "display_name": "Python 3",
   "language": "python",
   "name": "python3"
  },
  "language_info": {
   "codemirror_mode": {
    "name": "ipython",
    "version": 3
   },
   "file_extension": ".py",
   "mimetype": "text/x-python",
   "name": "python",
   "nbconvert_exporter": "python",
   "pygments_lexer": "ipython3",
   "version": "3.8.8"
  }
 },
 "nbformat": 4,
 "nbformat_minor": 5
}
