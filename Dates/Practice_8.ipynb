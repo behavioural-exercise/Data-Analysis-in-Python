{
 "cells": [
  {
   "cell_type": "markdown",
   "metadata": {},
   "source": [
    "# Самостоятельная работа 8\n",
    "\n",
    "Будем реализовывать функции разных метрик ошибки и проверьте ваши функции на векторах `answers` и `prediction` из примеров.\n",
    "\n",
    "Всего 13 баллов: максимум в ведомость 10.\n",
    "Каждая функция 3 балла (можно набрать максимум определив только 3 функции из 4)\n",
    "Чтобы проверить себя, посчитайте каждую метрику с помощью соответствующей функции из библиотеки `sklearn.metrics` (каждая правильно посчитанная метрика — 0.25 балла)\n",
    "\n",
    "\n",
    "![](https://static.packt-cdn.com/products/9781838555078/graphics/C13314_06_05.jpg)"
   ]
  },
  {
   "cell_type": "code",
   "execution_count": 1,
   "metadata": {},
   "outputs": [],
   "source": [
    "from sklearn.metrics import accuracy_score\n",
    "from sklearn.metrics import precision_score\n",
    "from sklearn.metrics import recall_score\n",
    "from sklearn.metrics import f1_score"
   ]
  },
  {
   "cell_type": "code",
   "execution_count": 2,
   "metadata": {},
   "outputs": [],
   "source": [
    "answers = [0, 0, 1, 1, 1, 0, 1, 1, 1, 0, 1]\n",
    "prediction =  [0, 1, 0, 1, 1, 1, 1, 1, 1, 0, 1]"
   ]
  },
  {
   "cell_type": "markdown",
   "metadata": {},
   "source": [
    "### 1. Доля верных предсказаний\n",
    "\n",
    "$$ accuracy = \\frac{TN + TP}{TN + FP + FN + TP} $$"
   ]
  },
  {
   "cell_type": "code",
   "execution_count": 43,
   "metadata": {},
   "outputs": [],
   "source": [
    "# определите функцию accuracy\n",
    "def accuracy(an, pr):\n",
    "    TNTP = 0\n",
    "    for i in range(len(an)):\n",
    "        if an[i] == pr[i]:\n",
    "            TNTP =+ TNTP + 1\n",
    "        else:\n",
    "            None\n",
    "    return(TNTP/len(an))"
   ]
  },
  {
   "cell_type": "code",
   "execution_count": 44,
   "metadata": {},
   "outputs": [
    {
     "data": {
      "text/plain": [
       "0.7272727272727273"
      ]
     },
     "execution_count": 44,
     "metadata": {},
     "output_type": "execute_result"
    }
   ],
   "source": [
    "# проверьте свою функцию на примере\n",
    "accuracy(answers, prediction)"
   ]
  },
  {
   "cell_type": "code",
   "execution_count": 45,
   "metadata": {},
   "outputs": [
    {
     "data": {
      "text/plain": [
       "0.7272727272727273"
      ]
     },
     "execution_count": 45,
     "metadata": {},
     "output_type": "execute_result"
    }
   ],
   "source": [
    "# сверьте результат с результатом функции из sklearn\n",
    "accuracy_score(answers, prediction)"
   ]
  },
  {
   "cell_type": "markdown",
   "metadata": {},
   "source": [
    "### 2. Точность (Precision)\n",
    "\n",
    "$$ precision = \\frac{TP}{TP + FP} $$"
   ]
  },
  {
   "cell_type": "code",
   "execution_count": 61,
   "metadata": {},
   "outputs": [],
   "source": [
    "# определите функцию precision\n",
    "\n",
    "def precision(an, pr):\n",
    "    TP = 0\n",
    "    FP = 0\n",
    "    for i in range(len(an)):\n",
    "        if an[i] == pr[i] == 1:\n",
    "            TP =+ TP + 1\n",
    "        elif (an[i] == 0) & (pr[i] == 1):\n",
    "            FP =+ FP + 1\n",
    "        else:\n",
    "            None\n",
    "    return(TP/(TP+FP))"
   ]
  },
  {
   "cell_type": "code",
   "execution_count": 62,
   "metadata": {},
   "outputs": [
    {
     "data": {
      "text/plain": [
       "0.75"
      ]
     },
     "execution_count": 62,
     "metadata": {},
     "output_type": "execute_result"
    }
   ],
   "source": [
    "# проверьте свою функцию на примере\n",
    "precision(answers, prediction)"
   ]
  },
  {
   "cell_type": "code",
   "execution_count": 63,
   "metadata": {},
   "outputs": [
    {
     "data": {
      "text/plain": [
       "0.75"
      ]
     },
     "execution_count": 63,
     "metadata": {},
     "output_type": "execute_result"
    }
   ],
   "source": [
    "# сверьте результат с результатом функции из sklearn\n",
    "precision_score(answers, prediction)"
   ]
  },
  {
   "cell_type": "markdown",
   "metadata": {},
   "source": [
    "### 3. Полнота (Recall)\n",
    "\n",
    "$$ recall = \\frac{TP}{TP + FN} $$"
   ]
  },
  {
   "cell_type": "code",
   "execution_count": 64,
   "metadata": {},
   "outputs": [],
   "source": [
    "# определите функцию recall\n",
    "\n",
    "def recall(an, pr):\n",
    "    TP = 0\n",
    "    FN = 0\n",
    "    for i in range(len(an)):\n",
    "        if an[i] == pr[i] == 1:\n",
    "            TP =+ TP + 1\n",
    "        elif (an[i] == 1) & (pr[i] == 0):\n",
    "            FN =+ FN + 1\n",
    "        else:\n",
    "            None\n",
    "    return(TP/(TP+FN))"
   ]
  },
  {
   "cell_type": "code",
   "execution_count": 65,
   "metadata": {},
   "outputs": [
    {
     "data": {
      "text/plain": [
       "0.8571428571428571"
      ]
     },
     "execution_count": 65,
     "metadata": {},
     "output_type": "execute_result"
    }
   ],
   "source": [
    "# проверьте свою функцию на примере\n",
    "recall(answers, prediction)"
   ]
  },
  {
   "cell_type": "code",
   "execution_count": 66,
   "metadata": {},
   "outputs": [
    {
     "data": {
      "text/plain": [
       "0.8571428571428571"
      ]
     },
     "execution_count": 66,
     "metadata": {},
     "output_type": "execute_result"
    }
   ],
   "source": [
    "# сверьте результат с результатом функции из sklearn\n",
    "recall_score(answers, prediction)"
   ]
  },
  {
   "cell_type": "markdown",
   "metadata": {},
   "source": [
    "### 4. F1-мера\n",
    "\n",
    "$$ f1 = \\frac{2TP}{2TP + FP + FN} $$\n",
    "\n",
    "$$ f1 = \\frac{2 * Recall * Precision}{Precision + Recall} $$\n"
   ]
  },
  {
   "cell_type": "code",
   "execution_count": 10,
   "metadata": {},
   "outputs": [],
   "source": [
    "# определите функцию f1"
   ]
  },
  {
   "cell_type": "code",
   "execution_count": 11,
   "metadata": {},
   "outputs": [],
   "source": [
    "# проверьте свою функцию на примере"
   ]
  },
  {
   "cell_type": "code",
   "execution_count": 12,
   "metadata": {},
   "outputs": [],
   "source": [
    "# сверьте результат с результатом функции из sklearn"
   ]
  }
 ],
 "metadata": {
  "kernelspec": {
   "display_name": "Python 3",
   "language": "python",
   "name": "python3"
  },
  "language_info": {
   "codemirror_mode": {
    "name": "ipython",
    "version": 3
   },
   "file_extension": ".py",
   "mimetype": "text/x-python",
   "name": "python",
   "nbconvert_exporter": "python",
   "pygments_lexer": "ipython3",
   "version": "3.8.8"
  }
 },
 "nbformat": 4,
 "nbformat_minor": 4
}
