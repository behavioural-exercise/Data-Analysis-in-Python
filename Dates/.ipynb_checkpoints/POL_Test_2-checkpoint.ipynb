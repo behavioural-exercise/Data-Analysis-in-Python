{
 "cells": [
  {
   "cell_type": "markdown",
   "id": "887de1ac-3cfc-466c-bab1-c703f68ab2e1",
   "metadata": {},
   "source": [
    "AptPrice=660.3+17.7∗TotalSquare+12.7∗LiveSquare"
   ]
  },
  {
   "cell_type": "code",
   "execution_count": 3,
   "id": "5151d610-9d20-4c68-b6ee-7a1a8c92064a",
   "metadata": {},
   "outputs": [
    {
     "name": "stdout",
     "output_type": "stream",
     "text": [
      "3005.7\n"
     ]
    }
   ],
   "source": [
    "res = 660.3 + 17.7 * x + 12.7 * y\n",
    "print(res)"
   ]
  },
  {
   "cell_type": "code",
   "execution_count": 1,
   "id": "411d3b7c-9926-4cfe-921b-75d3bbb11b34",
   "metadata": {},
   "outputs": [],
   "source": [
    "x = 83\n",
    "y = 69"
   ]
  },
  {
   "cell_type": "code",
   "execution_count": 4,
   "id": "af0fab01-117d-407b-ba8e-0036d060c546",
   "metadata": {},
   "outputs": [
    {
     "data": {
      "text/plain": [
       "777.5"
      ]
     },
     "execution_count": 4,
     "metadata": {},
     "output_type": "execute_result"
    }
   ],
   "source": [
    "3783.2 - res"
   ]
  },
  {
   "cell_type": "code",
   "execution_count": null,
   "id": "8f1312fe-2cf1-47e6-87e2-95c26961b6bb",
   "metadata": {},
   "outputs": [],
   "source": []
  },
  {
   "cell_type": "code",
   "execution_count": null,
   "id": "c765e8f8-4af0-4321-b871-3d5f028778d5",
   "metadata": {},
   "outputs": [],
   "source": []
  },
  {
   "cell_type": "code",
   "execution_count": null,
   "id": "f87de87e-bd94-43c6-956b-89d185e73024",
   "metadata": {},
   "outputs": [],
   "source": []
  },
  {
   "cell_type": "code",
   "execution_count": null,
   "id": "60911d08-7736-415e-8590-d65019e05207",
   "metadata": {},
   "outputs": [],
   "source": []
  },
  {
   "cell_type": "code",
   "execution_count": null,
   "id": "ce211091-ed2f-4340-9e0d-271284c1517c",
   "metadata": {},
   "outputs": [],
   "source": []
  },
  {
   "cell_type": "code",
   "execution_count": null,
   "id": "24615951-c3c8-4cf3-b5a9-61d74b13e25c",
   "metadata": {},
   "outputs": [],
   "source": []
  },
  {
   "cell_type": "code",
   "execution_count": null,
   "id": "ae60be8d-58fd-4514-9103-846a1b428187",
   "metadata": {},
   "outputs": [],
   "source": []
  },
  {
   "cell_type": "code",
   "execution_count": null,
   "id": "502a8c0b-f808-44c3-9046-d70a27afc8e7",
   "metadata": {},
   "outputs": [],
   "source": []
  },
  {
   "cell_type": "code",
   "execution_count": null,
   "id": "08350768-e9ed-4288-b19a-f75a36e18dbf",
   "metadata": {},
   "outputs": [],
   "source": []
  },
  {
   "cell_type": "code",
   "execution_count": null,
   "id": "1670a8f7-b4d9-4c22-ab5b-536a4f67e3cb",
   "metadata": {},
   "outputs": [],
   "source": []
  },
  {
   "cell_type": "code",
   "execution_count": 6,
   "id": "8d73f371-aa6a-4038-bfb9-573f997aa285",
   "metadata": {},
   "outputs": [
    {
     "name": "stdout",
     "output_type": "stream",
     "text": [
      "0.94\n"
     ]
    }
   ],
   "source": [
    "N = 120\n",
    "\n",
    "pos = 50\n",
    "neg = 70\n",
    "\n",
    "TP = 47 \n",
    "FP = 3\n",
    "FP = 7 \n",
    "TN = 63 \n",
    "\n",
    "precision = 47/50\n",
    "print(precision)"
   ]
  },
  {
   "cell_type": "code",
   "execution_count": 8,
   "id": "d8784360-4972-487a-84b0-2277bd3ee0cc",
   "metadata": {},
   "outputs": [],
   "source": [
    "import pandas as pd\n",
    "import numpy as np\n",
    "import "
   ]
  },
  {
   "cell_type": "code",
   "execution_count": 11,
   "id": "17d2159d-0062-4ece-831a-9118a233a582",
   "metadata": {},
   "outputs": [
    {
     "data": {
      "text/html": [
       "<div>\n",
       "<style scoped>\n",
       "    .dataframe tbody tr th:only-of-type {\n",
       "        vertical-align: middle;\n",
       "    }\n",
       "\n",
       "    .dataframe tbody tr th {\n",
       "        vertical-align: top;\n",
       "    }\n",
       "\n",
       "    .dataframe thead th {\n",
       "        text-align: right;\n",
       "    }\n",
       "</style>\n",
       "<table border=\"1\" class=\"dataframe\">\n",
       "  <thead>\n",
       "    <tr style=\"text-align: right;\">\n",
       "      <th></th>\n",
       "      <th>category</th>\n",
       "      <th>item</th>\n",
       "      <th>calories</th>\n",
       "      <th>total_fat</th>\n",
       "      <th>calcium</th>\n",
       "      <th>sugars</th>\n",
       "      <th>protein</th>\n",
       "    </tr>\n",
       "  </thead>\n",
       "  <tbody>\n",
       "    <tr>\n",
       "      <th>0</th>\n",
       "      <td>Breakfast</td>\n",
       "      <td>Egg McMuffin</td>\n",
       "      <td>300</td>\n",
       "      <td>20</td>\n",
       "      <td>25</td>\n",
       "      <td>3</td>\n",
       "      <td>17</td>\n",
       "    </tr>\n",
       "    <tr>\n",
       "      <th>1</th>\n",
       "      <td>Breakfast</td>\n",
       "      <td>Egg White Delight</td>\n",
       "      <td>250</td>\n",
       "      <td>12</td>\n",
       "      <td>25</td>\n",
       "      <td>3</td>\n",
       "      <td>18</td>\n",
       "    </tr>\n",
       "    <tr>\n",
       "      <th>2</th>\n",
       "      <td>Breakfast</td>\n",
       "      <td>Sausage McMuffin</td>\n",
       "      <td>370</td>\n",
       "      <td>35</td>\n",
       "      <td>25</td>\n",
       "      <td>2</td>\n",
       "      <td>14</td>\n",
       "    </tr>\n",
       "    <tr>\n",
       "      <th>3</th>\n",
       "      <td>Breakfast</td>\n",
       "      <td>Sausage McMuffin with Egg</td>\n",
       "      <td>450</td>\n",
       "      <td>43</td>\n",
       "      <td>30</td>\n",
       "      <td>2</td>\n",
       "      <td>21</td>\n",
       "    </tr>\n",
       "    <tr>\n",
       "      <th>4</th>\n",
       "      <td>Breakfast</td>\n",
       "      <td>Sausage McMuffin with Egg Whites</td>\n",
       "      <td>400</td>\n",
       "      <td>35</td>\n",
       "      <td>25</td>\n",
       "      <td>2</td>\n",
       "      <td>21</td>\n",
       "    </tr>\n",
       "  </tbody>\n",
       "</table>\n",
       "</div>"
      ],
      "text/plain": [
       "    category                              item  calories  total_fat  calcium  \\\n",
       "0  Breakfast                      Egg McMuffin       300         20       25   \n",
       "1  Breakfast                 Egg White Delight       250         12       25   \n",
       "2  Breakfast                  Sausage McMuffin       370         35       25   \n",
       "3  Breakfast         Sausage McMuffin with Egg       450         43       30   \n",
       "4  Breakfast  Sausage McMuffin with Egg Whites       400         35       25   \n",
       "\n",
       "   sugars  protein  \n",
       "0       3       17  \n",
       "1       3       18  \n",
       "2       2       14  \n",
       "3       2       21  \n",
       "4       2       21  "
      ]
     },
     "execution_count": 11,
     "metadata": {},
     "output_type": "execute_result"
    }
   ],
   "source": [
    "mac = pd.read_csv('mcdonalds.csv')\n",
    "mac.head()"
   ]
  },
  {
   "cell_type": "code",
   "execution_count": 12,
   "id": "4bcf8ef2-9e98-4e46-97cf-8eeb990f7e56",
   "metadata": {},
   "outputs": [],
   "source": [
    "import matplotlib.pyplot as plt\n",
    "import seaborn as sns"
   ]
  },
  {
   "cell_type": "code",
   "execution_count": 23,
   "id": "cd92a3b6-357f-4100-a89f-e9427fece7ea",
   "metadata": {},
   "outputs": [
    {
     "name": "stderr",
     "output_type": "stream",
     "text": [
      "D:\\Program Files\\Anaconda3\\lib\\site-packages\\seaborn\\_decorators.py:36: FutureWarning: Pass the following variables as keyword args: x, y. From version 0.12, the only valid positional argument will be `data`, and passing other arguments without an explicit keyword will result in an error or misinterpretation.\n",
      "  warnings.warn(\n"
     ]
    },
    {
     "data": {
      "text/plain": [
       "<AxesSubplot:xlabel='category', ylabel='sugars'>"
      ]
     },
     "execution_count": 23,
     "metadata": {},
     "output_type": "execute_result"
    },
    {
     "data": {
      "image/png": "[encoded data removed]",
      "text/plain": [
       "<Figure size 864x576 with 1 Axes>"
      ]
     },
     "metadata": {
      "needs_background": "light"
     },
     "output_type": "display_data"
    }
   ],
   "source": [
    "fig, ax = plt.subplots(figsize=(12,8))\n",
    "sns.boxplot(mac.category, mac.sugars)"
   ]
  },
  {
   "cell_type": "code",
   "execution_count": 81,
   "id": "86ad9df3-df90-4606-9de8-d32a31bbe467",
   "metadata": {},
   "outputs": [],
   "source": [
    "train = pd.read_csv('data_train.csv')"
   ]
  },
  {
   "cell_type": "code",
   "execution_count": 25,
   "id": "1fd0a141-2941-49d3-9f2d-26d8b13372f3",
   "metadata": {},
   "outputs": [
    {
     "data": {
      "text/html": [
       "<div>\n",
       "<style scoped>\n",
       "    .dataframe tbody tr th:only-of-type {\n",
       "        vertical-align: middle;\n",
       "    }\n",
       "\n",
       "    .dataframe tbody tr th {\n",
       "        vertical-align: top;\n",
       "    }\n",
       "\n",
       "    .dataframe thead th {\n",
       "        text-align: right;\n",
       "    }\n",
       "</style>\n",
       "<table border=\"1\" class=\"dataframe\">\n",
       "  <thead>\n",
       "    <tr style=\"text-align: right;\">\n",
       "      <th></th>\n",
       "      <th>Sex</th>\n",
       "      <th>Length</th>\n",
       "      <th>Diameter</th>\n",
       "      <th>Height</th>\n",
       "      <th>Whole weight</th>\n",
       "      <th>Shucked weight</th>\n",
       "      <th>Viscera weight</th>\n",
       "      <th>Shell weight</th>\n",
       "      <th>Rings</th>\n",
       "    </tr>\n",
       "  </thead>\n",
       "  <tbody>\n",
       "    <tr>\n",
       "      <th>0</th>\n",
       "      <td>M</td>\n",
       "      <td>0.515</td>\n",
       "      <td>0.350</td>\n",
       "      <td>medium</td>\n",
       "      <td>0.9225</td>\n",
       "      <td>0.4185</td>\n",
       "      <td>0.1980</td>\n",
       "      <td>0.2730</td>\n",
       "      <td>9</td>\n",
       "    </tr>\n",
       "    <tr>\n",
       "      <th>1</th>\n",
       "      <td>M</td>\n",
       "      <td>0.560</td>\n",
       "      <td>0.415</td>\n",
       "      <td>small</td>\n",
       "      <td>0.7615</td>\n",
       "      <td>0.3695</td>\n",
       "      <td>0.1700</td>\n",
       "      <td>0.1955</td>\n",
       "      <td>8</td>\n",
       "    </tr>\n",
       "    <tr>\n",
       "      <th>2</th>\n",
       "      <td>F</td>\n",
       "      <td>0.550</td>\n",
       "      <td>0.445</td>\n",
       "      <td>medium</td>\n",
       "      <td>0.9905</td>\n",
       "      <td>0.5440</td>\n",
       "      <td>0.1780</td>\n",
       "      <td>0.2180</td>\n",
       "      <td>9</td>\n",
       "    </tr>\n",
       "    <tr>\n",
       "      <th>3</th>\n",
       "      <td>I</td>\n",
       "      <td>0.655</td>\n",
       "      <td>0.515</td>\n",
       "      <td>medium</td>\n",
       "      <td>1.2500</td>\n",
       "      <td>0.5265</td>\n",
       "      <td>0.2830</td>\n",
       "      <td>0.3150</td>\n",
       "      <td>15</td>\n",
       "    </tr>\n",
       "    <tr>\n",
       "      <th>4</th>\n",
       "      <td>I</td>\n",
       "      <td>0.405</td>\n",
       "      <td>0.310</td>\n",
       "      <td>tiny</td>\n",
       "      <td>0.9100</td>\n",
       "      <td>0.4160</td>\n",
       "      <td>0.2075</td>\n",
       "      <td>0.0995</td>\n",
       "      <td>8</td>\n",
       "    </tr>\n",
       "  </tbody>\n",
       "</table>\n",
       "</div>"
      ],
      "text/plain": [
       "  Sex  Length  Diameter  Height  Whole weight  Shucked weight  Viscera weight  \\\n",
       "0   M   0.515     0.350  medium        0.9225          0.4185          0.1980   \n",
       "1   M   0.560     0.415   small        0.7615          0.3695          0.1700   \n",
       "2   F   0.550     0.445  medium        0.9905          0.5440          0.1780   \n",
       "3   I   0.655     0.515  medium        1.2500          0.5265          0.2830   \n",
       "4   I   0.405     0.310    tiny        0.9100          0.4160          0.2075   \n",
       "\n",
       "   Shell weight  Rings  \n",
       "0        0.2730      9  \n",
       "1        0.1955      8  \n",
       "2        0.2180      9  \n",
       "3        0.3150     15  \n",
       "4        0.0995      8  "
      ]
     },
     "execution_count": 25,
     "metadata": {},
     "output_type": "execute_result"
    }
   ],
   "source": [
    "train.head()"
   ]
  },
  {
   "cell_type": "code",
   "execution_count": 29,
   "id": "e8445ab6-8a8c-45dc-8a06-c939664fa26b",
   "metadata": {},
   "outputs": [
    {
     "data": {
      "text/plain": [
       "0.78"
      ]
     },
     "execution_count": 29,
     "metadata": {},
     "output_type": "execute_result"
    }
   ],
   "source": [
    "round(train[(train.Sex=='M')].Length.max(), 2)"
   ]
  },
  {
   "cell_type": "code",
   "execution_count": 37,
   "id": "748a8496-ec19-4a93-a7db-4cf0d9e85a7d",
   "metadata": {},
   "outputs": [
    {
     "data": {
      "text/plain": [
       "0.32"
      ]
     },
     "execution_count": 37,
     "metadata": {},
     "output_type": "execute_result"
    }
   ],
   "source": [
    "round(train[(train.Height == 'large')]['Shell weight'].mean() - train[(train.Height == 'tiny')]['Shell weight'].mean(), 2)"
   ]
  },
  {
   "cell_type": "code",
   "execution_count": 40,
   "id": "d9af9cc0-91b7-4484-9173-404c37f4ee32",
   "metadata": {},
   "outputs": [
    {
     "data": {
      "text/plain": [
       "0.29"
      ]
     },
     "execution_count": 40,
     "metadata": {},
     "output_type": "execute_result"
    }
   ],
   "source": [
    "round(train.groupby('Height').Diameter.mean()['tiny'], 2)"
   ]
  },
  {
   "cell_type": "code",
   "execution_count": 51,
   "id": "0e245dcc-2bde-47ea-8503-89aa9a706ffc",
   "metadata": {},
   "outputs": [
    {
     "data": {
      "text/plain": [
       "0    7\n",
       "dtype: int64"
      ]
     },
     "execution_count": 51,
     "metadata": {},
     "output_type": "execute_result"
    }
   ],
   "source": [
    "train[train.Height == 'tiny'].Rings.mode()"
   ]
  },
  {
   "cell_type": "code",
   "execution_count": null,
   "id": "bfeeeecc-3ffa-4df0-8efe-d366ea02de10",
   "metadata": {},
   "outputs": [],
   "source": []
  },
  {
   "cell_type": "code",
   "execution_count": null,
   "id": "71e253e7-5dfd-4bdd-9074-fd784215414a",
   "metadata": {},
   "outputs": [],
   "source": [
    "train[(train['Shucked weight'] )]"
   ]
  },
  {
   "cell_type": "code",
   "execution_count": 48,
   "id": "0268d98c-edbb-4ba6-88f5-2fd4c3b5b57e",
   "metadata": {},
   "outputs": [],
   "source": [
    "train['heavy_but_not_tall'] = np.where((train.Height != 'large') & ((train['Shucked weight'] + train['Viscera weight'] + train['Shell weight']) >= 0.75), 1, 0)"
   ]
  },
  {
   "cell_type": "code",
   "execution_count": 52,
   "id": "be3d9967-3f9c-4c6c-ab82-e75946a0d8f6",
   "metadata": {},
   "outputs": [
    {
     "data": {
      "text/plain": [
       "0    2282\n",
       "1     850\n",
       "Name: heavy_but_not_tall, dtype: int64"
      ]
     },
     "execution_count": 52,
     "metadata": {},
     "output_type": "execute_result"
    }
   ],
   "source": [
    "train.heavy_but_not_tall.value_counts()"
   ]
  },
  {
   "cell_type": "code",
   "execution_count": 59,
   "id": "e7515468-2258-47b9-9e78-97e1a37f3fa7",
   "metadata": {},
   "outputs": [
    {
     "name": "stderr",
     "output_type": "stream",
     "text": [
      "D:\\Program Files\\Anaconda3\\lib\\site-packages\\seaborn\\_decorators.py:36: FutureWarning: Pass the following variables as keyword args: x, y. From version 0.12, the only valid positional argument will be `data`, and passing other arguments without an explicit keyword will result in an error or misinterpretation.\n",
      "  warnings.warn(\n"
     ]
    },
    {
     "data": {
      "text/plain": [
       "<AxesSubplot:xlabel='Rings', ylabel='Shell weight'>"
      ]
     },
     "execution_count": 59,
     "metadata": {},
     "output_type": "execute_result"
    },
    {
     "data": {
      "image/png": "[encoded data removed]",
      "text/plain": [
       "<Figure size 720x576 with 1 Axes>"
      ]
     },
     "metadata": {
      "needs_background": "light"
     },
     "output_type": "display_data"
    }
   ],
   "source": [
    "fig, ax = plt.subplots(figsize=(10, 8))\n",
    "sns.boxplot(train['Rings'], train[\"Shell weight\"])"
   ]
  },
  {
   "cell_type": "code",
   "execution_count": 57,
   "id": "2538b780-743b-4a71-a859-0bdeb9bc99bb",
   "metadata": {},
   "outputs": [],
   "source": [
    "# !!какому числу колец соответствует самая большая разность между третьим и первым квартилями"
   ]
  },
  {
   "cell_type": "code",
   "execution_count": null,
   "id": "b4e4c3de-2236-4a03-b0ca-1c41a26d3b8b",
   "metadata": {},
   "outputs": [],
   "source": []
  },
  {
   "cell_type": "code",
   "execution_count": 60,
   "id": "df164f24-6b2a-4f64-bb8f-e6ac35de728b",
   "metadata": {},
   "outputs": [
    {
     "data": {
      "text/plain": [
       "9     504\n",
       "10    493\n",
       "8     431\n",
       "11    351\n",
       "7     286\n",
       "12    205\n",
       "6     196\n",
       "13    155\n",
       "14     92\n",
       "15     80\n",
       "5      80\n",
       "16     51\n",
       "17     45\n",
       "4      41\n",
       "18     32\n",
       "19     28\n",
       "20     24\n",
       "3       9\n",
       "21      8\n",
       "23      8\n",
       "22      6\n",
       "27      2\n",
       "25      1\n",
       "2       1\n",
       "1       1\n",
       "26      1\n",
       "29      1\n",
       "Name: Rings, dtype: int64"
      ]
     },
     "execution_count": 60,
     "metadata": {},
     "output_type": "execute_result"
    }
   ],
   "source": [
    "train.Rings.value_counts()"
   ]
  },
  {
   "cell_type": "code",
   "execution_count": 76,
   "id": "9ea28167-5c0c-43b4-a586-3c54278975d1",
   "metadata": {},
   "outputs": [],
   "source": [
    "trainm = train"
   ]
  },
  {
   "cell_type": "code",
   "execution_count": 66,
   "id": "fb765183-b92e-4325-b73d-44fcaa08c863",
   "metadata": {},
   "outputs": [],
   "source": [
    "a = pd.DataFrame()"
   ]
  },
  {
   "cell_type": "code",
   "execution_count": 77,
   "id": "ffc2c518-76d2-4a92-8c3d-b90b8d805c90",
   "metadata": {},
   "outputs": [],
   "source": [
    "trainm.Rings = 9"
   ]
  },
  {
   "cell_type": "code",
   "execution_count": 72,
   "id": "abd853a3-158a-46c1-b522-6aa0e1cca3b3",
   "metadata": {},
   "outputs": [],
   "source": [
    "from sklearn.metrics import accuracy_score"
   ]
  },
  {
   "cell_type": "code",
   "execution_count": 85,
   "id": "1431e06b-5925-4987-a190-370de01c5909",
   "metadata": {},
   "outputs": [
    {
     "data": {
      "text/plain": [
       "0.16"
      ]
     },
     "execution_count": 85,
     "metadata": {},
     "output_type": "execute_result"
    }
   ],
   "source": [
    "round(accuracy_score(train.Rings, trainm.Rings), 2)"
   ]
  },
  {
   "cell_type": "code",
   "execution_count": 83,
   "id": "1b14bbbc-3a33-49a5-aaf6-7e836d082079",
   "metadata": {},
   "outputs": [
    {
     "data": {
      "text/html": [
       "<div>\n",
       "<style scoped>\n",
       "    .dataframe tbody tr th:only-of-type {\n",
       "        vertical-align: middle;\n",
       "    }\n",
       "\n",
       "    .dataframe tbody tr th {\n",
       "        vertical-align: top;\n",
       "    }\n",
       "\n",
       "    .dataframe thead th {\n",
       "        text-align: right;\n",
       "    }\n",
       "</style>\n",
       "<table border=\"1\" class=\"dataframe\">\n",
       "  <thead>\n",
       "    <tr style=\"text-align: right;\">\n",
       "      <th></th>\n",
       "      <th>Sex</th>\n",
       "      <th>Length</th>\n",
       "      <th>Diameter</th>\n",
       "      <th>Height</th>\n",
       "      <th>Whole weight</th>\n",
       "      <th>Shucked weight</th>\n",
       "      <th>Viscera weight</th>\n",
       "      <th>Shell weight</th>\n",
       "      <th>Rings</th>\n",
       "    </tr>\n",
       "  </thead>\n",
       "  <tbody>\n",
       "    <tr>\n",
       "      <th>0</th>\n",
       "      <td>M</td>\n",
       "      <td>0.515</td>\n",
       "      <td>0.350</td>\n",
       "      <td>medium</td>\n",
       "      <td>0.9225</td>\n",
       "      <td>0.4185</td>\n",
       "      <td>0.1980</td>\n",
       "      <td>0.2730</td>\n",
       "      <td>9</td>\n",
       "    </tr>\n",
       "    <tr>\n",
       "      <th>1</th>\n",
       "      <td>M</td>\n",
       "      <td>0.560</td>\n",
       "      <td>0.415</td>\n",
       "      <td>small</td>\n",
       "      <td>0.7615</td>\n",
       "      <td>0.3695</td>\n",
       "      <td>0.1700</td>\n",
       "      <td>0.1955</td>\n",
       "      <td>9</td>\n",
       "    </tr>\n",
       "    <tr>\n",
       "      <th>2</th>\n",
       "      <td>F</td>\n",
       "      <td>0.550</td>\n",
       "      <td>0.445</td>\n",
       "      <td>medium</td>\n",
       "      <td>0.9905</td>\n",
       "      <td>0.5440</td>\n",
       "      <td>0.1780</td>\n",
       "      <td>0.2180</td>\n",
       "      <td>9</td>\n",
       "    </tr>\n",
       "    <tr>\n",
       "      <th>3</th>\n",
       "      <td>I</td>\n",
       "      <td>0.655</td>\n",
       "      <td>0.515</td>\n",
       "      <td>medium</td>\n",
       "      <td>1.2500</td>\n",
       "      <td>0.5265</td>\n",
       "      <td>0.2830</td>\n",
       "      <td>0.3150</td>\n",
       "      <td>9</td>\n",
       "    </tr>\n",
       "    <tr>\n",
       "      <th>4</th>\n",
       "      <td>I</td>\n",
       "      <td>0.405</td>\n",
       "      <td>0.310</td>\n",
       "      <td>tiny</td>\n",
       "      <td>0.9100</td>\n",
       "      <td>0.4160</td>\n",
       "      <td>0.2075</td>\n",
       "      <td>0.0995</td>\n",
       "      <td>9</td>\n",
       "    </tr>\n",
       "    <tr>\n",
       "      <th>...</th>\n",
       "      <td>...</td>\n",
       "      <td>...</td>\n",
       "      <td>...</td>\n",
       "      <td>...</td>\n",
       "      <td>...</td>\n",
       "      <td>...</td>\n",
       "      <td>...</td>\n",
       "      <td>...</td>\n",
       "      <td>...</td>\n",
       "    </tr>\n",
       "    <tr>\n",
       "      <th>3127</th>\n",
       "      <td>I</td>\n",
       "      <td>0.200</td>\n",
       "      <td>0.150</td>\n",
       "      <td>tiny</td>\n",
       "      <td>0.0460</td>\n",
       "      <td>0.0210</td>\n",
       "      <td>0.0070</td>\n",
       "      <td>0.0065</td>\n",
       "      <td>9</td>\n",
       "    </tr>\n",
       "    <tr>\n",
       "      <th>3128</th>\n",
       "      <td>I</td>\n",
       "      <td>0.460</td>\n",
       "      <td>0.350</td>\n",
       "      <td>tiny</td>\n",
       "      <td>0.4000</td>\n",
       "      <td>0.1760</td>\n",
       "      <td>0.0830</td>\n",
       "      <td>0.1205</td>\n",
       "      <td>9</td>\n",
       "    </tr>\n",
       "    <tr>\n",
       "      <th>3129</th>\n",
       "      <td>I</td>\n",
       "      <td>0.360</td>\n",
       "      <td>0.265</td>\n",
       "      <td>tiny</td>\n",
       "      <td>0.1845</td>\n",
       "      <td>0.0830</td>\n",
       "      <td>0.0365</td>\n",
       "      <td>0.0550</td>\n",
       "      <td>9</td>\n",
       "    </tr>\n",
       "    <tr>\n",
       "      <th>3130</th>\n",
       "      <td>M</td>\n",
       "      <td>0.685</td>\n",
       "      <td>0.530</td>\n",
       "      <td>large</td>\n",
       "      <td>1.5600</td>\n",
       "      <td>0.6470</td>\n",
       "      <td>0.3830</td>\n",
       "      <td>0.4650</td>\n",
       "      <td>9</td>\n",
       "    </tr>\n",
       "    <tr>\n",
       "      <th>3131</th>\n",
       "      <td>I</td>\n",
       "      <td>0.395</td>\n",
       "      <td>0.300</td>\n",
       "      <td>tiny</td>\n",
       "      <td>0.2530</td>\n",
       "      <td>0.1155</td>\n",
       "      <td>0.0500</td>\n",
       "      <td>0.0750</td>\n",
       "      <td>9</td>\n",
       "    </tr>\n",
       "  </tbody>\n",
       "</table>\n",
       "<p>3132 rows × 9 columns</p>\n",
       "</div>"
      ],
      "text/plain": [
       "     Sex  Length  Diameter  Height  Whole weight  Shucked weight  \\\n",
       "0      M   0.515     0.350  medium        0.9225          0.4185   \n",
       "1      M   0.560     0.415   small        0.7615          0.3695   \n",
       "2      F   0.550     0.445  medium        0.9905          0.5440   \n",
       "3      I   0.655     0.515  medium        1.2500          0.5265   \n",
       "4      I   0.405     0.310    tiny        0.9100          0.4160   \n",
       "...   ..     ...       ...     ...           ...             ...   \n",
       "3127   I   0.200     0.150    tiny        0.0460          0.0210   \n",
       "3128   I   0.460     0.350    tiny        0.4000          0.1760   \n",
       "3129   I   0.360     0.265    tiny        0.1845          0.0830   \n",
       "3130   M   0.685     0.530   large        1.5600          0.6470   \n",
       "3131   I   0.395     0.300    tiny        0.2530          0.1155   \n",
       "\n",
       "      Viscera weight  Shell weight  Rings  \n",
       "0             0.1980        0.2730      9  \n",
       "1             0.1700        0.1955      9  \n",
       "2             0.1780        0.2180      9  \n",
       "3             0.2830        0.3150      9  \n",
       "4             0.2075        0.0995      9  \n",
       "...              ...           ...    ...  \n",
       "3127          0.0070        0.0065      9  \n",
       "3128          0.0830        0.1205      9  \n",
       "3129          0.0365        0.0550      9  \n",
       "3130          0.3830        0.4650      9  \n",
       "3131          0.0500        0.0750      9  \n",
       "\n",
       "[3132 rows x 9 columns]"
      ]
     },
     "execution_count": 83,
     "metadata": {},
     "output_type": "execute_result"
    }
   ],
   "source": [
    "trainm"
   ]
  },
  {
   "cell_type": "code",
   "execution_count": 82,
   "id": "ca0a7b78-5d25-4de8-b37f-f8e51b7a25e1",
   "metadata": {},
   "outputs": [
    {
     "data": {
      "text/html": [
       "<div>\n",
       "<style scoped>\n",
       "    .dataframe tbody tr th:only-of-type {\n",
       "        vertical-align: middle;\n",
       "    }\n",
       "\n",
       "    .dataframe tbody tr th {\n",
       "        vertical-align: top;\n",
       "    }\n",
       "\n",
       "    .dataframe thead th {\n",
       "        text-align: right;\n",
       "    }\n",
       "</style>\n",
       "<table border=\"1\" class=\"dataframe\">\n",
       "  <thead>\n",
       "    <tr style=\"text-align: right;\">\n",
       "      <th></th>\n",
       "      <th>Sex</th>\n",
       "      <th>Length</th>\n",
       "      <th>Diameter</th>\n",
       "      <th>Height</th>\n",
       "      <th>Whole weight</th>\n",
       "      <th>Shucked weight</th>\n",
       "      <th>Viscera weight</th>\n",
       "      <th>Shell weight</th>\n",
       "      <th>Rings</th>\n",
       "    </tr>\n",
       "  </thead>\n",
       "  <tbody>\n",
       "    <tr>\n",
       "      <th>0</th>\n",
       "      <td>M</td>\n",
       "      <td>0.515</td>\n",
       "      <td>0.350</td>\n",
       "      <td>medium</td>\n",
       "      <td>0.9225</td>\n",
       "      <td>0.4185</td>\n",
       "      <td>0.1980</td>\n",
       "      <td>0.2730</td>\n",
       "      <td>9</td>\n",
       "    </tr>\n",
       "    <tr>\n",
       "      <th>1</th>\n",
       "      <td>M</td>\n",
       "      <td>0.560</td>\n",
       "      <td>0.415</td>\n",
       "      <td>small</td>\n",
       "      <td>0.7615</td>\n",
       "      <td>0.3695</td>\n",
       "      <td>0.1700</td>\n",
       "      <td>0.1955</td>\n",
       "      <td>8</td>\n",
       "    </tr>\n",
       "    <tr>\n",
       "      <th>2</th>\n",
       "      <td>F</td>\n",
       "      <td>0.550</td>\n",
       "      <td>0.445</td>\n",
       "      <td>medium</td>\n",
       "      <td>0.9905</td>\n",
       "      <td>0.5440</td>\n",
       "      <td>0.1780</td>\n",
       "      <td>0.2180</td>\n",
       "      <td>9</td>\n",
       "    </tr>\n",
       "    <tr>\n",
       "      <th>3</th>\n",
       "      <td>I</td>\n",
       "      <td>0.655</td>\n",
       "      <td>0.515</td>\n",
       "      <td>medium</td>\n",
       "      <td>1.2500</td>\n",
       "      <td>0.5265</td>\n",
       "      <td>0.2830</td>\n",
       "      <td>0.3150</td>\n",
       "      <td>15</td>\n",
       "    </tr>\n",
       "    <tr>\n",
       "      <th>4</th>\n",
       "      <td>I</td>\n",
       "      <td>0.405</td>\n",
       "      <td>0.310</td>\n",
       "      <td>tiny</td>\n",
       "      <td>0.9100</td>\n",
       "      <td>0.4160</td>\n",
       "      <td>0.2075</td>\n",
       "      <td>0.0995</td>\n",
       "      <td>8</td>\n",
       "    </tr>\n",
       "    <tr>\n",
       "      <th>...</th>\n",
       "      <td>...</td>\n",
       "      <td>...</td>\n",
       "      <td>...</td>\n",
       "      <td>...</td>\n",
       "      <td>...</td>\n",
       "      <td>...</td>\n",
       "      <td>...</td>\n",
       "      <td>...</td>\n",
       "      <td>...</td>\n",
       "    </tr>\n",
       "    <tr>\n",
       "      <th>3127</th>\n",
       "      <td>I</td>\n",
       "      <td>0.200</td>\n",
       "      <td>0.150</td>\n",
       "      <td>tiny</td>\n",
       "      <td>0.0460</td>\n",
       "      <td>0.0210</td>\n",
       "      <td>0.0070</td>\n",
       "      <td>0.0065</td>\n",
       "      <td>4</td>\n",
       "    </tr>\n",
       "    <tr>\n",
       "      <th>3128</th>\n",
       "      <td>I</td>\n",
       "      <td>0.460</td>\n",
       "      <td>0.350</td>\n",
       "      <td>tiny</td>\n",
       "      <td>0.4000</td>\n",
       "      <td>0.1760</td>\n",
       "      <td>0.0830</td>\n",
       "      <td>0.1205</td>\n",
       "      <td>7</td>\n",
       "    </tr>\n",
       "    <tr>\n",
       "      <th>3129</th>\n",
       "      <td>I</td>\n",
       "      <td>0.360</td>\n",
       "      <td>0.265</td>\n",
       "      <td>tiny</td>\n",
       "      <td>0.1845</td>\n",
       "      <td>0.0830</td>\n",
       "      <td>0.0365</td>\n",
       "      <td>0.0550</td>\n",
       "      <td>7</td>\n",
       "    </tr>\n",
       "    <tr>\n",
       "      <th>3130</th>\n",
       "      <td>M</td>\n",
       "      <td>0.685</td>\n",
       "      <td>0.530</td>\n",
       "      <td>large</td>\n",
       "      <td>1.5600</td>\n",
       "      <td>0.6470</td>\n",
       "      <td>0.3830</td>\n",
       "      <td>0.4650</td>\n",
       "      <td>11</td>\n",
       "    </tr>\n",
       "    <tr>\n",
       "      <th>3131</th>\n",
       "      <td>I</td>\n",
       "      <td>0.395</td>\n",
       "      <td>0.300</td>\n",
       "      <td>tiny</td>\n",
       "      <td>0.2530</td>\n",
       "      <td>0.1155</td>\n",
       "      <td>0.0500</td>\n",
       "      <td>0.0750</td>\n",
       "      <td>6</td>\n",
       "    </tr>\n",
       "  </tbody>\n",
       "</table>\n",
       "<p>3132 rows × 9 columns</p>\n",
       "</div>"
      ],
      "text/plain": [
       "     Sex  Length  Diameter  Height  Whole weight  Shucked weight  \\\n",
       "0      M   0.515     0.350  medium        0.9225          0.4185   \n",
       "1      M   0.560     0.415   small        0.7615          0.3695   \n",
       "2      F   0.550     0.445  medium        0.9905          0.5440   \n",
       "3      I   0.655     0.515  medium        1.2500          0.5265   \n",
       "4      I   0.405     0.310    tiny        0.9100          0.4160   \n",
       "...   ..     ...       ...     ...           ...             ...   \n",
       "3127   I   0.200     0.150    tiny        0.0460          0.0210   \n",
       "3128   I   0.460     0.350    tiny        0.4000          0.1760   \n",
       "3129   I   0.360     0.265    tiny        0.1845          0.0830   \n",
       "3130   M   0.685     0.530   large        1.5600          0.6470   \n",
       "3131   I   0.395     0.300    tiny        0.2530          0.1155   \n",
       "\n",
       "      Viscera weight  Shell weight  Rings  \n",
       "0             0.1980        0.2730      9  \n",
       "1             0.1700        0.1955      8  \n",
       "2             0.1780        0.2180      9  \n",
       "3             0.2830        0.3150     15  \n",
       "4             0.2075        0.0995      8  \n",
       "...              ...           ...    ...  \n",
       "3127          0.0070        0.0065      4  \n",
       "3128          0.0830        0.1205      7  \n",
       "3129          0.0365        0.0550      7  \n",
       "3130          0.3830        0.4650     11  \n",
       "3131          0.0500        0.0750      6  \n",
       "\n",
       "[3132 rows x 9 columns]"
      ]
     },
     "execution_count": 82,
     "metadata": {},
     "output_type": "execute_result"
    }
   ],
   "source": [
    "train"
   ]
  },
  {
   "cell_type": "code",
   "execution_count": 86,
   "id": "2b54ce02-65e7-4a7c-9e76-8c69435a3221",
   "metadata": {},
   "outputs": [],
   "source": [
    "test = pd.read_csv('data_test.csv')"
   ]
  },
  {
   "cell_type": "code",
   "execution_count": 87,
   "id": "a2f59b6c-a3ae-41cd-9f50-d79cdab0447a",
   "metadata": {},
   "outputs": [
    {
     "data": {
      "text/html": [
       "<div>\n",
       "<style scoped>\n",
       "    .dataframe tbody tr th:only-of-type {\n",
       "        vertical-align: middle;\n",
       "    }\n",
       "\n",
       "    .dataframe tbody tr th {\n",
       "        vertical-align: top;\n",
       "    }\n",
       "\n",
       "    .dataframe thead th {\n",
       "        text-align: right;\n",
       "    }\n",
       "</style>\n",
       "<table border=\"1\" class=\"dataframe\">\n",
       "  <thead>\n",
       "    <tr style=\"text-align: right;\">\n",
       "      <th></th>\n",
       "      <th>Sex</th>\n",
       "      <th>Length</th>\n",
       "      <th>Diameter</th>\n",
       "      <th>Height</th>\n",
       "      <th>Whole weight</th>\n",
       "      <th>Shucked weight</th>\n",
       "      <th>Viscera weight</th>\n",
       "      <th>Shell weight</th>\n",
       "    </tr>\n",
       "  </thead>\n",
       "  <tbody>\n",
       "    <tr>\n",
       "      <th>0</th>\n",
       "      <td>M</td>\n",
       "      <td>0.525</td>\n",
       "      <td>0.405</td>\n",
       "      <td>small</td>\n",
       "      <td>0.7555</td>\n",
       "      <td>0.3755</td>\n",
       "      <td>0.1555</td>\n",
       "      <td>0.2010</td>\n",
       "    </tr>\n",
       "    <tr>\n",
       "      <th>1</th>\n",
       "      <td>M</td>\n",
       "      <td>0.640</td>\n",
       "      <td>0.505</td>\n",
       "      <td>medium</td>\n",
       "      <td>1.1955</td>\n",
       "      <td>0.5565</td>\n",
       "      <td>0.2110</td>\n",
       "      <td>0.3460</td>\n",
       "    </tr>\n",
       "    <tr>\n",
       "      <th>2</th>\n",
       "      <td>F</td>\n",
       "      <td>0.620</td>\n",
       "      <td>0.480</td>\n",
       "      <td>medium</td>\n",
       "      <td>1.1125</td>\n",
       "      <td>0.5635</td>\n",
       "      <td>0.2445</td>\n",
       "      <td>0.2810</td>\n",
       "    </tr>\n",
       "    <tr>\n",
       "      <th>3</th>\n",
       "      <td>I</td>\n",
       "      <td>0.240</td>\n",
       "      <td>0.175</td>\n",
       "      <td>tiny</td>\n",
       "      <td>0.0665</td>\n",
       "      <td>0.0310</td>\n",
       "      <td>0.0135</td>\n",
       "      <td>0.0170</td>\n",
       "    </tr>\n",
       "    <tr>\n",
       "      <th>4</th>\n",
       "      <td>F</td>\n",
       "      <td>0.615</td>\n",
       "      <td>0.490</td>\n",
       "      <td>large</td>\n",
       "      <td>1.1345</td>\n",
       "      <td>0.4695</td>\n",
       "      <td>0.2570</td>\n",
       "      <td>0.3480</td>\n",
       "    </tr>\n",
       "    <tr>\n",
       "      <th>...</th>\n",
       "      <td>...</td>\n",
       "      <td>...</td>\n",
       "      <td>...</td>\n",
       "      <td>...</td>\n",
       "      <td>...</td>\n",
       "      <td>...</td>\n",
       "      <td>...</td>\n",
       "      <td>...</td>\n",
       "    </tr>\n",
       "    <tr>\n",
       "      <th>1040</th>\n",
       "      <td>M</td>\n",
       "      <td>0.335</td>\n",
       "      <td>0.255</td>\n",
       "      <td>tiny</td>\n",
       "      <td>0.1635</td>\n",
       "      <td>0.0615</td>\n",
       "      <td>0.0345</td>\n",
       "      <td>0.0570</td>\n",
       "    </tr>\n",
       "    <tr>\n",
       "      <th>1041</th>\n",
       "      <td>M</td>\n",
       "      <td>0.590</td>\n",
       "      <td>0.455</td>\n",
       "      <td>medium</td>\n",
       "      <td>0.8855</td>\n",
       "      <td>0.3880</td>\n",
       "      <td>0.1880</td>\n",
       "      <td>0.2750</td>\n",
       "    </tr>\n",
       "    <tr>\n",
       "      <th>1042</th>\n",
       "      <td>F</td>\n",
       "      <td>0.645</td>\n",
       "      <td>0.515</td>\n",
       "      <td>large</td>\n",
       "      <td>1.5460</td>\n",
       "      <td>0.7035</td>\n",
       "      <td>0.3650</td>\n",
       "      <td>0.4150</td>\n",
       "    </tr>\n",
       "    <tr>\n",
       "      <th>1043</th>\n",
       "      <td>M</td>\n",
       "      <td>0.625</td>\n",
       "      <td>0.475</td>\n",
       "      <td>medium</td>\n",
       "      <td>NaN</td>\n",
       "      <td>0.5005</td>\n",
       "      <td>0.2355</td>\n",
       "      <td>0.3105</td>\n",
       "    </tr>\n",
       "    <tr>\n",
       "      <th>1044</th>\n",
       "      <td>M</td>\n",
       "      <td>0.545</td>\n",
       "      <td>0.420</td>\n",
       "      <td>small</td>\n",
       "      <td>0.7865</td>\n",
       "      <td>0.4030</td>\n",
       "      <td>0.1850</td>\n",
       "      <td>0.1700</td>\n",
       "    </tr>\n",
       "  </tbody>\n",
       "</table>\n",
       "<p>1045 rows × 8 columns</p>\n",
       "</div>"
      ],
      "text/plain": [
       "     Sex  Length  Diameter  Height  Whole weight  Shucked weight  \\\n",
       "0      M   0.525     0.405   small        0.7555          0.3755   \n",
       "1      M   0.640     0.505  medium        1.1955          0.5565   \n",
       "2      F   0.620     0.480  medium        1.1125          0.5635   \n",
       "3      I   0.240     0.175    tiny        0.0665          0.0310   \n",
       "4      F   0.615     0.490   large        1.1345          0.4695   \n",
       "...   ..     ...       ...     ...           ...             ...   \n",
       "1040   M   0.335     0.255    tiny        0.1635          0.0615   \n",
       "1041   M   0.590     0.455  medium        0.8855          0.3880   \n",
       "1042   F   0.645     0.515   large        1.5460          0.7035   \n",
       "1043   M   0.625     0.475  medium           NaN          0.5005   \n",
       "1044   M   0.545     0.420   small        0.7865          0.4030   \n",
       "\n",
       "      Viscera weight  Shell weight  \n",
       "0             0.1555        0.2010  \n",
       "1             0.2110        0.3460  \n",
       "2             0.2445        0.2810  \n",
       "3             0.0135        0.0170  \n",
       "4             0.2570        0.3480  \n",
       "...              ...           ...  \n",
       "1040          0.0345        0.0570  \n",
       "1041          0.1880        0.2750  \n",
       "1042          0.3650        0.4150  \n",
       "1043          0.2355        0.3105  \n",
       "1044          0.1850        0.1700  \n",
       "\n",
       "[1045 rows x 8 columns]"
      ]
     },
     "execution_count": 87,
     "metadata": {},
     "output_type": "execute_result"
    }
   ],
   "source": [
    "test"
   ]
  },
  {
   "cell_type": "code",
   "execution_count": null,
   "id": "d817b569-d754-4197-a2e6-3c2e4bbee202",
   "metadata": {},
   "outputs": [],
   "source": [
    "train = train.drop(columns=['Sex', 'Height', 'Whole weight'])\n",
    "test = test.drop(columns=['Sex', 'Height', 'Whole weight'])"
   ]
  },
  {
   "cell_type": "code",
   "execution_count": 88,
   "id": "f4d507e6-d6e2-43d3-b9ca-4ef1bce577b1",
   "metadata": {},
   "outputs": [],
   "source": [
    "y_train = train.Rings"
   ]
  },
  {
   "cell_type": "code",
   "execution_count": 96,
   "id": "4a09ea91-2ebf-4aa9-a892-5a666632050b",
   "metadata": {},
   "outputs": [],
   "source": [
    "X_train = train.drop(columns='Rings')"
   ]
  },
  {
   "cell_type": "code",
   "execution_count": 100,
   "id": "c5542e1e-2f8d-4bc8-9c31-72df1edd6940",
   "metadata": {},
   "outputs": [],
   "source": [
    "from sklearn.ensemble import RandomForestClassifier"
   ]
  },
  {
   "cell_type": "code",
   "execution_count": 102,
   "id": "c2f87ff6-4a33-4de2-97aa-6648ba6982cb",
   "metadata": {},
   "outputs": [
    {
     "data": {
      "text/plain": [
       "RandomForestClassifier()"
      ]
     },
     "execution_count": 102,
     "metadata": {},
     "output_type": "execute_result"
    }
   ],
   "source": [
    "model = RandomForestClassifier()\n",
    "model.fit(X_train, y_train)"
   ]
  },
  {
   "cell_type": "code",
   "execution_count": 111,
   "id": "6c3d4c4d-3699-497b-b881-4405cd80577f",
   "metadata": {},
   "outputs": [],
   "source": [
    "preds = model.predict(test)"
   ]
  },
  {
   "cell_type": "code",
   "execution_count": 113,
   "id": "39261067-4c50-4cc5-88c8-dc4928feb744",
   "metadata": {},
   "outputs": [],
   "source": [
    "np.savetxt('result.txt', preds, fmt='%d')"
   ]
  },
  {
   "cell_type": "code",
   "execution_count": 106,
   "id": "bbeef0fb-142b-4d02-a889-3d3917645efd",
   "metadata": {},
   "outputs": [
    {
     "data": {
      "text/plain": [
       "{'bootstrap': True,\n",
       " 'ccp_alpha': 0.0,\n",
       " 'class_weight': None,\n",
       " 'criterion': 'gini',\n",
       " 'max_depth': None,\n",
       " 'max_features': 'auto',\n",
       " 'max_leaf_nodes': None,\n",
       " 'max_samples': None,\n",
       " 'min_impurity_decrease': 0.0,\n",
       " 'min_impurity_split': None,\n",
       " 'min_samples_leaf': 1,\n",
       " 'min_samples_split': 2,\n",
       " 'min_weight_fraction_leaf': 0.0,\n",
       " 'n_estimators': 100,\n",
       " 'n_jobs': None,\n",
       " 'oob_score': False,\n",
       " 'random_state': None,\n",
       " 'verbose': 0,\n",
       " 'warm_start': False}"
      ]
     },
     "execution_count": 106,
     "metadata": {},
     "output_type": "execute_result"
    }
   ],
   "source": [
    "model.get_params()"
   ]
  },
  {
   "cell_type": "code",
   "execution_count": 110,
   "id": "33a3bbc5-199e-4c43-80d0-dcc76a820f24",
   "metadata": {},
   "outputs": [
    {
     "data": {
      "text/plain": [
       "RandomForestClassifier(n_estimators=150)"
      ]
     },
     "execution_count": 110,
     "metadata": {},
     "output_type": "execute_result"
    }
   ],
   "source": [
    "model = RandomForestClassifier(n_estimators=150)\n",
    "model.fit(X_train, y_train)"
   ]
  },
  {
   "cell_type": "code",
   "execution_count": null,
   "id": "7de23239-72cc-4229-b0bd-6e3c71dd3f26",
   "metadata": {},
   "outputs": [],
   "source": []
  }
 ],
 "metadata": {
  "kernelspec": {
   "display_name": "Python 3",
   "language": "python",
   "name": "python3"
  },
  "language_info": {
   "codemirror_mode": {
    "name": "ipython",
    "version": 3
   },
   "file_extension": ".py",
   "mimetype": "text/x-python",
   "name": "python",
   "nbconvert_exporter": "python",
   "pygments_lexer": "ipython3",
   "version": "3.8.8"
  }
 },
 "nbformat": 4,
 "nbformat_minor": 5
}
