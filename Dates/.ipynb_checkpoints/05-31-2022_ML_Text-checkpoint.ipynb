{
 "cells": [
  {
   "cell_type": "code",
   "execution_count": 1,
   "id": "2f409f52-c0ce-442f-827a-3d39e9fa8e1c",
   "metadata": {},
   "outputs": [],
   "source": [
    "import pandas as pd\n",
    "\n",
    "\n",
    "home_data = pd.read_csv('https://raw.githubusercontent.com/rogovich/Data/master/data/house_data.csv')\n",
    "feature_columns = ['OverallQual', 'GrLivArea', 'GarageArea', 'TotalBsmtSF', 'FullBath', 'YearBuilt', 'YearRemodAdd']"
   ]
  },
  {
   "cell_type": "code",
   "execution_count": 2,
   "id": "b61d2ff9-2214-49ce-9605-44fd4ae21a7d",
   "metadata": {},
   "outputs": [
    {
     "data": {
      "text/html": [
       "<div>\n",
       "<style scoped>\n",
       "    .dataframe tbody tr th:only-of-type {\n",
       "        vertical-align: middle;\n",
       "    }\n",
       "\n",
       "    .dataframe tbody tr th {\n",
       "        vertical-align: top;\n",
       "    }\n",
       "\n",
       "    .dataframe thead th {\n",
       "        text-align: right;\n",
       "    }\n",
       "</style>\n",
       "<table border=\"1\" class=\"dataframe\">\n",
       "  <thead>\n",
       "    <tr style=\"text-align: right;\">\n",
       "      <th></th>\n",
       "      <th>Id</th>\n",
       "      <th>MSSubClass</th>\n",
       "      <th>MSZoning</th>\n",
       "      <th>LotFrontage</th>\n",
       "      <th>LotArea</th>\n",
       "      <th>Street</th>\n",
       "      <th>Alley</th>\n",
       "      <th>LotShape</th>\n",
       "      <th>LandContour</th>\n",
       "      <th>Utilities</th>\n",
       "      <th>...</th>\n",
       "      <th>PoolArea</th>\n",
       "      <th>PoolQC</th>\n",
       "      <th>Fence</th>\n",
       "      <th>MiscFeature</th>\n",
       "      <th>MiscVal</th>\n",
       "      <th>MoSold</th>\n",
       "      <th>YrSold</th>\n",
       "      <th>SaleType</th>\n",
       "      <th>SaleCondition</th>\n",
       "      <th>SalePrice</th>\n",
       "    </tr>\n",
       "  </thead>\n",
       "  <tbody>\n",
       "    <tr>\n",
       "      <th>0</th>\n",
       "      <td>1</td>\n",
       "      <td>60</td>\n",
       "      <td>RL</td>\n",
       "      <td>65.0</td>\n",
       "      <td>8450</td>\n",
       "      <td>Pave</td>\n",
       "      <td>NaN</td>\n",
       "      <td>Reg</td>\n",
       "      <td>Lvl</td>\n",
       "      <td>AllPub</td>\n",
       "      <td>...</td>\n",
       "      <td>0</td>\n",
       "      <td>NaN</td>\n",
       "      <td>NaN</td>\n",
       "      <td>NaN</td>\n",
       "      <td>0</td>\n",
       "      <td>2</td>\n",
       "      <td>2008</td>\n",
       "      <td>WD</td>\n",
       "      <td>Normal</td>\n",
       "      <td>208500</td>\n",
       "    </tr>\n",
       "    <tr>\n",
       "      <th>1</th>\n",
       "      <td>2</td>\n",
       "      <td>20</td>\n",
       "      <td>RL</td>\n",
       "      <td>80.0</td>\n",
       "      <td>9600</td>\n",
       "      <td>Pave</td>\n",
       "      <td>NaN</td>\n",
       "      <td>Reg</td>\n",
       "      <td>Lvl</td>\n",
       "      <td>AllPub</td>\n",
       "      <td>...</td>\n",
       "      <td>0</td>\n",
       "      <td>NaN</td>\n",
       "      <td>NaN</td>\n",
       "      <td>NaN</td>\n",
       "      <td>0</td>\n",
       "      <td>5</td>\n",
       "      <td>2007</td>\n",
       "      <td>WD</td>\n",
       "      <td>Normal</td>\n",
       "      <td>181500</td>\n",
       "    </tr>\n",
       "    <tr>\n",
       "      <th>2</th>\n",
       "      <td>3</td>\n",
       "      <td>60</td>\n",
       "      <td>RL</td>\n",
       "      <td>68.0</td>\n",
       "      <td>11250</td>\n",
       "      <td>Pave</td>\n",
       "      <td>NaN</td>\n",
       "      <td>IR1</td>\n",
       "      <td>Lvl</td>\n",
       "      <td>AllPub</td>\n",
       "      <td>...</td>\n",
       "      <td>0</td>\n",
       "      <td>NaN</td>\n",
       "      <td>NaN</td>\n",
       "      <td>NaN</td>\n",
       "      <td>0</td>\n",
       "      <td>9</td>\n",
       "      <td>2008</td>\n",
       "      <td>WD</td>\n",
       "      <td>Normal</td>\n",
       "      <td>223500</td>\n",
       "    </tr>\n",
       "    <tr>\n",
       "      <th>3</th>\n",
       "      <td>4</td>\n",
       "      <td>70</td>\n",
       "      <td>RL</td>\n",
       "      <td>60.0</td>\n",
       "      <td>9550</td>\n",
       "      <td>Pave</td>\n",
       "      <td>NaN</td>\n",
       "      <td>IR1</td>\n",
       "      <td>Lvl</td>\n",
       "      <td>AllPub</td>\n",
       "      <td>...</td>\n",
       "      <td>0</td>\n",
       "      <td>NaN</td>\n",
       "      <td>NaN</td>\n",
       "      <td>NaN</td>\n",
       "      <td>0</td>\n",
       "      <td>2</td>\n",
       "      <td>2006</td>\n",
       "      <td>WD</td>\n",
       "      <td>Abnorml</td>\n",
       "      <td>140000</td>\n",
       "    </tr>\n",
       "    <tr>\n",
       "      <th>4</th>\n",
       "      <td>5</td>\n",
       "      <td>60</td>\n",
       "      <td>RL</td>\n",
       "      <td>84.0</td>\n",
       "      <td>14260</td>\n",
       "      <td>Pave</td>\n",
       "      <td>NaN</td>\n",
       "      <td>IR1</td>\n",
       "      <td>Lvl</td>\n",
       "      <td>AllPub</td>\n",
       "      <td>...</td>\n",
       "      <td>0</td>\n",
       "      <td>NaN</td>\n",
       "      <td>NaN</td>\n",
       "      <td>NaN</td>\n",
       "      <td>0</td>\n",
       "      <td>12</td>\n",
       "      <td>2008</td>\n",
       "      <td>WD</td>\n",
       "      <td>Normal</td>\n",
       "      <td>250000</td>\n",
       "    </tr>\n",
       "  </tbody>\n",
       "</table>\n",
       "<p>5 rows × 81 columns</p>\n",
       "</div>"
      ],
      "text/plain": [
       "   Id  MSSubClass MSZoning  LotFrontage  LotArea Street Alley LotShape  \\\n",
       "0   1          60       RL         65.0     8450   Pave   NaN      Reg   \n",
       "1   2          20       RL         80.0     9600   Pave   NaN      Reg   \n",
       "2   3          60       RL         68.0    11250   Pave   NaN      IR1   \n",
       "3   4          70       RL         60.0     9550   Pave   NaN      IR1   \n",
       "4   5          60       RL         84.0    14260   Pave   NaN      IR1   \n",
       "\n",
       "  LandContour Utilities  ... PoolArea PoolQC Fence MiscFeature MiscVal MoSold  \\\n",
       "0         Lvl    AllPub  ...        0    NaN   NaN         NaN       0      2   \n",
       "1         Lvl    AllPub  ...        0    NaN   NaN         NaN       0      5   \n",
       "2         Lvl    AllPub  ...        0    NaN   NaN         NaN       0      9   \n",
       "3         Lvl    AllPub  ...        0    NaN   NaN         NaN       0      2   \n",
       "4         Lvl    AllPub  ...        0    NaN   NaN         NaN       0     12   \n",
       "\n",
       "  YrSold  SaleType  SaleCondition  SalePrice  \n",
       "0   2008        WD         Normal     208500  \n",
       "1   2007        WD         Normal     181500  \n",
       "2   2008        WD         Normal     223500  \n",
       "3   2006        WD        Abnorml     140000  \n",
       "4   2008        WD         Normal     250000  \n",
       "\n",
       "[5 rows x 81 columns]"
      ]
     },
     "execution_count": 2,
     "metadata": {},
     "output_type": "execute_result"
    }
   ],
   "source": [
    "home_data.head()"
   ]
  },
  {
   "cell_type": "code",
   "execution_count": 4,
   "id": "2f5961c4-5a07-4038-8632-e2ed888ac3c5",
   "metadata": {},
   "outputs": [],
   "source": [
    "X = home_data[feature_columns]\n",
    "y = home_data['SalePrice']"
   ]
  },
  {
   "cell_type": "code",
   "execution_count": 6,
   "id": "1035dd98-6b1e-44bd-b4e8-2423522548aa",
   "metadata": {},
   "outputs": [],
   "source": [
    "from sklearn.model_selection import train_test_split"
   ]
  },
  {
   "cell_type": "code",
   "execution_count": 7,
   "id": "8e41a7d8-6333-44d2-81c4-9ec64cef1cb9",
   "metadata": {},
   "outputs": [],
   "source": [
    "X_train, X_test, y_train, y_test = train_test_split(X, y, test_size=0.25)"
   ]
  },
  {
   "cell_type": "code",
   "execution_count": 8,
   "id": "19e2e7eb-88ac-400c-88c0-26bf05a20795",
   "metadata": {},
   "outputs": [
    {
     "name": "stdout",
     "output_type": "stream",
     "text": [
      "(1095, 7)\n",
      "(365, 7)\n",
      "(1095,)\n",
      "(365,)\n"
     ]
    }
   ],
   "source": [
    "for item in (X_train, X_test, y_train, y_test):\n",
    "    print(item.shape)"
   ]
  },
  {
   "cell_type": "code",
   "execution_count": 10,
   "id": "36e73494-656c-4c3d-81c9-f63fa3b7a5e6",
   "metadata": {},
   "outputs": [],
   "source": [
    "from sklearn.tree import DecisionTreeRegressor"
   ]
  },
  {
   "cell_type": "code",
   "execution_count": 11,
   "id": "d89694bc-784e-4feb-9d10-114f01640bf9",
   "metadata": {},
   "outputs": [
    {
     "data": {
      "text/plain": [
       "{'ccp_alpha': 0.0,\n",
       " 'criterion': 'mse',\n",
       " 'max_depth': None,\n",
       " 'max_features': None,\n",
       " 'max_leaf_nodes': None,\n",
       " 'min_impurity_decrease': 0.0,\n",
       " 'min_impurity_split': None,\n",
       " 'min_samples_leaf': 1,\n",
       " 'min_samples_split': 2,\n",
       " 'min_weight_fraction_leaf': 0.0,\n",
       " 'random_state': None,\n",
       " 'splitter': 'best'}"
      ]
     },
     "execution_count": 11,
     "metadata": {},
     "output_type": "execute_result"
    }
   ],
   "source": [
    "model = DecisionTreeRegressor()\n",
    "model.get_params()"
   ]
  },
  {
   "cell_type": "code",
   "execution_count": 12,
   "id": "6833ed0b-1c76-435b-b1fa-9290dff68f1b",
   "metadata": {},
   "outputs": [
    {
     "data": {
      "text/plain": [
       "DecisionTreeRegressor()"
      ]
     },
     "execution_count": 12,
     "metadata": {},
     "output_type": "execute_result"
    }
   ],
   "source": [
    "model.fit(X_train, y_train) # построение решающего дерева на тренировочной выборке"
   ]
  },
  {
   "cell_type": "code",
   "execution_count": 14,
   "id": "c6c6c5ca-2ef0-4bee-96c4-4668ba3861f2",
   "metadata": {},
   "outputs": [],
   "source": [
    "train_predict = model.predict(X_train)\n",
    "test_predict = model.predict(X_test)"
   ]
  },
  {
   "cell_type": "code",
   "execution_count": 13,
   "id": "00948a65-806b-48fa-93bb-e1528ffc4c41",
   "metadata": {},
   "outputs": [],
   "source": [
    "from sklearn.metrics import mean_absolute_error"
   ]
  },
  {
   "cell_type": "code",
   "execution_count": 17,
   "id": "55745c75-fa13-479e-9d8c-af234d273495",
   "metadata": {},
   "outputs": [
    {
     "name": "stdout",
     "output_type": "stream",
     "text": [
      "Ошибка на тренировочной выборке\n",
      "83.6648401826484\n"
     ]
    }
   ],
   "source": [
    "print('Ошибка на тренировочной выборке')\n",
    "print(mean_absolute_error(train_predict, y_train))"
   ]
  },
  {
   "cell_type": "code",
   "execution_count": 28,
   "id": "b7872228-ce63-4a02-9ea1-9a4200e15b0a",
   "metadata": {},
   "outputs": [
    {
     "name": "stdout",
     "output_type": "stream",
     "text": [
      "Ошибка на тренировочной выборке\n",
      "27653.764383561644\n",
      "Как видно, переобученнная модель дает слишком малые ошибки на тренировочных данных, и слишком большие - на тестовых.\n",
      "Такая модель слишком неповоротлива для предсказания реальных данных.\n"
     ]
    }
   ],
   "source": [
    "print('Ошибка на тестовой выборке')\n",
    "print(mean_absolute_error(test_predict, y_test))\n",
    "print('Как видно, переобученнная модель дает слишком малые ошибки на тренировочных данных, и слишком большие - на тестовых.\\nТакая модель слишком неповоротлива для предсказания реальных данных.')"
   ]
  },
  {
   "cell_type": "code",
   "execution_count": null,
   "id": "3a21b098-e50c-4f70-b7f2-060e799ee569",
   "metadata": {},
   "outputs": [],
   "source": []
  },
  {
   "cell_type": "code",
   "execution_count": 32,
   "id": "bbf6d542-c5f6-42dd-9b32-318cc80b0484",
   "metadata": {},
   "outputs": [
    {
     "data": {
      "text/plain": [
       "{'ccp_alpha': 0.0,\n",
       " 'criterion': 'mse',\n",
       " 'max_depth': 5,\n",
       " 'max_features': None,\n",
       " 'max_leaf_nodes': 15,\n",
       " 'min_impurity_decrease': 0.0,\n",
       " 'min_impurity_split': None,\n",
       " 'min_samples_leaf': 1,\n",
       " 'min_samples_split': 2,\n",
       " 'min_weight_fraction_leaf': 0.0,\n",
       " 'random_state': 42,\n",
       " 'splitter': 'best'}"
      ]
     },
     "execution_count": 32,
     "metadata": {},
     "output_type": "execute_result"
    }
   ],
   "source": [
    "model = DecisionTreeRegressor(max_depth = 5, max_leaf_nodes=15, random_state=42)\n",
    "model.get_params()"
   ]
  },
  {
   "cell_type": "code",
   "execution_count": 33,
   "id": "58a7bc50-63c8-47ac-bb18-11044d9e528a",
   "metadata": {},
   "outputs": [
    {
     "data": {
      "text/plain": [
       "DecisionTreeRegressor(max_depth=5, max_leaf_nodes=15, random_state=42)"
      ]
     },
     "execution_count": 33,
     "metadata": {},
     "output_type": "execute_result"
    }
   ],
   "source": [
    "model.fit(X_train, y_train) # построение решающего дерева на тренировочной выборке"
   ]
  },
  {
   "cell_type": "code",
   "execution_count": 35,
   "id": "270c8751-2f37-4d42-8c2c-99278b8486e5",
   "metadata": {},
   "outputs": [],
   "source": [
    "train_predict = model.predict(X_train)\n",
    "test_predict = model.predict(X_test)"
   ]
  },
  {
   "cell_type": "code",
   "execution_count": 36,
   "id": "bfa8e263-e573-4164-b5cd-ec186527c55f",
   "metadata": {},
   "outputs": [
    {
     "name": "stdout",
     "output_type": "stream",
     "text": [
      "Ошибка на тренировочной выборке\n",
      "25570.506428979286\n"
     ]
    }
   ],
   "source": [
    "print('Ошибка на тренировочной выборке')\n",
    "print(mean_absolute_error(train_predict, y_train))"
   ]
  },
  {
   "cell_type": "code",
   "execution_count": 38,
   "id": "3434da1a-ce15-4138-a5eb-5007f3a682c7",
   "metadata": {},
   "outputs": [
    {
     "name": "stdout",
     "output_type": "stream",
     "text": [
      "Ошибка на тестовой выборке\n",
      "26640.11454884657\n"
     ]
    }
   ],
   "source": [
    "print('Ошибка на тестовой выборке')\n",
    "print(mean_absolute_error(test_predict, y_test))"
   ]
  },
  {
   "cell_type": "code",
   "execution_count": null,
   "id": "1d987348-59d6-4eda-b4a5-89a42f8deeaf",
   "metadata": {},
   "outputs": [],
   "source": []
  },
  {
   "cell_type": "code",
   "execution_count": 39,
   "id": "7733bfcb-7db5-4d79-8908-1c36493a03ff",
   "metadata": {},
   "outputs": [
    {
     "data": {
      "text/plain": [
       "{'bootstrap': True,\n",
       " 'ccp_alpha': 0.0,\n",
       " 'criterion': 'mse',\n",
       " 'max_depth': None,\n",
       " 'max_features': 'auto',\n",
       " 'max_leaf_nodes': None,\n",
       " 'max_samples': None,\n",
       " 'min_impurity_decrease': 0.0,\n",
       " 'min_impurity_split': None,\n",
       " 'min_samples_leaf': 1,\n",
       " 'min_samples_split': 2,\n",
       " 'min_weight_fraction_leaf': 0.0,\n",
       " 'n_estimators': 100,\n",
       " 'n_jobs': None,\n",
       " 'oob_score': False,\n",
       " 'random_state': None,\n",
       " 'verbose': 0,\n",
       " 'warm_start': False}"
      ]
     },
     "execution_count": 39,
     "metadata": {},
     "output_type": "execute_result"
    }
   ],
   "source": [
    "from sklearn.ensemble import RandomForestRegressor\n",
    "\n",
    "forest = RandomForestRegressor()\n",
    "forest.get_params()"
   ]
  },
  {
   "cell_type": "code",
   "execution_count": 46,
   "id": "7faf37e5-3644-4379-818a-82d326ef363a",
   "metadata": {},
   "outputs": [],
   "source": [
    "errors_train = []\n",
    "errors_test =[]\n",
    "\n",
    "for n_estimators in range(1, 100):\n",
    "    forest = RandomForestRegressor(n_estimators=n_estimators)\n",
    "    forest.fit(X_train, y_train)\n",
    "    train_predict = forest.predict(X_train)\n",
    "    test_predict = forest.predict(X_test)\n",
    "    errors_train.append(mean_absolute_error(train_predict, y_train))\n",
    "    errors_test.append(mean_absolute_error(test_predict, y_test))"
   ]
  },
  {
   "cell_type": "code",
   "execution_count": 47,
   "id": "c2cfaaa4-6ad9-43ae-8a2f-ac436542b2c5",
   "metadata": {},
   "outputs": [
    {
     "name": "stdout",
     "output_type": "stream",
     "text": [
      "[26839.319634703195, 24620.82328767123, 23814.13698630137, 22392.442723418135, 24169.408136986298, 21691.262252663622, 21845.843148510547, 21904.188454011743, 21268.509418714213, 21782.641692759295, 21590.643669572437, 21065.60251793868, 20531.272708113804, 20463.385765539093, 20395.21927723418, 20336.36857469015, 19875.41574383178, 20439.40165398275, 20085.331636282488, 20577.800013046315, 20421.346194824964, 20219.160489829806, 20236.958401164713, 20245.79334094368, 20357.849677234182, 19821.54418084199, 20312.68261602764, 20850.575414686424, 20280.491521920056, 20203.942610350077, 20768.23332744145, 20477.110755055448, 20154.80564549606, 20292.54443996777, 19618.936314043425, 20078.70041814097, 20418.07197058115, 20439.754237305595, 20473.437891737893, 20244.41503268991, 19820.10330214946, 20163.828139036435, 20359.193344862633, 19981.43883746391, 20012.516531828394, 20332.460558155366, 20392.52581180923, 19655.697698548596, 20551.167426281667, 20247.712073842136, 19980.900664338795, 19907.230848763113, 20086.13884191395, 19977.16996617622, 20023.382828994447, 20347.46419978722, 19874.633595404033, 20246.828902235116, 19847.778324433093, 20172.392715264188, 19780.46179450985, 20150.270332996653, 19816.05351287547, 19858.425773164003, 20083.470116613982, 19729.16567099567, 19701.55063040959, 20068.896271248224, 19825.162018050552, 20262.58967067375, 19799.87321153154, 19785.762736192653, 19928.754620093114, 19818.257469191307, 19716.41358495325, 19892.73067165631, 19553.752168144965, 19978.95744269936, 19864.751070953782, 20281.670938193085, 19791.198318394498, 20289.265593686858, 20149.554349845563, 19944.911038113874, 20138.82637532456, 20167.1892221905, 19883.850989970335, 19840.050863765748, 19983.49723124959, 20073.556387741297, 19860.739331692443, 19815.93252809083, 19991.327023219168, 19748.554694221224, 20150.517213856558, 20088.064025875192, 19984.49517223601, 19935.47623733642, 19868.77258688408]\n"
     ]
    }
   ],
   "source": [
    "print(errors_test)"
   ]
  },
  {
   "cell_type": "code",
   "execution_count": 48,
   "id": "62f88ef5-4f82-4db6-9e21-ca21f3e6baed",
   "metadata": {},
   "outputs": [
    {
     "name": "stdout",
     "output_type": "stream",
     "text": [
      "[10673.369863013699, 10405.72100456621, 9686.286757990867, 9349.517366818875, 8968.238809741248, 9122.97057331304, 9307.69734290063, 8773.80775168515, 8552.03600782779, 8546.65139160687, 8510.985678704857, 8500.764023580005, 8433.718990750498, 8570.768514894542, 8056.679565702689, 8152.04049385736, 8343.330739419054, 8240.924994080839, 8052.798894153192, 8167.484248749728, 8397.441458288034, 8242.99499100595, 7879.532105750778, 8029.300096488367, 7844.328753729071, 7898.294960024756, 7786.162250247638, 8042.472834933059, 7914.470616700783, 8051.288597158804, 8065.864185762683, 7852.702819408204, 7920.607845579078, 7913.9660175485715, 7955.340858882365, 7889.346295505611, 7835.85661971169, 7684.1696827685655, 8037.697569854464, 7762.722454609698, 7706.720950736905, 8063.288632794568, 8142.999205691834, 7833.864710361936, 7819.676867241671, 7890.746612968793, 7851.901197994014, 7971.84576991375, 7829.655083092598, 7841.073839573821, 7853.763100418249, 7707.0626456838445, 7777.249356504901, 7718.459373454777, 7885.025715234536, 7883.022267340726, 7941.164298493572, 7793.293749015903, 7740.884582499513, 7790.515044031311, 7782.0774819187345, 7745.781658951105, 7896.203813803553, 7811.698964041096, 7838.96864348437, 7877.830506631876, 7872.971996183467, 7996.073188896564, 7943.939868938113, 7717.31016354487, 7729.116635665661, 7908.051166427081, 7764.969586509275, 7759.5193845019185, 7774.076689106328, 7798.528776736362, 7780.068056240346, 7741.508419500337, 7899.184362120549, 7740.66688423208, 7787.902959580585, 7806.652543341872, 7815.818710458272, 7708.523464676587, 7785.5043977676305, 7831.42773547839, 7760.843776624771, 7710.5781666581315, 7608.089213198114, 7736.901378149839, 7803.664024787997, 7715.531429327737, 7762.1111965434275, 7843.838155465496, 7744.838234970987, 7792.235240473474, 7673.029174503048, 7566.652241281379, 7786.422583938976]\n"
     ]
    }
   ],
   "source": [
    "print(errors_train)"
   ]
  },
  {
   "cell_type": "code",
   "execution_count": 63,
   "id": "55636b92-4c87-437f-82b3-b4acb9c03159",
   "metadata": {},
   "outputs": [
    {
     "data": {
      "image/png": "[encoded data removed]",
      "text/plain": [
       "<Figure size 432x288 with 1 Axes>"
      ]
     },
     "metadata": {
      "needs_background": "light"
     },
     "output_type": "display_data"
    }
   ],
   "source": [
    "import matplotlib.pyplot as plt\n",
    "a = plt.plot(range(1, 100), errors_train, color='red')\n",
    "b = plt.plot(range(1, 100), errors_test, color='purple')\n",
    "plt.show(a, b)"
   ]
  },
  {
   "cell_type": "code",
   "execution_count": 67,
   "id": "58ab4f40-3169-41c9-9309-3b49f986d220",
   "metadata": {},
   "outputs": [
    {
     "data": {
      "text/plain": [
       "[<matplotlib.lines.Line2D at 0x18743bf3850>]"
      ]
     },
     "execution_count": 67,
     "metadata": {},
     "output_type": "execute_result"
    },
    {
     "data": {
      "image/png": "[encoded data removed]",
      "text/plain": [
       "<Figure size 432x288 with 1 Axes>"
      ]
     },
     "metadata": {
      "needs_background": "light"
     },
     "output_type": "display_data"
    }
   ],
   "source": [
    "# сравниваем значения ошибок для дерева, перебирая количество листовых вершин\n",
    "\n",
    "errors_train = []\n",
    "errors_test = []\n",
    "\n",
    "\n",
    "for nodes in range(2, 200):\n",
    "    forest = DecisionTreeRegressor(max_leaf_nodes=nodes)\n",
    "    forest.fit(X_train, y_train)\n",
    "    train_predict = forest.predict(X_train)\n",
    "    test_predict = forest.predict(X_test)\n",
    "    errors_train.append(mean_absolute_error(train_predict, y_train))\n",
    "    errors_test.append(mean_absolute_error(test_predict, y_test))\n",
    "    \n",
    "plt.plot(range(2, 200), errors_train, color='purple')\n",
    "plt.plot(range(2, 200), errors_test)"
   ]
  },
  {
   "cell_type": "code",
   "execution_count": 71,
   "id": "ac92b9d0-895c-40cc-b467-98cda9b4183e",
   "metadata": {},
   "outputs": [
    {
     "data": {
      "text/plain": [
       "GridSearchCV(estimator=RandomForestRegressor(),\n",
       "             param_grid={'max_depth': [1, 10, 20],\n",
       "                         'n_estimators': [10, 25, 50]})"
      ]
     },
     "execution_count": 71,
     "metadata": {},
     "output_type": "execute_result"
    }
   ],
   "source": [
    "from sklearn.model_selection import GridSearchCV\n",
    "search_model = GridSearchCV(RandomForestRegressor(), {'n_estimators':[10, 25, 50], 'max_depth':[1, 10, 20]})\n",
    "search_model.fit(X_train, y_train)"
   ]
  },
  {
   "cell_type": "code",
   "execution_count": 72,
   "id": "5df548ac-9758-49d4-8174-30e24efea004",
   "metadata": {},
   "outputs": [
    {
     "data": {
      "text/plain": [
       "{'mean_fit_time': array([0.02484074, 0.03748798, 0.05499344, 0.02851281, 0.06838679,\n",
       "        0.13282199, 0.03202457, 0.07559857, 0.15147996]),\n",
       " 'std_fit_time': array([0.00747562, 0.00715942, 0.00146062, 0.00102129, 0.00179875,\n",
       "        0.00145667, 0.00128971, 0.00308877, 0.00541505]),\n",
       " 'mean_score_time': array([0.00327153, 0.0048419 , 0.00430422, 0.00248275, 0.0041522 ,\n",
       "        0.00620151, 0.00279241, 0.00451388, 0.00650382]),\n",
       " 'std_score_time': array([0.00098782, 0.00114971, 0.00039053, 0.00039339, 0.00079558,\n",
       "        0.00042592, 0.00024892, 0.00044912, 0.00045279]),\n",
       " 'param_max_depth': masked_array(data=[1, 1, 1, 10, 10, 10, 20, 20, 20],\n",
       "              mask=[False, False, False, False, False, False, False, False,\n",
       "                    False],\n",
       "        fill_value='?',\n",
       "             dtype=object),\n",
       " 'param_n_estimators': masked_array(data=[10, 25, 50, 10, 25, 50, 10, 25, 50],\n",
       "              mask=[False, False, False, False, False, False, False, False,\n",
       "                    False],\n",
       "        fill_value='?',\n",
       "             dtype=object),\n",
       " 'params': [{'max_depth': 1, 'n_estimators': 10},\n",
       "  {'max_depth': 1, 'n_estimators': 25},\n",
       "  {'max_depth': 1, 'n_estimators': 50},\n",
       "  {'max_depth': 10, 'n_estimators': 10},\n",
       "  {'max_depth': 10, 'n_estimators': 25},\n",
       "  {'max_depth': 10, 'n_estimators': 50},\n",
       "  {'max_depth': 20, 'n_estimators': 10},\n",
       "  {'max_depth': 20, 'n_estimators': 25},\n",
       "  {'max_depth': 20, 'n_estimators': 50}],\n",
       " 'split0_test_score': array([0.51896759, 0.48389692, 0.52412037, 0.69050712, 0.69713364,\n",
       "        0.73334388, 0.70286806, 0.7162492 , 0.69997435]),\n",
       " 'split1_test_score': array([0.56039306, 0.57924023, 0.57876469, 0.86083971, 0.84042118,\n",
       "        0.86183793, 0.8605251 , 0.85969437, 0.86152691]),\n",
       " 'split2_test_score': array([0.50501813, 0.50739644, 0.49490086, 0.88279182, 0.88544759,\n",
       "        0.88429243, 0.82925993, 0.88106954, 0.88963972]),\n",
       " 'split3_test_score': array([0.35269132, 0.3521689 , 0.37035776, 0.79664424, 0.83353563,\n",
       "        0.81400411, 0.85327106, 0.82582061, 0.82407724]),\n",
       " 'split4_test_score': array([0.50135617, 0.45765694, 0.4729259 , 0.83627737, 0.84932946,\n",
       "        0.84183898, 0.81674485, 0.8336209 , 0.83644866]),\n",
       " 'mean_test_score': array([0.48768525, 0.47607189, 0.48821392, 0.81341205, 0.8211735 ,\n",
       "        0.82706346, 0.8125338 , 0.82329093, 0.82233338]),\n",
       " 'std_test_score': array([0.0706763 , 0.07399625, 0.0687855 , 0.0677828 , 0.06454936,\n",
       "        0.05226211, 0.05707322, 0.05698178, 0.06517713]),\n",
       " 'rank_test_score': array([8, 9, 7, 5, 4, 1, 6, 2, 3])}"
      ]
     },
     "execution_count": 72,
     "metadata": {},
     "output_type": "execute_result"
    }
   ],
   "source": [
    "search_model.cv_results_"
   ]
  },
  {
   "cell_type": "code",
   "execution_count": 73,
   "id": "2cfd926e-d4ee-4be6-b755-74a0070308f3",
   "metadata": {},
   "outputs": [
    {
     "data": {
      "text/plain": [
       "RandomForestRegressor(max_depth=10, n_estimators=50)"
      ]
     },
     "execution_count": 73,
     "metadata": {},
     "output_type": "execute_result"
    }
   ],
   "source": [
    "search_model.best_estimator_"
   ]
  },
  {
   "cell_type": "code",
   "execution_count": 74,
   "id": "b1c8bf76-181d-4156-8e26-8733611176ba",
   "metadata": {},
   "outputs": [
    {
     "name": "stdout",
     "output_type": "stream",
     "text": [
      "19870.043696924742\n"
     ]
    }
   ],
   "source": [
    "best_model = RandomForestRegressor(max_depth=10, n_estimators=25)\n",
    "best_model.fit(X_train, y_train)\n",
    "test_pred = best_model.predict(X_test)\n",
    "print(mean_absolute_error(test_pred, y_test))"
   ]
  },
  {
   "cell_type": "code",
   "execution_count": null,
   "id": "7cec387e-0122-4b29-a6ad-22a1a07c1f35",
   "metadata": {},
   "outputs": [],
   "source": []
  },
  {
   "cell_type": "code",
   "execution_count": 75,
   "id": "80ea3d0c-9763-4715-9c7e-f3a892774255",
   "metadata": {},
   "outputs": [],
   "source": [
    "simple_train = ['call you tonight', 'Call me a cab', 'call 222-22-22', 'please call me.. please']"
   ]
  },
  {
   "cell_type": "code",
   "execution_count": 76,
   "id": "801be281-ee90-418d-b646-fe0f0dce3d9a",
   "metadata": {},
   "outputs": [
    {
     "data": {
      "text/plain": [
       "{'analyzer': 'word',\n",
       " 'binary': False,\n",
       " 'decode_error': 'strict',\n",
       " 'dtype': numpy.int64,\n",
       " 'encoding': 'utf-8',\n",
       " 'input': 'content',\n",
       " 'lowercase': True,\n",
       " 'max_df': 1.0,\n",
       " 'max_features': None,\n",
       " 'min_df': 1,\n",
       " 'ngram_range': (1, 1),\n",
       " 'preprocessor': None,\n",
       " 'stop_words': None,\n",
       " 'strip_accents': None,\n",
       " 'token_pattern': '(?u)\\\\b\\\\w\\\\w+\\\\b',\n",
       " 'tokenizer': None,\n",
       " 'vocabulary': None}"
      ]
     },
     "execution_count": 76,
     "metadata": {},
     "output_type": "execute_result"
    }
   ],
   "source": [
    "# word2vec\n",
    "from sklearn.feature_extraction.text import CountVectorizer\n",
    "vect = CountVectorizer()\n",
    "vect.get_params()"
   ]
  },
  {
   "cell_type": "code",
   "execution_count": 77,
   "id": "f2977b44-4adc-4bfb-8a91-21857b39be88",
   "metadata": {},
   "outputs": [
    {
     "data": {
      "text/plain": [
       "CountVectorizer()"
      ]
     },
     "execution_count": 77,
     "metadata": {},
     "output_type": "execute_result"
    }
   ],
   "source": [
    "vect.fit(simple_train)"
   ]
  },
  {
   "cell_type": "code",
   "execution_count": 79,
   "id": "de9a56c0-2db0-48f1-8af1-c821a7f7a979",
   "metadata": {},
   "outputs": [
    {
     "data": {
      "text/plain": [
       "['22', '222', 'cab', 'call', 'me', 'please', 'tonight', 'you']"
      ]
     },
     "execution_count": 79,
     "metadata": {},
     "output_type": "execute_result"
    }
   ],
   "source": [
    "simple_train = ['call you tonight', 'Call me a cab', 'call 222-22-22', 'please call me.. please']\n",
    "\n",
    "vect.get_feature_names()"
   ]
  },
  {
   "cell_type": "code",
   "execution_count": 85,
   "id": "4e3ec4bd-4f96-4fac-b840-06a80bb2b485",
   "metadata": {},
   "outputs": [
    {
     "name": "stdout",
     "output_type": "stream",
     "text": [
      "  (0, 3)\t1\n",
      "  (0, 6)\t1\n",
      "  (0, 7)\t1\n",
      "  (1, 2)\t1\n",
      "  (1, 3)\t1\n",
      "  (1, 4)\t1\n",
      "  (2, 0)\t2\n",
      "  (2, 1)\t1\n",
      "  (2, 3)\t1\n",
      "  (3, 3)\t1\n",
      "  (3, 4)\t1\n",
      "  (3, 5)\t2\n"
     ]
    }
   ],
   "source": [
    "simple_train_matrix = vect.transform(simple_train)\n",
    "print(simple_train_matrix)"
   ]
  },
  {
   "cell_type": "code",
   "execution_count": 82,
   "id": "f597b956-8f17-41a6-b05b-1586ab8475c8",
   "metadata": {},
   "outputs": [
    {
     "data": {
      "text/plain": [
       "array([[0, 0, 0, 1, 0, 0, 1, 1],\n",
       "       [0, 0, 1, 1, 1, 0, 0, 0],\n",
       "       [2, 1, 0, 1, 0, 0, 0, 0],\n",
       "       [0, 0, 0, 1, 1, 2, 0, 0]], dtype=int64)"
      ]
     },
     "execution_count": 82,
     "metadata": {},
     "output_type": "execute_result"
    }
   ],
   "source": [
    "simple_train_matrix.toarray() # матрица частоты слов из нашего текста"
   ]
  },
  {
   "cell_type": "code",
   "execution_count": 83,
   "id": "cbb8ecad-ba73-4ff3-afe7-973de320106a",
   "metadata": {},
   "outputs": [
    {
     "data": {
      "text/html": [
       "<div>\n",
       "<style scoped>\n",
       "    .dataframe tbody tr th:only-of-type {\n",
       "        vertical-align: middle;\n",
       "    }\n",
       "\n",
       "    .dataframe tbody tr th {\n",
       "        vertical-align: top;\n",
       "    }\n",
       "\n",
       "    .dataframe thead th {\n",
       "        text-align: right;\n",
       "    }\n",
       "</style>\n",
       "<table border=\"1\" class=\"dataframe\">\n",
       "  <thead>\n",
       "    <tr style=\"text-align: right;\">\n",
       "      <th></th>\n",
       "      <th>22</th>\n",
       "      <th>222</th>\n",
       "      <th>cab</th>\n",
       "      <th>call</th>\n",
       "      <th>me</th>\n",
       "      <th>please</th>\n",
       "      <th>tonight</th>\n",
       "      <th>you</th>\n",
       "    </tr>\n",
       "  </thead>\n",
       "  <tbody>\n",
       "    <tr>\n",
       "      <th>call you tonight</th>\n",
       "      <td>0</td>\n",
       "      <td>0</td>\n",
       "      <td>0</td>\n",
       "      <td>1</td>\n",
       "      <td>0</td>\n",
       "      <td>0</td>\n",
       "      <td>1</td>\n",
       "      <td>1</td>\n",
       "    </tr>\n",
       "    <tr>\n",
       "      <th>Call me a cab</th>\n",
       "      <td>0</td>\n",
       "      <td>0</td>\n",
       "      <td>1</td>\n",
       "      <td>1</td>\n",
       "      <td>1</td>\n",
       "      <td>0</td>\n",
       "      <td>0</td>\n",
       "      <td>0</td>\n",
       "    </tr>\n",
       "    <tr>\n",
       "      <th>call 222-22-22</th>\n",
       "      <td>2</td>\n",
       "      <td>1</td>\n",
       "      <td>0</td>\n",
       "      <td>1</td>\n",
       "      <td>0</td>\n",
       "      <td>0</td>\n",
       "      <td>0</td>\n",
       "      <td>0</td>\n",
       "    </tr>\n",
       "    <tr>\n",
       "      <th>please call me.. please</th>\n",
       "      <td>0</td>\n",
       "      <td>0</td>\n",
       "      <td>0</td>\n",
       "      <td>1</td>\n",
       "      <td>1</td>\n",
       "      <td>2</td>\n",
       "      <td>0</td>\n",
       "      <td>0</td>\n",
       "    </tr>\n",
       "  </tbody>\n",
       "</table>\n",
       "</div>"
      ],
      "text/plain": [
       "                         22  222  cab  call  me  please  tonight  you\n",
       "call you tonight          0    0    0     1   0       0        1    1\n",
       "Call me a cab             0    0    1     1   1       0        0    0\n",
       "call 222-22-22            2    1    0     1   0       0        0    0\n",
       "please call me.. please   0    0    0     1   1       2        0    0"
      ]
     },
     "execution_count": 83,
     "metadata": {},
     "output_type": "execute_result"
    }
   ],
   "source": [
    "pd.DataFrame(simple_train_matrix.toarray(), columns=vect.get_feature_names(), index=simple_train) # для наглядности"
   ]
  },
  {
   "cell_type": "code",
   "execution_count": 88,
   "id": "4a099135-10b8-4a73-a790-a5d80a2803ad",
   "metadata": {},
   "outputs": [
    {
     "data": {
      "text/plain": [
       "array([[0, 0, 0, 1, 1, 1, 0, 0]], dtype=int64)"
      ]
     },
     "execution_count": 88,
     "metadata": {},
     "output_type": "execute_result"
    }
   ],
   "source": [
    "simple_test = ['Please don\\'t call me, I will be busy']\n",
    "simple_test_matrix = vect.transform(simple_test)\n",
    "simple_test_matrix.toarray()"
   ]
  },
  {
   "cell_type": "code",
   "execution_count": 89,
   "id": "8f3f38c9-f9b4-4b9b-b501-1d77188d35cb",
   "metadata": {},
   "outputs": [
    {
     "data": {
      "text/html": [
       "<div>\n",
       "<style scoped>\n",
       "    .dataframe tbody tr th:only-of-type {\n",
       "        vertical-align: middle;\n",
       "    }\n",
       "\n",
       "    .dataframe tbody tr th {\n",
       "        vertical-align: top;\n",
       "    }\n",
       "\n",
       "    .dataframe thead th {\n",
       "        text-align: right;\n",
       "    }\n",
       "</style>\n",
       "<table border=\"1\" class=\"dataframe\">\n",
       "  <thead>\n",
       "    <tr style=\"text-align: right;\">\n",
       "      <th></th>\n",
       "      <th>22</th>\n",
       "      <th>222</th>\n",
       "      <th>cab</th>\n",
       "      <th>call</th>\n",
       "      <th>me</th>\n",
       "      <th>please</th>\n",
       "      <th>tonight</th>\n",
       "      <th>you</th>\n",
       "    </tr>\n",
       "  </thead>\n",
       "  <tbody>\n",
       "    <tr>\n",
       "      <th>Please don't call me, I will be busy</th>\n",
       "      <td>0</td>\n",
       "      <td>0</td>\n",
       "      <td>0</td>\n",
       "      <td>1</td>\n",
       "      <td>1</td>\n",
       "      <td>1</td>\n",
       "      <td>0</td>\n",
       "      <td>0</td>\n",
       "    </tr>\n",
       "  </tbody>\n",
       "</table>\n",
       "</div>"
      ],
      "text/plain": [
       "                                      22  222  cab  call  me  please  tonight  \\\n",
       "Please don't call me, I will be busy   0    0    0     1   1       1        0   \n",
       "\n",
       "                                      you  \n",
       "Please don't call me, I will be busy    0  "
      ]
     },
     "execution_count": 89,
     "metadata": {},
     "output_type": "execute_result"
    }
   ],
   "source": [
    "pd.DataFrame(simple_test_matrix.toarray(), columns=vect.get_feature_names(), index=simple_test)"
   ]
  },
  {
   "cell_type": "code",
   "execution_count": 90,
   "id": "b7183e28-7fc3-433d-b346-f88e9a6b9036",
   "metadata": {},
   "outputs": [
    {
     "name": "stdout",
     "output_type": "stream",
     "text": [
      "Collecting pymorphy2\n",
      "  Downloading pymorphy2-0.9.1-py3-none-any.whl (55 kB)\n",
      "Collecting docopt>=0.6\n",
      "  Downloading docopt-0.6.2.tar.gz (25 kB)\n",
      "Collecting pymorphy2-dicts-ru<3.0,>=2.4\n",
      "  Downloading pymorphy2_dicts_ru-2.4.417127.4579844-py2.py3-none-any.whl (8.2 MB)\n",
      "Collecting dawg-python>=0.7.1\n",
      "  Downloading DAWG_Python-0.7.2-py2.py3-none-any.whl (11 kB)\n",
      "Building wheels for collected packages: docopt\n",
      "  Building wheel for docopt (setup.py): started\n",
      "  Building wheel for docopt (setup.py): finished with status 'done'\n",
      "  Created wheel for docopt: filename=docopt-0.6.2-py2.py3-none-any.whl size=13705 sha256=c9a031e25a1b96c94bb0042c35981174581549c8edc67251eca930a1f6c995e2\n",
      "  Stored in directory: c:\\users\\lutan\\appdata\\local\\pip\\cache\\wheels\\56\\ea\\58\\ead137b087d9e326852a851351d1debf4ada529b6ac0ec4e8c\n",
      "Successfully built docopt\n",
      "Installing collected packages: pymorphy2-dicts-ru, docopt, dawg-python, pymorphy2\n",
      "Successfully installed dawg-python-0.7.2 docopt-0.6.2 pymorphy2-0.9.1 pymorphy2-dicts-ru-2.4.417127.4579844\n"
     ]
    }
   ],
   "source": [
    "!pip install pymorphy2"
   ]
  },
  {
   "cell_type": "code",
   "execution_count": 91,
   "id": "47927a50-fc38-4817-a251-002432868e61",
   "metadata": {},
   "outputs": [],
   "source": [
    "import pymorphy2\n",
    "morph = pymorphy2.MorphAnalyzer()"
   ]
  },
  {
   "cell_type": "code",
   "execution_count": 98,
   "id": "e823974b-cccd-45f2-98a1-008c8f4aae6b",
   "metadata": {},
   "outputs": [
    {
     "data": {
      "text/plain": [
       "'стать'"
      ]
     },
     "execution_count": 98,
     "metadata": {},
     "output_type": "execute_result"
    }
   ],
   "source": [
    "morph = pymorphy2.MorphAnalyzer()\n",
    "morph.parse('стали')[0].normal_form"
   ]
  },
  {
   "cell_type": "code",
   "execution_count": 99,
   "id": "da88ed29-3759-46ff-b28a-df2be54c22fc",
   "metadata": {},
   "outputs": [
    {
     "name": "stdout",
     "output_type": "stream",
     "text": [
      "сегодняшний\n",
      "самостоятельный\n",
      "стать\n",
      "небольшой\n",
      "домашний\n",
      "задание\n",
      "с\n",
      "дедлайн\n",
      "до\n",
      "среда\n"
     ]
    }
   ],
   "source": [
    "text = \"сегодняшняя самостоятельная станет небольшим домашним заданием с дедлайном до среды\"\n",
    "for word in text.split():\n",
    "    print(morph.parse(word)[0].normal_form)"
   ]
  },
  {
   "cell_type": "code",
   "execution_count": 105,
   "id": "24a3e7f7-effb-4d3e-9c9b-365aa67dd0c7",
   "metadata": {},
   "outputs": [],
   "source": [
    "import requests\n",
    "ru_stopwords = requests.get('https://raw.githubusercontent.com/stopwords-iso/stopwords-ru/master/stopwords-ru.txt').text"
   ]
  },
  {
   "cell_type": "code",
   "execution_count": null,
   "id": "fe0d0bfb-02cd-4478-8379-20ad94c02366",
   "metadata": {},
   "outputs": [],
   "source": []
  },
  {
   "cell_type": "code",
   "execution_count": 106,
   "id": "b2d1736e-9405-469b-86e6-608d61b1dd5f",
   "metadata": {},
   "outputs": [
    {
     "data": {
      "text/plain": [
       "['12', '2011', '13', '2012', '2', '2011', '25', '2012']"
      ]
     },
     "execution_count": 106,
     "metadata": {},
     "output_type": "execute_result"
    }
   ],
   "source": [
    "import re\n",
    "\n",
    "text = '12 ноября 2011 года произошло удивительное событие. А 13 ноября 2012 года - еще удивительнее. Даже не будем \\\n",
    "говорить, что произошло 2 декабря 2011 года и 25 декабря 2012 года ENGLISH'\n",
    "re.findall('\\d+', text)"
   ]
  },
  {
   "cell_type": "code",
   "execution_count": 107,
   "id": "9f680f88-6a29-4ac1-8eac-9c5d64a2b21e",
   "metadata": {},
   "outputs": [
    {
     "data": {
      "text/plain": [
       "['ноября',\n",
       " 'года',\n",
       " 'произошло',\n",
       " 'удивительное',\n",
       " 'событие',\n",
       " 'А',\n",
       " 'ноября',\n",
       " 'года',\n",
       " 'еще',\n",
       " 'удивительнее',\n",
       " 'Даже',\n",
       " 'не',\n",
       " 'будем',\n",
       " 'говорить',\n",
       " 'что',\n",
       " 'произошло',\n",
       " 'декабря',\n",
       " 'года',\n",
       " 'и',\n",
       " 'декабря',\n",
       " 'года']"
      ]
     },
     "execution_count": 107,
     "metadata": {},
     "output_type": "execute_result"
    }
   ],
   "source": [
    "re.findall('[А-я]+', text)"
   ]
  },
  {
   "cell_type": "code",
   "execution_count": 111,
   "id": "6cd4e0df-bd44-45c5-9ca0-d6d886d8c27e",
   "metadata": {},
   "outputs": [
    {
     "data": {
      "text/html": [
       "<div>\n",
       "<style scoped>\n",
       "    .dataframe tbody tr th:only-of-type {\n",
       "        vertical-align: middle;\n",
       "    }\n",
       "\n",
       "    .dataframe tbody tr th {\n",
       "        vertical-align: top;\n",
       "    }\n",
       "\n",
       "    .dataframe thead th {\n",
       "        text-align: right;\n",
       "    }\n",
       "</style>\n",
       "<table border=\"1\" class=\"dataframe\">\n",
       "  <thead>\n",
       "    <tr style=\"text-align: right;\">\n",
       "      <th></th>\n",
       "      <th>Unnamed: 0</th>\n",
       "      <th>title</th>\n",
       "      <th>text</th>\n",
       "      <th>label</th>\n",
       "    </tr>\n",
       "  </thead>\n",
       "  <tbody>\n",
       "    <tr>\n",
       "      <th>0</th>\n",
       "      <td>8476</td>\n",
       "      <td>You Can Smell Hillary’s Fear</td>\n",
       "      <td>Daniel Greenfield, a Shillman Journalism Fello...</td>\n",
       "      <td>FAKE</td>\n",
       "    </tr>\n",
       "    <tr>\n",
       "      <th>1</th>\n",
       "      <td>10294</td>\n",
       "      <td>Watch The Exact Moment Paul Ryan Committed Pol...</td>\n",
       "      <td>Google Pinterest Digg Linkedin Reddit Stumbleu...</td>\n",
       "      <td>FAKE</td>\n",
       "    </tr>\n",
       "    <tr>\n",
       "      <th>2</th>\n",
       "      <td>3608</td>\n",
       "      <td>Kerry to go to Paris in gesture of sympathy</td>\n",
       "      <td>U.S. Secretary of State John F. Kerry said Mon...</td>\n",
       "      <td>REAL</td>\n",
       "    </tr>\n",
       "    <tr>\n",
       "      <th>3</th>\n",
       "      <td>10142</td>\n",
       "      <td>Bernie supporters on Twitter erupt in anger ag...</td>\n",
       "      <td>— Kaydee King (@KaydeeKing) November 9, 2016 T...</td>\n",
       "      <td>FAKE</td>\n",
       "    </tr>\n",
       "    <tr>\n",
       "      <th>4</th>\n",
       "      <td>875</td>\n",
       "      <td>The Battle of New York: Why This Primary Matters</td>\n",
       "      <td>It's primary day in New York and front-runners...</td>\n",
       "      <td>REAL</td>\n",
       "    </tr>\n",
       "  </tbody>\n",
       "</table>\n",
       "</div>"
      ],
      "text/plain": [
       "   Unnamed: 0                                              title  \\\n",
       "0        8476                       You Can Smell Hillary’s Fear   \n",
       "1       10294  Watch The Exact Moment Paul Ryan Committed Pol...   \n",
       "2        3608        Kerry to go to Paris in gesture of sympathy   \n",
       "3       10142  Bernie supporters on Twitter erupt in anger ag...   \n",
       "4         875   The Battle of New York: Why This Primary Matters   \n",
       "\n",
       "                                                text label  \n",
       "0  Daniel Greenfield, a Shillman Journalism Fello...  FAKE  \n",
       "1  Google Pinterest Digg Linkedin Reddit Stumbleu...  FAKE  \n",
       "2  U.S. Secretary of State John F. Kerry said Mon...  REAL  \n",
       "3  — Kaydee King (@KaydeeKing) November 9, 2016 T...  FAKE  \n",
       "4  It's primary day in New York and front-runners...  REAL  "
      ]
     },
     "execution_count": 111,
     "metadata": {},
     "output_type": "execute_result"
    }
   ],
   "source": [
    "import pandas as pd\n",
    "data = pd.read_csv(\"https://raw.githubusercontent.com/rogovich/Data/master/data/fake_or_real_news.csv\", header=0)\n",
    "data.head()"
   ]
  },
  {
   "cell_type": "code",
   "execution_count": 112,
   "id": "de05ade4-c381-4991-b377-ebaaf0825048",
   "metadata": {},
   "outputs": [],
   "source": [
    "from sklearn.model_selection import train_test_split\n",
    "\n",
    "X_train, X_test, y_train, y_test = train_test_split(data['text'], data['label'], test_size=0.3)"
   ]
  },
  {
   "cell_type": "code",
   "execution_count": 113,
   "id": "a0965781-2a78-4abe-9160-a60ec2379f98",
   "metadata": {},
   "outputs": [
    {
     "data": {
      "text/plain": [
       "CountVectorizer()"
      ]
     },
     "execution_count": 113,
     "metadata": {},
     "output_type": "execute_result"
    }
   ],
   "source": [
    "vect = CountVectorizer()\n",
    "vect.fit(X_train)"
   ]
  },
  {
   "cell_type": "code",
   "execution_count": 114,
   "id": "bb597849-8c5d-46cd-b8eb-21bb02315958",
   "metadata": {},
   "outputs": [],
   "source": [
    "train_data = vect.transform(X_train)"
   ]
  },
  {
   "cell_type": "code",
   "execution_count": 115,
   "id": "883a511d-f559-4b07-b4b6-3aa317123767",
   "metadata": {},
   "outputs": [],
   "source": [
    "test_data = vect.transform(X_test)"
   ]
  },
  {
   "cell_type": "code",
   "execution_count": 118,
   "id": "ab9bfb0f-cb8b-4b34-a4a0-4f1b3b8124b3",
   "metadata": {},
   "outputs": [
    {
     "data": {
      "text/plain": [
       "RandomForestClassifier(n_estimators=15)"
      ]
     },
     "execution_count": 118,
     "metadata": {},
     "output_type": "execute_result"
    }
   ],
   "source": [
    "from sklearn.ensemble import RandomForestClassifier\n",
    "model = RandomForestClassifier(n_estimators=15)\n",
    "model.fit(train_data, y_train)"
   ]
  },
  {
   "cell_type": "code",
   "execution_count": 119,
   "id": "89badd2d-1e82-4e83-a281-dfb47ec6660f",
   "metadata": {},
   "outputs": [],
   "source": [
    "prediction = model.predict(test_data)"
   ]
  },
  {
   "cell_type": "code",
   "execution_count": 120,
   "id": "58cd07a4-b518-4212-bb26-a74f6d1d46fa",
   "metadata": {},
   "outputs": [
    {
     "data": {
      "text/plain": [
       "0.8416622830089426"
      ]
     },
     "execution_count": 120,
     "metadata": {},
     "output_type": "execute_result"
    }
   ],
   "source": [
    "from sklearn.metrics import accuracy_score\n",
    "\n",
    "accuracy_score(prediction, y_test)"
   ]
  },
  {
   "cell_type": "code",
   "execution_count": null,
   "id": "79ebf86e-43bd-4dba-b3d1-d79657cb4741",
   "metadata": {},
   "outputs": [],
   "source": []
  }
 ],
 "metadata": {
  "kernelspec": {
   "display_name": "Python 3",
   "language": "python",
   "name": "python3"
  },
  "language_info": {
   "codemirror_mode": {
    "name": "ipython",
    "version": 3
   },
   "file_extension": ".py",
   "mimetype": "text/x-python",
   "name": "python",
   "nbconvert_exporter": "python",
   "pygments_lexer": "ipython3",
   "version": "3.8.8"
  }
 },
 "nbformat": 4,
 "nbformat_minor": 5
}
