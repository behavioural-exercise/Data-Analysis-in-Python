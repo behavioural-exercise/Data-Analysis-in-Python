{
 "cells": [
  {
   "cell_type": "code",
   "execution_count": 180,
   "id": "f06862e0-9e2b-46f2-94bd-ffd0fc36f51b",
   "metadata": {},
   "outputs": [],
   "source": [
    "import pandas as pd\n",
    "import numpy as np\n",
    "import matplotlib.pyplot as plt\n",
    "import seaborn as sns"
   ]
  },
  {
   "cell_type": "code",
   "execution_count": 2,
   "id": "1fa83194-6e1c-4f9d-b8ad-aad90dcc8fff",
   "metadata": {},
   "outputs": [],
   "source": [
    "wvs = pd.read_csv('WVS.csv', low_memory=False)"
   ]
  },
  {
   "cell_type": "code",
   "execution_count": 3,
   "id": "4d1015c0-a5fc-42d8-9329-937faad6a256",
   "metadata": {},
   "outputs": [
    {
     "data": {
      "text/html": [
       "<div>\n",
       "<style scoped>\n",
       "    .dataframe tbody tr th:only-of-type {\n",
       "        vertical-align: middle;\n",
       "    }\n",
       "\n",
       "    .dataframe tbody tr th {\n",
       "        vertical-align: top;\n",
       "    }\n",
       "\n",
       "    .dataframe thead th {\n",
       "        text-align: right;\n",
       "    }\n",
       "</style>\n",
       "<table border=\"1\" class=\"dataframe\">\n",
       "  <thead>\n",
       "    <tr style=\"text-align: right;\">\n",
       "      <th></th>\n",
       "      <th>study</th>\n",
       "      <th>wave</th>\n",
       "      <th>version</th>\n",
       "      <th>versn_s</th>\n",
       "      <th>doi_gesis</th>\n",
       "      <th>doi_wvsa</th>\n",
       "      <th>studytit</th>\n",
       "      <th>uniqid</th>\n",
       "      <th>intrvwr_id</th>\n",
       "      <th>cntry</th>\n",
       "      <th>...</th>\n",
       "      <th>X028</th>\n",
       "      <th>W003</th>\n",
       "      <th>X052</th>\n",
       "      <th>X035_EVS5</th>\n",
       "      <th>X036E_WVS7</th>\n",
       "      <th>V097EF</th>\n",
       "      <th>W005_EVS5</th>\n",
       "      <th>W006E_WVS7</th>\n",
       "      <th>X047_WVS7</th>\n",
       "      <th>X047E_EVS5</th>\n",
       "    </tr>\n",
       "  </thead>\n",
       "  <tbody>\n",
       "    <tr>\n",
       "      <th>0</th>\n",
       "      <td>1</td>\n",
       "      <td>5</td>\n",
       "      <td>3-0-0 (2022-05-23)</td>\n",
       "      <td>5-0-0 (2022-05-16)</td>\n",
       "      <td>doi:10.4232/1.13899</td>\n",
       "      <td>doi:10.14281/18241.19</td>\n",
       "      <td>EVS5</td>\n",
       "      <td>8050001</td>\n",
       "      <td>7</td>\n",
       "      <td>8</td>\n",
       "      <td>...</td>\n",
       "      <td>4</td>\n",
       "      <td>4</td>\n",
       "      <td>1</td>\n",
       "      <td>52</td>\n",
       "      <td>-4</td>\n",
       "      <td>9</td>\n",
       "      <td>13</td>\n",
       "      <td>-4</td>\n",
       "      <td>-4</td>\n",
       "      <td>3</td>\n",
       "    </tr>\n",
       "    <tr>\n",
       "      <th>1</th>\n",
       "      <td>1</td>\n",
       "      <td>5</td>\n",
       "      <td>3-0-0 (2022-05-23)</td>\n",
       "      <td>5-0-0 (2022-05-16)</td>\n",
       "      <td>doi:10.4232/1.13899</td>\n",
       "      <td>doi:10.14281/18241.19</td>\n",
       "      <td>EVS5</td>\n",
       "      <td>8050002</td>\n",
       "      <td>1</td>\n",
       "      <td>8</td>\n",
       "      <td>...</td>\n",
       "      <td>3</td>\n",
       "      <td>3</td>\n",
       "      <td>-3</td>\n",
       "      <td>63</td>\n",
       "      <td>-4</td>\n",
       "      <td>9</td>\n",
       "      <td>63</td>\n",
       "      <td>-4</td>\n",
       "      <td>-4</td>\n",
       "      <td>1</td>\n",
       "    </tr>\n",
       "    <tr>\n",
       "      <th>2</th>\n",
       "      <td>1</td>\n",
       "      <td>5</td>\n",
       "      <td>3-0-0 (2022-05-23)</td>\n",
       "      <td>5-0-0 (2022-05-16)</td>\n",
       "      <td>doi:10.4232/1.13899</td>\n",
       "      <td>doi:10.14281/18241.19</td>\n",
       "      <td>EVS5</td>\n",
       "      <td>8050003</td>\n",
       "      <td>10</td>\n",
       "      <td>8</td>\n",
       "      <td>...</td>\n",
       "      <td>4</td>\n",
       "      <td>4</td>\n",
       "      <td>-3</td>\n",
       "      <td>63</td>\n",
       "      <td>-4</td>\n",
       "      <td>9</td>\n",
       "      <td>63</td>\n",
       "      <td>-4</td>\n",
       "      <td>-4</td>\n",
       "      <td>4</td>\n",
       "    </tr>\n",
       "    <tr>\n",
       "      <th>3</th>\n",
       "      <td>1</td>\n",
       "      <td>5</td>\n",
       "      <td>3-0-0 (2022-05-23)</td>\n",
       "      <td>5-0-0 (2022-05-16)</td>\n",
       "      <td>doi:10.4232/1.13899</td>\n",
       "      <td>doi:10.14281/18241.19</td>\n",
       "      <td>EVS5</td>\n",
       "      <td>8050004</td>\n",
       "      <td>6</td>\n",
       "      <td>8</td>\n",
       "      <td>...</td>\n",
       "      <td>5</td>\n",
       "      <td>7</td>\n",
       "      <td>-3</td>\n",
       "      <td>63</td>\n",
       "      <td>-4</td>\n",
       "      <td>9</td>\n",
       "      <td>63</td>\n",
       "      <td>-4</td>\n",
       "      <td>-4</td>\n",
       "      <td>1</td>\n",
       "    </tr>\n",
       "    <tr>\n",
       "      <th>4</th>\n",
       "      <td>1</td>\n",
       "      <td>5</td>\n",
       "      <td>3-0-0 (2022-05-23)</td>\n",
       "      <td>5-0-0 (2022-05-16)</td>\n",
       "      <td>doi:10.4232/1.13899</td>\n",
       "      <td>doi:10.14281/18241.19</td>\n",
       "      <td>EVS5</td>\n",
       "      <td>8050005</td>\n",
       "      <td>1</td>\n",
       "      <td>8</td>\n",
       "      <td>...</td>\n",
       "      <td>7</td>\n",
       "      <td>7</td>\n",
       "      <td>-3</td>\n",
       "      <td>-3</td>\n",
       "      <td>-4</td>\n",
       "      <td>8</td>\n",
       "      <td>93</td>\n",
       "      <td>-4</td>\n",
       "      <td>-4</td>\n",
       "      <td>-1</td>\n",
       "    </tr>\n",
       "  </tbody>\n",
       "</table>\n",
       "<p>5 rows × 231 columns</p>\n",
       "</div>"
      ],
      "text/plain": [
       "   study  wave             version             versn_s            doi_gesis  \\\n",
       "0      1     5  3-0-0 (2022-05-23)  5-0-0 (2022-05-16)  doi:10.4232/1.13899   \n",
       "1      1     5  3-0-0 (2022-05-23)  5-0-0 (2022-05-16)  doi:10.4232/1.13899   \n",
       "2      1     5  3-0-0 (2022-05-23)  5-0-0 (2022-05-16)  doi:10.4232/1.13899   \n",
       "3      1     5  3-0-0 (2022-05-23)  5-0-0 (2022-05-16)  doi:10.4232/1.13899   \n",
       "4      1     5  3-0-0 (2022-05-23)  5-0-0 (2022-05-16)  doi:10.4232/1.13899   \n",
       "\n",
       "                doi_wvsa studytit   uniqid  intrvwr_id  cntry  ... X028  W003  \\\n",
       "0  doi:10.14281/18241.19     EVS5  8050001           7      8  ...    4     4   \n",
       "1  doi:10.14281/18241.19     EVS5  8050002           1      8  ...    3     3   \n",
       "2  doi:10.14281/18241.19     EVS5  8050003          10      8  ...    4     4   \n",
       "3  doi:10.14281/18241.19     EVS5  8050004           6      8  ...    5     7   \n",
       "4  doi:10.14281/18241.19     EVS5  8050005           1      8  ...    7     7   \n",
       "\n",
       "   X052  X035_EVS5  X036E_WVS7  V097EF  W005_EVS5  W006E_WVS7  X047_WVS7  \\\n",
       "0     1         52          -4       9         13          -4         -4   \n",
       "1    -3         63          -4       9         63          -4         -4   \n",
       "2    -3         63          -4       9         63          -4         -4   \n",
       "3    -3         63          -4       9         63          -4         -4   \n",
       "4    -3         -3          -4       8         93          -4         -4   \n",
       "\n",
       "   X047E_EVS5  \n",
       "0           3  \n",
       "1           1  \n",
       "2           4  \n",
       "3           1  \n",
       "4          -1  \n",
       "\n",
       "[5 rows x 231 columns]"
      ]
     },
     "execution_count": 3,
     "metadata": {},
     "output_type": "execute_result"
    }
   ],
   "source": [
    "wvs.head()"
   ]
  },
  {
   "cell_type": "code",
   "execution_count": 4,
   "id": "83d8dc1a-6d89-4837-9a16-9738ccd0ebf7",
   "metadata": {},
   "outputs": [],
   "source": [
    "ten = ['E033', 'E037', 'E035', 'E036', 'E224', 'E227', 'F120', 'F132', 'F119', 'F063']\n",
    "five = ['C002_01', 'D081', 'D026_05', 'C038', 'G052']\n",
    "four = ['D061', 'D059', 'D078', 'D054']\n",
    "three = ['F034']\n",
    "press = ['E069_04']"
   ]
  },
  {
   "cell_type": "code",
   "execution_count": 5,
   "id": "69161258-561e-46c0-84d3-a1e0a3cbd2d9",
   "metadata": {},
   "outputs": [],
   "source": [
    "wvs = wvs.replace([-1, -2, -3, -4, -5], np.NaN)"
   ]
  },
  {
   "cell_type": "code",
   "execution_count": 6,
   "id": "81487aa5-b9fe-4af7-a3a8-b72b3fd8969c",
   "metadata": {},
   "outputs": [
    {
     "data": {
      "text/html": [
       "<div>\n",
       "<style scoped>\n",
       "    .dataframe tbody tr th:only-of-type {\n",
       "        vertical-align: middle;\n",
       "    }\n",
       "\n",
       "    .dataframe tbody tr th {\n",
       "        vertical-align: top;\n",
       "    }\n",
       "\n",
       "    .dataframe thead th {\n",
       "        text-align: right;\n",
       "    }\n",
       "</style>\n",
       "<table border=\"1\" class=\"dataframe\">\n",
       "  <thead>\n",
       "    <tr style=\"text-align: right;\">\n",
       "      <th></th>\n",
       "      <th>study</th>\n",
       "      <th>wave</th>\n",
       "      <th>version</th>\n",
       "      <th>versn_s</th>\n",
       "      <th>doi_gesis</th>\n",
       "      <th>doi_wvsa</th>\n",
       "      <th>studytit</th>\n",
       "      <th>uniqid</th>\n",
       "      <th>intrvwr_id</th>\n",
       "      <th>cntry</th>\n",
       "      <th>...</th>\n",
       "      <th>X028</th>\n",
       "      <th>W003</th>\n",
       "      <th>X052</th>\n",
       "      <th>X035_EVS5</th>\n",
       "      <th>X036E_WVS7</th>\n",
       "      <th>V097EF</th>\n",
       "      <th>W005_EVS5</th>\n",
       "      <th>W006E_WVS7</th>\n",
       "      <th>X047_WVS7</th>\n",
       "      <th>X047E_EVS5</th>\n",
       "    </tr>\n",
       "  </thead>\n",
       "  <tbody>\n",
       "    <tr>\n",
       "      <th>0</th>\n",
       "      <td>1.0</td>\n",
       "      <td>5.0</td>\n",
       "      <td>3-0-0 (2022-05-23)</td>\n",
       "      <td>5-0-0 (2022-05-16)</td>\n",
       "      <td>doi:10.4232/1.13899</td>\n",
       "      <td>doi:10.14281/18241.19</td>\n",
       "      <td>EVS5</td>\n",
       "      <td>8050001.0</td>\n",
       "      <td>7.0</td>\n",
       "      <td>8.0</td>\n",
       "      <td>...</td>\n",
       "      <td>4.0</td>\n",
       "      <td>4.0</td>\n",
       "      <td>1.0</td>\n",
       "      <td>52.0</td>\n",
       "      <td>NaN</td>\n",
       "      <td>9.0</td>\n",
       "      <td>13.0</td>\n",
       "      <td>NaN</td>\n",
       "      <td>NaN</td>\n",
       "      <td>3.0</td>\n",
       "    </tr>\n",
       "    <tr>\n",
       "      <th>1</th>\n",
       "      <td>1.0</td>\n",
       "      <td>5.0</td>\n",
       "      <td>3-0-0 (2022-05-23)</td>\n",
       "      <td>5-0-0 (2022-05-16)</td>\n",
       "      <td>doi:10.4232/1.13899</td>\n",
       "      <td>doi:10.14281/18241.19</td>\n",
       "      <td>EVS5</td>\n",
       "      <td>8050002.0</td>\n",
       "      <td>1.0</td>\n",
       "      <td>8.0</td>\n",
       "      <td>...</td>\n",
       "      <td>3.0</td>\n",
       "      <td>3.0</td>\n",
       "      <td>NaN</td>\n",
       "      <td>63.0</td>\n",
       "      <td>NaN</td>\n",
       "      <td>9.0</td>\n",
       "      <td>63.0</td>\n",
       "      <td>NaN</td>\n",
       "      <td>NaN</td>\n",
       "      <td>1.0</td>\n",
       "    </tr>\n",
       "    <tr>\n",
       "      <th>2</th>\n",
       "      <td>1.0</td>\n",
       "      <td>5.0</td>\n",
       "      <td>3-0-0 (2022-05-23)</td>\n",
       "      <td>5-0-0 (2022-05-16)</td>\n",
       "      <td>doi:10.4232/1.13899</td>\n",
       "      <td>doi:10.14281/18241.19</td>\n",
       "      <td>EVS5</td>\n",
       "      <td>8050003.0</td>\n",
       "      <td>10.0</td>\n",
       "      <td>8.0</td>\n",
       "      <td>...</td>\n",
       "      <td>4.0</td>\n",
       "      <td>4.0</td>\n",
       "      <td>NaN</td>\n",
       "      <td>63.0</td>\n",
       "      <td>NaN</td>\n",
       "      <td>9.0</td>\n",
       "      <td>63.0</td>\n",
       "      <td>NaN</td>\n",
       "      <td>NaN</td>\n",
       "      <td>4.0</td>\n",
       "    </tr>\n",
       "    <tr>\n",
       "      <th>3</th>\n",
       "      <td>1.0</td>\n",
       "      <td>5.0</td>\n",
       "      <td>3-0-0 (2022-05-23)</td>\n",
       "      <td>5-0-0 (2022-05-16)</td>\n",
       "      <td>doi:10.4232/1.13899</td>\n",
       "      <td>doi:10.14281/18241.19</td>\n",
       "      <td>EVS5</td>\n",
       "      <td>8050004.0</td>\n",
       "      <td>6.0</td>\n",
       "      <td>8.0</td>\n",
       "      <td>...</td>\n",
       "      <td>5.0</td>\n",
       "      <td>7.0</td>\n",
       "      <td>NaN</td>\n",
       "      <td>63.0</td>\n",
       "      <td>NaN</td>\n",
       "      <td>9.0</td>\n",
       "      <td>63.0</td>\n",
       "      <td>NaN</td>\n",
       "      <td>NaN</td>\n",
       "      <td>1.0</td>\n",
       "    </tr>\n",
       "    <tr>\n",
       "      <th>4</th>\n",
       "      <td>1.0</td>\n",
       "      <td>5.0</td>\n",
       "      <td>3-0-0 (2022-05-23)</td>\n",
       "      <td>5-0-0 (2022-05-16)</td>\n",
       "      <td>doi:10.4232/1.13899</td>\n",
       "      <td>doi:10.14281/18241.19</td>\n",
       "      <td>EVS5</td>\n",
       "      <td>8050005.0</td>\n",
       "      <td>1.0</td>\n",
       "      <td>8.0</td>\n",
       "      <td>...</td>\n",
       "      <td>7.0</td>\n",
       "      <td>7.0</td>\n",
       "      <td>NaN</td>\n",
       "      <td>NaN</td>\n",
       "      <td>NaN</td>\n",
       "      <td>8.0</td>\n",
       "      <td>93.0</td>\n",
       "      <td>NaN</td>\n",
       "      <td>NaN</td>\n",
       "      <td>NaN</td>\n",
       "    </tr>\n",
       "  </tbody>\n",
       "</table>\n",
       "<p>5 rows × 231 columns</p>\n",
       "</div>"
      ],
      "text/plain": [
       "   study  wave             version             versn_s            doi_gesis  \\\n",
       "0    1.0   5.0  3-0-0 (2022-05-23)  5-0-0 (2022-05-16)  doi:10.4232/1.13899   \n",
       "1    1.0   5.0  3-0-0 (2022-05-23)  5-0-0 (2022-05-16)  doi:10.4232/1.13899   \n",
       "2    1.0   5.0  3-0-0 (2022-05-23)  5-0-0 (2022-05-16)  doi:10.4232/1.13899   \n",
       "3    1.0   5.0  3-0-0 (2022-05-23)  5-0-0 (2022-05-16)  doi:10.4232/1.13899   \n",
       "4    1.0   5.0  3-0-0 (2022-05-23)  5-0-0 (2022-05-16)  doi:10.4232/1.13899   \n",
       "\n",
       "                doi_wvsa studytit     uniqid  intrvwr_id  cntry  ... X028  \\\n",
       "0  doi:10.14281/18241.19     EVS5  8050001.0         7.0    8.0  ...  4.0   \n",
       "1  doi:10.14281/18241.19     EVS5  8050002.0         1.0    8.0  ...  3.0   \n",
       "2  doi:10.14281/18241.19     EVS5  8050003.0        10.0    8.0  ...  4.0   \n",
       "3  doi:10.14281/18241.19     EVS5  8050004.0         6.0    8.0  ...  5.0   \n",
       "4  doi:10.14281/18241.19     EVS5  8050005.0         1.0    8.0  ...  7.0   \n",
       "\n",
       "   W003  X052  X035_EVS5  X036E_WVS7  V097EF  W005_EVS5  W006E_WVS7  \\\n",
       "0   4.0   1.0       52.0         NaN     9.0       13.0         NaN   \n",
       "1   3.0   NaN       63.0         NaN     9.0       63.0         NaN   \n",
       "2   4.0   NaN       63.0         NaN     9.0       63.0         NaN   \n",
       "3   7.0   NaN       63.0         NaN     9.0       63.0         NaN   \n",
       "4   7.0   NaN        NaN         NaN     8.0       93.0         NaN   \n",
       "\n",
       "   X047_WVS7  X047E_EVS5  \n",
       "0        NaN         3.0  \n",
       "1        NaN         1.0  \n",
       "2        NaN         4.0  \n",
       "3        NaN         1.0  \n",
       "4        NaN         NaN  \n",
       "\n",
       "[5 rows x 231 columns]"
      ]
     },
     "execution_count": 6,
     "metadata": {},
     "output_type": "execute_result"
    }
   ],
   "source": [
    "wvs.head()"
   ]
  },
  {
   "cell_type": "code",
   "execution_count": null,
   "id": "96e4f0ea-8187-43a8-a7d7-0ffc36f1afb0",
   "metadata": {},
   "outputs": [],
   "source": []
  },
  {
   "cell_type": "code",
   "execution_count": null,
   "id": "f3cb7512-5bff-4fce-a17b-51d55a6fa5a5",
   "metadata": {},
   "outputs": [],
   "source": []
  },
  {
   "cell_type": "code",
   "execution_count": null,
   "id": "7c65878b-7784-48ce-bdb9-49f4996dc584",
   "metadata": {},
   "outputs": [],
   "source": []
  },
  {
   "cell_type": "code",
   "execution_count": null,
   "id": "d8b96e82-4b80-44bc-9623-99ac14638cee",
   "metadata": {},
   "outputs": [],
   "source": []
  },
  {
   "cell_type": "code",
   "execution_count": null,
   "id": "0bd06f0c-d7a7-49bd-a657-fa742371d478",
   "metadata": {},
   "outputs": [],
   "source": []
  },
  {
   "cell_type": "code",
   "execution_count": null,
   "id": "828ed3b4-eb17-4d22-aee4-13a6057b1bef",
   "metadata": {},
   "outputs": [],
   "source": []
  },
  {
   "cell_type": "code",
   "execution_count": null,
   "id": "6066d982-abf0-4a1d-bf71-837d9a43e61a",
   "metadata": {},
   "outputs": [],
   "source": []
  },
  {
   "cell_type": "code",
   "execution_count": null,
   "id": "0254edde-0d19-4580-92d4-f9a563edac58",
   "metadata": {},
   "outputs": [],
   "source": []
  },
  {
   "cell_type": "code",
   "execution_count": null,
   "id": "7468a390-e146-4d30-978e-87b8018e16e1",
   "metadata": {},
   "outputs": [],
   "source": []
  },
  {
   "cell_type": "code",
   "execution_count": 7,
   "id": "8bbd25a6-3f43-4dd6-90d0-56ca2780b68f",
   "metadata": {},
   "outputs": [
    {
     "data": {
      "image/png": "[encoded data removed]",
      "text/plain": [
       "<Figure size 432x288 with 1 Axes>"
      ]
     },
     "metadata": {
      "needs_background": "light"
     },
     "output_type": "display_data"
    },
    {
     "name": "stdout",
     "output_type": "stream",
     "text": [
      "E033\n"
     ]
    },
    {
     "data": {
      "image/png": "[encoded data removed]",
      "text/plain": [
       "<Figure size 432x288 with 1 Axes>"
      ]
     },
     "metadata": {
      "needs_background": "light"
     },
     "output_type": "display_data"
    },
    {
     "name": "stdout",
     "output_type": "stream",
     "text": [
      "E037\n"
     ]
    },
    {
     "data": {
      "image/png": "[encoded data removed]",
      "text/plain": [
       "<Figure size 432x288 with 1 Axes>"
      ]
     },
     "metadata": {
      "needs_background": "light"
     },
     "output_type": "display_data"
    },
    {
     "name": "stdout",
     "output_type": "stream",
     "text": [
      "E035\n"
     ]
    },
    {
     "data": {
      "image/png": "[encoded data removed]",
      "text/plain": [
       "<Figure size 432x288 with 1 Axes>"
      ]
     },
     "metadata": {
      "needs_background": "light"
     },
     "output_type": "display_data"
    },
    {
     "name": "stdout",
     "output_type": "stream",
     "text": [
      "E036\n"
     ]
    },
    {
     "data": {
      "image/png": "[encoded data removed]",
      "text/plain": [
       "<Figure size 432x288 with 1 Axes>"
      ]
     },
     "metadata": {
      "needs_background": "light"
     },
     "output_type": "display_data"
    },
    {
     "name": "stdout",
     "output_type": "stream",
     "text": [
      "E224\n"
     ]
    },
    {
     "data": {
      "image/png": "[encoded data removed]",
      "text/plain": [
       "<Figure size 432x288 with 1 Axes>"
      ]
     },
     "metadata": {
      "needs_background": "light"
     },
     "output_type": "display_data"
    },
    {
     "name": "stdout",
     "output_type": "stream",
     "text": [
      "E227\n"
     ]
    },
    {
     "data": {
      "image/png": "[encoded data removed]",
      "text/plain": [
       "<Figure size 432x288 with 1 Axes>"
      ]
     },
     "metadata": {
      "needs_background": "light"
     },
     "output_type": "display_data"
    },
    {
     "name": "stdout",
     "output_type": "stream",
     "text": [
      "F120\n"
     ]
    },
    {
     "data": {
      "image/png": "[encoded data removed]",
      "text/plain": [
       "<Figure size 432x288 with 1 Axes>"
      ]
     },
     "metadata": {
      "needs_background": "light"
     },
     "output_type": "display_data"
    },
    {
     "name": "stdout",
     "output_type": "stream",
     "text": [
      "F132\n"
     ]
    },
    {
     "data": {
      "image/png": "[encoded data removed]",
      "text/plain": [
       "<Figure size 432x288 with 1 Axes>"
      ]
     },
     "metadata": {
      "needs_background": "light"
     },
     "output_type": "display_data"
    },
    {
     "name": "stdout",
     "output_type": "stream",
     "text": [
      "F119\n"
     ]
    },
    {
     "data": {
      "image/png": "[encoded data removed]",
      "text/plain": [
       "<Figure size 432x288 with 1 Axes>"
      ]
     },
     "metadata": {
      "needs_background": "light"
     },
     "output_type": "display_data"
    },
    {
     "name": "stdout",
     "output_type": "stream",
     "text": [
      "F063\n"
     ]
    }
   ],
   "source": [
    "for variable in ten:\n",
    "    plt.bar(wvs[wvs.cntry_AN == 'HU'][variable].dropna().unique(), wvs[wvs.cntry_AN == 'HU'][variable].dropna().value_counts())\n",
    "    plt.show()\n",
    "    print(variable)"
   ]
  },
  {
   "cell_type": "code",
   "execution_count": 181,
   "id": "29af2d3f-a02e-4686-9851-ee6acf9bead1",
   "metadata": {},
   "outputs": [
    {
     "data": {
      "image/png": "[encoded data removed]",
      "text/plain": [
       "<Figure size 432x288 with 1 Axes>"
      ]
     },
     "metadata": {
      "needs_background": "light"
     },
     "output_type": "display_data"
    }
   ],
   "source": [
    "sns.histplot(wvsc.E224, discrete=True)\n",
    "plt.show()"
   ]
  },
  {
   "cell_type": "code",
   "execution_count": 183,
   "id": "9429f6cb-b3cd-4e42-9df1-86d72250b29f",
   "metadata": {},
   "outputs": [
    {
     "name": "stdout",
     "output_type": "stream",
     "text": [
      "0.7125506072874493\n",
      "0.059379217273954114\n",
      "0.2280701754385965\n",
      "3\n"
     ]
    }
   ],
   "source": [
    "wvsc = wvs[wvs.cntry_AN == 'HU']\n",
    "side1 = wvsc.F119.value_counts(normalize=True)[[1,2,3]].sum()\n",
    "side2 = wvsc.F119.value_counts(normalize=True)[[8,9,10]].sum()\n",
    "side3 = wvsc.F119.value_counts(normalize=True)[[4,5,6,7]].sum()\n",
    "print(f'{side1}\\n{side2}\\n{side3}')\n",
    "\n",
    "\n",
    "score = 0\n",
    "if side1 > 0.2 or side2 > 0.2:\n",
    "    score =+ score + 1\n",
    "if (side1/side2 <=4) or (side2/side1 <=4):\n",
    "    score =+ score + 1\n",
    "if side3 <= 0.431:\n",
    "    score =+ score + 1\n",
    "    \n",
    "print(score)"
   ]
  },
  {
   "cell_type": "code",
   "execution_count": null,
   "id": "a205eeaa-6480-4a39-93e8-d86711185b88",
   "metadata": {},
   "outputs": [],
   "source": []
  },
  {
   "cell_type": "code",
   "execution_count": null,
   "id": "48e53d63-c3bb-41d5-8075-335cc8d18267",
   "metadata": {},
   "outputs": [],
   "source": []
  },
  {
   "cell_type": "code",
   "execution_count": 178,
   "id": "e4d95c54-3898-4534-9449-2ba60db37d0a",
   "metadata": {},
   "outputs": [
    {
     "data": {
      "image/png": "[encoded data removed]",
      "text/plain": [
       "<Figure size 432x288 with 1 Axes>"
      ]
     },
     "metadata": {
      "needs_background": "light"
     },
     "output_type": "display_data"
    },
    {
     "name": "stdout",
     "output_type": "stream",
     "text": [
      "E033 2\n"
     ]
    },
    {
     "data": {
      "image/png": "[encoded data removed]",
      "text/plain": [
       "<Figure size 432x288 with 1 Axes>"
      ]
     },
     "metadata": {
      "needs_background": "light"
     },
     "output_type": "display_data"
    },
    {
     "name": "stdout",
     "output_type": "stream",
     "text": [
      "E037 2\n"
     ]
    },
    {
     "data": {
      "image/png": "[encoded data removed]",
      "text/plain": [
       "<Figure size 432x288 with 1 Axes>"
      ]
     },
     "metadata": {
      "needs_background": "light"
     },
     "output_type": "display_data"
    },
    {
     "name": "stdout",
     "output_type": "stream",
     "text": [
      "E035 3\n"
     ]
    },
    {
     "data": {
      "image/png": "[encoded data removed]",
      "text/plain": [
       "<Figure size 432x288 with 1 Axes>"
      ]
     },
     "metadata": {
      "needs_background": "light"
     },
     "output_type": "display_data"
    },
    {
     "name": "stdout",
     "output_type": "stream",
     "text": [
      "E036 2\n"
     ]
    },
    {
     "data": {
      "image/png": "[encoded data removed]",
      "text/plain": [
       "<Figure size 432x288 with 1 Axes>"
      ]
     },
     "metadata": {
      "needs_background": "light"
     },
     "output_type": "display_data"
    },
    {
     "name": "stdout",
     "output_type": "stream",
     "text": [
      "E224 3\n"
     ]
    },
    {
     "data": {
      "image/png": "[encoded data removed]",
      "text/plain": [
       "<Figure size 432x288 with 1 Axes>"
      ]
     },
     "metadata": {
      "needs_background": "light"
     },
     "output_type": "display_data"
    },
    {
     "name": "stdout",
     "output_type": "stream",
     "text": [
      "E227 2\n"
     ]
    },
    {
     "data": {
      "image/png": "[encoded data removed]",
      "text/plain": [
       "<Figure size 432x288 with 1 Axes>"
      ]
     },
     "metadata": {
      "needs_background": "light"
     },
     "output_type": "display_data"
    },
    {
     "name": "stdout",
     "output_type": "stream",
     "text": [
      "F120 3\n"
     ]
    },
    {
     "data": {
      "image/png": "[encoded data removed]",
      "text/plain": [
       "<Figure size 432x288 with 1 Axes>"
      ]
     },
     "metadata": {
      "needs_background": "light"
     },
     "output_type": "display_data"
    },
    {
     "name": "stdout",
     "output_type": "stream",
     "text": [
      "F132 3\n"
     ]
    },
    {
     "data": {
      "image/png": "[encoded data removed]",
      "text/plain": [
       "<Figure size 432x288 with 1 Axes>"
      ]
     },
     "metadata": {
      "needs_background": "light"
     },
     "output_type": "display_data"
    },
    {
     "name": "stdout",
     "output_type": "stream",
     "text": [
      "F119 3\n"
     ]
    },
    {
     "data": {
      "image/png": "[encoded data removed]",
      "text/plain": [
       "<Figure size 432x288 with 1 Axes>"
      ]
     },
     "metadata": {
      "needs_background": "light"
     },
     "output_type": "display_data"
    },
    {
     "name": "stdout",
     "output_type": "stream",
     "text": [
      "F063 3\n"
     ]
    }
   ],
   "source": [
    "for variable in ten:\n",
    "    wvsc = wvs[wvs.cntry_AN == 'HU']\n",
    "    side1 = wvsc[variable].value_counts(normalize=True)[[1,2,3]].sum()\n",
    "    side2 = wvsc[variable].value_counts(normalize=True)[[8,9,10]].sum()\n",
    "    side3 = wvsc[variable].value_counts(normalize=True)[[4,5,6,7]].sum()\n",
    "\n",
    "    score = 0\n",
    "    if side1 > 0.2 or side2 > 0.2:\n",
    "        score =+ score + 1\n",
    "    if (side1/side2 <=4) or (side2/side1 <=4):\n",
    "        score =+ score + 1\n",
    "    if side3 <= 0.431:\n",
    "        score =+ score + 1\n",
    "    sns.histplot(wvsc[variable], discrete=True)\n",
    "    plt.show()\n",
    "    print(variable, score)"
   ]
  },
  {
   "cell_type": "code",
   "execution_count": null,
   "id": "f72b0120-b528-4cd3-8641-bab5826caa46",
   "metadata": {},
   "outputs": [],
   "source": []
  },
  {
   "cell_type": "code",
   "execution_count": null,
   "id": "8c8a351d-01fe-42de-a054-7b57c289a1f6",
   "metadata": {},
   "outputs": [],
   "source": []
  },
  {
   "cell_type": "code",
   "execution_count": null,
   "id": "1992995a-dc42-4ecc-8e0d-7747fdb6ccf3",
   "metadata": {},
   "outputs": [],
   "source": []
  },
  {
   "cell_type": "code",
   "execution_count": null,
   "id": "3ab54d5a-ee03-4a48-9847-84aa9c33915e",
   "metadata": {},
   "outputs": [],
   "source": []
  },
  {
   "cell_type": "code",
   "execution_count": null,
   "id": "a28325e1-9683-4d24-b7f0-9d6de36a34ed",
   "metadata": {},
   "outputs": [],
   "source": []
  },
  {
   "cell_type": "code",
   "execution_count": null,
   "id": "3ce7e52a-8fac-45e6-93c0-600fa6fcd3f1",
   "metadata": {},
   "outputs": [],
   "source": []
  },
  {
   "cell_type": "code",
   "execution_count": null,
   "id": "00c21ca5-b03c-4d32-8412-54eb2942fad5",
   "metadata": {},
   "outputs": [],
   "source": []
  },
  {
   "cell_type": "code",
   "execution_count": null,
   "id": "fc184f17-6e7f-4386-bb8f-d6ff6faf1c18",
   "metadata": {},
   "outputs": [],
   "source": []
  },
  {
   "cell_type": "code",
   "execution_count": null,
   "id": "de375589-d94c-4cb3-968d-8fc0ff235f60",
   "metadata": {},
   "outputs": [],
   "source": []
  }
 ],
 "metadata": {
  "kernelspec": {
   "display_name": "Python 3",
   "language": "python",
   "name": "python3"
  },
  "language_info": {
   "codemirror_mode": {
    "name": "ipython",
    "version": 3
   },
   "file_extension": ".py",
   "mimetype": "text/x-python",
   "name": "python",
   "nbconvert_exporter": "python",
   "pygments_lexer": "ipython3",
   "version": "3.8.8"
  }
 },
 "nbformat": 4,
 "nbformat_minor": 5
}
