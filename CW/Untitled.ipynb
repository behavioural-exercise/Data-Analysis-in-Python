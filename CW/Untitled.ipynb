{
 "cells": [
  {
   "cell_type": "code",
   "execution_count": 2,
   "id": "06ecce12-1a2a-41b8-8849-5fa4cab25c96",
   "metadata": {},
   "outputs": [],
   "source": [
    "import requests\n",
    "import pandas as pd\n",
    "import plotly.graph_objects as go\n",
    "import numpy as np"
   ]
  },
  {
   "cell_type": "code",
   "execution_count": null,
   "id": "fd54e767-7890-4cf4-a5d3-bb1a88f2eaa8",
   "metadata": {},
   "outputs": [],
   "source": []
  },
  {
   "cell_type": "code",
   "execution_count": 41,
   "id": "f4d13e76-1a8b-4ddb-a00c-19efcc91dec2",
   "metadata": {},
   "outputs": [],
   "source": [
    "market = pd.read_csv('market.csv', sep=';', index_col=False)"
   ]
  },
  {
   "cell_type": "code",
   "execution_count": 42,
   "id": "aa9a4927-e51a-402f-9d0e-9d5668c1383d",
   "metadata": {},
   "outputs": [
    {
     "name": "stdout",
     "output_type": "stream",
     "text": [
      "<class 'pandas.core.frame.DataFrame'>\n",
      "RangeIndex: 58 entries, 0 to 57\n",
      "Data columns (total 33 columns):\n",
      " #   Column                           Non-Null Count  Dtype  \n",
      "---  ------                           --------------  -----  \n",
      " 0   Question                         58 non-null     object \n",
      " 1   Albania                          42 non-null     float64\n",
      " 2   Austria                          55 non-null     float64\n",
      " 3   Belgium                          52 non-null     float64\n",
      " 4   Bulgaria                         43 non-null     float64\n",
      " 5   Croatia                          53 non-null     float64\n",
      " 6   Cyprus                           54 non-null     float64\n",
      " 7   Denmark                          42 non-null     float64\n",
      " 8   Estonia                          51 non-null     float64\n",
      " 9   Finland                          49 non-null     float64\n",
      " 10  France                           53 non-null     float64\n",
      " 11  Germany                          56 non-null     float64\n",
      " 12  Greece                           51 non-null     float64\n",
      " 13  Hungary                          49 non-null     float64\n",
      " 14  Ireland                          43 non-null     float64\n",
      " 15  Italy                            54 non-null     float64\n",
      " 16  Latvia                           52 non-null     float64\n",
      " 17  Lithuania                        47 non-null     float64\n",
      " 18  Luxembourg                       44 non-null     float64\n",
      " 19  Malta                            40 non-null     float64\n",
      " 20  Montenegro                       52 non-null     float64\n",
      " 21  Poland                           48 non-null     float64\n",
      " 22  Portugal                         48 non-null     float64\n",
      " 23  Romania                          44 non-null     float64\n",
      " 24  Serbia                           48 non-null     object \n",
      " 25  Slovakia                         51 non-null     float64\n",
      " 26  Slovenia                         49 non-null     float64\n",
      " 27  Spain                            51 non-null     float64\n",
      " 28  Sweden                           46 non-null     float64\n",
      " 29  The Czech Republic               49 non-null     float64\n",
      " 30  The Netherlands                  48 non-null     float64\n",
      " 31  The Republic of North Macedonia  48 non-null     float64\n",
      " 32  Turkey                           45 non-null     float64\n",
      "dtypes: float64(31), object(2)\n",
      "memory usage: 15.1+ KB\n"
     ]
    }
   ],
   "source": [
    "market.info()"
   ]
  },
  {
   "cell_type": "code",
   "execution_count": null,
   "id": "0b1db75e-885b-453a-bf40-dcd8da137834",
   "metadata": {},
   "outputs": [],
   "source": []
  },
  {
   "cell_type": "code",
   "execution_count": null,
   "id": "cb605e4c-ff4a-47d1-9682-b1714f749d24",
   "metadata": {},
   "outputs": [],
   "source": []
  },
  {
   "cell_type": "code",
   "execution_count": null,
   "id": "041ef0cb-d680-43d8-9cd3-2568d428c504",
   "metadata": {},
   "outputs": [],
   "source": []
  },
  {
   "cell_type": "code",
   "execution_count": null,
   "id": "28cf5580-bec5-41d8-807b-84716c0acae3",
   "metadata": {},
   "outputs": [],
   "source": []
  },
  {
   "cell_type": "code",
   "execution_count": null,
   "id": "802b04ae-ded7-4f21-8746-313f7a2e5ccd",
   "metadata": {},
   "outputs": [],
   "source": []
  }
 ],
 "metadata": {
  "kernelspec": {
   "display_name": "Python 3",
   "language": "python",
   "name": "python3"
  },
  "language_info": {
   "codemirror_mode": {
    "name": "ipython",
    "version": 3
   },
   "file_extension": ".py",
   "mimetype": "text/x-python",
   "name": "python",
   "nbconvert_exporter": "python",
   "pygments_lexer": "ipython3",
   "version": "3.8.8"
  }
 },
 "nbformat": 4,
 "nbformat_minor": 5
}
