{
 "cells": [
  {
   "cell_type": "markdown",
   "id": "49fca17a-5f74-48cc-9ad2-1883477f6e8b",
   "metadata": {},
   "source": [
    "# Data types\n",
    "\n",
    "## \"Несоставные\" типы данных\n",
    "1. int - целые числа\n",
    "2. float - вещественные числа\n",
    "3. bool - логический тип данных\n",
    "4. None - \"отсутствие данных\"\n",
    "5. str - строка, текст\n",
    "\n",
    "\n"
   ]
  },
  {
   "cell_type": "code",
   "execution_count": null,
   "id": "092e7198-99b8-4ef9-9614-60b754705bd2",
   "metadata": {},
   "outputs": [],
   "source": []
  },
  {
   "cell_type": "markdown",
   "id": "2295c0cc-7a7d-4a5e-8225-7044490fbe62",
   "metadata": {},
   "source": [
    "### Проблемы вещественных чисел"
   ]
  },
  {
   "cell_type": "code",
   "execution_count": 6,
   "id": "3dad590f-d479-466f-83c6-420248b3f682",
   "metadata": {},
   "outputs": [
    {
     "data": {
      "text/plain": [
       "False"
      ]
     },
     "execution_count": 6,
     "metadata": {},
     "output_type": "execute_result"
    }
   ],
   "source": [
    "(0.1 + 0.2) == 0.3 # числа, которые мы видим как десятичные, на самом деле в двоичной системе"
   ]
  },
  {
   "cell_type": "code",
   "execution_count": 12,
   "id": "3ed3855b-b4cd-4840-8ed2-5ced64ef65a3",
   "metadata": {},
   "outputs": [
    {
     "data": {
      "text/plain": [
       "True"
      ]
     },
     "execution_count": 12,
     "metadata": {},
     "output_type": "execute_result"
    }
   ],
   "source": [
    "(0.1 + 0.2) - 0.3 < 0.00001 # выход из ситуации"
   ]
  },
  {
   "cell_type": "code",
   "execution_count": null,
   "id": "a599a8da-e92d-423b-86b0-0d0a060b7fa9",
   "metadata": {},
   "outputs": [],
   "source": [
    "5.4 ** 1000000 # слишком большой результат отображаться не будет"
   ]
  },
  {
   "cell_type": "code",
   "execution_count": 15,
   "id": "81b5ee8c-c285-470e-a07e-b1d631d24126",
   "metadata": {},
   "outputs": [
    {
     "name": "stdout",
     "output_type": "stream",
     "text": [
      "4\n",
      "4\n"
     ]
    }
   ],
   "source": [
    "print(round(3.5))\n",
    "print(round(4.5))\n",
    "# округляется до ближайшего четного числа"
   ]
  },
  {
   "cell_type": "code",
   "execution_count": null,
   "id": "a21b6e55-833a-41c7-b29e-e775578c8e9f",
   "metadata": {},
   "outputs": [],
   "source": []
  },
  {
   "cell_type": "markdown",
   "id": "325fa03c-3fc6-4d4b-b778-66b0af8dae7d",
   "metadata": {},
   "source": [
    "## Последовательности - все, что с индексами\n",
    "\n",
    "1. tuple - кортеж \n",
    "2. list - список\n",
    "3. str - строка\n"
   ]
  },
  {
   "cell_type": "code",
   "execution_count": null,
   "id": "a7516402-5625-47e7-8075-b3a819e8be61",
   "metadata": {},
   "outputs": [],
   "source": []
  },
  {
   "cell_type": "code",
   "execution_count": 5,
   "id": "0127ba8e-3d51-49bc-85dd-83e1b5a50816",
   "metadata": {},
   "outputs": [
    {
     "data": {
      "text/plain": [
       "[5, 'cat', 'dog', 9]"
      ]
     },
     "execution_count": 5,
     "metadata": {},
     "output_type": "execute_result"
    }
   ],
   "source": [
    "ex = tuple([4, 8, 'cat', None, 6.4])\n",
    "ex.index('cat') # у кортежей 2 метода\n",
    "lst.append(9) # у списков их больше\n",
    "lst"
   ]
  },
  {
   "cell_type": "code",
   "execution_count": null,
   "id": "a0d923d0-0388-4e59-87b0-a5b62aee63d0",
   "metadata": {},
   "outputs": [],
   "source": [
    "lst = lst.append(9) # это ошибка. Методы ничего не возвращают, в отличие от функций."
   ]
  },
  {
   "cell_type": "code",
   "execution_count": 6,
   "id": "1cf9f529-2ea2-4e80-91a0-70e84e542be8",
   "metadata": {},
   "outputs": [
    {
     "name": "stdout",
     "output_type": "stream",
     "text": [
      "cat\n",
      "CAT\n"
     ]
    }
   ],
   "source": [
    "# Разница между методом и функцией\n",
    "\n",
    "print('cat')\n",
    "'cat'.upper()\n",
    "word = 'cat'.upper()\n",
    "print(word)\n",
    "# Методы чаще это как функции, только они применимы к определенным типам данных"
   ]
  },
  {
   "cell_type": "code",
   "execution_count": 7,
   "id": "9fec24d6-f7f1-4568-a977-fc1c7bd8d315",
   "metadata": {},
   "outputs": [
    {
     "name": "stdout",
     "output_type": "stream",
     "text": [
      "[5, 'cat', 'dog']\n"
     ]
    },
    {
     "data": {
      "text/plain": [
       "1"
      ]
     },
     "execution_count": 7,
     "metadata": {},
     "output_type": "execute_result"
    }
   ],
   "source": [
    "lst = [5, 'cat', None]\n",
    "lst[-1] = 'dog'\n",
    "print(lst)\n",
    "lst.count(5) # считаем сколько пятерок в списке"
   ]
  },
  {
   "cell_type": "code",
   "execution_count": null,
   "id": "436b036a-b96a-4932-bebd-152efea698e0",
   "metadata": {},
   "outputs": [],
   "source": []
  },
  {
   "cell_type": "markdown",
   "id": "d25af1d7-7ee0-465f-99a4-ed073b2ec934",
   "metadata": {},
   "source": [
    "## Метод map"
   ]
  },
  {
   "cell_type": "code",
   "execution_count": 14,
   "id": "788fc55f-dd50-4416-a0d7-75f0be54335a",
   "metadata": {},
   "outputs": [
    {
     "data": {
      "text/plain": [
       "[1, 2, 4]"
      ]
     },
     "execution_count": 14,
     "metadata": {},
     "output_type": "execute_result"
    }
   ],
   "source": [
    "nums = '1 2 4'\n",
    "nums.split()\n",
    "list(map(int, nums.split()))"
   ]
  },
  {
   "cell_type": "code",
   "execution_count": null,
   "id": "cac343d2-7347-4db2-b223-501f532a16a4",
   "metadata": {},
   "outputs": [],
   "source": []
  },
  {
   "cell_type": "markdown",
   "id": "2c550e58-f79d-4329-81d5-5d8c452ff8b2",
   "metadata": {},
   "source": [
    "## List coprehension"
   ]
  },
  {
   "cell_type": "code",
   "execution_count": 15,
   "id": "2978e89b-8899-4fbd-b1ec-f5b2c05ce19b",
   "metadata": {},
   "outputs": [
    {
     "data": {
      "text/plain": [
       "[1, 2, 4]"
      ]
     },
     "execution_count": 15,
     "metadata": {},
     "output_type": "execute_result"
    }
   ],
   "source": [
    "[int(n) for n in nums.split()] # по сути в самом начале мы тут указываем, что хотим сделать\n",
    "# с каждым n"
   ]
  },
  {
   "cell_type": "code",
   "execution_count": 17,
   "id": "d3e657c7-c32e-47f6-9bf0-a6d8e43c8b96",
   "metadata": {},
   "outputs": [
    {
     "data": {
      "text/plain": [
       "[2, 4]"
      ]
     },
     "execution_count": 17,
     "metadata": {},
     "output_type": "execute_result"
    }
   ],
   "source": [
    "new = []\n",
    "for n in nums.split():\n",
    "    n = int(n)\n",
    "    if n % 2 ==0:\n",
    "        new.append(n)\n",
    "new"
   ]
  },
  {
   "cell_type": "code",
   "execution_count": 18,
   "id": "e7749515-5122-401f-86bf-fc07a0039179",
   "metadata": {},
   "outputs": [
    {
     "data": {
      "text/plain": [
       "['cat', 'dog']"
      ]
     },
     "execution_count": 18,
     "metadata": {},
     "output_type": "execute_result"
    }
   ],
   "source": [
    "words = ['cat', 'dog', 'parrot']\n",
    "new = []\n",
    "for word in words:\n",
    "    if len(word) == 3:\n",
    "        new.append(word)\n",
    "new"
   ]
  },
  {
   "cell_type": "code",
   "execution_count": 24,
   "id": "9b286f2a-5621-4be4-849b-fc9c146c88fa",
   "metadata": {},
   "outputs": [
    {
     "data": {
      "text/plain": [
       "['CAT', 'DOG']"
      ]
     },
     "execution_count": 24,
     "metadata": {},
     "output_type": "execute_result"
    }
   ],
   "source": [
    "animals = [word.upper() for word in words if len(word) == 3]\n",
    "animals"
   ]
  },
  {
   "cell_type": "code",
   "execution_count": 25,
   "id": "0366b6e4-6890-4a72-b277-36f774879f6c",
   "metadata": {},
   "outputs": [
    {
     "data": {
      "text/plain": [
       "[2, 4]"
      ]
     },
     "execution_count": 25,
     "metadata": {},
     "output_type": "execute_result"
    }
   ],
   "source": [
    "chisla = [int(n) for n in nums.split() if int(n) % 2 == 0]\n",
    "chisla"
   ]
  },
  {
   "cell_type": "code",
   "execution_count": null,
   "id": "645f50d3-b2fd-4588-92c6-9e2050c91ac6",
   "metadata": {},
   "outputs": [],
   "source": []
  },
  {
   "cell_type": "markdown",
   "id": "1a5abae4-9f5a-4d2c-aaa6-ebd6d93458dc",
   "metadata": {},
   "source": [
    "## Set comprehension"
   ]
  },
  {
   "cell_type": "code",
   "execution_count": 26,
   "id": "a6c9d33a-a677-414b-92b1-12c097d0fe24",
   "metadata": {},
   "outputs": [
    {
     "data": {
      "text/plain": [
       "{0, 1, 4, 9, 16, 25, 36, 49, 64}"
      ]
     },
     "execution_count": 26,
     "metadata": {},
     "output_type": "execute_result"
    }
   ],
   "source": [
    "{num**2 for num in range(9)}"
   ]
  },
  {
   "cell_type": "code",
   "execution_count": null,
   "id": "bbcfd7c2-5ba2-4349-83bf-3b3ff5633b45",
   "metadata": {},
   "outputs": [],
   "source": []
  },
  {
   "cell_type": "code",
   "execution_count": 29,
   "id": "408657ad-1fa6-478e-8531-dde0be0c7876",
   "metadata": {},
   "outputs": [
    {
     "data": {
      "text/plain": [
       "['cat', 'dog']"
      ]
     },
     "execution_count": 29,
     "metadata": {},
     "output_type": "execute_result"
    }
   ],
   "source": [
    "words = 'cat,dog'\n",
    "words.split(',')"
   ]
  },
  {
   "cell_type": "code",
   "execution_count": 30,
   "id": "07118a20-0a47-44d1-abdc-589662ab629e",
   "metadata": {},
   "outputs": [
    {
     "data": {
      "text/plain": [
       "'cat;dog'"
      ]
     },
     "execution_count": 30,
     "metadata": {},
     "output_type": "execute_result"
    }
   ],
   "source": [
    "';'.join(new)"
   ]
  },
  {
   "cell_type": "code",
   "execution_count": 31,
   "id": "dd863c49-490d-4e14-bb23-6f6f054dea5f",
   "metadata": {},
   "outputs": [
    {
     "ename": "TypeError",
     "evalue": "sequence item 0: expected str instance, int found",
     "output_type": "error",
     "traceback": [
      "\u001b[1;31m---------------------------------------------------------------------------\u001b[0m",
      "\u001b[1;31mTypeError\u001b[0m                                 Traceback (most recent call last)",
      "\u001b[1;32m<ipython-input-31-3f60c81f32bb>\u001b[0m in \u001b[0;36m<module>\u001b[1;34m\u001b[0m\n\u001b[0;32m      1\u001b[0m \u001b[0mnew\u001b[0m \u001b[1;33m=\u001b[0m \u001b[1;33m[\u001b[0m\u001b[1;36m4\u001b[0m\u001b[1;33m,\u001b[0m \u001b[1;36m4\u001b[0m\u001b[1;33m]\u001b[0m\u001b[1;33m\u001b[0m\u001b[1;33m\u001b[0m\u001b[0m\n\u001b[1;32m----> 2\u001b[1;33m \u001b[1;34m';'\u001b[0m\u001b[1;33m.\u001b[0m\u001b[0mjoin\u001b[0m\u001b[1;33m(\u001b[0m\u001b[0mnew\u001b[0m\u001b[1;33m)\u001b[0m\u001b[1;33m\u001b[0m\u001b[1;33m\u001b[0m\u001b[0m\n\u001b[0m",
      "\u001b[1;31mTypeError\u001b[0m: sequence item 0: expected str instance, int found"
     ]
    }
   ],
   "source": [
    "new = [4, 4]\n",
    "';'.join(new)"
   ]
  },
  {
   "cell_type": "code",
   "execution_count": 32,
   "id": "ad466f6d-5de0-437f-8306-35d73da7d2c4",
   "metadata": {},
   "outputs": [
    {
     "data": {
      "text/plain": [
       "'4;4'"
      ]
     },
     "execution_count": 32,
     "metadata": {},
     "output_type": "execute_result"
    }
   ],
   "source": [
    "new = [4, 4]\n",
    "';'.join(map(str, new))"
   ]
  },
  {
   "cell_type": "code",
   "execution_count": null,
   "id": "6a250317-6ea1-465f-9c63-6d4de06e8227",
   "metadata": {},
   "outputs": [],
   "source": []
  },
  {
   "cell_type": "markdown",
   "id": "8354e60f-3534-4f5c-aaa3-29d8348ca1f9",
   "metadata": {},
   "source": [
    "Задание 7 (рейтинговое)\n",
    "Дан список student = ('Иван Питонов', 2001, [8, 7, 7, 9, 6], True). Выполните пункты ниже. Все выводы должны быть в формате \"Средний балл студента: {средний балл}\"\n",
    "\n",
    "1. Выведите фамилию и имя Ивана в формате \"Студент: {Фамилия}, {Имя}\"\n",
    "2. Выведите возраст Ивана, если сейчас 2020 год.\n",
    "3. Напечатайте оценки Ивана через запятую.\n",
    "4. Найдите средний балл Ивана, если оценки хранятся в списке внутри кортежа. Сумму элементов списка можно найти с помощью функции sum(). Выведите средний балл.\n",
    "5. Если средняя оценка Ивана больше или равна 8, то он получает повышенную стипендию. Выведите True или False."
   ]
  },
  {
   "cell_type": "code",
   "execution_count": null,
   "id": "1d4bfee2-dc5a-4e38-bc7a-909a7c76a6aa",
   "metadata": {},
   "outputs": [],
   "source": []
  },
  {
   "cell_type": "code",
   "execution_count": 33,
   "id": "936e1424-c77b-4823-b6e0-42bbec28904a",
   "metadata": {},
   "outputs": [],
   "source": [
    "student = ('Иван Питонов', 2001, [8, 7, 7, 9, 6], True)"
   ]
  },
  {
   "cell_type": "code",
   "execution_count": 47,
   "id": "78d3d924-70fb-426c-9256-7e0a6c4a889e",
   "metadata": {},
   "outputs": [
    {
     "name": "stdout",
     "output_type": "stream",
     "text": [
      "Студент: Питонов, Иван\n"
     ]
    }
   ],
   "source": [
    "print(f'Студент: {student[0].split()[1]}, {student[0].split()[0]}')"
   ]
  },
  {
   "cell_type": "code",
   "execution_count": 48,
   "id": "da26f1f9-83f3-428f-a699-71ae132526dd",
   "metadata": {},
   "outputs": [
    {
     "data": {
      "text/plain": [
       "19"
      ]
     },
     "execution_count": 48,
     "metadata": {},
     "output_type": "execute_result"
    }
   ],
   "source": [
    "voz = 2020 - student[1]\n",
    "voz"
   ]
  },
  {
   "cell_type": "code",
   "execution_count": 54,
   "id": "31e966ce-fe00-4a40-a523-5f3b8f96d737",
   "metadata": {},
   "outputs": [
    {
     "name": "stdout",
     "output_type": "stream",
     "text": [
      "8,7,7,9,6\n"
     ]
    }
   ],
   "source": [
    "','.join([str(i) for i in student[2]])\n",
    "print(*student[2], sep=',')"
   ]
  },
  {
   "cell_type": "code",
   "execution_count": 56,
   "id": "a779f376-0ff1-4e3f-b31d-4c25b414346d",
   "metadata": {
    "tags": []
   },
   "outputs": [
    {
     "name": "stdout",
     "output_type": "stream",
     "text": [
      "False\n"
     ]
    }
   ],
   "source": [
    "average = sum(student[2]) / len(student[2])\n",
    "print(average > 8)"
   ]
  },
  {
   "cell_type": "code",
   "execution_count": null,
   "id": "4b5961ce-ba12-4a2f-a1bc-e580d5bf7c72",
   "metadata": {},
   "outputs": [],
   "source": []
  },
  {
   "cell_type": "code",
   "execution_count": 57,
   "id": "696c34e9-0765-4d8b-bdf1-9866a858bd3a",
   "metadata": {},
   "outputs": [
    {
     "data": {
      "text/plain": [
       "True"
      ]
     },
     "execution_count": 57,
     "metadata": {},
     "output_type": "execute_result"
    }
   ],
   "source": [
    "if 'cat'.startswith('c') == True: # == True здесь излишне, поскольку сам метод возвращает логику\n",
    "    print('Слово начинается с с')\n",
    "else:\n",
    "    print('Слово не начинается с с')"
   ]
  },
  {
   "cell_type": "code",
   "execution_count": null,
   "id": "34391e5e-7c2b-489d-a149-d9cea4cc4185",
   "metadata": {},
   "outputs": [],
   "source": []
  },
  {
   "cell_type": "code",
   "execution_count": null,
   "id": "8cba6b63-82b9-401e-8d81-bc4e91e132b2",
   "metadata": {},
   "outputs": [],
   "source": []
  },
  {
   "cell_type": "code",
   "execution_count": null,
   "id": "d827e258-69ee-4823-aa1a-1ad764ac8140",
   "metadata": {},
   "outputs": [],
   "source": []
  },
  {
   "cell_type": "markdown",
   "id": "a161cbce-2ab1-437a-a637-49712abb16c3",
   "metadata": {},
   "source": [
    "## Коллекции - по индексу обращение невозможно\n",
    "\n",
    "1. dict - cловарь\n",
    "2. set - множества\n",
    "3. frozenset - \"замороженное\" множество"
   ]
  },
  {
   "cell_type": "code",
   "execution_count": null,
   "id": "bc67430b",
   "metadata": {},
   "outputs": [],
   "source": []
  },
  {
   "cell_type": "code",
   "execution_count": 59,
   "id": "1e369b17",
   "metadata": {},
   "outputs": [
    {
     "data": {
      "text/plain": [
       "{'apple'}"
      ]
     },
     "execution_count": 59,
     "metadata": {},
     "output_type": "execute_result"
    }
   ],
   "source": [
    "my_ice_cream = {'apple', 'chocolate', 'banana'}\n",
    "friend_ice_cream = {'mint', 'apple', 'strawberry'}\n",
    "my_ice_cream & friend_ice_cream # пересечение"
   ]
  },
  {
   "cell_type": "code",
   "execution_count": 60,
   "id": "a18f3a83",
   "metadata": {},
   "outputs": [
    {
     "data": {
      "text/plain": [
       "{'apple', 'banana', 'chocolate', 'mint', 'strawberry'}"
      ]
     },
     "execution_count": 60,
     "metadata": {},
     "output_type": "execute_result"
    }
   ],
   "source": [
    "my_ice_cream | friend_ice_cream # объединение только уникальных объектов"
   ]
  },
  {
   "cell_type": "code",
   "execution_count": 61,
   "id": "9efcbc56",
   "metadata": {},
   "outputs": [
    {
     "data": {
      "text/plain": [
       "{'banana', 'chocolate'}"
      ]
     },
     "execution_count": 61,
     "metadata": {},
     "output_type": "execute_result"
    }
   ],
   "source": [
    "my_ice_cream - friend_ice_cream # разность, тут важно то, от чего мы отнимаем"
   ]
  },
  {
   "cell_type": "code",
   "execution_count": 62,
   "id": "fc9ce865",
   "metadata": {},
   "outputs": [
    {
     "data": {
      "text/plain": [
       "{'banana', 'chocolate', 'mint', 'strawberry'}"
      ]
     },
     "execution_count": 62,
     "metadata": {},
     "output_type": "execute_result"
    }
   ],
   "source": [
    "my_ice_cream ^ friend_ice_cream # показывает все непересекающиеся объекты"
   ]
  },
  {
   "cell_type": "code",
   "execution_count": 63,
   "id": "489a953f",
   "metadata": {},
   "outputs": [],
   "source": [
    "my_set = {'apple', 'banana'}"
   ]
  },
  {
   "cell_type": "code",
   "execution_count": 66,
   "id": "81d2148a",
   "metadata": {},
   "outputs": [
    {
     "data": {
      "text/plain": [
       "{'apple', 'banana'}"
      ]
     },
     "execution_count": 66,
     "metadata": {},
     "output_type": "execute_result"
    }
   ],
   "source": [
    "my_set.add('apple')\n",
    "my_set.add('banana')\n",
    "my_set"
   ]
  },
  {
   "cell_type": "code",
   "execution_count": 69,
   "id": "817f4b2d",
   "metadata": {},
   "outputs": [
    {
     "data": {
      "text/plain": [
       "{'cat': 200, 'dog': 100, 'parrot': 10}"
      ]
     },
     "execution_count": 69,
     "metadata": {},
     "output_type": "execute_result"
    }
   ],
   "source": [
    "words = {'cat': 10, 'dog': 100, 'parrot':10}\n",
    "words['cat'] = 200\n",
    "words"
   ]
  },
  {
   "cell_type": "code",
   "execution_count": 70,
   "id": "a56a11af-64cf-422e-8806-dcd36114f431",
   "metadata": {},
   "outputs": [
    {
     "data": {
      "text/plain": [
       "True"
      ]
     },
     "execution_count": 70,
     "metadata": {},
     "output_type": "execute_result"
    }
   ],
   "source": [
    "'cat' in words # а по значениям искать нельзя (на самом деле можно использовать метод)"
   ]
  },
  {
   "cell_type": "code",
   "execution_count": 71,
   "id": "c5119d75-3533-474e-930f-8010e748f2e8",
   "metadata": {},
   "outputs": [
    {
     "data": {
      "text/plain": [
       "True"
      ]
     },
     "execution_count": 71,
     "metadata": {},
     "output_type": "execute_result"
    }
   ],
   "source": [
    "10 in words.values()"
   ]
  },
  {
   "cell_type": "code",
   "execution_count": 73,
   "id": "e3ad3d59-2b6a-42ab-91d1-e40c22981620",
   "metadata": {},
   "outputs": [
    {
     "data": {
      "text/plain": [
       "'cat'"
      ]
     },
     "execution_count": 73,
     "metadata": {},
     "output_type": "execute_result"
    }
   ],
   "source": [
    "words = {'nouns':['cat', 'dog'], 'verbs':['run', 'go']}\n",
    "words['nouns'][0]"
   ]
  },
  {
   "cell_type": "code",
   "execution_count": 76,
   "id": "dbb28f69",
   "metadata": {},
   "outputs": [
    {
     "data": {
      "text/plain": [
       "30"
      ]
     },
     "execution_count": 76,
     "metadata": {},
     "output_type": "execute_result"
    }
   ],
   "source": [
    "stats = {('Men', 18):30, ('Men', 19):50, ('Female', 18):60} # ключом может быть только неизменяемый объект\n",
    "stats[('Men', 18)]"
   ]
  },
  {
   "cell_type": "code",
   "execution_count": null,
   "id": "48519485-e7e9-4204-a55b-b23c2480aa58",
   "metadata": {},
   "outputs": [],
   "source": []
  },
  {
   "cell_type": "code",
   "execution_count": 86,
   "id": "2bff56f7-4677-4389-86f6-dd8a078f9c0f",
   "metadata": {},
   "outputs": [],
   "source": [
    "dict_of_lists = {'Список1': [{'Python': 'язык программирования'}, {'R':'язык программирования', 'LaTEX' : 'язык верстки' }], \n",
    "                 'Список2' : [{'Windows' : ['операционная система', 'разработчик'], 'UNIX' : 'операционная система'},\n",
    "                              {'IBM': ['компания-производитель', 'разработчик'], 'IPv6' : 'интернет-протокол' }]}\n",
    "\n",
    "# ваше решение здесь"
   ]
  },
  {
   "cell_type": "code",
   "execution_count": 93,
   "id": "2270d1b1-c975-4bf1-948c-3d03cacca9e4",
   "metadata": {},
   "outputs": [
    {
     "data": {
      "text/plain": [
       "'разработчик'"
      ]
     },
     "execution_count": 93,
     "metadata": {},
     "output_type": "execute_result"
    }
   ],
   "source": [
    "dict_of_lists['Список2'][0]['Windows'][1]"
   ]
  },
  {
   "cell_type": "code",
   "execution_count": 116,
   "id": "6517798c-c07c-4887-af37-17971d9483ba",
   "metadata": {},
   "outputs": [],
   "source": [
    "shops = [{'товар': 'яблоки', 'количество': 400}, \n",
    "         {'товар': 'конфеты', 'количество': 300}, \n",
    "         {'товар': 'яблоки', 'количество': 750}]\n"
   ]
  },
  {
   "cell_type": "code",
   "execution_count": 122,
   "id": "7f2df05f-cc6c-4a20-9b67-c9fbbad86f4d",
   "metadata": {},
   "outputs": [
    {
     "name": "stdout",
     "output_type": "stream",
     "text": [
      "{'яблоки': 1150, 'конфеты': 300}\n"
     ]
    }
   ],
   "source": [
    "total = {}\n",
    "\n",
    "for shop in shops:\n",
    "    name = shop['товар']\n",
    "    q = shop['количество']\n",
    "    if name not in total:\n",
    "        total[name] = q\n",
    "    else:\n",
    "        total[name] += q\n",
    "    \n",
    "print(total)"
   ]
  },
  {
   "cell_type": "code",
   "execution_count": 125,
   "id": "94e9f134-66c2-4d12-a66c-7422bd43f11c",
   "metadata": {},
   "outputs": [
    {
     "data": {
      "text/plain": [
       "'Нет такого ключа'"
      ]
     },
     "execution_count": 125,
     "metadata": {},
     "output_type": "execute_result"
    }
   ],
   "source": [
    "ex = {'товар': 'яблоки', 'количество': 400}\n",
    "ex.get('яблоки', 'Нет такого ключа')"
   ]
  },
  {
   "cell_type": "code",
   "execution_count": 128,
   "id": "b24474b6-e9ed-46fa-9a06-dead8406a1e8",
   "metadata": {},
   "outputs": [
    {
     "name": "stdout",
     "output_type": "stream",
     "text": [
      "{'яблоки': 400}\n",
      "{'яблоки': 400, 'конфеты': 300}\n",
      "{'яблоки': 1150, 'конфеты': 300}\n"
     ]
    }
   ],
   "source": [
    "total = {}\n",
    "\n",
    "for shop in shops:\n",
    "    name = shop['товар'] # yabloki\n",
    "    q = shop['количество'] # 400\n",
    "    total[name] = total.get(name, 0) + q\n",
    "    print(total)"
   ]
  },
  {
   "cell_type": "code",
   "execution_count": null,
   "id": "cbe8a7f5-d609-452d-9f85-e8f99fa471ff",
   "metadata": {},
   "outputs": [],
   "source": []
  },
  {
   "cell_type": "markdown",
   "id": "cb5d1bf4-d248-40e0-b183-614e8f73537d",
   "metadata": {},
   "source": [
    "## User functions"
   ]
  },
  {
   "cell_type": "code",
   "execution_count": null,
   "id": "c8cbe1a0-caf2-4f5e-ad74-8df19ee8fb13",
   "metadata": {},
   "outputs": [],
   "source": [
    "def название_функции(аргументы):\n",
    "    return Результат"
   ]
  },
  {
   "cell_type": "code",
   "execution_count": 129,
   "id": "96977e0f-2b50-4928-b23b-8df1351e69ff",
   "metadata": {},
   "outputs": [],
   "source": [
    "[4].append(4) # тут нет return'a"
   ]
  },
  {
   "cell_type": "code",
   "execution_count": 130,
   "id": "1f515754-8b19-429f-8a0e-b33a968404ce",
   "metadata": {},
   "outputs": [
    {
     "data": {
      "text/plain": [
       "'CAT'"
      ]
     },
     "execution_count": 130,
     "metadata": {},
     "output_type": "execute_result"
    }
   ],
   "source": [
    "'cat'.upper()"
   ]
  },
  {
   "cell_type": "code",
   "execution_count": 137,
   "id": "5c12885c-219c-4184-8b13-fdf0d1f589df",
   "metadata": {},
   "outputs": [
    {
     "data": {
      "text/plain": [
       "12.66"
      ]
     },
     "execution_count": 137,
     "metadata": {},
     "output_type": "execute_result"
    }
   ],
   "source": [
    "def converter(rub):\n",
    "    return round(rub/79.02, 2)\n",
    "converter(1000)"
   ]
  },
  {
   "cell_type": "code",
   "execution_count": 138,
   "id": "6c648863-864c-4a89-ac11-85f3d85183b9",
   "metadata": {},
   "outputs": [
    {
     "data": {
      "text/plain": [
       "[12.66, 37.97, 18.98]"
      ]
     },
     "execution_count": 138,
     "metadata": {},
     "output_type": "execute_result"
    }
   ],
   "source": [
    "my_money =[1000, 3000, 1500]\n",
    "list(map(converter, my_money))"
   ]
  },
  {
   "cell_type": "code",
   "execution_count": null,
   "id": "ff4de13c-b333-4e72-a890-0ca12cdf5693",
   "metadata": {},
   "outputs": [],
   "source": [
    "# анонимная функция / лямбда == деф"
   ]
  },
  {
   "cell_type": "code",
   "execution_count": 139,
   "id": "ccbc4bd9-3c3a-43e3-8722-105761238efc",
   "metadata": {},
   "outputs": [
    {
     "data": {
      "text/plain": [
       "[12.66, 37.97, 18.98]"
      ]
     },
     "execution_count": 139,
     "metadata": {},
     "output_type": "execute_result"
    }
   ],
   "source": [
    "my_money =[1000, 3000, 1500]\n",
    "list(map(lambda rub: round(rub/79.02, 2), my_money)) \n",
    "# def = lambda, rub = argument, : = cto delat?"
   ]
  },
  {
   "cell_type": "code",
   "execution_count": 140,
   "id": "fe4fd2c6-ac73-49e3-9fff-8f786af3ee37",
   "metadata": {},
   "outputs": [
    {
     "data": {
      "text/plain": [
       "[1000000, 9000000, 2250000]"
      ]
     },
     "execution_count": 140,
     "metadata": {},
     "output_type": "execute_result"
    }
   ],
   "source": [
    "list(map(lambda rub: rub**2, my_money))"
   ]
  },
  {
   "cell_type": "code",
   "execution_count": 143,
   "id": "6a725560-7bd2-40f7-81ea-6f8cbdade425",
   "metadata": {},
   "outputs": [
    {
     "data": {
      "text/plain": [
       "[None, 37.97, 18.98]"
      ]
     },
     "execution_count": 143,
     "metadata": {},
     "output_type": "execute_result"
    }
   ],
   "source": [
    "list(map(lambda rub: round(rub / 79.02, 2) if rub >= 1500 else None, my_money))"
   ]
  },
  {
   "cell_type": "code",
   "execution_count": 146,
   "id": "19045dfd-b399-4ef6-aaa3-f58873bf1c65",
   "metadata": {},
   "outputs": [],
   "source": [
    "def converter(rub):\n",
    "    if rub >= 1500:\n",
    "        return round(rub/79.02, 2)\n",
    "    else:\n",
    "        return None\n",
    "converter(1000)"
   ]
  },
  {
   "cell_type": "code",
   "execution_count": null,
   "id": "daabe352-3177-49f2-a666-6be1b9cfe5ca",
   "metadata": {},
   "outputs": [],
   "source": []
  },
  {
   "cell_type": "code",
   "execution_count": 147,
   "id": "fd190feb-62fd-4a3f-8868-aaa903fc56fc",
   "metadata": {},
   "outputs": [
    {
     "data": {
      "text/plain": [
       "[False, 9000000, 2250000]"
      ]
     },
     "execution_count": 147,
     "metadata": {},
     "output_type": "execute_result"
    }
   ],
   "source": [
    "list(map(lambda rub: rub**2 if rub >= 1500 else False, my_money))"
   ]
  },
  {
   "cell_type": "code",
   "execution_count": null,
   "id": "7e86c344-5e65-4817-a3be-95349773ca1b",
   "metadata": {},
   "outputs": [],
   "source": []
  },
  {
   "cell_type": "code",
   "execution_count": 157,
   "id": "042d27ad-9026-44f9-892c-03d7cc280427",
   "metadata": {},
   "outputs": [
    {
     "name": "stdout",
     "output_type": "stream",
     "text": [
      "<Response [200]>\n"
     ]
    }
   ],
   "source": [
    "'From'"
   ]
  },
  {
   "cell_type": "code",
   "execution_count": 2,
   "id": "62a4b20f-ccf0-4514-9bca-321d96dee03c",
   "metadata": {},
   "outputs": [
    {
     "data": {
      "text/plain": [
       "['From stephen.marquard@uct.ac.za Sat Jan  5 09:14:16 2008',\n",
       " 'Return-Path: <postmaster@collab.sakaiproject.org>',\n",
       " 'Received: from murder (mail.umich.edu [141.211.14.90])',\n",
       " '\\t by frankenstein.mail.umich.edu (Cyrus v2.3.8) with LMTPA;',\n",
       " '\\t Sat, 05 Jan 2008 09:14:16 -0500',\n",
       " 'X-Sieve: CMU Sieve 2.3',\n",
       " 'Received: from murder ([unix socket])',\n",
       " '\\t by mail.umich.edu (Cyrus v2.2.12) with LMTPA;',\n",
       " '\\t Sat, 05 Jan 2008 09:14:16 -0500',\n",
       " 'Received: from holes.mr.itd.umich.edu (holes.mr.itd.umich.edu [141.211.14.79])']"
      ]
     },
     "execution_count": 2,
     "metadata": {},
     "output_type": "execute_result"
    }
   ],
   "source": [
    "import requests\n",
    "file = requests.get('https://github.com/rogovich/2022_POL_Data_Analysis_in_Python/raw/main/01_Python_Refresher/%40Problems/mbox.txt').text\n",
    "file[:100]\n",
    "lines = file.split('\\n')\n",
    "lines[:10]\n",
    "\n",
    "# 1. Словарь - кто отправил сколько писем (email;q)\n",
    "# 2. Кто отправил больше всего писем (email)\n",
    "# 3. Average 'X-DSPAM-Confidence' для всей пепеписки\n",
    "# 4. Словарик - во сколько были отправлены письма (час, количество)"
   ]
  },
  {
   "cell_type": "code",
   "execution_count": 22,
   "id": "557fd577-fb38-4f3f-9dcf-5a6989a162de",
   "metadata": {},
   "outputs": [
    {
     "data": {
      "text/plain": [
       "{'stephen.marquard@uct.ac.za': 29,\n",
       " 'louis@media.berkeley.edu': 24,\n",
       " 'zqian@umich.edu': 195,\n",
       " 'rjlowe@iupui.edu': 90,\n",
       " 'cwen@iupui.edu': 158,\n",
       " 'gsilver@umich.edu': 28,\n",
       " 'wagnermr@iupui.edu': 44,\n",
       " 'antranig@caret.cam.ac.uk': 18,\n",
       " 'gopal.ramasammycook@gmail.c': 25,\n",
       " 'david.horwitz@uct.ac.za': 67,\n",
       " 'ray@media.berkeley.edu': 32,\n",
       " 'mmmay@indiana.edu': 161,\n",
       " 'stuart.freeman@et.gatech.edu': 17,\n",
       " 'tnguyen@iupui.edu': 6,\n",
       " 'chmaurer@iupui.edu': 111,\n",
       " 'aaronz@vt.edu': 110,\n",
       " 'ian@caret.cam.ac.uk': 96,\n",
       " 'csev@umich.edu': 19,\n",
       " 'jimeng@umich.edu': 93,\n",
       " 'josrodri@iupui.edu': 28,\n",
       " 'knoop@umich.edu': 5,\n",
       " 'bkirschn@umich.edu': 27,\n",
       " 'dlhaines@umich.edu': 84,\n",
       " 'hu2@iupui.edu': 7,\n",
       " 'sgithens@caret.cam.ac.uk': 43,\n",
       " 'arwhyte@umich.edu': 27,\n",
       " 'gbhatnag@umich.edu': 3,\n",
       " 'gjthomas@iupui.edu': 44,\n",
       " 'a.fish@lancaster.ac.uk': 14,\n",
       " 'ajpoland@iupui.edu': 48,\n",
       " 'lance@indiana.edu': 8,\n",
       " 'ssmail@indiana.edu': 5,\n",
       " 'jlrenfro@ucdavis.edu': 1,\n",
       " 'nuno@ufp.pt': 28,\n",
       " 'zach.thomas@txstate.edu': 17,\n",
       " 'ktsao@stanford.edu': 12,\n",
       " 'ostermmg@whitman.edu': 17,\n",
       " 'john.ellis@rsmart.c': 8,\n",
       " 'jleasia@umich.edu': 2,\n",
       " 'ggolden@umich.edu': 8,\n",
       " 'thoppaymallika@fhda.edu': 1,\n",
       " 'kimsooil@bu.edu': 14,\n",
       " 'bahollad@indiana.edu': 4,\n",
       " 'jzaremba@unicon.net': 9,\n",
       " 'mbreuker@loi.nl': 9,\n",
       " 'colin.clark@utoronto.ca': 1}"
      ]
     },
     "execution_count": 22,
     "metadata": {},
     "output_type": "execute_result"
    }
   ],
   "source": [
    "# 1. Словарь - кто отправил сколько писем (email;q)\n",
    "\n",
    "total = {}\n",
    "\n",
    "for line in lines:\n",
    "    if 'From:' in line and '@' in line:\n",
    "        email = line.strip('From:').strip(' ')\n",
    "        if email not in total:\n",
    "            q = 1\n",
    "            total[email] = q\n",
    "        else:\n",
    "            total[email] += q\n",
    "            \n",
    "\n",
    "# sorted(total, key=total.get) # очень быстрый способ отсортировать словарь\n",
    "\n",
    "total"
   ]
  },
  {
   "cell_type": "code",
   "execution_count": 18,
   "id": "663e801c-1f33-445b-a5e7-e08cd93521eb",
   "metadata": {},
   "outputs": [
    {
     "name": "stdout",
     "output_type": "stream",
     "text": [
      "{'colin.clark@utoronto.ca': 1, 'jlrenfro@ucdavis.edu': 1, 'thoppaymallika@fhda.edu': 1, 'jleasia@umich.edu': 2, 'gbhatnag@umich.edu': 3, 'bahollad@indiana.edu': 4, 'knoop@umich.edu': 5, 'ssmail@indiana.edu': 5, 'tnguyen@iupui.edu': 6, 'hu2@iupui.edu': 7, 'ggolden@umich.edu': 8, 'john.ellis@rsmart.c': 8, 'lance@indiana.edu': 8, 'jzaremba@unicon.net': 9, 'mbreuker@loi.nl': 9, 'ktsao@stanford.edu': 12, 'a.fish@lancaster.ac.uk': 14, 'kimsooil@bu.edu': 14, 'ostermmg@whitman.edu': 17, 'stuart.freeman@et.gatech.edu': 17, 'zach.thomas@txstate.edu': 17, 'antranig@caret.cam.ac.uk': 18, 'csev@umich.edu': 19, 'louis@media.berkeley.edu': 24, 'gopal.ramasammycook@gmail.c': 25, 'arwhyte@umich.edu': 27, 'bkirschn@umich.edu': 27, 'gsilver@umich.edu': 28, 'josrodri@iupui.edu': 28, 'nuno@ufp.pt': 28, 'stephen.marquard@uct.ac.za': 29, 'ray@media.berkeley.edu': 32, 'sgithens@caret.cam.ac.uk': 43, 'gjthomas@iupui.edu': 44, 'wagnermr@iupui.edu': 44, 'ajpoland@iupui.edu': 48, 'david.horwitz@uct.ac.za': 67, 'dlhaines@umich.edu': 84, 'rjlowe@iupui.edu': 90, 'jimeng@umich.edu': 93, 'ian@caret.cam.ac.uk': 96, 'aaronz@vt.edu': 110, 'chmaurer@iupui.edu': 111, 'cwen@iupui.edu': 158, 'mmmay@indiana.edu': 161, 'zqian@umich.edu': 195}\n"
     ]
    }
   ],
   "source": [
    "# 2. Кто отправил больше всего писем (email)\n",
    "\n",
    "totalL = sorted((value, key) for (key,value) in total.items())\n",
    "sortTotal = dict([(k,v) for v,k in totalL])\n",
    "print(sortTotal)"
   ]
  },
  {
   "cell_type": "code",
   "execution_count": null,
   "id": "bc1bea06-f408-4b32-8b47-502657a8e725",
   "metadata": {},
   "outputs": [],
   "source": []
  },
  {
   "cell_type": "code",
   "execution_count": 128,
   "id": "50e6c98a-0235-4c61-beb4-e489ab2eeafb",
   "metadata": {},
   "outputs": [
    {
     "name": "stdout",
     "output_type": "stream",
     "text": [
      "0.8941280467445736\n"
     ]
    }
   ],
   "source": [
    "# 3. Average 'X-DSPAM-Confidence' для всей пепеписки\n",
    "\n",
    "l = []\n",
    "\n",
    "for line in lines:\n",
    "    if 'X-DSPAM-Confidence' in line:\n",
    "        l.append(float(line.strip('X-DSPAM-Confidence: ')))\n",
    "\n",
    "print(sum(l) / len(l))"
   ]
  },
  {
   "cell_type": "code",
   "execution_count": null,
   "id": "e09a7a0c-b947-47c4-8da7-e3e2c5e538b8",
   "metadata": {},
   "outputs": [],
   "source": []
  },
  {
   "cell_type": "code",
   "execution_count": 19,
   "id": "d7588576-a1a7-4224-aca9-02df80a1ca67",
   "metadata": {},
   "outputs": [
    {
     "data": {
      "text/plain": [
       "[('00', 23),\n",
       " ('01', 10),\n",
       " ('02', 11),\n",
       " ('03', 19),\n",
       " ('04', 23),\n",
       " ('05', 10),\n",
       " ('06', 45),\n",
       " ('07', 42),\n",
       " ('08', 72),\n",
       " ('09', 166),\n",
       " ('10', 198),\n",
       " ('11', 154),\n",
       " ('12', 108),\n",
       " ('13', 114),\n",
       " ('14', 150),\n",
       " ('15', 152),\n",
       " ('16', 181),\n",
       " ('17', 97),\n",
       " ('18', 58),\n",
       " ('19', 46),\n",
       " ('20', 36),\n",
       " ('21', 36),\n",
       " ('22', 28),\n",
       " ('23', 18)]"
      ]
     },
     "execution_count": 19,
     "metadata": {},
     "output_type": "execute_result"
    }
   ],
   "source": [
    "# 4. Словарик - во сколько были отправлены письма (час, количество)\n",
    "\n",
    "l1 = []\n",
    "\n",
    "for line in lines:\n",
    "    if 'X-DSPAM-Processed' in line:\n",
    "        l1.append(line.split()[4][:2])\n",
    "\n",
    "def countlist(l1):\n",
    "    dic={}\n",
    "    for i in l1:\n",
    "        if i not in dic:      \n",
    "            dic[i] = l1.count(i)\n",
    "    return dic\n",
    "\n",
    "freqdict = countlist(l1)\n",
    "sorted(freqdict.items())"
   ]
  },
  {
   "cell_type": "code",
   "execution_count": null,
   "id": "29bf566a-3562-4d22-b914-837db5f40a43",
   "metadata": {},
   "outputs": [],
   "source": []
  }
 ],
 "metadata": {
  "kernelspec": {
   "display_name": "Python 3",
   "language": "python",
   "name": "python3"
  },
  "language_info": {
   "codemirror_mode": {
    "name": "ipython",
    "version": 3
   },
   "file_extension": ".py",
   "mimetype": "text/x-python",
   "name": "python",
   "nbconvert_exporter": "python",
   "pygments_lexer": "ipython3",
   "version": "3.8.8"
  }
 },
 "nbformat": 4,
 "nbformat_minor": 5
}
